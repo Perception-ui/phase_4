{
 "cells": [
  {
   "cell_type": "markdown",
   "metadata": {},
   "source": [
    "# Movie Recommendations System using a Collaborative Filtering Approach"
   ]
  },
  {
   "cell_type": "markdown",
   "metadata": {},
   "source": [
    "# 1. Business Understanding"
   ]
  },
  {
   "cell_type": "markdown",
   "metadata": {},
   "source": [
    "### (a) Introduction\n",
    "\n",
    "Movie recommendation systems have become an integral element of contemporary digital entertainment platforms, enriching user experiences by offering personalized movie suggestions. These systems harness the capabilities of machine learning algorithms to analyze user behavior, historical data, and movie features, enabling the delivery of tailored recommendations. In this exploration, we delve into the construction of a movie recommendation system utilizing the MovieLens dataset from the GroupLens research lab at the University of Minnesota. Widely recognized in the field of recommendation systems, the MovieLens dataset encompasses user ratings for a diverse array of movies, providing valuable insights into individual preferences. For our analysis, we will focus on the \"small\" dataset, consisting of 100,000 user ratings. This smaller subset ensures computational efficiency and is well-suited for the initial development stages."
   ]
  },
  {
   "cell_type": "markdown",
   "metadata": {},
   "source": [
    "### (b) Problem Statement\n",
    "\n",
    "In the context of enhancing user engagement and satisfaction on a streaming platform, our specific business objective is to elevate the user experience by delivering personalized movie recommendations. This aims to actively involve users, extend their time spent on the platform, and potentially increase revenue through heightened viewership. Our strategy involves employing machine learning algorithms, such as collaborative filtering and content-based filtering, to analyze user ratings and preferences. Collaborative filtering discerns patterns by comparing user behaviors, while content-based filtering focuses on movie features and characteristics.\n",
    "\n",
    "In subsequent sections, we will delve into the intricacies of data preprocessing, model selection, and evaluation metrics. The overarching aim is to develop a robust recommendation system that provides precise and appealing movie suggestions tailored to the unique preferences of each user."
   ]
  },
  {
   "cell_type": "markdown",
   "metadata": {},
   "source": [
    "### (c) Defining Metrics of Success\n",
    "\n",
    "The success of a movie recommendation model using collaborative filtering can be assessed using various metrics that measure its effectiveness in providing accurate and relevant movie suggestions. The combination of the metrics provides a comprehensive understanding of its performance in terms of accuracy, relevance, and user satisfaction. It's essential to choose metrics that align with the specific goals and objectives of the recommendation system and the preferences of the user base."
   ]
  },
  {
   "cell_type": "markdown",
   "metadata": {},
   "source": [
    "### (d) Research Questions\n",
    "\n",
    "1. What features contribute most to the accuracy of collaborative filtering in generating top  movie recommendations?\n",
    "\n",
    "2. How does the frequency of user ratings influence the accuracy and stability of the movie recommendation model?\n",
    "\n",
    "3. What are the correlation between user ratings and various movie features?\n",
    "\n",
    "4. Which movie features demonstrate the highest correlation with collaborative filtering recommendations, and how do they impact the model's predictions?\n",
    "\n",
    "5. How successful is the collaborative filtering model in providing accurate and tailored movie recommendations based on user ratings and preferences?"
   ]
  },
  {
   "cell_type": "markdown",
   "metadata": {},
   "source": [
    "### (e) The Main Objective\n",
    "\n",
    "To develop and implement a movie recommendation system that leverages collaborative filtering techniques to provide personalized top 5 movie recommendations for users."
   ]
  },
  {
   "cell_type": "markdown",
   "metadata": {},
   "source": [
    "### (f) The Specific Objectives\n",
    "\n",
    "1. To clean and preprocess the MovieLens datasets to ensure it is suitable for building a recommendation system.\n",
    "\n",
    "2. To understand the distribution of movie ratings, explore user behavior, and identify patterns in the datasets.\n",
    "\n",
    "3. To investigate and compare collaborative filtering techniques for building the recommendation system, such as Singular Value Decomposition (SVD), user-based and item-based.\n",
    "\n",
    "4. To implement and evaluate the performance of the collaborative filtering model using appropriate metrics such as RSME and MSE.\n",
    "\n",
    "5. To generate top 5 movie recommendations for a user based on their historical ratings."
   ]
  },
  {
   "cell_type": "markdown",
   "metadata": {},
   "source": [
    "### (g) Data Understanding\n",
    "\n",
    "The dataset (ml-latest-small) consists of 100,836 ratings and 3,683 tag applications across 9,742 movies. The data were generated by 610 users between March 29, 1996, and September 24, 2018.\n",
    "The data used in this project will be pulled from 4 different separate file:\n",
    "\n",
    "*1. Movies Data (movies.csv):*\n",
    "Contains movie information, including titles and genres with the following columns:\n",
    " * movieId: Unique identifier for each movie.\n",
    " * title: The title of the movie, which also includes the year of release in parentheses.\n",
    " * genres: A pipe-separated list of genres to categorize the movie (e.g., Action|Adventure|Comedy).\n",
    "\n",
    "*2. Links Data (links.csv):*\n",
    "Provides identifiers for linking to external movie-related sources (IMDb, TMDb) and has the followinf columns:\n",
    "* movieId: Unique identifier for each movie, consistent with other data files.\n",
    "* imdbId: Identifier for movies used by IMDb (Internet Movie Database).\n",
    "* tmdbId: Identifier for movies used by TMDb (The Movie Database).\n",
    "\n",
    "*3. Ratings Data (ratings.csv):*\n",
    "Contains user ratings on a 5-star scale for movies and has the following columns:\n",
    "* userId: ID representing the unique identifier for each user.\n",
    "* movieId: Unique identifier for each movie.\n",
    "* rating: User's rating for the movie on a 5-star scale with half-star increments (0.5 to 5.0).\n",
    "* timestamp: The timestamp when the rating was recorded, represented in seconds since midnight Coordinated Universal Time (UTC) of January 1, 1970.\n",
    "\n",
    "*4. Tags Data (tags.csv):*\n",
    "Contains user-generated metadata (tags) about movies and has the following columns:\n",
    "* userId: ID representing the unique identifier for each user.\n",
    "* movieId: Unique identifier for each movie.\n",
    "* tag: User-generated metadata describing a movie, typically a single word or short phrase.\n",
    "* timestamp: The timestamp when the tag was applied, represented in seconds since midnight Coordinated Universal Time (UTC) of January 1, 1970."
   ]
  },
  {
   "cell_type": "code",
   "execution_count": 1,
   "metadata": {},
   "outputs": [],
   "source": [
    "#importing relevant packages\n",
    "import pandas as pd\n",
    "import seaborn as sns\n",
    "import numpy as np\n",
    "import matplotlib.pyplot as plt\n",
    "%matplotlib inline"
   ]
  },
  {
   "cell_type": "markdown",
   "metadata": {},
   "source": [
    "# Data Cleaning"
   ]
  },
  {
   "cell_type": "code",
   "execution_count": 2,
   "metadata": {},
   "outputs": [],
   "source": [
    "# Import the pandas library\n",
    "import pandas as pd\n",
    "\n",
    "# Read CSV files into data frames\n",
    "movies = pd.read_csv(\"data/ml-latest-small/movies.csv\")  # Load movies data\n",
    "links = pd.read_csv(\"data/ml-latest-small/links.csv\")    # Load links data\n",
    "ratings = pd.read_csv(\"data/ml-latest-small/ratings.csv\")  # Load ratings data\n",
    "tags = pd.read_csv(\"data/ml-latest-small/tags.csv\")        # Load tags data"
   ]
  },
  {
   "cell_type": "code",
   "execution_count": 3,
   "metadata": {},
   "outputs": [
    {
     "data": {
      "text/html": [
       "<div>\n",
       "<style scoped>\n",
       "    .dataframe tbody tr th:only-of-type {\n",
       "        vertical-align: middle;\n",
       "    }\n",
       "\n",
       "    .dataframe tbody tr th {\n",
       "        vertical-align: top;\n",
       "    }\n",
       "\n",
       "    .dataframe thead th {\n",
       "        text-align: right;\n",
       "    }\n",
       "</style>\n",
       "<table border=\"1\" class=\"dataframe\">\n",
       "  <thead>\n",
       "    <tr style=\"text-align: right;\">\n",
       "      <th></th>\n",
       "      <th>movieId</th>\n",
       "      <th>title</th>\n",
       "      <th>genres</th>\n",
       "    </tr>\n",
       "  </thead>\n",
       "  <tbody>\n",
       "    <tr>\n",
       "      <th>0</th>\n",
       "      <td>1</td>\n",
       "      <td>Toy Story (1995)</td>\n",
       "      <td>Adventure|Animation|Children|Comedy|Fantasy</td>\n",
       "    </tr>\n",
       "    <tr>\n",
       "      <th>1</th>\n",
       "      <td>2</td>\n",
       "      <td>Jumanji (1995)</td>\n",
       "      <td>Adventure|Children|Fantasy</td>\n",
       "    </tr>\n",
       "    <tr>\n",
       "      <th>2</th>\n",
       "      <td>3</td>\n",
       "      <td>Grumpier Old Men (1995)</td>\n",
       "      <td>Comedy|Romance</td>\n",
       "    </tr>\n",
       "  </tbody>\n",
       "</table>\n",
       "</div>"
      ],
      "text/plain": [
       "   movieId                    title  \\\n",
       "0        1         Toy Story (1995)   \n",
       "1        2           Jumanji (1995)   \n",
       "2        3  Grumpier Old Men (1995)   \n",
       "\n",
       "                                        genres  \n",
       "0  Adventure|Animation|Children|Comedy|Fantasy  \n",
       "1                   Adventure|Children|Fantasy  \n",
       "2                               Comedy|Romance  "
      ]
     },
     "execution_count": 3,
     "metadata": {},
     "output_type": "execute_result"
    }
   ],
   "source": [
    "#reading the first 3 rows\n",
    "movies.head(3)"
   ]
  },
  {
   "cell_type": "code",
   "execution_count": 4,
   "metadata": {},
   "outputs": [
    {
     "data": {
      "text/html": [
       "<div>\n",
       "<style scoped>\n",
       "    .dataframe tbody tr th:only-of-type {\n",
       "        vertical-align: middle;\n",
       "    }\n",
       "\n",
       "    .dataframe tbody tr th {\n",
       "        vertical-align: top;\n",
       "    }\n",
       "\n",
       "    .dataframe thead th {\n",
       "        text-align: right;\n",
       "    }\n",
       "</style>\n",
       "<table border=\"1\" class=\"dataframe\">\n",
       "  <thead>\n",
       "    <tr style=\"text-align: right;\">\n",
       "      <th></th>\n",
       "      <th>movieId</th>\n",
       "      <th>imdbId</th>\n",
       "      <th>tmdbId</th>\n",
       "    </tr>\n",
       "  </thead>\n",
       "  <tbody>\n",
       "    <tr>\n",
       "      <th>0</th>\n",
       "      <td>1</td>\n",
       "      <td>114709</td>\n",
       "      <td>862.0</td>\n",
       "    </tr>\n",
       "    <tr>\n",
       "      <th>1</th>\n",
       "      <td>2</td>\n",
       "      <td>113497</td>\n",
       "      <td>8844.0</td>\n",
       "    </tr>\n",
       "    <tr>\n",
       "      <th>2</th>\n",
       "      <td>3</td>\n",
       "      <td>113228</td>\n",
       "      <td>15602.0</td>\n",
       "    </tr>\n",
       "  </tbody>\n",
       "</table>\n",
       "</div>"
      ],
      "text/plain": [
       "   movieId  imdbId   tmdbId\n",
       "0        1  114709    862.0\n",
       "1        2  113497   8844.0\n",
       "2        3  113228  15602.0"
      ]
     },
     "execution_count": 4,
     "metadata": {},
     "output_type": "execute_result"
    }
   ],
   "source": [
    "#reading the first 3 rows\n",
    "links.head(3)"
   ]
  },
  {
   "cell_type": "code",
   "execution_count": 5,
   "metadata": {},
   "outputs": [
    {
     "data": {
      "text/html": [
       "<div>\n",
       "<style scoped>\n",
       "    .dataframe tbody tr th:only-of-type {\n",
       "        vertical-align: middle;\n",
       "    }\n",
       "\n",
       "    .dataframe tbody tr th {\n",
       "        vertical-align: top;\n",
       "    }\n",
       "\n",
       "    .dataframe thead th {\n",
       "        text-align: right;\n",
       "    }\n",
       "</style>\n",
       "<table border=\"1\" class=\"dataframe\">\n",
       "  <thead>\n",
       "    <tr style=\"text-align: right;\">\n",
       "      <th></th>\n",
       "      <th>userId</th>\n",
       "      <th>movieId</th>\n",
       "      <th>rating</th>\n",
       "      <th>timestamp</th>\n",
       "    </tr>\n",
       "  </thead>\n",
       "  <tbody>\n",
       "    <tr>\n",
       "      <th>0</th>\n",
       "      <td>1</td>\n",
       "      <td>1</td>\n",
       "      <td>4.0</td>\n",
       "      <td>964982703</td>\n",
       "    </tr>\n",
       "    <tr>\n",
       "      <th>1</th>\n",
       "      <td>1</td>\n",
       "      <td>3</td>\n",
       "      <td>4.0</td>\n",
       "      <td>964981247</td>\n",
       "    </tr>\n",
       "    <tr>\n",
       "      <th>2</th>\n",
       "      <td>1</td>\n",
       "      <td>6</td>\n",
       "      <td>4.0</td>\n",
       "      <td>964982224</td>\n",
       "    </tr>\n",
       "  </tbody>\n",
       "</table>\n",
       "</div>"
      ],
      "text/plain": [
       "   userId  movieId  rating  timestamp\n",
       "0       1        1     4.0  964982703\n",
       "1       1        3     4.0  964981247\n",
       "2       1        6     4.0  964982224"
      ]
     },
     "execution_count": 5,
     "metadata": {},
     "output_type": "execute_result"
    }
   ],
   "source": [
    "#reading the first 3 rows\n",
    "ratings.head(3)"
   ]
  },
  {
   "cell_type": "code",
   "execution_count": 6,
   "metadata": {},
   "outputs": [
    {
     "data": {
      "text/html": [
       "<div>\n",
       "<style scoped>\n",
       "    .dataframe tbody tr th:only-of-type {\n",
       "        vertical-align: middle;\n",
       "    }\n",
       "\n",
       "    .dataframe tbody tr th {\n",
       "        vertical-align: top;\n",
       "    }\n",
       "\n",
       "    .dataframe thead th {\n",
       "        text-align: right;\n",
       "    }\n",
       "</style>\n",
       "<table border=\"1\" class=\"dataframe\">\n",
       "  <thead>\n",
       "    <tr style=\"text-align: right;\">\n",
       "      <th></th>\n",
       "      <th>userId</th>\n",
       "      <th>movieId</th>\n",
       "      <th>tag</th>\n",
       "      <th>timestamp</th>\n",
       "    </tr>\n",
       "  </thead>\n",
       "  <tbody>\n",
       "    <tr>\n",
       "      <th>0</th>\n",
       "      <td>2</td>\n",
       "      <td>60756</td>\n",
       "      <td>funny</td>\n",
       "      <td>1445714994</td>\n",
       "    </tr>\n",
       "    <tr>\n",
       "      <th>1</th>\n",
       "      <td>2</td>\n",
       "      <td>60756</td>\n",
       "      <td>Highly quotable</td>\n",
       "      <td>1445714996</td>\n",
       "    </tr>\n",
       "    <tr>\n",
       "      <th>2</th>\n",
       "      <td>2</td>\n",
       "      <td>60756</td>\n",
       "      <td>will ferrell</td>\n",
       "      <td>1445714992</td>\n",
       "    </tr>\n",
       "  </tbody>\n",
       "</table>\n",
       "</div>"
      ],
      "text/plain": [
       "   userId  movieId              tag   timestamp\n",
       "0       2    60756            funny  1445714994\n",
       "1       2    60756  Highly quotable  1445714996\n",
       "2       2    60756     will ferrell  1445714992"
      ]
     },
     "execution_count": 6,
     "metadata": {},
     "output_type": "execute_result"
    }
   ],
   "source": [
    "#reading the first 3 rows\n",
    "tags.head(3)"
   ]
  },
  {
   "cell_type": "code",
   "execution_count": 7,
   "metadata": {},
   "outputs": [
    {
     "data": {
      "text/html": [
       "<div>\n",
       "<style scoped>\n",
       "    .dataframe tbody tr th:only-of-type {\n",
       "        vertical-align: middle;\n",
       "    }\n",
       "\n",
       "    .dataframe tbody tr th {\n",
       "        vertical-align: top;\n",
       "    }\n",
       "\n",
       "    .dataframe thead th {\n",
       "        text-align: right;\n",
       "    }\n",
       "</style>\n",
       "<table border=\"1\" class=\"dataframe\">\n",
       "  <thead>\n",
       "    <tr style=\"text-align: right;\">\n",
       "      <th></th>\n",
       "      <th>movieId</th>\n",
       "      <th>title</th>\n",
       "      <th>genres</th>\n",
       "      <th>imdbId</th>\n",
       "      <th>tmdbId</th>\n",
       "      <th>userId_x</th>\n",
       "      <th>rating</th>\n",
       "      <th>timestamp_x</th>\n",
       "      <th>userId_y</th>\n",
       "      <th>tag</th>\n",
       "      <th>timestamp_y</th>\n",
       "    </tr>\n",
       "  </thead>\n",
       "  <tbody>\n",
       "    <tr>\n",
       "      <th>0</th>\n",
       "      <td>1</td>\n",
       "      <td>Toy Story (1995)</td>\n",
       "      <td>Adventure|Animation|Children|Comedy|Fantasy</td>\n",
       "      <td>114709</td>\n",
       "      <td>862.0</td>\n",
       "      <td>1</td>\n",
       "      <td>4.0</td>\n",
       "      <td>964982703</td>\n",
       "      <td>336</td>\n",
       "      <td>pixar</td>\n",
       "      <td>1139045764</td>\n",
       "    </tr>\n",
       "    <tr>\n",
       "      <th>1</th>\n",
       "      <td>1</td>\n",
       "      <td>Toy Story (1995)</td>\n",
       "      <td>Adventure|Animation|Children|Comedy|Fantasy</td>\n",
       "      <td>114709</td>\n",
       "      <td>862.0</td>\n",
       "      <td>1</td>\n",
       "      <td>4.0</td>\n",
       "      <td>964982703</td>\n",
       "      <td>474</td>\n",
       "      <td>pixar</td>\n",
       "      <td>1137206825</td>\n",
       "    </tr>\n",
       "    <tr>\n",
       "      <th>2</th>\n",
       "      <td>1</td>\n",
       "      <td>Toy Story (1995)</td>\n",
       "      <td>Adventure|Animation|Children|Comedy|Fantasy</td>\n",
       "      <td>114709</td>\n",
       "      <td>862.0</td>\n",
       "      <td>1</td>\n",
       "      <td>4.0</td>\n",
       "      <td>964982703</td>\n",
       "      <td>567</td>\n",
       "      <td>fun</td>\n",
       "      <td>1525286013</td>\n",
       "    </tr>\n",
       "    <tr>\n",
       "      <th>3</th>\n",
       "      <td>1</td>\n",
       "      <td>Toy Story (1995)</td>\n",
       "      <td>Adventure|Animation|Children|Comedy|Fantasy</td>\n",
       "      <td>114709</td>\n",
       "      <td>862.0</td>\n",
       "      <td>5</td>\n",
       "      <td>4.0</td>\n",
       "      <td>847434962</td>\n",
       "      <td>336</td>\n",
       "      <td>pixar</td>\n",
       "      <td>1139045764</td>\n",
       "    </tr>\n",
       "    <tr>\n",
       "      <th>4</th>\n",
       "      <td>1</td>\n",
       "      <td>Toy Story (1995)</td>\n",
       "      <td>Adventure|Animation|Children|Comedy|Fantasy</td>\n",
       "      <td>114709</td>\n",
       "      <td>862.0</td>\n",
       "      <td>5</td>\n",
       "      <td>4.0</td>\n",
       "      <td>847434962</td>\n",
       "      <td>474</td>\n",
       "      <td>pixar</td>\n",
       "      <td>1137206825</td>\n",
       "    </tr>\n",
       "  </tbody>\n",
       "</table>\n",
       "</div>"
      ],
      "text/plain": [
       "   movieId             title                                       genres  \\\n",
       "0        1  Toy Story (1995)  Adventure|Animation|Children|Comedy|Fantasy   \n",
       "1        1  Toy Story (1995)  Adventure|Animation|Children|Comedy|Fantasy   \n",
       "2        1  Toy Story (1995)  Adventure|Animation|Children|Comedy|Fantasy   \n",
       "3        1  Toy Story (1995)  Adventure|Animation|Children|Comedy|Fantasy   \n",
       "4        1  Toy Story (1995)  Adventure|Animation|Children|Comedy|Fantasy   \n",
       "\n",
       "   imdbId  tmdbId  userId_x  rating  timestamp_x  userId_y    tag  timestamp_y  \n",
       "0  114709   862.0         1     4.0    964982703       336  pixar   1139045764  \n",
       "1  114709   862.0         1     4.0    964982703       474  pixar   1137206825  \n",
       "2  114709   862.0         1     4.0    964982703       567    fun   1525286013  \n",
       "3  114709   862.0         5     4.0    847434962       336  pixar   1139045764  \n",
       "4  114709   862.0         5     4.0    847434962       474  pixar   1137206825  "
      ]
     },
     "execution_count": 7,
     "metadata": {},
     "output_type": "execute_result"
    }
   ],
   "source": [
    "#merge movies and links on 'movieId'\n",
    "df = pd.merge(movies, links, on='movieId')\n",
    "\n",
    "#merge with ratings on 'movieId'\n",
    "df = pd.merge(df, ratings, on='movieId')\n",
    "\n",
    "#merge with tags on 'movieId'\n",
    "df = pd.merge(df, tags, on='movieId')\n",
    "\n",
    "df.head()"
   ]
  },
  {
   "cell_type": "code",
   "execution_count": 8,
   "metadata": {},
   "outputs": [
    {
     "data": {
      "text/plain": [
       "(233213, 11)"
      ]
     },
     "execution_count": 8,
     "metadata": {},
     "output_type": "execute_result"
    }
   ],
   "source": [
    "# Display the shape of the DataFrame\n",
    "df.shape"
   ]
  },
  {
   "cell_type": "markdown",
   "metadata": {},
   "source": [
    "This signifies that the DataFrame consists of 233,213 rows and 9 columns. Each row corresponds to a unique combination of user-movie interaction, which may include ratings and tags, while the columns represent the attributes of these interactions."
   ]
  },
  {
   "cell_type": "code",
   "execution_count": 9,
   "metadata": {},
   "outputs": [
    {
     "name": "stdout",
     "output_type": "stream",
     "text": [
      "<class 'pandas.core.frame.DataFrame'>\n",
      "Int64Index: 233213 entries, 0 to 233212\n",
      "Data columns (total 11 columns):\n",
      " #   Column       Non-Null Count   Dtype  \n",
      "---  ------       --------------   -----  \n",
      " 0   movieId      233213 non-null  int64  \n",
      " 1   title        233213 non-null  object \n",
      " 2   genres       233213 non-null  object \n",
      " 3   imdbId       233213 non-null  int64  \n",
      " 4   tmdbId       233213 non-null  float64\n",
      " 5   userId_x     233213 non-null  int64  \n",
      " 6   rating       233213 non-null  float64\n",
      " 7   timestamp_x  233213 non-null  int64  \n",
      " 8   userId_y     233213 non-null  int64  \n",
      " 9   tag          233213 non-null  object \n",
      " 10  timestamp_y  233213 non-null  int64  \n",
      "dtypes: float64(2), int64(6), object(3)\n",
      "memory usage: 21.4+ MB\n"
     ]
    }
   ],
   "source": [
    "df.info()"
   ]
  },
  {
   "cell_type": "code",
   "execution_count": 10,
   "metadata": {},
   "outputs": [
    {
     "data": {
      "text/html": [
       "<div>\n",
       "<style scoped>\n",
       "    .dataframe tbody tr th:only-of-type {\n",
       "        vertical-align: middle;\n",
       "    }\n",
       "\n",
       "    .dataframe tbody tr th {\n",
       "        vertical-align: top;\n",
       "    }\n",
       "\n",
       "    .dataframe thead th {\n",
       "        text-align: right;\n",
       "    }\n",
       "</style>\n",
       "<table border=\"1\" class=\"dataframe\">\n",
       "  <thead>\n",
       "    <tr style=\"text-align: right;\">\n",
       "      <th></th>\n",
       "      <th>movieId</th>\n",
       "      <th>imdbId</th>\n",
       "      <th>tmdbId</th>\n",
       "      <th>userId_x</th>\n",
       "      <th>rating</th>\n",
       "      <th>timestamp_x</th>\n",
       "      <th>userId_y</th>\n",
       "      <th>timestamp_y</th>\n",
       "    </tr>\n",
       "  </thead>\n",
       "  <tbody>\n",
       "    <tr>\n",
       "      <th>count</th>\n",
       "      <td>233213.000000</td>\n",
       "      <td>2.332130e+05</td>\n",
       "      <td>233213.000000</td>\n",
       "      <td>233213.000000</td>\n",
       "      <td>233213.000000</td>\n",
       "      <td>2.332130e+05</td>\n",
       "      <td>233213.000000</td>\n",
       "      <td>2.332130e+05</td>\n",
       "    </tr>\n",
       "    <tr>\n",
       "      <th>mean</th>\n",
       "      <td>12319.999443</td>\n",
       "      <td>2.610632e+05</td>\n",
       "      <td>9378.277742</td>\n",
       "      <td>309.688191</td>\n",
       "      <td>3.966535</td>\n",
       "      <td>1.213524e+09</td>\n",
       "      <td>470.683564</td>\n",
       "      <td>1.384774e+09</td>\n",
       "    </tr>\n",
       "    <tr>\n",
       "      <th>std</th>\n",
       "      <td>28243.919401</td>\n",
       "      <td>4.414411e+05</td>\n",
       "      <td>36943.139800</td>\n",
       "      <td>178.206387</td>\n",
       "      <td>0.968637</td>\n",
       "      <td>2.250448e+08</td>\n",
       "      <td>153.329632</td>\n",
       "      <td>1.534621e+08</td>\n",
       "    </tr>\n",
       "    <tr>\n",
       "      <th>min</th>\n",
       "      <td>1.000000</td>\n",
       "      <td>1.234900e+04</td>\n",
       "      <td>11.000000</td>\n",
       "      <td>1.000000</td>\n",
       "      <td>0.500000</td>\n",
       "      <td>8.281246e+08</td>\n",
       "      <td>2.000000</td>\n",
       "      <td>1.137179e+09</td>\n",
       "    </tr>\n",
       "    <tr>\n",
       "      <th>25%</th>\n",
       "      <td>296.000000</td>\n",
       "      <td>1.103570e+05</td>\n",
       "      <td>278.000000</td>\n",
       "      <td>156.000000</td>\n",
       "      <td>3.500000</td>\n",
       "      <td>1.017365e+09</td>\n",
       "      <td>424.000000</td>\n",
       "      <td>1.242494e+09</td>\n",
       "    </tr>\n",
       "    <tr>\n",
       "      <th>50%</th>\n",
       "      <td>1198.000000</td>\n",
       "      <td>1.109120e+05</td>\n",
       "      <td>680.000000</td>\n",
       "      <td>309.000000</td>\n",
       "      <td>4.000000</td>\n",
       "      <td>1.217325e+09</td>\n",
       "      <td>477.000000</td>\n",
       "      <td>1.457901e+09</td>\n",
       "    </tr>\n",
       "    <tr>\n",
       "      <th>75%</th>\n",
       "      <td>4638.000000</td>\n",
       "      <td>1.724950e+05</td>\n",
       "      <td>1892.000000</td>\n",
       "      <td>460.000000</td>\n",
       "      <td>5.000000</td>\n",
       "      <td>1.443201e+09</td>\n",
       "      <td>599.000000</td>\n",
       "      <td>1.498457e+09</td>\n",
       "    </tr>\n",
       "    <tr>\n",
       "      <th>max</th>\n",
       "      <td>193565.000000</td>\n",
       "      <td>5.580390e+06</td>\n",
       "      <td>503475.000000</td>\n",
       "      <td>610.000000</td>\n",
       "      <td>5.000000</td>\n",
       "      <td>1.537799e+09</td>\n",
       "      <td>610.000000</td>\n",
       "      <td>1.537099e+09</td>\n",
       "    </tr>\n",
       "  </tbody>\n",
       "</table>\n",
       "</div>"
      ],
      "text/plain": [
       "             movieId        imdbId         tmdbId       userId_x  \\\n",
       "count  233213.000000  2.332130e+05  233213.000000  233213.000000   \n",
       "mean    12319.999443  2.610632e+05    9378.277742     309.688191   \n",
       "std     28243.919401  4.414411e+05   36943.139800     178.206387   \n",
       "min         1.000000  1.234900e+04      11.000000       1.000000   \n",
       "25%       296.000000  1.103570e+05     278.000000     156.000000   \n",
       "50%      1198.000000  1.109120e+05     680.000000     309.000000   \n",
       "75%      4638.000000  1.724950e+05    1892.000000     460.000000   \n",
       "max    193565.000000  5.580390e+06  503475.000000     610.000000   \n",
       "\n",
       "              rating   timestamp_x       userId_y   timestamp_y  \n",
       "count  233213.000000  2.332130e+05  233213.000000  2.332130e+05  \n",
       "mean        3.966535  1.213524e+09     470.683564  1.384774e+09  \n",
       "std         0.968637  2.250448e+08     153.329632  1.534621e+08  \n",
       "min         0.500000  8.281246e+08       2.000000  1.137179e+09  \n",
       "25%         3.500000  1.017365e+09     424.000000  1.242494e+09  \n",
       "50%         4.000000  1.217325e+09     477.000000  1.457901e+09  \n",
       "75%         5.000000  1.443201e+09     599.000000  1.498457e+09  \n",
       "max         5.000000  1.537799e+09     610.000000  1.537099e+09  "
      ]
     },
     "execution_count": 10,
     "metadata": {},
     "output_type": "execute_result"
    }
   ],
   "source": [
    "# Display descriptive statistics of the DataFrame\n",
    "df.describe()"
   ]
  },
  {
   "cell_type": "code",
   "execution_count": 11,
   "metadata": {},
   "outputs": [
    {
     "data": {
      "text/html": [
       "<div>\n",
       "<style scoped>\n",
       "    .dataframe tbody tr th:only-of-type {\n",
       "        vertical-align: middle;\n",
       "    }\n",
       "\n",
       "    .dataframe tbody tr th {\n",
       "        vertical-align: top;\n",
       "    }\n",
       "\n",
       "    .dataframe thead th {\n",
       "        text-align: right;\n",
       "    }\n",
       "</style>\n",
       "<table border=\"1\" class=\"dataframe\">\n",
       "  <thead>\n",
       "    <tr style=\"text-align: right;\">\n",
       "      <th></th>\n",
       "      <th>movieId</th>\n",
       "      <th>title</th>\n",
       "      <th>genres</th>\n",
       "      <th>imdbId</th>\n",
       "      <th>tmdbId</th>\n",
       "      <th>userId_x</th>\n",
       "      <th>rating</th>\n",
       "      <th>userId_y</th>\n",
       "      <th>tag</th>\n",
       "    </tr>\n",
       "  </thead>\n",
       "  <tbody>\n",
       "    <tr>\n",
       "      <th>0</th>\n",
       "      <td>1</td>\n",
       "      <td>Toy Story (1995)</td>\n",
       "      <td>Adventure|Animation|Children|Comedy|Fantasy</td>\n",
       "      <td>114709</td>\n",
       "      <td>862.0</td>\n",
       "      <td>1</td>\n",
       "      <td>4.0</td>\n",
       "      <td>336</td>\n",
       "      <td>pixar</td>\n",
       "    </tr>\n",
       "    <tr>\n",
       "      <th>1</th>\n",
       "      <td>1</td>\n",
       "      <td>Toy Story (1995)</td>\n",
       "      <td>Adventure|Animation|Children|Comedy|Fantasy</td>\n",
       "      <td>114709</td>\n",
       "      <td>862.0</td>\n",
       "      <td>1</td>\n",
       "      <td>4.0</td>\n",
       "      <td>474</td>\n",
       "      <td>pixar</td>\n",
       "    </tr>\n",
       "    <tr>\n",
       "      <th>2</th>\n",
       "      <td>1</td>\n",
       "      <td>Toy Story (1995)</td>\n",
       "      <td>Adventure|Animation|Children|Comedy|Fantasy</td>\n",
       "      <td>114709</td>\n",
       "      <td>862.0</td>\n",
       "      <td>1</td>\n",
       "      <td>4.0</td>\n",
       "      <td>567</td>\n",
       "      <td>fun</td>\n",
       "    </tr>\n",
       "    <tr>\n",
       "      <th>3</th>\n",
       "      <td>1</td>\n",
       "      <td>Toy Story (1995)</td>\n",
       "      <td>Adventure|Animation|Children|Comedy|Fantasy</td>\n",
       "      <td>114709</td>\n",
       "      <td>862.0</td>\n",
       "      <td>5</td>\n",
       "      <td>4.0</td>\n",
       "      <td>336</td>\n",
       "      <td>pixar</td>\n",
       "    </tr>\n",
       "    <tr>\n",
       "      <th>4</th>\n",
       "      <td>1</td>\n",
       "      <td>Toy Story (1995)</td>\n",
       "      <td>Adventure|Animation|Children|Comedy|Fantasy</td>\n",
       "      <td>114709</td>\n",
       "      <td>862.0</td>\n",
       "      <td>5</td>\n",
       "      <td>4.0</td>\n",
       "      <td>474</td>\n",
       "      <td>pixar</td>\n",
       "    </tr>\n",
       "  </tbody>\n",
       "</table>\n",
       "</div>"
      ],
      "text/plain": [
       "   movieId             title                                       genres  \\\n",
       "0        1  Toy Story (1995)  Adventure|Animation|Children|Comedy|Fantasy   \n",
       "1        1  Toy Story (1995)  Adventure|Animation|Children|Comedy|Fantasy   \n",
       "2        1  Toy Story (1995)  Adventure|Animation|Children|Comedy|Fantasy   \n",
       "3        1  Toy Story (1995)  Adventure|Animation|Children|Comedy|Fantasy   \n",
       "4        1  Toy Story (1995)  Adventure|Animation|Children|Comedy|Fantasy   \n",
       "\n",
       "   imdbId  tmdbId  userId_x  rating  userId_y    tag  \n",
       "0  114709   862.0         1     4.0       336  pixar  \n",
       "1  114709   862.0         1     4.0       474  pixar  \n",
       "2  114709   862.0         1     4.0       567    fun  \n",
       "3  114709   862.0         5     4.0       336  pixar  \n",
       "4  114709   862.0         5     4.0       474  pixar  "
      ]
     },
     "execution_count": 11,
     "metadata": {},
     "output_type": "execute_result"
    }
   ],
   "source": [
    "# List of columns to be dropped from the DataFrame\n",
    "columns_to_drop = ['timestamp_x', 'timestamp_y']\n",
    "\n",
    "# Drop the specified columns in-place from the DataFrame\n",
    "df.drop(columns=columns_to_drop, inplace=True)\n",
    "\n",
    "# Display the first few rows of the modified DataFrame\n",
    "df.head()"
   ]
  },
  {
   "cell_type": "code",
   "execution_count": 12,
   "metadata": {},
   "outputs": [
    {
     "data": {
      "text/plain": [
       "['movieId',\n",
       " 'title',\n",
       " 'genres',\n",
       " 'imdbId',\n",
       " 'tmdbId',\n",
       " 'userId_x',\n",
       " 'rating',\n",
       " 'userId_y',\n",
       " 'tag']"
      ]
     },
     "execution_count": 12,
     "metadata": {},
     "output_type": "execute_result"
    }
   ],
   "source": [
    "# Get the column names of the DataFrame and store them in a list\n",
    "column_names = df.columns.tolist()\n",
    "\n",
    "# Display the list of column names\n",
    "column_names"
   ]
  },
  {
   "cell_type": "code",
   "execution_count": 13,
   "metadata": {},
   "outputs": [
    {
     "data": {
      "text/plain": [
       "movieId     0\n",
       "title       0\n",
       "genres      0\n",
       "imdbId      0\n",
       "tmdbId      0\n",
       "userId_x    0\n",
       "rating      0\n",
       "userId_y    0\n",
       "tag         0\n",
       "dtype: int64"
      ]
     },
     "execution_count": 13,
     "metadata": {},
     "output_type": "execute_result"
    }
   ],
   "source": [
    "# Check for missing values in each column of the DataFrame 'df' and sum them up\n",
    "df.isnull().sum()"
   ]
  },
  {
   "cell_type": "code",
   "execution_count": 14,
   "metadata": {},
   "outputs": [
    {
     "data": {
      "text/plain": [
       "0"
      ]
     },
     "execution_count": 14,
     "metadata": {},
     "output_type": "execute_result"
    }
   ],
   "source": [
    "# Count the number of duplicated rows in the DataFrame 'df'\n",
    "df.duplicated().sum()"
   ]
  },
  {
   "cell_type": "markdown",
   "metadata": {},
   "source": [
    "We will exclusively utilize the `movies.csv` dataset and the `ratings.csv` dataset for our analysis, as these two datasets encompass the necessary columns and information required for our project."
   ]
  },
  {
   "cell_type": "code",
   "execution_count": 15,
   "metadata": {},
   "outputs": [],
   "source": [
    "# Function to load and join CSV files based on a common column (movieId)\n",
    "def load_and_join_csv(file_path_1, file_path_2, file_path_3):\n",
    "    # Load CSV files into Pandas DataFrames\n",
    "    movies = pd.read_csv(file_path_1)\n",
    "    ratings = pd.read_csv(file_path_2)\n",
    "    # Note: 'tags' DataFrame is not used in the current implementation\n",
    "    \n",
    "    # Perform an inner join to combine the datasets based on the common column 'movieId'\n",
    "    movies_ratings_df = pd.merge(movies, ratings, on='movieId', how='inner')\n",
    "      \n",
    "    return movies_ratings_df"
   ]
  },
  {
   "cell_type": "code",
   "execution_count": 16,
   "metadata": {},
   "outputs": [
    {
     "data": {
      "text/html": [
       "<div>\n",
       "<style scoped>\n",
       "    .dataframe tbody tr th:only-of-type {\n",
       "        vertical-align: middle;\n",
       "    }\n",
       "\n",
       "    .dataframe tbody tr th {\n",
       "        vertical-align: top;\n",
       "    }\n",
       "\n",
       "    .dataframe thead th {\n",
       "        text-align: right;\n",
       "    }\n",
       "</style>\n",
       "<table border=\"1\" class=\"dataframe\">\n",
       "  <thead>\n",
       "    <tr style=\"text-align: right;\">\n",
       "      <th></th>\n",
       "      <th>movieId</th>\n",
       "      <th>title</th>\n",
       "      <th>genres</th>\n",
       "      <th>userId</th>\n",
       "      <th>rating</th>\n",
       "      <th>timestamp</th>\n",
       "    </tr>\n",
       "  </thead>\n",
       "  <tbody>\n",
       "    <tr>\n",
       "      <th>0</th>\n",
       "      <td>1</td>\n",
       "      <td>Toy Story (1995)</td>\n",
       "      <td>Adventure|Animation|Children|Comedy|Fantasy</td>\n",
       "      <td>1</td>\n",
       "      <td>4.0</td>\n",
       "      <td>964982703</td>\n",
       "    </tr>\n",
       "    <tr>\n",
       "      <th>1</th>\n",
       "      <td>1</td>\n",
       "      <td>Toy Story (1995)</td>\n",
       "      <td>Adventure|Animation|Children|Comedy|Fantasy</td>\n",
       "      <td>5</td>\n",
       "      <td>4.0</td>\n",
       "      <td>847434962</td>\n",
       "    </tr>\n",
       "    <tr>\n",
       "      <th>2</th>\n",
       "      <td>1</td>\n",
       "      <td>Toy Story (1995)</td>\n",
       "      <td>Adventure|Animation|Children|Comedy|Fantasy</td>\n",
       "      <td>7</td>\n",
       "      <td>4.5</td>\n",
       "      <td>1106635946</td>\n",
       "    </tr>\n",
       "    <tr>\n",
       "      <th>3</th>\n",
       "      <td>1</td>\n",
       "      <td>Toy Story (1995)</td>\n",
       "      <td>Adventure|Animation|Children|Comedy|Fantasy</td>\n",
       "      <td>15</td>\n",
       "      <td>2.5</td>\n",
       "      <td>1510577970</td>\n",
       "    </tr>\n",
       "    <tr>\n",
       "      <th>4</th>\n",
       "      <td>1</td>\n",
       "      <td>Toy Story (1995)</td>\n",
       "      <td>Adventure|Animation|Children|Comedy|Fantasy</td>\n",
       "      <td>17</td>\n",
       "      <td>4.5</td>\n",
       "      <td>1305696483</td>\n",
       "    </tr>\n",
       "    <tr>\n",
       "      <th>...</th>\n",
       "      <td>...</td>\n",
       "      <td>...</td>\n",
       "      <td>...</td>\n",
       "      <td>...</td>\n",
       "      <td>...</td>\n",
       "      <td>...</td>\n",
       "    </tr>\n",
       "    <tr>\n",
       "      <th>100831</th>\n",
       "      <td>193581</td>\n",
       "      <td>Black Butler: Book of the Atlantic (2017)</td>\n",
       "      <td>Action|Animation|Comedy|Fantasy</td>\n",
       "      <td>184</td>\n",
       "      <td>4.0</td>\n",
       "      <td>1537109082</td>\n",
       "    </tr>\n",
       "    <tr>\n",
       "      <th>100832</th>\n",
       "      <td>193583</td>\n",
       "      <td>No Game No Life: Zero (2017)</td>\n",
       "      <td>Animation|Comedy|Fantasy</td>\n",
       "      <td>184</td>\n",
       "      <td>3.5</td>\n",
       "      <td>1537109545</td>\n",
       "    </tr>\n",
       "    <tr>\n",
       "      <th>100833</th>\n",
       "      <td>193585</td>\n",
       "      <td>Flint (2017)</td>\n",
       "      <td>Drama</td>\n",
       "      <td>184</td>\n",
       "      <td>3.5</td>\n",
       "      <td>1537109805</td>\n",
       "    </tr>\n",
       "    <tr>\n",
       "      <th>100834</th>\n",
       "      <td>193587</td>\n",
       "      <td>Bungo Stray Dogs: Dead Apple (2018)</td>\n",
       "      <td>Action|Animation</td>\n",
       "      <td>184</td>\n",
       "      <td>3.5</td>\n",
       "      <td>1537110021</td>\n",
       "    </tr>\n",
       "    <tr>\n",
       "      <th>100835</th>\n",
       "      <td>193609</td>\n",
       "      <td>Andrew Dice Clay: Dice Rules (1991)</td>\n",
       "      <td>Comedy</td>\n",
       "      <td>331</td>\n",
       "      <td>4.0</td>\n",
       "      <td>1537157606</td>\n",
       "    </tr>\n",
       "  </tbody>\n",
       "</table>\n",
       "<p>100836 rows × 6 columns</p>\n",
       "</div>"
      ],
      "text/plain": [
       "        movieId                                      title  \\\n",
       "0             1                           Toy Story (1995)   \n",
       "1             1                           Toy Story (1995)   \n",
       "2             1                           Toy Story (1995)   \n",
       "3             1                           Toy Story (1995)   \n",
       "4             1                           Toy Story (1995)   \n",
       "...         ...                                        ...   \n",
       "100831   193581  Black Butler: Book of the Atlantic (2017)   \n",
       "100832   193583               No Game No Life: Zero (2017)   \n",
       "100833   193585                               Flint (2017)   \n",
       "100834   193587        Bungo Stray Dogs: Dead Apple (2018)   \n",
       "100835   193609        Andrew Dice Clay: Dice Rules (1991)   \n",
       "\n",
       "                                             genres  userId  rating  \\\n",
       "0       Adventure|Animation|Children|Comedy|Fantasy       1     4.0   \n",
       "1       Adventure|Animation|Children|Comedy|Fantasy       5     4.0   \n",
       "2       Adventure|Animation|Children|Comedy|Fantasy       7     4.5   \n",
       "3       Adventure|Animation|Children|Comedy|Fantasy      15     2.5   \n",
       "4       Adventure|Animation|Children|Comedy|Fantasy      17     4.5   \n",
       "...                                             ...     ...     ...   \n",
       "100831              Action|Animation|Comedy|Fantasy     184     4.0   \n",
       "100832                     Animation|Comedy|Fantasy     184     3.5   \n",
       "100833                                        Drama     184     3.5   \n",
       "100834                             Action|Animation     184     3.5   \n",
       "100835                                       Comedy     331     4.0   \n",
       "\n",
       "         timestamp  \n",
       "0        964982703  \n",
       "1        847434962  \n",
       "2       1106635946  \n",
       "3       1510577970  \n",
       "4       1305696483  \n",
       "...            ...  \n",
       "100831  1537109082  \n",
       "100832  1537109545  \n",
       "100833  1537109805  \n",
       "100834  1537110021  \n",
       "100835  1537157606  \n",
       "\n",
       "[100836 rows x 6 columns]"
      ]
     },
     "execution_count": 16,
     "metadata": {},
     "output_type": "execute_result"
    }
   ],
   "source": [
    "# Replace the placeholders with the actual file paths\n",
    "file_path_movies = \"data/ml-latest-small/movies.csv\"\n",
    "file_path_ratings = \"data/ml-latest-small/ratings.csv\"\n",
    "file_path_tags = \"ml-latest-small/tags.csv\"\n",
    "\n",
    "# Call the function with the specified file paths\n",
    "movie_rating_df = load_and_join_csv(file_path_movies, file_path_ratings, file_path_tags)\n",
    "\n",
    "# Display the resulting dataset\n",
    "movie_rating_df"
   ]
  },
  {
   "cell_type": "markdown",
   "metadata": {},
   "source": [
    "### Data type Conversion "
   ]
  },
  {
   "cell_type": "markdown",
   "metadata": {},
   "source": [
    "Convert timestamp to datetime"
   ]
  },
  {
   "cell_type": "code",
   "execution_count": 17,
   "metadata": {},
   "outputs": [
    {
     "name": "stdout",
     "output_type": "stream",
     "text": [
      "<class 'pandas.core.frame.DataFrame'>\n",
      "Int64Index: 100836 entries, 0 to 100835\n",
      "Data columns (total 6 columns):\n",
      " #   Column     Non-Null Count   Dtype         \n",
      "---  ------     --------------   -----         \n",
      " 0   movieId    100836 non-null  int64         \n",
      " 1   title      100836 non-null  object        \n",
      " 2   genres     100836 non-null  object        \n",
      " 3   userId     100836 non-null  int64         \n",
      " 4   rating     100836 non-null  float64       \n",
      " 5   timestamp  100836 non-null  datetime64[ns]\n",
      "dtypes: datetime64[ns](1), float64(1), int64(2), object(2)\n",
      "memory usage: 5.4+ MB\n"
     ]
    }
   ],
   "source": [
    "# Converting 'timestamp' column to datetime type using seconds as the unit\n",
    "movie_rating_df['timestamp'] = pd.to_datetime(movie_rating_df['timestamp'], unit='s')\n",
    "\n",
    "# Displaying information about the DataFrame after the conversion\n",
    "movie_rating_df.info()"
   ]
  },
  {
   "cell_type": "markdown",
   "metadata": {},
   "source": [
    "### Feature Engineering "
   ]
  },
  {
   "cell_type": "markdown",
   "metadata": {},
   "source": [
    "In the following cell, we add two additional columns, specifically \"hour\" and \"month,\" to simplify the analysis of user engagement peaks at different hours of the day and month."
   ]
  },
  {
   "cell_type": "code",
   "execution_count": 18,
   "metadata": {},
   "outputs": [
    {
     "name": "stdout",
     "output_type": "stream",
     "text": [
      "<class 'pandas.core.frame.DataFrame'>\n",
      "Int64Index: 100836 entries, 0 to 100835\n",
      "Data columns (total 8 columns):\n",
      " #   Column     Non-Null Count   Dtype         \n",
      "---  ------     --------------   -----         \n",
      " 0   movieId    100836 non-null  int64         \n",
      " 1   title      100836 non-null  object        \n",
      " 2   genres     100836 non-null  object        \n",
      " 3   userId     100836 non-null  int64         \n",
      " 4   rating     100836 non-null  float64       \n",
      " 5   timestamp  100836 non-null  datetime64[ns]\n",
      " 6   hour       100836 non-null  int64         \n",
      " 7   month      100836 non-null  int64         \n",
      "dtypes: datetime64[ns](1), float64(1), int64(4), object(2)\n",
      "memory usage: 6.9+ MB\n"
     ]
    }
   ],
   "source": [
    "# Import the calendar module\n",
    "import calendar\n",
    "\n",
    "# Extract the hour and month from the 'timestamp' column and create new columns\n",
    "movie_rating_df['hour'] = movie_rating_df['timestamp'].dt.hour\n",
    "movie_rating_df['month'] = movie_rating_df['timestamp'].dt.month\n",
    "\n",
    "# Display information about the DataFrame, including data types and non-null counts\n",
    "movie_rating_df.info()"
   ]
  },
  {
   "cell_type": "markdown",
   "metadata": {},
   "source": [
    "# Exploratory Data Analysis (EDA)"
   ]
  },
  {
   "cell_type": "code",
   "execution_count": 19,
   "metadata": {},
   "outputs": [
    {
     "data": {
      "text/html": [
       "<div>\n",
       "<style scoped>\n",
       "    .dataframe tbody tr th:only-of-type {\n",
       "        vertical-align: middle;\n",
       "    }\n",
       "\n",
       "    .dataframe tbody tr th {\n",
       "        vertical-align: top;\n",
       "    }\n",
       "\n",
       "    .dataframe thead th {\n",
       "        text-align: right;\n",
       "    }\n",
       "</style>\n",
       "<table border=\"1\" class=\"dataframe\">\n",
       "  <thead>\n",
       "    <tr style=\"text-align: right;\">\n",
       "      <th></th>\n",
       "      <th>movieId</th>\n",
       "      <th>title</th>\n",
       "      <th>genres</th>\n",
       "      <th>userId</th>\n",
       "      <th>rating</th>\n",
       "      <th>timestamp</th>\n",
       "      <th>hour</th>\n",
       "      <th>month</th>\n",
       "    </tr>\n",
       "  </thead>\n",
       "  <tbody>\n",
       "    <tr>\n",
       "      <th>0</th>\n",
       "      <td>1</td>\n",
       "      <td>Toy Story (1995)</td>\n",
       "      <td>Adventure|Animation|Children|Comedy|Fantasy</td>\n",
       "      <td>1</td>\n",
       "      <td>4.0</td>\n",
       "      <td>2000-07-30 18:45:03</td>\n",
       "      <td>18</td>\n",
       "      <td>7</td>\n",
       "    </tr>\n",
       "    <tr>\n",
       "      <th>1</th>\n",
       "      <td>1</td>\n",
       "      <td>Toy Story (1995)</td>\n",
       "      <td>Adventure|Animation|Children|Comedy|Fantasy</td>\n",
       "      <td>5</td>\n",
       "      <td>4.0</td>\n",
       "      <td>1996-11-08 06:36:02</td>\n",
       "      <td>6</td>\n",
       "      <td>11</td>\n",
       "    </tr>\n",
       "    <tr>\n",
       "      <th>2</th>\n",
       "      <td>1</td>\n",
       "      <td>Toy Story (1995)</td>\n",
       "      <td>Adventure|Animation|Children|Comedy|Fantasy</td>\n",
       "      <td>7</td>\n",
       "      <td>4.5</td>\n",
       "      <td>2005-01-25 06:52:26</td>\n",
       "      <td>6</td>\n",
       "      <td>1</td>\n",
       "    </tr>\n",
       "    <tr>\n",
       "      <th>3</th>\n",
       "      <td>1</td>\n",
       "      <td>Toy Story (1995)</td>\n",
       "      <td>Adventure|Animation|Children|Comedy|Fantasy</td>\n",
       "      <td>15</td>\n",
       "      <td>2.5</td>\n",
       "      <td>2017-11-13 12:59:30</td>\n",
       "      <td>12</td>\n",
       "      <td>11</td>\n",
       "    </tr>\n",
       "    <tr>\n",
       "      <th>4</th>\n",
       "      <td>1</td>\n",
       "      <td>Toy Story (1995)</td>\n",
       "      <td>Adventure|Animation|Children|Comedy|Fantasy</td>\n",
       "      <td>17</td>\n",
       "      <td>4.5</td>\n",
       "      <td>2011-05-18 05:28:03</td>\n",
       "      <td>5</td>\n",
       "      <td>5</td>\n",
       "    </tr>\n",
       "    <tr>\n",
       "      <th>...</th>\n",
       "      <td>...</td>\n",
       "      <td>...</td>\n",
       "      <td>...</td>\n",
       "      <td>...</td>\n",
       "      <td>...</td>\n",
       "      <td>...</td>\n",
       "      <td>...</td>\n",
       "      <td>...</td>\n",
       "    </tr>\n",
       "    <tr>\n",
       "      <th>100831</th>\n",
       "      <td>193581</td>\n",
       "      <td>Black Butler: Book of the Atlantic (2017)</td>\n",
       "      <td>Action|Animation|Comedy|Fantasy</td>\n",
       "      <td>184</td>\n",
       "      <td>4.0</td>\n",
       "      <td>2018-09-16 14:44:42</td>\n",
       "      <td>14</td>\n",
       "      <td>9</td>\n",
       "    </tr>\n",
       "    <tr>\n",
       "      <th>100832</th>\n",
       "      <td>193583</td>\n",
       "      <td>No Game No Life: Zero (2017)</td>\n",
       "      <td>Animation|Comedy|Fantasy</td>\n",
       "      <td>184</td>\n",
       "      <td>3.5</td>\n",
       "      <td>2018-09-16 14:52:25</td>\n",
       "      <td>14</td>\n",
       "      <td>9</td>\n",
       "    </tr>\n",
       "    <tr>\n",
       "      <th>100833</th>\n",
       "      <td>193585</td>\n",
       "      <td>Flint (2017)</td>\n",
       "      <td>Drama</td>\n",
       "      <td>184</td>\n",
       "      <td>3.5</td>\n",
       "      <td>2018-09-16 14:56:45</td>\n",
       "      <td>14</td>\n",
       "      <td>9</td>\n",
       "    </tr>\n",
       "    <tr>\n",
       "      <th>100834</th>\n",
       "      <td>193587</td>\n",
       "      <td>Bungo Stray Dogs: Dead Apple (2018)</td>\n",
       "      <td>Action|Animation</td>\n",
       "      <td>184</td>\n",
       "      <td>3.5</td>\n",
       "      <td>2018-09-16 15:00:21</td>\n",
       "      <td>15</td>\n",
       "      <td>9</td>\n",
       "    </tr>\n",
       "    <tr>\n",
       "      <th>100835</th>\n",
       "      <td>193609</td>\n",
       "      <td>Andrew Dice Clay: Dice Rules (1991)</td>\n",
       "      <td>Comedy</td>\n",
       "      <td>331</td>\n",
       "      <td>4.0</td>\n",
       "      <td>2018-09-17 04:13:26</td>\n",
       "      <td>4</td>\n",
       "      <td>9</td>\n",
       "    </tr>\n",
       "  </tbody>\n",
       "</table>\n",
       "<p>100836 rows × 8 columns</p>\n",
       "</div>"
      ],
      "text/plain": [
       "        movieId                                      title  \\\n",
       "0             1                           Toy Story (1995)   \n",
       "1             1                           Toy Story (1995)   \n",
       "2             1                           Toy Story (1995)   \n",
       "3             1                           Toy Story (1995)   \n",
       "4             1                           Toy Story (1995)   \n",
       "...         ...                                        ...   \n",
       "100831   193581  Black Butler: Book of the Atlantic (2017)   \n",
       "100832   193583               No Game No Life: Zero (2017)   \n",
       "100833   193585                               Flint (2017)   \n",
       "100834   193587        Bungo Stray Dogs: Dead Apple (2018)   \n",
       "100835   193609        Andrew Dice Clay: Dice Rules (1991)   \n",
       "\n",
       "                                             genres  userId  rating  \\\n",
       "0       Adventure|Animation|Children|Comedy|Fantasy       1     4.0   \n",
       "1       Adventure|Animation|Children|Comedy|Fantasy       5     4.0   \n",
       "2       Adventure|Animation|Children|Comedy|Fantasy       7     4.5   \n",
       "3       Adventure|Animation|Children|Comedy|Fantasy      15     2.5   \n",
       "4       Adventure|Animation|Children|Comedy|Fantasy      17     4.5   \n",
       "...                                             ...     ...     ...   \n",
       "100831              Action|Animation|Comedy|Fantasy     184     4.0   \n",
       "100832                     Animation|Comedy|Fantasy     184     3.5   \n",
       "100833                                        Drama     184     3.5   \n",
       "100834                             Action|Animation     184     3.5   \n",
       "100835                                       Comedy     331     4.0   \n",
       "\n",
       "                 timestamp  hour  month  \n",
       "0      2000-07-30 18:45:03    18      7  \n",
       "1      1996-11-08 06:36:02     6     11  \n",
       "2      2005-01-25 06:52:26     6      1  \n",
       "3      2017-11-13 12:59:30    12     11  \n",
       "4      2011-05-18 05:28:03     5      5  \n",
       "...                    ...   ...    ...  \n",
       "100831 2018-09-16 14:44:42    14      9  \n",
       "100832 2018-09-16 14:52:25    14      9  \n",
       "100833 2018-09-16 14:56:45    14      9  \n",
       "100834 2018-09-16 15:00:21    15      9  \n",
       "100835 2018-09-17 04:13:26     4      9  \n",
       "\n",
       "[100836 rows x 8 columns]"
      ]
     },
     "execution_count": 19,
     "metadata": {},
     "output_type": "execute_result"
    }
   ],
   "source": [
    "movie_rating_df"
   ]
  },
  {
   "cell_type": "markdown",
   "metadata": {},
   "source": [
    "### Average Hourly Rating "
   ]
  },
  {
   "cell_type": "code",
   "execution_count": 20,
   "metadata": {},
   "outputs": [
    {
     "data": {
      "image/png": "[encoded data removed]",
      "text/plain": [
       "<Figure size 936x432 with 1 Axes>"
      ]
     },
     "metadata": {
      "needs_background": "light"
     },
     "output_type": "display_data"
    }
   ],
   "source": [
    "# Group the movie ratings DataFrame by hour and calculate the average rating for each hour\n",
    "hourly_average_ratings = movie_rating_df.groupby('hour')['rating'].mean()\n",
    "\n",
    "# Plotting the peak viewing time trends\n",
    "plt.figure(figsize=(13, 6))\n",
    "hourly_average_ratings.plot(kind='line', marker='o', color='blue', title='Peak Movie Watching Times')\n",
    "plt.xlabel('Hour of the Day')\n",
    "plt.ylabel('Average Rating')\n",
    "plt.show()"
   ]
  },
  {
   "cell_type": "markdown",
   "metadata": {},
   "source": [
    "0600hrs appears to have the highest ratings, while 2000hrs  has the lowest. This  could suggest that viewers tend to rate movies more positively in the early morning hours and potentially less favorably in the evening."
   ]
  },
  {
   "cell_type": "markdown",
   "metadata": {},
   "source": [
    "### Average Monthly Rating "
   ]
  },
  {
   "cell_type": "code",
   "execution_count": 21,
   "metadata": {
    "scrolled": true
   },
   "outputs": [
    {
     "data": {
      "image/png": "[encoded data removed]",
      "text/plain": [
       "<Figure size 936x432 with 1 Axes>"
      ]
     },
     "metadata": {
      "needs_background": "light"
     },
     "output_type": "display_data"
    }
   ],
   "source": [
    "# Extract the month from the 'timestamp' column and create a new 'month' column\n",
    "movie_rating_df['month'] = movie_rating_df['timestamp'].dt.month\n",
    "\n",
    "# Calculate the average rating for each month using groupby\n",
    "monthly_average_ratings = movie_rating_df.groupby('month')['rating'].mean()\n",
    "\n",
    "# Plotting the average monthly rating graph with grid lines\n",
    "plt.figure(figsize=(13, 6))\n",
    "monthly_average_ratings.plot(kind='bar', color='brown', title='Average Monthly Ratings', grid=True)\n",
    "plt.xlabel('Month')\n",
    "plt.ylabel('Average Rating')\n",
    "plt.xticks(rotation=0)  # Rotate x-axis labels for better visibility\n",
    "plt.show()"
   ]
  },
  {
   "cell_type": "markdown",
   "metadata": {},
   "source": [
    "High-Rated Months (Average Rating 3.5 and above): January (1), April (4), July (7), September (9), October (10), November (11), and December (12) consistently show average ratings of 3.5 and above. This suggests that movies released or watched during these months tend to be well-received or rated more positively by viewers."
   ]
  },
  {
   "cell_type": "code",
   "execution_count": 22,
   "metadata": {},
   "outputs": [
    {
     "data": {
      "image/png": "[encoded data removed]",
      "text/plain": [
       "<Figure size 936x432 with 1 Axes>"
      ]
     },
     "metadata": {
      "needs_background": "light"
     },
     "output_type": "display_data"
    }
   ],
   "source": [
    "# Extract the month from the 'timestamp' column and create a new 'month' column\n",
    "movie_rating_df['month'] = movie_rating_df['timestamp'].dt.month\n",
    "\n",
    "# Group the DataFrame by month and calculate the count of ratings for each month\n",
    "monthly_rating_counts = movie_rating_df.groupby('month')['rating'].count()\n",
    "\n",
    "# Plotting the number of ratings per month with grid lines\n",
    "plt.figure(figsize=(13, 6))\n",
    "monthly_rating_counts.plot(kind='bar', color='purple', title='Number of Ratings per Month', grid=True)\n",
    "plt.xlabel('Month')\n",
    "plt.ylabel('Number of Ratings')\n",
    "plt.xticks(rotation=0)  # Rotate x-axis labels for better visibility\n",
    "plt.show()"
   ]
  },
  {
   "cell_type": "markdown",
   "metadata": {},
   "source": [
    "The bar chart indicates that the month of May (month 5) has the highest count of ratings. This suggests that users are more active in providing ratings during the month of May compared to other months."
   ]
  },
  {
   "cell_type": "markdown",
   "metadata": {},
   "source": [
    "### UNIVARIATE DATA ANALYSIS"
   ]
  },
  {
   "cell_type": "code",
   "execution_count": 23,
   "metadata": {},
   "outputs": [],
   "source": [
    "# A function to create various types of plots based on the specified plot_type\n",
    "\n",
    "def create_plots(df, plot_type, columns_to_plot=None, y=None):\n",
    "    \"\"\"\n",
    "    Args:\n",
    "    - df: DataFrame, the input data\n",
    "    - plot_type: str, the type of plot to create ('count_plot', 'bar_plot1', 'bar_plot2')\n",
    "    - columns_to_plot: Series or DataFrame, data for the plot\n",
    "    - y: str, the column name for the y-axis (only used in 'bar_plot2')\n",
    "\n",
    "    Returns:\n",
    "    - None\n",
    "    \"\"\"\n",
    "    if plot_type == 'count_plot':\n",
    "        # Create a count plot for the specified column\n",
    "        plt.figure(figsize=(14, 9))\n",
    "        sns.countplot(data=df, x=columns_to_plot)\n",
    "        plt.title(f'Distribution of movie {columns_to_plot}')\n",
    "        plt.xticks(rotation=90)\n",
    "        plt.show()\n",
    "    elif plot_type == 'bar_plot_1':\n",
    "        # Create a bar plot for the top 10 most frequently rated movies\n",
    "        plt.figure(figsize=(14, 9))\n",
    "        sns.barplot(columns_to_plot.index, columns_to_plot.values)\n",
    "        plt.title('Top 10 most frequently rated movies')\n",
    "        plt.xlabel('Movie Title')\n",
    "        plt.xticks(rotation=90)\n",
    "        plt.ylabel('Count')\n",
    "        plt.show()\n",
    "    elif plot_type == 'bar_plot_2':\n",
    "        # Create a bar plot for the top 10 most frequently rated movies and their average ratings\n",
    "        plt.figure(figsize=(14, 9))\n",
    "        sns.barplot(columns_to_plot.index, columns_to_plot.values, y=y)\n",
    "        plt.title('Top 10 most frequently rated movies and their average ratings')\n",
    "        plt.xlabel('Movie Title')\n",
    "        plt.xticks(rotation=90)\n",
    "        plt.ylabel('Average Rating')\n",
    "        plt.show()\n"
   ]
  },
  {
   "cell_type": "code",
   "execution_count": 24,
   "metadata": {},
   "outputs": [
    {
     "data": {
      "image/png": "[encoded data removed]",
      "text/plain": [
       "<Figure size 1008x648 with 1 Axes>"
      ]
     },
     "metadata": {
      "needs_background": "light"
     },
     "output_type": "display_data"
    }
   ],
   "source": [
    "create_plots(movie_rating_df, 'count_plot', 'rating')"
   ]
  },
  {
   "cell_type": "markdown",
   "metadata": {},
   "source": [
    "The graph above visualizes both the count and average rating for the top 10 most frequently rated movies.\n",
    "\n",
    "\n",
    "The highest rating is 4 indicates that a significant number of users have given a rating of \"4\" to the movies in your dataset. This could suggest that a majority of users generally enjoy the movies, as they tend to give higher ratings."
   ]
  },
  {
   "cell_type": "code",
   "execution_count": 25,
   "metadata": {},
   "outputs": [],
   "source": [
    "# Count the number of ratings for each unique movieId\n",
    "movie_ratings_count = ratings['movieId'].value_counts()"
   ]
  },
  {
   "cell_type": "code",
   "execution_count": 26,
   "metadata": {},
   "outputs": [
    {
     "name": "stderr",
     "output_type": "stream",
     "text": [
      "/Users/yusranoor/anaconda3/envs/learn-env/lib/python3.8/site-packages/seaborn/_decorators.py:36: FutureWarning: Pass the following variables as keyword args: x, y. From version 0.12, the only valid positional argument will be `data`, and passing other arguments without an explicit keyword will result in an error or misinterpretation.\n",
      "  warnings.warn(\n"
     ]
    },
    {
     "data": {
      "image/png": "[encoded data removed]",
      "text/plain": [
       "<Figure size 1008x648 with 1 Axes>"
      ]
     },
     "metadata": {
      "needs_background": "light"
     },
     "output_type": "display_data"
    }
   ],
   "source": [
    "# Get the top 10 most frequently rated movies\n",
    "top_10_watched_movies = movie_rating_df['title'].value_counts().head(10)\n",
    "\n",
    "# Create a bar plot to visualize the distribution of ratings for the top 10 movies\n",
    "create_plots(movie_rating_df, plot_type='bar_plot_1', columns_to_plot=top_10_watched_movies)"
   ]
  },
  {
   "cell_type": "markdown",
   "metadata": {},
   "source": [
    "The visualization provides insights into the popularity of movies based on the number of ratings they have received.\n",
    "\n",
    "\"Forrest Gump\" is the most popular and frequently rated movies among the users."
   ]
  },
  {
   "cell_type": "markdown",
   "metadata": {},
   "source": [
    "### What are the lowest and highest rated movies? \n",
    "\n",
    "Which movie has the lowest and highest average rating?"
   ]
  },
  {
   "cell_type": "code",
   "execution_count": 27,
   "metadata": {},
   "outputs": [
    {
     "data": {
      "text/html": [
       "<div>\n",
       "<style scoped>\n",
       "    .dataframe tbody tr th:only-of-type {\n",
       "        vertical-align: middle;\n",
       "    }\n",
       "\n",
       "    .dataframe tbody tr th {\n",
       "        vertical-align: top;\n",
       "    }\n",
       "\n",
       "    .dataframe thead th {\n",
       "        text-align: right;\n",
       "    }\n",
       "</style>\n",
       "<table border=\"1\" class=\"dataframe\">\n",
       "  <thead>\n",
       "    <tr style=\"text-align: right;\">\n",
       "      <th></th>\n",
       "      <th>movieId</th>\n",
       "      <th>title</th>\n",
       "      <th>genres</th>\n",
       "    </tr>\n",
       "  </thead>\n",
       "  <tbody>\n",
       "    <tr>\n",
       "      <th>2689</th>\n",
       "      <td>3604</td>\n",
       "      <td>Gypsy (1962)</td>\n",
       "      <td>Musical</td>\n",
       "    </tr>\n",
       "  </tbody>\n",
       "</table>\n",
       "</div>"
      ],
      "text/plain": [
       "      movieId         title   genres\n",
       "2689     3604  Gypsy (1962)  Musical"
      ]
     },
     "execution_count": 27,
     "metadata": {},
     "output_type": "execute_result"
    }
   ],
   "source": [
    "# Calculate the mean rating for each movie\n",
    "mean_ratings = ratings.groupby('movieId')[['rating']].mean()\n",
    "\n",
    "# Find the movie with the lowest mean rating\n",
    "lowest_rated_movie_id = mean_ratings['rating'].idxmin()\n",
    "\n",
    "# Retrieve information about the movie with the lowest mean rating\n",
    "lowest_rated_movie_info = movies[movies['movieId'] == lowest_rated_movie_id]\n",
    "lowest_rated_movie_info"
   ]
  },
  {
   "cell_type": "code",
   "execution_count": 28,
   "metadata": {},
   "outputs": [
    {
     "data": {
      "text/html": [
       "<div>\n",
       "<style scoped>\n",
       "    .dataframe tbody tr th:only-of-type {\n",
       "        vertical-align: middle;\n",
       "    }\n",
       "\n",
       "    .dataframe tbody tr th {\n",
       "        vertical-align: top;\n",
       "    }\n",
       "\n",
       "    .dataframe thead th {\n",
       "        text-align: right;\n",
       "    }\n",
       "</style>\n",
       "<table border=\"1\" class=\"dataframe\">\n",
       "  <thead>\n",
       "    <tr style=\"text-align: right;\">\n",
       "      <th></th>\n",
       "      <th>movieId</th>\n",
       "      <th>title</th>\n",
       "      <th>genres</th>\n",
       "    </tr>\n",
       "  </thead>\n",
       "  <tbody>\n",
       "    <tr>\n",
       "      <th>48</th>\n",
       "      <td>53</td>\n",
       "      <td>Lamerica (1994)</td>\n",
       "      <td>Adventure|Drama</td>\n",
       "    </tr>\n",
       "  </tbody>\n",
       "</table>\n",
       "</div>"
      ],
      "text/plain": [
       "    movieId            title           genres\n",
       "48       53  Lamerica (1994)  Adventure|Drama"
      ]
     },
     "execution_count": 28,
     "metadata": {},
     "output_type": "execute_result"
    }
   ],
   "source": [
    "# Find the movie with the highest average rating\n",
    "highest_rated_movie_id = mean_ratings['rating'].idxmax()\n",
    "\n",
    "# Retrieve information about the highest-rated movie from the 'movies' DataFrame\n",
    "highest_rated_movie_info = movies[movies['movieId'] == highest_rated_movie_id]\n",
    "highest_rated_movie_info"
   ]
  },
  {
   "cell_type": "markdown",
   "metadata": {},
   "source": [
    "How many ratings does Lamerica have?"
   ]
  },
  {
   "cell_type": "code",
   "execution_count": 29,
   "metadata": {},
   "outputs": [
    {
     "data": {
      "text/html": [
       "<div>\n",
       "<style scoped>\n",
       "    .dataframe tbody tr th:only-of-type {\n",
       "        vertical-align: middle;\n",
       "    }\n",
       "\n",
       "    .dataframe tbody tr th {\n",
       "        vertical-align: top;\n",
       "    }\n",
       "\n",
       "    .dataframe thead th {\n",
       "        text-align: right;\n",
       "    }\n",
       "</style>\n",
       "<table border=\"1\" class=\"dataframe\">\n",
       "  <thead>\n",
       "    <tr style=\"text-align: right;\">\n",
       "      <th></th>\n",
       "      <th>userId</th>\n",
       "      <th>movieId</th>\n",
       "      <th>rating</th>\n",
       "      <th>timestamp</th>\n",
       "    </tr>\n",
       "  </thead>\n",
       "  <tbody>\n",
       "    <tr>\n",
       "      <th>13368</th>\n",
       "      <td>85</td>\n",
       "      <td>53</td>\n",
       "      <td>5.0</td>\n",
       "      <td>889468268</td>\n",
       "    </tr>\n",
       "    <tr>\n",
       "      <th>96115</th>\n",
       "      <td>603</td>\n",
       "      <td>53</td>\n",
       "      <td>5.0</td>\n",
       "      <td>963180003</td>\n",
       "    </tr>\n",
       "  </tbody>\n",
       "</table>\n",
       "</div>"
      ],
      "text/plain": [
       "       userId  movieId  rating  timestamp\n",
       "13368      85       53     5.0  889468268\n",
       "96115     603       53     5.0  963180003"
      ]
     },
     "execution_count": 29,
     "metadata": {},
     "output_type": "execute_result"
    }
   ],
   "source": [
    "# Filter the 'ratings' DataFrame to include only rows where 'movieId' is equal to the highest rated movie\n",
    "highest_rated_movie_ratings = ratings[ratings['movieId'] == highest_rated_movie_id]\n",
    "highest_rated_movie_ratings"
   ]
  },
  {
   "cell_type": "markdown",
   "metadata": {},
   "source": [
    " The movie with the lowest mean rating, which is \"Gypsy (1962),\" and The movie with the highest mean rating, which is \"Lamerica (1994).\" "
   ]
  },
  {
   "cell_type": "code",
   "execution_count": 30,
   "metadata": {},
   "outputs": [],
   "source": [
    "# Function to split genres in the 'genres' column and count their occurrences\n",
    "def splitting_string(movies):\n",
    "    # Splitting the genres string into a list of genres\n",
    "    movies['genres'] = movies['genres'].apply(lambda x: x.split('|'))\n",
    "    \n",
    "    # Counting the frequency of each genre using Counter\n",
    "    from collections import Counter\n",
    "    genre_frequency = Counter(g for genres in movies['genres'] for g in genres)\n",
    "    \n",
    "    return genre_frequency"
   ]
  },
  {
   "cell_type": "code",
   "execution_count": 31,
   "metadata": {},
   "outputs": [
    {
     "data": {
      "text/plain": [
       "Counter({'Adventure': 24161,\n",
       "         'Animation': 6988,\n",
       "         'Children': 9208,\n",
       "         'Comedy': 39053,\n",
       "         'Fantasy': 11834,\n",
       "         'Romance': 18124,\n",
       "         'Drama': 41928,\n",
       "         'Action': 30635,\n",
       "         'Crime': 16681,\n",
       "         'Thriller': 26452,\n",
       "         'Horror': 7291,\n",
       "         'Mystery': 7674,\n",
       "         'Sci-Fi': 17243,\n",
       "         'War': 4859,\n",
       "         'Musical': 4138,\n",
       "         'Documentary': 1219,\n",
       "         'IMAX': 4145,\n",
       "         'Western': 1930,\n",
       "         'Film-Noir': 870,\n",
       "         '(no genres listed)': 47})"
      ]
     },
     "execution_count": 31,
     "metadata": {},
     "output_type": "execute_result"
    }
   ],
   "source": [
    "# Applying the function to the 'movie_rating_df' DataFrame\n",
    "genre_count = splitting_string(movie_rating_df)\n",
    "genre_count"
   ]
  },
  {
   "cell_type": "markdown",
   "metadata": {},
   "source": [
    "It shows the count of occurrences for each genre in the  DataFrame.Each key represents a genre, and the corresponding value is the count of how many times that genre appears in the  DataFrame. "
   ]
  },
  {
   "cell_type": "code",
   "execution_count": 32,
   "metadata": {},
   "outputs": [
    {
     "data": {
      "text/html": [
       "<div>\n",
       "<style scoped>\n",
       "    .dataframe tbody tr th:only-of-type {\n",
       "        vertical-align: middle;\n",
       "    }\n",
       "\n",
       "    .dataframe tbody tr th {\n",
       "        vertical-align: top;\n",
       "    }\n",
       "\n",
       "    .dataframe thead th {\n",
       "        text-align: right;\n",
       "    }\n",
       "</style>\n",
       "<table border=\"1\" class=\"dataframe\">\n",
       "  <thead>\n",
       "    <tr style=\"text-align: right;\">\n",
       "      <th></th>\n",
       "      <th>movieId</th>\n",
       "      <th>title</th>\n",
       "      <th>genres</th>\n",
       "      <th>userId</th>\n",
       "      <th>rating</th>\n",
       "      <th>timestamp</th>\n",
       "      <th>hour</th>\n",
       "      <th>month</th>\n",
       "    </tr>\n",
       "  </thead>\n",
       "  <tbody>\n",
       "    <tr>\n",
       "      <th>0</th>\n",
       "      <td>1</td>\n",
       "      <td>Toy Story (1995)</td>\n",
       "      <td>Adventure</td>\n",
       "      <td>1</td>\n",
       "      <td>4.0</td>\n",
       "      <td>2000-07-30 18:45:03</td>\n",
       "      <td>18</td>\n",
       "      <td>7</td>\n",
       "    </tr>\n",
       "    <tr>\n",
       "      <th>0</th>\n",
       "      <td>1</td>\n",
       "      <td>Toy Story (1995)</td>\n",
       "      <td>Animation</td>\n",
       "      <td>1</td>\n",
       "      <td>4.0</td>\n",
       "      <td>2000-07-30 18:45:03</td>\n",
       "      <td>18</td>\n",
       "      <td>7</td>\n",
       "    </tr>\n",
       "    <tr>\n",
       "      <th>0</th>\n",
       "      <td>1</td>\n",
       "      <td>Toy Story (1995)</td>\n",
       "      <td>Children</td>\n",
       "      <td>1</td>\n",
       "      <td>4.0</td>\n",
       "      <td>2000-07-30 18:45:03</td>\n",
       "      <td>18</td>\n",
       "      <td>7</td>\n",
       "    </tr>\n",
       "    <tr>\n",
       "      <th>0</th>\n",
       "      <td>1</td>\n",
       "      <td>Toy Story (1995)</td>\n",
       "      <td>Comedy</td>\n",
       "      <td>1</td>\n",
       "      <td>4.0</td>\n",
       "      <td>2000-07-30 18:45:03</td>\n",
       "      <td>18</td>\n",
       "      <td>7</td>\n",
       "    </tr>\n",
       "    <tr>\n",
       "      <th>0</th>\n",
       "      <td>1</td>\n",
       "      <td>Toy Story (1995)</td>\n",
       "      <td>Fantasy</td>\n",
       "      <td>1</td>\n",
       "      <td>4.0</td>\n",
       "      <td>2000-07-30 18:45:03</td>\n",
       "      <td>18</td>\n",
       "      <td>7</td>\n",
       "    </tr>\n",
       "    <tr>\n",
       "      <th>...</th>\n",
       "      <td>...</td>\n",
       "      <td>...</td>\n",
       "      <td>...</td>\n",
       "      <td>...</td>\n",
       "      <td>...</td>\n",
       "      <td>...</td>\n",
       "      <td>...</td>\n",
       "      <td>...</td>\n",
       "    </tr>\n",
       "    <tr>\n",
       "      <th>100832</th>\n",
       "      <td>193583</td>\n",
       "      <td>No Game No Life: Zero (2017)</td>\n",
       "      <td>Fantasy</td>\n",
       "      <td>184</td>\n",
       "      <td>3.5</td>\n",
       "      <td>2018-09-16 14:52:25</td>\n",
       "      <td>14</td>\n",
       "      <td>9</td>\n",
       "    </tr>\n",
       "    <tr>\n",
       "      <th>100833</th>\n",
       "      <td>193585</td>\n",
       "      <td>Flint (2017)</td>\n",
       "      <td>Drama</td>\n",
       "      <td>184</td>\n",
       "      <td>3.5</td>\n",
       "      <td>2018-09-16 14:56:45</td>\n",
       "      <td>14</td>\n",
       "      <td>9</td>\n",
       "    </tr>\n",
       "    <tr>\n",
       "      <th>100834</th>\n",
       "      <td>193587</td>\n",
       "      <td>Bungo Stray Dogs: Dead Apple (2018)</td>\n",
       "      <td>Action</td>\n",
       "      <td>184</td>\n",
       "      <td>3.5</td>\n",
       "      <td>2018-09-16 15:00:21</td>\n",
       "      <td>15</td>\n",
       "      <td>9</td>\n",
       "    </tr>\n",
       "    <tr>\n",
       "      <th>100834</th>\n",
       "      <td>193587</td>\n",
       "      <td>Bungo Stray Dogs: Dead Apple (2018)</td>\n",
       "      <td>Animation</td>\n",
       "      <td>184</td>\n",
       "      <td>3.5</td>\n",
       "      <td>2018-09-16 15:00:21</td>\n",
       "      <td>15</td>\n",
       "      <td>9</td>\n",
       "    </tr>\n",
       "    <tr>\n",
       "      <th>100835</th>\n",
       "      <td>193609</td>\n",
       "      <td>Andrew Dice Clay: Dice Rules (1991)</td>\n",
       "      <td>Comedy</td>\n",
       "      <td>331</td>\n",
       "      <td>4.0</td>\n",
       "      <td>2018-09-17 04:13:26</td>\n",
       "      <td>4</td>\n",
       "      <td>9</td>\n",
       "    </tr>\n",
       "  </tbody>\n",
       "</table>\n",
       "<p>274480 rows × 8 columns</p>\n",
       "</div>"
      ],
      "text/plain": [
       "        movieId                                title     genres  userId  \\\n",
       "0             1                     Toy Story (1995)  Adventure       1   \n",
       "0             1                     Toy Story (1995)  Animation       1   \n",
       "0             1                     Toy Story (1995)   Children       1   \n",
       "0             1                     Toy Story (1995)     Comedy       1   \n",
       "0             1                     Toy Story (1995)    Fantasy       1   \n",
       "...         ...                                  ...        ...     ...   \n",
       "100832   193583         No Game No Life: Zero (2017)    Fantasy     184   \n",
       "100833   193585                         Flint (2017)      Drama     184   \n",
       "100834   193587  Bungo Stray Dogs: Dead Apple (2018)     Action     184   \n",
       "100834   193587  Bungo Stray Dogs: Dead Apple (2018)  Animation     184   \n",
       "100835   193609  Andrew Dice Clay: Dice Rules (1991)     Comedy     331   \n",
       "\n",
       "        rating           timestamp  hour  month  \n",
       "0          4.0 2000-07-30 18:45:03    18      7  \n",
       "0          4.0 2000-07-30 18:45:03    18      7  \n",
       "0          4.0 2000-07-30 18:45:03    18      7  \n",
       "0          4.0 2000-07-30 18:45:03    18      7  \n",
       "0          4.0 2000-07-30 18:45:03    18      7  \n",
       "...        ...                 ...   ...    ...  \n",
       "100832     3.5 2018-09-16 14:52:25    14      9  \n",
       "100833     3.5 2018-09-16 14:56:45    14      9  \n",
       "100834     3.5 2018-09-16 15:00:21    15      9  \n",
       "100834     3.5 2018-09-16 15:00:21    15      9  \n",
       "100835     4.0 2018-09-17 04:13:26     4      9  \n",
       "\n",
       "[274480 rows x 8 columns]"
      ]
     },
     "execution_count": 32,
     "metadata": {},
     "output_type": "execute_result"
    }
   ],
   "source": [
    "# Create a copy of the original DataFrame\n",
    "new_df = movie_rating_df.copy()\n",
    "\n",
    "# Explode the 'genres' column to have one row for each genre associated with a movie\n",
    "new_df = new_df.explode('genres')\n",
    "\n",
    "# Display the modified DataFrame\n",
    "new_df"
   ]
  },
  {
   "cell_type": "markdown",
   "metadata": {},
   "source": [
    "The 'genres' column is exploded so that each row now corresponds to a single genre associated with a movie. "
   ]
  },
  {
   "cell_type": "code",
   "execution_count": 33,
   "metadata": {},
   "outputs": [
    {
     "data": {
      "image/png": "[encoded data removed]",
      "text/plain": [
       "<Figure size 936x432 with 1 Axes>"
      ]
     },
     "metadata": {
      "needs_background": "light"
     },
     "output_type": "display_data"
    }
   ],
   "source": [
    "# Visualization of genres in descending order of frequency\n",
    "\n",
    "# Convert genre_count dictionary to a DataFrame\n",
    "genre_df = pd.DataFrame(list(genre_count.items()), columns=['Genre', 'Count'])\n",
    "\n",
    "# Sort DataFrame by Count in descending order\n",
    "genre_df = genre_df.sort_values(by='Count', ascending=False)\n",
    "\n",
    "# Assign the sorted DataFrame to 'all_genres'\n",
    "all_genres = genre_df\n",
    "\n",
    "# Plotting the bar chart\n",
    "plt.figure(figsize=(13, 6))\n",
    "sns.set(style=\"whitegrid\")\n",
    "sns.barplot(x='Genre', y='Count', data=all_genres, palette=\"viridis\")\n",
    "plt.title('Genres')\n",
    "plt.xlabel('Genre')\n",
    "plt.ylabel('Count')\n",
    "plt.xticks(rotation=45)\n",
    "plt.show()"
   ]
  },
  {
   "cell_type": "markdown",
   "metadata": {},
   "source": [
    "The high count of \"Drama\" suggests that movies classified under the Drama genre are very common in your dataset. Viewers in the dataset seem to have rated or interacted with a significant number of movies that fall into the Drama category.\n",
    "On the other hand, the low count of \"Film-Noir\" indicates that movies in the Film-Noir genre are less common or less frequently rated in the dataset. "
   ]
  },
  {
   "cell_type": "code",
   "execution_count": 34,
   "metadata": {},
   "outputs": [
    {
     "name": "stdout",
     "output_type": "stream",
     "text": [
      "Number of ratings: 100836\n",
      "Number of unique movieIds: 9724\n",
      "Number of unique users: 610\n",
      "Average number of ratings per user: 165.305\n",
      "Average number of ratings per movie: 10.37\n"
     ]
    }
   ],
   "source": [
    "# Calculate the total number of ratings\n",
    "n_ratings = len(ratings)\n",
    "\n",
    "# Calculate the number of unique movieIds and users\n",
    "n_movies = ratings['movieId'].nunique()\n",
    "n_users = ratings['userId'].nunique()\n",
    "\n",
    "# Display the results\n",
    "print(f\"Number of ratings: {n_ratings}\")\n",
    "print(f\"Number of unique movieIds: {n_movies}\")\n",
    "print(f\"Number of unique users: {n_users}\")\n",
    "print(f\"Average number of ratings per user: {round(n_ratings / n_users, 3)}\")\n",
    "print(f\"Average number of ratings per movie: {round(n_ratings / n_movies, 3)}\")"
   ]
  },
  {
   "cell_type": "markdown",
   "metadata": {},
   "source": [
    "The dataset contains 100,836 ratings, 9,724 unique movieIds, 610 unique users, and an average of 165.305 ratings per user and 10.37 ratings per movie."
   ]
  },
  {
   "cell_type": "code",
   "execution_count": 35,
   "metadata": {
    "scrolled": true
   },
   "outputs": [
    {
     "name": "stdout",
     "output_type": "stream",
     "text": [
      "Mean global rating: 3.5.\n",
      "Mean rating per user: 3.66.\n"
     ]
    }
   ],
   "source": [
    "# Calculate and print the mean global rating\n",
    "global_mean_rating = round(ratings['rating'].mean(), 2)\n",
    "print(f\"Mean global rating: {global_mean_rating}.\")\n",
    "\n",
    "# Calculate mean rating per user, then calculate and print the overall mean of those user means\n",
    "mean_ratings_per_user = ratings.groupby('userId')['rating'].mean()\n",
    "overall_mean_per_user = round(mean_ratings_per_user.mean(), 2)\n",
    "print(f\"Mean rating per user: {overall_mean_per_user}.\")"
   ]
  },
  {
   "cell_type": "code",
   "execution_count": 36,
   "metadata": {},
   "outputs": [
    {
     "data": {
      "image/png": "[encoded data removed]",
      "text/plain": [
       "<Figure size 720x576 with 2 Axes>"
      ]
     },
     "metadata": {},
     "output_type": "display_data"
    }
   ],
   "source": [
    "# Calculate the correlations between features in the DataFrame\n",
    "correlations = new_df.corr()\n",
    "\n",
    "# Create a heatmap for visualizing the correlations\n",
    "plt.figure(figsize=(10, 8))\n",
    "sns.heatmap(round(correlations, 2), annot=True, linewidths=.7)\n",
    "plt.title('Correlation Heatmap')\n",
    "plt.show()"
   ]
  },
  {
   "cell_type": "markdown",
   "metadata": {},
   "source": [
    "The correlation coefficient ranges from -1 to 1, with 1 indicating a perfect positive correlation, -1 indicating a perfect negative correlation, and 0 indicating no correlation.\n",
    "\n",
    "The correlation between movieId and userId is very small, indicating a weak positive relationship. \n",
    "\n",
    "The correlation between movieId and rating is also very small, indicating a weak negative relationship.\n",
    "\n",
    "The hour and month have a small positive correlation."
   ]
  },
  {
   "cell_type": "markdown",
   "metadata": {},
   "source": [
    "### BIVARIATE DATA ANALYSIS"
   ]
  },
  {
   "cell_type": "code",
   "execution_count": 37,
   "metadata": {},
   "outputs": [
    {
     "name": "stderr",
     "output_type": "stream",
     "text": [
      "/Users/yusranoor/anaconda3/envs/learn-env/lib/python3.8/site-packages/seaborn/_decorators.py:36: FutureWarning: Pass the following variables as keyword args: x, y. From version 0.12, the only valid positional argument will be `data`, and passing other arguments without an explicit keyword will result in an error or misinterpretation.\n",
      "  warnings.warn(\n"
     ]
    },
    {
     "data": {
      "image/png": "[encoded data removed]",
      "text/plain": [
       "<Figure size 1008x648 with 1 Axes>"
      ]
     },
     "metadata": {},
     "output_type": "display_data"
    }
   ],
   "source": [
    "# Get the top 10 most-watched movies by count of ratings\n",
    "top_10_watched_movies = movie_rating_df['title'].value_counts().nlargest(10)\n",
    "\n",
    "# Calculate the average ratings for the top 10 watched movies\n",
    "average_ratings = movie_rating_df.groupby('title')['rating'].mean().loc[top_10_watched_movies.index]\n",
    "\n",
    "# Create a bar plot displaying the average ratings of the top 10 most-watched movies\n",
    "create_plots(movie_rating_df, 'bar_plot_2', average_ratings)"
   ]
  },
  {
   "cell_type": "code",
   "execution_count": 38,
   "metadata": {},
   "outputs": [
    {
     "data": {
      "image/png": "[encoded data removed]",
      "text/plain": [
       "<Figure size 864x432 with 1 Axes>"
      ]
     },
     "metadata": {},
     "output_type": "display_data"
    }
   ],
   "source": [
    "def bar_plot(x, y, data):\n",
    "    \"\"\"\n",
    "    Create a bar plot to visualize the relationship between two variables.\n",
    "\n",
    "    Args:\n",
    "    - x: str, the column name for the x-axis\n",
    "    - y: str, the column name for the y-axis\n",
    "    - data: DataFrame, the input data\n",
    "\n",
    "    Returns:\n",
    "    - None\n",
    "    \"\"\"\n",
    "    # Set up the plot size\n",
    "    plt.figure(figsize=(12, 6))\n",
    "    \n",
    "    # Create a bar plot using Seaborn\n",
    "    sns.barplot(x=x, y=y, data=data)\n",
    "    \n",
    "    # Set plot title and axis labels\n",
    "    plt.title(f'{y} by {x}')\n",
    "    plt.xlabel(f'{x}')\n",
    "    plt.xticks(rotation=90)\n",
    "    plt.ylabel(f'{y}')\n",
    "    # Add grid lines to the plot\n",
    "    plt.grid(True, axis='y', linestyle='-', alpha=.7)\n",
    "    \n",
    "    # Display the plot\n",
    "    plt.show()\n",
    "\n",
    "# Example usage\n",
    "bar_plot('genres', 'rating', new_df)"
   ]
  },
  {
   "cell_type": "code",
   "execution_count": 39,
   "metadata": {},
   "outputs": [
    {
     "data": {
      "image/png": "[encoded data removed]",
      "text/plain": [
       "<Figure size 1296x792 with 1 Axes>"
      ]
     },
     "metadata": {},
     "output_type": "display_data"
    }
   ],
   "source": [
    "# Create a count plot to visualize the distribution of ratings per genre\n",
    "\n",
    "# Set the size of the figure\n",
    "plt.figure(figsize=(18, 11))\n",
    "\n",
    "# Create a count plot using seaborn, with 'genres' on the x-axis and 'rating' represented by color\n",
    "sns.countplot(data=new_df, x='genres', hue='rating')\n",
    "\n",
    "# Set the title of the plot\n",
    "plt.title(f'Distribution of Ratings per Genre')\n",
    "\n",
    "# Add grid lines to the plot\n",
    "plt.grid(True, axis='y', linestyle='-', alpha=.7)\n",
    "\n",
    "# Display the plot\n",
    "plt.show()"
   ]
  },
  {
   "cell_type": "markdown",
   "metadata": {},
   "source": [
    " \"Drama\" has the highest distribution of ratings across different rating levels. This suggests that movies classified under the \"Drama\" genre receive a substantial number of ratings across various rating values."
   ]
  },
  {
   "cell_type": "markdown",
   "metadata": {},
   "source": [
    "# Modelling "
   ]
  },
  {
   "cell_type": "code",
   "execution_count": 40,
   "metadata": {},
   "outputs": [],
   "source": [
    "from surprise import Reader, Dataset\n",
    "from surprise import accuracy\n",
    "from surprise.model_selection import cross_validate, train_test_split\n",
    "from surprise.prediction_algorithms import SVD\n",
    "from surprise.prediction_algorithms import KNNWithMeans, KNNBasic, KNNBaseline\n",
    "from surprise.model_selection import GridSearchCV\n",
    "from IPython.display import HTML\n",
    "import warnings\n",
    "warnings.filterwarnings('ignore')"
   ]
  },
  {
   "cell_type": "code",
   "execution_count": 41,
   "metadata": {},
   "outputs": [
    {
     "name": "stdout",
     "output_type": "stream",
     "text": [
      "Number of users:  610 \n",
      "\n",
      "Number of items:  8995 \n",
      "\n"
     ]
    }
   ],
   "source": [
    "# Selecting necessary columns from the dataset: userId, movieId, and rating\n",
    "user_item_df = movie_rating_df[['userId', 'movieId', 'rating']]\n",
    "\n",
    "# Transforming the pandas dataframe into a Surprise dataset using the Reader\n",
    "reader = Reader()\n",
    "data = Dataset.load_from_df(user_item_df, reader)\n",
    "\n",
    "# Splitting the dataset into training and testing sets\n",
    "trainset, testset = train_test_split(data, test_size=0.2, random_state=111)\n",
    "\n",
    "# Printing the number of unique users and items in the training set\n",
    "print(\"Number of users: \", trainset.n_users, \"\\n\")\n",
    "print(\"Number of items: \", trainset.n_items, \"\\n\")"
   ]
  },
  {
   "cell_type": "markdown",
   "metadata": {},
   "source": [
    "# MODEL 1: KNN BASIC MODEL"
   ]
  },
  {
   "cell_type": "code",
   "execution_count": 42,
   "metadata": {},
   "outputs": [],
   "source": [
    "# Function to create a collaborative filtering model using the specified approach\n",
    "\n",
    "def model_creation(approach, trainset, testset):\n",
    "    \"\"\"\n",
    "    Args:\n",
    "    - approach: collaborative filtering algorithm (e.g., SVD)\n",
    "    - trainset: training dataset for model training\n",
    "    - testset: test dataset for model evaluation\n",
    "    \n",
    "    Returns:\n",
    "    - None\n",
    "    \"\"\"\n",
    "    if approach == SVD:\n",
    "        # Create an SVD model with specified parameters, fit it to the training set, and print RMSE\n",
    "        model = approach(n_factors=50, reg_all=0.05)\n",
    "        model.fit(trainset)\n",
    "        print(f'{approach.__name__} RMSE:', accuracy.rmse(model.test(testset)))\n",
    "    else:    \n",
    "        # Create a collaborative filtering model with Pearson similarity, fit it to the training set, and print RMSE\n",
    "        model = approach(sim_options={'name': 'pearson', 'user_based': True})\n",
    "        model.fit(trainset)\n",
    "        print(f'{approach.__name__} RMSE:', accuracy.rmse(model.test(testset)))"
   ]
  },
  {
   "cell_type": "code",
   "execution_count": 43,
   "metadata": {},
   "outputs": [
    {
     "name": "stdout",
     "output_type": "stream",
     "text": [
      "Computing the pearson similarity matrix...\n",
      "Done computing similarity matrix.\n",
      "RMSE: 0.9721\n",
      "KNNBasic RMSE: 0.9720846164183417\n"
     ]
    }
   ],
   "source": [
    "# Create and train a KNNBasic model using the provided training and testing datasets\n",
    "model_creation(KNNBasic, trainset, testset)"
   ]
  },
  {
   "cell_type": "markdown",
   "metadata": {},
   "source": [
    "an RMSE of 0.9721 suggests that, on average, the model's predictions deviate from the true ratings by approximately 0.97 units.\n",
    "\n",
    "An RMSE value of 0 would mean perfect predictions ,Higher RMSE values indicate larger prediction errors."
   ]
  },
  {
   "cell_type": "markdown",
   "metadata": {},
   "source": [
    "# Tune the KNNBasic Model"
   ]
  },
  {
   "cell_type": "code",
   "execution_count": 44,
   "metadata": {},
   "outputs": [],
   "source": [
    "def param_grid_search(model_to_tune): \n",
    "    \"\"\"\n",
    "    Perform a grid search for hyperparameter tuning of a collaborative filtering model.\n",
    "\n",
    "    Args:\n",
    "    - model_to_tune: Collaborative filtering model (SVD or KNN)\n",
    "\n",
    "    Returns:\n",
    "    - None\n",
    "    \"\"\"\n",
    "    # Setting relevant parameters for Gridsearch\n",
    "    grid = {\n",
    "        'k': [30, 40],   # Number of neighbors\n",
    "        'sim_options': {\n",
    "            'name': ['cosine', 'pearson'],  # Similarity measures\n",
    "            'user_based': [True],  # User-based collaborative filtering\n",
    "        },\n",
    "    }\n",
    "    \n",
    "    # Creating a parameter grid search for SVD model\n",
    "    params = {\n",
    "        'n_factors': [20, 50, 100],\n",
    "        'reg_all': [0.02, 0.05, 0.1],\n",
    "        # 'n_epochs': [5, 10],\n",
    "        # 'lr_all': [0.002, 0.005]\n",
    "    }\n",
    "\n",
    "    # Running grid search with the defined parameter grid\n",
    "    if model_to_tune == SVD:\n",
    "        grid_search = GridSearchCV(model_to_tune, params,\n",
    "                                   measures=['rmse'], n_jobs=-1)\n",
    "    else:\n",
    "        grid_search = GridSearchCV(model_to_tune, grid,\n",
    "                                   measures=['rmse'], n_jobs=-1)\n",
    "    \n",
    "    # Fit the grid search to the data\n",
    "    grid_search.fit(data)\n",
    "    \n",
    "    # Display the best RMSE and corresponding hyperparameters\n",
    "    print(f\"Best RMSE for {model_to_tune.__name__}: {grid_search.best_score}\")\n",
    "    print(f\"Best Hyperparameters for {model_to_tune.__name__}: {grid_search.best_params}\")\n"
   ]
  },
  {
   "cell_type": "code",
   "execution_count": 45,
   "metadata": {},
   "outputs": [
    {
     "name": "stdout",
     "output_type": "stream",
     "text": [
      "Best RMSE for KNNBasic: {'rmse': 0.9738754834189223}\n",
      "Best Hyperparameters for KNNBasic: {'rmse': {'k': 40, 'sim_options': {'name': 'cosine', 'user_based': True}}}\n"
     ]
    }
   ],
   "source": [
    "# Perform grid search for KNNBasic model with specified parameters\n",
    "param_grid_search(KNNBasic)"
   ]
  },
  {
   "cell_type": "markdown",
   "metadata": {},
   "source": [
    "The lower the RMSE, the better the model's predictive performance. In this case, an RMSE of 0.972 indicates relatively accurate predictions.\n",
    "\n",
    "A higher number of neighbors (40) suggests that considering more similar users during the recommendation process improves the model's performance.\n",
    "\n",
    "Cosine similarity, as the chosen similarity measure, indicates that user-item relationships are assessed based on the cosine of the angle between user vectors in the item space.\n",
    "\n",
    "The user-based collaborative filtering approach means that recommendations are made based on the preferences of users with similar taste."
   ]
  },
  {
   "cell_type": "markdown",
   "metadata": {},
   "source": [
    "# MODEL 2: KNNBaseline Model"
   ]
  },
  {
   "cell_type": "code",
   "execution_count": 46,
   "metadata": {},
   "outputs": [
    {
     "name": "stdout",
     "output_type": "stream",
     "text": [
      "Estimating biases using als...\n",
      "Computing the pearson similarity matrix...\n",
      "Done computing similarity matrix.\n",
      "RMSE: 0.8790\n",
      "KNNBaseline RMSE: 0.8789611074934803\n"
     ]
    }
   ],
   "source": [
    "# Build a KNNBaseline model\n",
    "model_creation(KNNBaseline, trainset, testset)"
   ]
  },
  {
   "cell_type": "markdown",
   "metadata": {},
   "source": [
    "An RMSE of 0.879 suggests that, on average, the model's predictions are about 0.879 units away from the actual ratings.\n"
   ]
  },
  {
   "cell_type": "markdown",
   "metadata": {},
   "source": [
    "The RMSE of 0.879 for KNNBaseline is lower than the RMSE of 0.972 for KNNBasic.\n",
    "The KNNBaseline model outperforms KNNBasic in terms of predictive accuracy."
   ]
  },
  {
   "cell_type": "markdown",
   "metadata": {},
   "source": [
    "# Tune the KNNBaseline Model"
   ]
  },
  {
   "cell_type": "code",
   "execution_count": 47,
   "metadata": {},
   "outputs": [
    {
     "name": "stdout",
     "output_type": "stream",
     "text": [
      "Best RMSE for KNNBaseline: {'rmse': 0.8763346998383739}\n",
      "Best Hyperparameters for KNNBaseline: {'rmse': {'k': 40, 'sim_options': {'name': 'pearson', 'user_based': True}}}\n"
     ]
    }
   ],
   "source": [
    "# Grid search for KNNBaseline Model\n",
    "param_grid_search(KNNBaseline)"
   ]
  },
  {
   "cell_type": "markdown",
   "metadata": {},
   "source": [
    "An RMSE of 0.8790 suggests that, on average, the model's predictions are off by around 0.8790 rating units."
   ]
  },
  {
   "cell_type": "markdown",
   "metadata": {},
   "source": [
    "# MODEL 3: KNNWithMeans Model"
   ]
  },
  {
   "cell_type": "code",
   "execution_count": 48,
   "metadata": {},
   "outputs": [
    {
     "name": "stdout",
     "output_type": "stream",
     "text": [
      "Computing the pearson similarity matrix...\n",
      "Done computing similarity matrix.\n",
      "RMSE: 0.8995\n",
      "KNNWithMeans RMSE: 0.8994971701396823\n"
     ]
    }
   ],
   "source": [
    "# Build a KNNWithMeans model\n",
    "model_creation(KNNWithMeans, trainset, testset)"
   ]
  },
  {
   "cell_type": "markdown",
   "metadata": {},
   "source": [
    "An RMSE of 0.8995 suggests that, on average, the model's predictions are off by around 0.8995 rating units."
   ]
  },
  {
   "cell_type": "markdown",
   "metadata": {},
   "source": [
    "# Tune the KNNWithMeans Model"
   ]
  },
  {
   "cell_type": "code",
   "execution_count": 49,
   "metadata": {},
   "outputs": [
    {
     "name": "stdout",
     "output_type": "stream",
     "text": [
      "Best RMSE for KNNWithMeans: {'rmse': 0.8958544830097044}\n",
      "Best Hyperparameters for KNNWithMeans: {'rmse': {'k': 40, 'sim_options': {'name': 'pearson', 'user_based': True}}}\n"
     ]
    }
   ],
   "source": [
    "# Grid search for KNNWithMeans Model\n",
    "param_grid_search(KNNWithMeans)"
   ]
  },
  {
   "cell_type": "markdown",
   "metadata": {},
   "source": [
    "the tuned KNNWithMeans model exhibits improved performance with the identified optimal hyperparameters. \n",
    "\n",
    "The model achieved the best performance with the following hyperparameters:\n",
    "Number of neighbors (k): 40\n",
    "Similarity options: Pearson correlation coefficient, user-based collaborative filtering"
   ]
  },
  {
   "cell_type": "markdown",
   "metadata": {},
   "source": [
    "# MODEL 4: SVD Model"
   ]
  },
  {
   "cell_type": "code",
   "execution_count": 50,
   "metadata": {},
   "outputs": [
    {
     "name": "stdout",
     "output_type": "stream",
     "text": [
      "RMSE: 0.8695\n",
      "SVD RMSE: 0.8694955523511734\n"
     ]
    }
   ],
   "source": [
    "# Build an SVD model\n",
    "model_creation(SVD, trainset, testset)"
   ]
  },
  {
   "cell_type": "code",
   "execution_count": 51,
   "metadata": {},
   "outputs": [
    {
     "name": "stdout",
     "output_type": "stream",
     "text": [
      "Best RMSE for SVD: {'rmse': 0.8686852941579237}\n",
      "Best Hyperparameters for SVD: {'rmse': {'n_factors': 50, 'reg_all': 0.05}}\n"
     ]
    }
   ],
   "source": [
    "# Grid search for KNNWithMeans Model\n",
    "param_grid_search(SVD)"
   ]
  },
  {
   "cell_type": "markdown",
   "metadata": {},
   "source": [
    "The initial SVD model achieved an RMSE (Root Mean Squared Error) of approximately 0.8703 on the test set.\n",
    "\n",
    "After hyperparameter tuning, the SVD model's performance improved, yielding a lower RMSE of approximately 0.8682.\n",
    "\n",
    "The optimized SVD model outperformed the initial configuration, indicating that the selected hyperparameters contribute to better predictive accuracy."
   ]
  },
  {
   "cell_type": "markdown",
   "metadata": {},
   "source": [
    "SVD model performed best as compared to the rest of the models with the lowest RMSE, 0.8688."
   ]
  },
  {
   "cell_type": "markdown",
   "metadata": {},
   "source": [
    "# FINAL MODEL SELECTION AND EVALUATION"
   ]
  },
  {
   "cell_type": "code",
   "execution_count": 52,
   "metadata": {},
   "outputs": [
    {
     "data": {
      "text/html": [
       "<table>\n",
       "<thead>\n",
       "<tr><th>Model       </th><th style=\"text-align: right;\">  RMSE</th><th style=\"text-align: right;\">  RMSE after Tuning</th></tr>\n",
       "</thead>\n",
       "<tbody>\n",
       "<tr><td>KNNBasic    </td><td style=\"text-align: right;\">0.9721</td><td style=\"text-align: right;\">             0.9719</td></tr>\n",
       "<tr><td>KNNBaseline </td><td style=\"text-align: right;\">0.879 </td><td style=\"text-align: right;\">             0.8776</td></tr>\n",
       "<tr><td>KNNWithMeans</td><td style=\"text-align: right;\">0.8995</td><td style=\"text-align: right;\">             0.8964</td></tr>\n",
       "<tr><td>SVD         </td><td style=\"text-align: right;\">0.8688</td><td style=\"text-align: right;\">             0.8691</td></tr>\n",
       "</tbody>\n",
       "</table>"
      ],
      "text/plain": [
       "<IPython.core.display.HTML object>"
      ]
     },
     "execution_count": 52,
     "metadata": {},
     "output_type": "execute_result"
    }
   ],
   "source": [
    "from tabulate import tabulate\n",
    "from IPython.display import HTML\n",
    "\n",
    "\n",
    "# A function to create a summary table of validation metrics\n",
    "def make_evaluation_table(metrics_dict):\n",
    "    # Convert the metrics dictionary to a list of tuples\n",
    "    metrics_list = list(zip(metrics_dict['Model'], metrics_dict['RMSE'], metrics_dict['RMSE after Tuning']))\n",
    "\n",
    "    # Create a tabulated representation of the metrics list\n",
    "    evaluation_table = tabulate(metrics_list, headers=['Model', 'RMSE', 'RMSE after Tuning'], tablefmt='html')\n",
    "\n",
    "    # Return the HTML table\n",
    "    return evaluation_table\n",
    "\n",
    "# Define a dictionary containing validation metrics for different models\n",
    "metrics_dict = {\n",
    "    'Model': ['KNNBasic', 'KNNBaseline', 'KNNWithMeans', 'SVD'],\n",
    "    'RMSE': [0.9721, 0.8790, 0.8995, 0.8688],\n",
    "    'RMSE after Tuning': [0.9719, 0.8776, 0.8964, 0.8691],\n",
    "}\n",
    "\n",
    "# Create the evaluation table using the defined function\n",
    "evaluation_table = make_evaluation_table(metrics_dict)\n",
    "\n",
    "# Display the HTML table\n",
    "HTML(evaluation_table)"
   ]
  },
  {
   "cell_type": "markdown",
   "metadata": {},
   "source": [
    "The lower the RMSE, the better the model's predictive accuracy. Based on the table, the SVD model exhibits the lowest RMSE after tuning, indicating superior performance among the considered models."
   ]
  },
  {
   "cell_type": "code",
   "execution_count": 53,
   "metadata": {},
   "outputs": [
    {
     "data": {
      "text/plain": [
       "<surprise.prediction_algorithms.matrix_factorization.SVD at 0x7fd351a8ea00>"
      ]
     },
     "execution_count": 53,
     "metadata": {},
     "output_type": "execute_result"
    }
   ],
   "source": [
    "# Select and train the final model (SVD) with specified parameters\n",
    "\n",
    "# Create an instance of the SVD model with 50 latent factors and regularization parameter of 0.05\n",
    "final_model = SVD(n_factors=50, reg_all=0.05)\n",
    "\n",
    "# Fit the final model on the training set\n",
    "final_model.fit(trainset)"
   ]
  },
  {
   "cell_type": "markdown",
   "metadata": {},
   "source": [
    "# Model Predictions"
   ]
  },
  {
   "cell_type": "code",
   "execution_count": 54,
   "metadata": {},
   "outputs": [
    {
     "data": {
      "text/plain": [
       "3.4064557682388537"
      ]
     },
     "execution_count": 54,
     "metadata": {},
     "output_type": "execute_result"
    }
   ],
   "source": [
    "# Predict the rating for movie with ID 2000 for user with ID 7 using the final_model\n",
    "user_10_prediction = final_model.predict(7, 2000)\n",
    "\n",
    "# Retrieve the predicted rating from the prediction result\n",
    "predicted_rating_for_user_10 = user_10_prediction[3]\n",
    "predicted_rating_for_user_10"
   ]
  },
  {
   "cell_type": "markdown",
   "metadata": {},
   "source": [
    "The predicted rating for movie with ID 2000 by user with ID 7, according to the final collaborative filtering model, is approximately 3.3.\n",
    "This value represents the estimated rating that the model predicts the user would give to the specified movie. "
   ]
  },
  {
   "cell_type": "code",
   "execution_count": 55,
   "metadata": {},
   "outputs": [],
   "source": [
    "# A function to rate movies and generate a list of user ratings\n",
    "\n",
    "def movie_rater(movie_df, num, genre=None):\n",
    "    \"\"\"\n",
    "    Args:\n",
    "    - movie_df: DataFrame, the movie dataset\n",
    "    - num: int, the number of movies to rate\n",
    "    - genre: str, optional genre filter for movie selection\n",
    "\n",
    "    Returns:\n",
    "    - rating_list: list of dictionaries, each containing user ratings for a movie\n",
    "    \"\"\"\n",
    "    userID = 1000\n",
    "    rating_list = []\n",
    "    while num > 0:\n",
    "        if genre:\n",
    "            movie = movie_df[movie_df['genres'].str.contains(genre)].sample(1)\n",
    "        else:\n",
    "            movie = movie_df.sample(1)\n",
    "        print(movie)\n",
    "        rating = input('How do you rate this movie on a scale of 1-5, press n if you have not seen :\\n')\n",
    "        if rating == 'n':\n",
    "            continue\n",
    "        else:\n",
    "            rating_one_movie = {'userId':userID,'movieId':movie['movieId'].values[0],'rating':rating}\n",
    "            rating_list.append(rating_one_movie) \n",
    "            num -= 1\n",
    "    return rating_list\n"
   ]
  },
  {
   "cell_type": "code",
   "execution_count": 56,
   "metadata": {},
   "outputs": [
    {
     "name": "stdout",
     "output_type": "stream",
     "text": [
      "       movieId                    title  genres  userId  rating  \\\n",
      "80684    36525  Just Like Heaven (2005)  Comedy     438     4.0   \n",
      "\n",
      "                timestamp  hour  month  \n",
      "80684 2005-09-18 00:07:38     0      9  \n",
      "How do you rate this movie on a scale of 1-5, press n if you have not seen :\n",
      "4\n",
      "       movieId              title  genres  userId  rating           timestamp  \\\n",
      "11011      371  Paper, The (1994)  Comedy     321     3.0 1996-09-20 09:46:02   \n",
      "\n",
      "       hour  month  \n",
      "11011     9      9  \n",
      "How do you rate this movie on a scale of 1-5, press n if you have not seen :\n",
      "3\n",
      "       movieId       title  genres  userId  rating           timestamp  hour  \\\n",
      "92652    86000  Boy (2010)  Comedy     489     4.0 2012-04-05 20:13:58    20   \n",
      "\n",
      "       month  \n",
      "92652      4  \n",
      "How do you rate this movie on a scale of 1-5, press n if you have not seen :\n",
      "2\n",
      "       movieId                    title  genres  userId  rating  \\\n",
      "58372     3948  Meet the Parents (2000)  Comedy     517     2.0   \n",
      "\n",
      "                timestamp  hour  month  \n",
      "58372 2017-02-24 17:28:04    17      2  \n",
      "How do you rate this movie on a scale of 1-5, press n if you have not seen :\n",
      "4\n"
     ]
    }
   ],
   "source": [
    "# Get movie ratings from a user for a specific genre using the movie_rater function\n",
    "\n",
    "# Assuming:\n",
    "# - new_df is the DataFrame containing movie ratings\n",
    "# - 4 is the no of movies to rate\n",
    "# - 'Comedy' is the specified genre\n",
    "user_rating = movie_rater(new_df, 4, genre='Comedy')\n"
   ]
  },
  {
   "cell_type": "code",
   "execution_count": 57,
   "metadata": {},
   "outputs": [],
   "source": [
    "# Add new ratings to the original ratings DataFrame\n",
    "user_ratings = pd.DataFrame(user_rating)\n",
    "new_ratings_df = pd.concat([user_item_df, user_ratings], axis=0)\n",
    "\n",
    "# Create a reader and load the updated DataFrame into a surprise Dataset\n",
    "reader = Reader()\n",
    "new_data = Dataset.load_from_df(new_ratings_df, reader)"
   ]
  },
  {
   "cell_type": "code",
   "execution_count": 58,
   "metadata": {},
   "outputs": [
    {
     "data": {
      "text/html": [
       "<div>\n",
       "<style scoped>\n",
       "    .dataframe tbody tr th:only-of-type {\n",
       "        vertical-align: middle;\n",
       "    }\n",
       "\n",
       "    .dataframe tbody tr th {\n",
       "        vertical-align: top;\n",
       "    }\n",
       "\n",
       "    .dataframe thead th {\n",
       "        text-align: right;\n",
       "    }\n",
       "</style>\n",
       "<table border=\"1\" class=\"dataframe\">\n",
       "  <thead>\n",
       "    <tr style=\"text-align: right;\">\n",
       "      <th></th>\n",
       "      <th>userId</th>\n",
       "      <th>movieId</th>\n",
       "      <th>rating</th>\n",
       "    </tr>\n",
       "  </thead>\n",
       "  <tbody>\n",
       "    <tr>\n",
       "      <th>0</th>\n",
       "      <td>1</td>\n",
       "      <td>1</td>\n",
       "      <td>4</td>\n",
       "    </tr>\n",
       "    <tr>\n",
       "      <th>1</th>\n",
       "      <td>5</td>\n",
       "      <td>1</td>\n",
       "      <td>4</td>\n",
       "    </tr>\n",
       "    <tr>\n",
       "      <th>2</th>\n",
       "      <td>7</td>\n",
       "      <td>1</td>\n",
       "      <td>4.5</td>\n",
       "    </tr>\n",
       "    <tr>\n",
       "      <th>3</th>\n",
       "      <td>15</td>\n",
       "      <td>1</td>\n",
       "      <td>2.5</td>\n",
       "    </tr>\n",
       "    <tr>\n",
       "      <th>4</th>\n",
       "      <td>17</td>\n",
       "      <td>1</td>\n",
       "      <td>4.5</td>\n",
       "    </tr>\n",
       "    <tr>\n",
       "      <th>...</th>\n",
       "      <td>...</td>\n",
       "      <td>...</td>\n",
       "      <td>...</td>\n",
       "    </tr>\n",
       "    <tr>\n",
       "      <th>100835</th>\n",
       "      <td>331</td>\n",
       "      <td>193609</td>\n",
       "      <td>4</td>\n",
       "    </tr>\n",
       "    <tr>\n",
       "      <th>0</th>\n",
       "      <td>1000</td>\n",
       "      <td>36525</td>\n",
       "      <td>4</td>\n",
       "    </tr>\n",
       "    <tr>\n",
       "      <th>1</th>\n",
       "      <td>1000</td>\n",
       "      <td>371</td>\n",
       "      <td>3</td>\n",
       "    </tr>\n",
       "    <tr>\n",
       "      <th>2</th>\n",
       "      <td>1000</td>\n",
       "      <td>86000</td>\n",
       "      <td>2</td>\n",
       "    </tr>\n",
       "    <tr>\n",
       "      <th>3</th>\n",
       "      <td>1000</td>\n",
       "      <td>3948</td>\n",
       "      <td>4</td>\n",
       "    </tr>\n",
       "  </tbody>\n",
       "</table>\n",
       "<p>100840 rows × 3 columns</p>\n",
       "</div>"
      ],
      "text/plain": [
       "        userId  movieId rating\n",
       "0            1        1      4\n",
       "1            5        1      4\n",
       "2            7        1    4.5\n",
       "3           15        1    2.5\n",
       "4           17        1    4.5\n",
       "...        ...      ...    ...\n",
       "100835     331   193609      4\n",
       "0         1000    36525      4\n",
       "1         1000      371      3\n",
       "2         1000    86000      2\n",
       "3         1000     3948      4\n",
       "\n",
       "[100840 rows x 3 columns]"
      ]
     },
     "execution_count": 58,
     "metadata": {},
     "output_type": "execute_result"
    }
   ],
   "source": [
    "new_data.df"
   ]
  },
  {
   "cell_type": "code",
   "execution_count": 59,
   "metadata": {},
   "outputs": [
    {
     "data": {
      "text/plain": [
       "<surprise.prediction_algorithms.matrix_factorization.SVD at 0x7fd351a8e550>"
      ]
     },
     "execution_count": 59,
     "metadata": {},
     "output_type": "execute_result"
    }
   ],
   "source": [
    "# train a model using the new combined DataFrame\n",
    "# param_grid = {'n_factors':[20, 100],'n_epochs': [5, 10], 'lr_all': [0.002, 0.005],\n",
    "#               'reg_all': [0.4, 0.6]}\n",
    "# gs_model = GridSearchCV(SVD,param_grid=param_grid,n_jobs = -1,joblib_verbose=5)\n",
    "# gs_model.fit(df)\n",
    "\n",
    "# Create an instance of the SVD model with specified hyperparameters\n",
    "svd_ = SVD(n_factors= 50, reg_all=0.05, n_epochs=10)\n",
    "#svd = SVD(n_factors=20, n_epochs=10, lr_all=0.005, reg_all=0.05)\n",
    "\n",
    "# Fit the SVD model on the training set built from the new combined DataFrame\n",
    "svd_.fit(new_data.build_full_trainset())"
   ]
  },
  {
   "cell_type": "code",
   "execution_count": 60,
   "metadata": {},
   "outputs": [],
   "source": [
    "# Predict user ratings for movies\n",
    "# Create a list of tuples in the format (movie_id, predicted_score)\n",
    "list_of_movies = []\n",
    "\n",
    "# Iterate through unique movie IDs in the dataset\n",
    "for movie_id in movie_rating_df['movieId'].unique():\n",
    "    # Predict the user's rating for the movie (assuming user ID is 1000)\n",
    "    predicted_score = svd_.predict(1000, movie_id)[3]\n",
    "    # Append the tuple to the list_of_movies\n",
    "    list_of_movies.append((movie_id, predicted_score))"
   ]
  },
  {
   "cell_type": "code",
   "execution_count": 61,
   "metadata": {},
   "outputs": [
    {
     "data": {
      "text/plain": [
       "[(318, 4.275887799887766),\n",
       " (527, 4.265308546895597),\n",
       " (7361, 4.22704925078498),\n",
       " (904, 4.2244224487671005),\n",
       " (1208, 4.222059136209884),\n",
       " (2959, 4.219177367092874),\n",
       " (1276, 4.2137501599523315),\n",
       " (4226, 4.204750845835385),\n",
       " (1204, 4.203488255596014),\n",
       " (750, 4.200781501968128),\n",
       " (58559, 4.199449745656619),\n",
       " (50, 4.198783081242561),\n",
       " (1221, 4.196862760623463),\n",
       " (899, 4.196190739486281),\n",
       " (1089, 4.1890748122606585),\n",
       " (1225, 4.187199548125698),\n",
       " (48516, 4.182553998764365),\n",
       " (898, 4.180207427149649),\n",
       " (1199, 4.174597484041851),\n",
       " (1213, 4.1706412310627865),\n",
       " (2329, 4.1613142681692),\n",
       " (1261, 4.157057617728025),\n",
       " (1197, 4.153682548964312),\n",
       " (5618, 4.149157785939669),\n",
       " (1262, 4.146684064376096),\n",
       " (858, 4.13900397759145),\n",
       " (912, 4.138575394082341),\n",
       " (30707, 4.128296707471934),\n",
       " (2019, 4.126759034605069),\n",
       " (1104, 4.123492511996249),\n",
       " (4973, 4.121071636710846),\n",
       " (1233, 4.119921714076675),\n",
       " (4011, 4.117006127138146),\n",
       " (910, 4.115433781823956),\n",
       " (296, 4.114075718706358),\n",
       " (1201, 4.112261263363785),\n",
       " (260, 4.1121689246419555),\n",
       " (1198, 4.100818624731671),\n",
       " (2324, 4.099551703824511),\n",
       " (3275, 4.0988510522583645),\n",
       " (6016, 4.089424637729989),\n",
       " (908, 4.088063561278187),\n",
       " (51255, 4.085393909247504),\n",
       " (33166, 4.083991066420007),\n",
       " (1193, 4.08212384455518),\n",
       " (3147, 4.078665583352798),\n",
       " (6711, 4.07357417649356),\n",
       " (4993, 4.07197655464751),\n",
       " (1219, 4.06999827061268),\n",
       " (1136, 4.069934868808038),\n",
       " (1215, 4.0686942021828605),\n",
       " (68157, 4.067787358790901),\n",
       " (2571, 4.0677173338258665),\n",
       " (1704, 4.06326222876374),\n",
       " (1673, 4.061694528201262),\n",
       " (2858, 4.053605052861562),\n",
       " (46578, 4.052595970163059),\n",
       " (541, 4.0495386072212005),\n",
       " (2160, 4.0484433088539165),\n",
       " (1172, 4.046865456020031),\n",
       " (81845, 4.046372690099804),\n",
       " (4995, 4.046325271040912),\n",
       " (78499, 4.045845149930949),\n",
       " (356, 4.0454118578199845),\n",
       " (168252, 4.043793401848106),\n",
       " (1237, 4.043035431210416),\n",
       " (1203, 4.039472283710479),\n",
       " (1222, 4.038829539173895),\n",
       " (4878, 4.038567331841093),\n",
       " (1250, 4.036692714213319),\n",
       " (2028, 4.036528903728939),\n",
       " (111, 4.033638346988608),\n",
       " (778, 4.031104219784258),\n",
       " (7153, 4.030029671723687),\n",
       " (608, 4.0268062978474015),\n",
       " (246, 4.023549378043724),\n",
       " (8874, 4.019692634065792),\n",
       " (110, 4.016655936793023),\n",
       " (1196, 4.015686903685411),\n",
       " (922, 4.015344195461626),\n",
       " (1035, 4.014840816709134),\n",
       " (56782, 4.011115200391108),\n",
       " (1246, 4.009926494151632),\n",
       " (1242, 4.00876873869331),\n",
       " (741, 4.008706209297213),\n",
       " (5952, 4.006603592942229),\n",
       " (1228, 4.00218953979979),\n",
       " (47, 4.0020279979811795),\n",
       " (3681, 4.001970886396853),\n",
       " (7147, 4.001861287315587),\n",
       " (34405, 3.999771917521903),\n",
       " (48780, 3.9996540831873553),\n",
       " (2997, 3.9995818939987497),\n",
       " (2804, 3.9989306187709217),\n",
       " (1235, 3.9974059569604354),\n",
       " (1252, 3.993710734272099),\n",
       " (1258, 3.992829792606799),\n",
       " (3949, 3.9912631494821667),\n",
       " (4034, 3.9903683725834744),\n",
       " (1288, 3.9874723207148763),\n",
       " (2502, 3.9860115447930777),\n",
       " (2542, 3.9827764533203562),\n",
       " (48774, 3.9824333753538834),\n",
       " (6807, 3.980729245694405),\n",
       " (593, 3.979439957241725),\n",
       " (1234, 3.979380072425312),\n",
       " (928, 3.979046322516978),\n",
       " (1247, 3.9787197903680473),\n",
       " (60069, 3.977628112435175),\n",
       " (6, 3.977215006509381),\n",
       " (54001, 3.977197340849464),\n",
       " (923, 3.976736435886341),\n",
       " (293, 3.9738955920073575),\n",
       " (44555, 3.973886856214409),\n",
       " (1028, 3.972187499037539),\n",
       " (27773, 3.970253999986889),\n",
       " (720, 3.969343606381976),\n",
       " (84152, 3.9691506035505686),\n",
       " (1079, 3.968330479906047),\n",
       " (2580, 3.9665059157228875),\n",
       " (91529, 3.964896125229912),\n",
       " (916, 3.9648047587766095),\n",
       " (111759, 3.964510691211876),\n",
       " (1617, 3.96347131346326),\n",
       " (933, 3.96246288701423),\n",
       " (1214, 3.962166535468452),\n",
       " (116797, 3.962066257432552),\n",
       " (57669, 3.961467603043957),\n",
       " (6787, 3.9607183904161416),\n",
       " (1270, 3.960536329125608),\n",
       " (79132, 3.9600574568052376),\n",
       " (5690, 3.958723739286129),\n",
       " (38061, 3.957045079999614),\n",
       " (5995, 3.95675741938372),\n",
       " (2248, 3.9549842431815),\n",
       " (7438, 3.9538125216771767),\n",
       " (1210, 3.953385357645167),\n",
       " (903, 3.953119742766789),\n",
       " (16, 3.9527650268401007),\n",
       " (1291, 3.9522582608803996),\n",
       " (7090, 3.951934860602442),\n",
       " (919, 3.9507017269513427),\n",
       " (1148, 3.9495300704843896),\n",
       " (1278, 3.9489361957577866),\n",
       " (8784, 3.948708182477526),\n",
       " (142488, 3.9479121850568197),\n",
       " (4306, 3.9478907544044466),\n",
       " (6502, 3.945988252137251),\n",
       " (32, 3.9449894622603137),\n",
       " (106100, 3.9441958459074677),\n",
       " (1036, 3.9430477395086956),\n",
       " (80906, 3.942802051797947),\n",
       " (1267, 3.9415127574815405),\n",
       " (265, 3.9408899115727345),\n",
       " (63082, 3.94051366334792),\n",
       " (3000, 3.9380099563687723),\n",
       " (112552, 3.9367693298732),\n",
       " (3037, 3.93662472632472),\n",
       " (2398, 3.93652460242526),\n",
       " (31658, 3.9358098375760195),\n",
       " (69844, 3.9345491552390155),\n",
       " (475, 3.9333242114712634),\n",
       " (1945, 3.932913400648088),\n",
       " (44191, 3.931192084732269),\n",
       " (1266, 3.930097093661849),\n",
       " (112852, 3.929967181044496),\n",
       " (2788, 3.9296202753194827),\n",
       " (1206, 3.928899268008902),\n",
       " (2289, 3.92800709983958),\n",
       " (1954, 3.9270437762718604),\n",
       " (866, 3.926997135825686),\n",
       " (148626, 3.925575425341248),\n",
       " (3683, 3.9243506546546296),\n",
       " (926, 3.923830012805298),\n",
       " (55247, 3.9236924349290576),\n",
       " (104879, 3.922905590293012),\n",
       " (68954, 3.9215394036736124),\n",
       " (6874, 3.920812448083533),\n",
       " (1283, 3.9205729093920483),\n",
       " (914, 3.917583345574093),\n",
       " (32587, 3.916620900608001),\n",
       " (119145, 3.915495833477352),\n",
       " (2529, 3.9151778384461857),\n",
       " (1272, 3.914226302467548),\n",
       " (3328, 3.9133155665028463),\n",
       " (115149, 3.912353272103346),\n",
       " (3201, 3.9121262849686187),\n",
       " (930, 3.908224851076605),\n",
       " (8132, 3.9076750067524544),\n",
       " (924, 3.907349505937801),\n",
       " (109487, 3.9062008931285095),\n",
       " (3578, 3.9028497406929383),\n",
       " (8368, 3.9026897700431222),\n",
       " (44195, 3.901171706501906),\n",
       " (1041, 3.9009196393386194),\n",
       " (1921, 3.9004869626410845),\n",
       " (7371, 3.898254424355533),\n",
       " (247, 3.8981264355790954),\n",
       " (8961, 3.8977259898138676),\n",
       " (5971, 3.8965453776578194),\n",
       " (1207, 3.89632547735117),\n",
       " (162, 3.8960254954295497),\n",
       " (2700, 3.8948917078224743),\n",
       " (40819, 3.8933645096178138),\n",
       " (3508, 3.8932117170905918),\n",
       " (364, 3.892990318265945),\n",
       " (6620, 3.892780578743087),\n",
       " (1240, 3.8920469392064265),\n",
       " (29, 3.891969767054455),\n",
       " (7981, 3.8908399999998653),\n",
       " (134130, 3.8908376351555995),\n",
       " (1281, 3.890090131363748),\n",
       " (457, 3.890037620345686),\n",
       " (109374, 3.8899025450875584),\n",
       " (1200, 3.889586433454031),\n",
       " (1249, 3.8882631322439414),\n",
       " (92259, 3.888235843129688),\n",
       " (50872, 3.8877916369306615),\n",
       " (1090, 3.887112032263096),\n",
       " (1394, 3.8865683652460867),\n",
       " (1259, 3.8860338145401707),\n",
       " (3740, 3.884150219887939),\n",
       " (3996, 3.883749112568104),\n",
       " (4886, 3.882675967232191),\n",
       " (5064, 3.8824584734329766),\n",
       " (2067, 3.8816815778146103),\n",
       " (89745, 3.8810785546507742),\n",
       " (6377, 3.88087013629728),\n",
       " (69481, 3.880196724558355),\n",
       " (1244, 3.8796938083289523),\n",
       " (2951, 3.8793885716866776),\n",
       " (1230, 3.879123937572974),\n",
       " (99114, 3.8790860944092693),\n",
       " (1356, 3.8773768059888085),\n",
       " (96821, 3.876921293787824),\n",
       " (5989, 3.8766490510418126),\n",
       " (2692, 3.8758116180850295),\n",
       " (215, 3.873286797176945),\n",
       " (88163, 3.872687681003876),\n",
       " (1304, 3.871992377903597),\n",
       " (913, 3.871696284321134),\n",
       " (5902, 3.871549222456468),\n",
       " (3100, 3.8703331033050774),\n",
       " (76093, 3.8701202704236253),\n",
       " (441, 3.869580840923774),\n",
       " (3429, 3.8694361234081214),\n",
       " (106782, 3.868590397150644),\n",
       " (4979, 3.8684397657982266),\n",
       " (177593, 3.8674198224323737),\n",
       " (953, 3.865826342158633),\n",
       " (1967, 3.865396777550603),\n",
       " (1178, 3.8647829170531067),\n",
       " (3499, 3.8634665355831315),\n",
       " (223, 3.862509694083584),\n",
       " (122882, 3.8611255558050717),\n",
       " (3671, 3.859492754659225),\n",
       " (1653, 3.858577614179516),\n",
       " (3916, 3.858210301458864),\n",
       " (3897, 3.857681613180911),\n",
       " (1610, 3.8575331707051093),\n",
       " (951, 3.8569053660663246),\n",
       " (1265, 3.8547667018356715),\n",
       " (7099, 3.8547005045882123),\n",
       " (2268, 3.8523265713705994),\n",
       " (3435, 3.8518974634958014),\n",
       " (497, 3.851436544196898),\n",
       " (3451, 3.851303243413282),\n",
       " (6666, 3.8503254356433345),\n",
       " (1212, 3.8499643160552695),\n",
       " (2791, 3.848464826137496),\n",
       " (68237, 3.84773695318845),\n",
       " (58, 3.84649101687168),\n",
       " (3703, 3.8463459994424127),\n",
       " (2231, 3.846285816628912),\n",
       " (49272, 3.8460919493932177),\n",
       " (55118, 3.8458306100148816),\n",
       " (98961, 3.8421019060210493),\n",
       " (1961, 3.839541734621618),\n",
       " (1374, 3.8395401058113645),\n",
       " (3424, 3.838769098328719),\n",
       " (7387, 3.8384202833787757),\n",
       " (1884, 3.8369190479689785),\n",
       " (64716, 3.835418032188453),\n",
       " (3507, 3.835018960661203),\n",
       " (1446, 3.834713799229865),\n",
       " (1209, 3.8344693643160705),\n",
       " (954, 3.834352423768079),\n",
       " (3468, 3.834051118085141),\n",
       " (4239, 3.8337955968552833),\n",
       " (1299, 3.8337074999618963),\n",
       " (139385, 3.8332934815721518),\n",
       " (6300, 3.8332007116572515),\n",
       " (5500, 3.8319191295834103),\n",
       " (1223, 3.8315331318838224),\n",
       " (2078, 3.8315235926624243),\n",
       " (6440, 3.831285456061298),\n",
       " (80463, 3.8300503559843935),\n",
       " (4848, 3.8296103314668577),\n",
       " (2202, 3.8294653067793076),\n",
       " (1968, 3.8293958066309384),\n",
       " (306, 3.8293931550536944),\n",
       " (5060, 3.8293365796025816),\n",
       " (3083, 3.828982477593712),\n",
       " (2194, 3.8278709360117267),\n",
       " (1748, 3.827623323055959),\n",
       " (1248, 3.8274910253211667),\n",
       " (3783, 3.8272216348735837),\n",
       " (2318, 3.8268287849502656),\n",
       " (77455, 3.82662328908521),\n",
       " (3967, 3.826210717636506),\n",
       " (2288, 3.8261947416976474),\n",
       " (905, 3.8259601919075013),\n",
       " (308, 3.825955904951273),\n",
       " (1274, 3.8251729649158976),\n",
       " (1997, 3.8231467753573862),\n",
       " (55721, 3.822136283673556),\n",
       " (1350, 3.821512961264595),\n",
       " (88810, 3.821260072124688),\n",
       " (1303, 3.8200919864874243),\n",
       " (166528, 3.8200578123117324),\n",
       " (745, 3.8178834168734967),\n",
       " (800, 3.817505544573196),\n",
       " (1245, 3.817329341339284),\n",
       " (4144, 3.816741217815342),\n",
       " (1251, 3.816508189617068),\n",
       " (1784, 3.8162711663596753),\n",
       " (2890, 3.815342235108289),\n",
       " (3836, 3.814856628421956),\n",
       " (55765, 3.8136569975501042),\n",
       " (2138, 3.8134811207228054),\n",
       " (26133, 3.8127553762707826),\n",
       " (51540, 3.8122303323442535),\n",
       " (2762, 3.8116957630270445),\n",
       " (1845, 3.8113592210812763),\n",
       " (81834, 3.8109994166317236),\n",
       " (4103, 3.8098753457135324),\n",
       " (7143, 3.80957266033909),\n",
       " (3362, 3.80956452887792),\n",
       " (3347, 3.8093015347252734),\n",
       " (2973, 3.8086378182752822),\n",
       " (7451, 3.8084213085779783),\n",
       " (68358, 3.80827375003519),\n",
       " (1284, 3.808056873592779),\n",
       " (590, 3.807940266097578),\n",
       " (5903, 3.8079326299912806),\n",
       " (2716, 3.807371527367582),\n",
       " (4262, 3.806536564803113),\n",
       " (30749, 3.8062161546682627),\n",
       " (589, 3.8059202680049276),\n",
       " (48394, 3.805742900387402),\n",
       " (53894, 3.8043517438475964),\n",
       " (5669, 3.8039244019193457),\n",
       " (54997, 3.803403642473579),\n",
       " (2947, 3.802809551720017),\n",
       " (4437, 3.8019962732102215),\n",
       " (1408, 3.8018483553045237),\n",
       " (6345, 3.8018241734374656),\n",
       " (969, 3.8017894601219715),\n",
       " (134853, 3.8016537136675215),\n",
       " (1217, 3.8016486309799444),\n",
       " (27611, 3.800170601826588),\n",
       " (89492, 3.8000660111767353),\n",
       " (115569, 3.799708847003725),\n",
       " (4776, 3.7988474903610303),\n",
       " (3114, 3.7983278607746955),\n",
       " (2064, 3.7981133460019327),\n",
       " (81156, 3.7976191486029256),\n",
       " (1077, 3.7959068163204117),\n",
       " (81932, 3.795282376027345),\n",
       " (5991, 3.7952250664641047),\n",
       " (88744, 3.7941413277125835),\n",
       " (33794, 3.7938581786515444),\n",
       " (6936, 3.793834089190324),\n",
       " (5617, 3.7934202283123954),\n",
       " (4235, 3.7923549520658204),\n",
       " (7132, 3.790555412482209),\n",
       " (88125, 3.7902469160332046),\n",
       " (4855, 3.7897232179179485),\n",
       " (106642, 3.789215802496836),\n",
       " (38038, 3.7884329727062416),\n",
       " (6870, 3.7877224308137567),\n",
       " (122926, 3.7865223604193936),\n",
       " (74458, 3.7860915453662862),\n",
       " (97304, 3.7860882139391236),\n",
       " (1953, 3.7857452871488726),\n",
       " (6350, 3.7850692918012325),\n",
       " (56367, 3.7850348555441045),\n",
       " (87232, 3.784775713773449),\n",
       " (2501, 3.784471105086927),\n",
       " (3535, 3.7844401480560963),\n",
       " (5010, 3.7837626880329482),\n",
       " (2300, 3.7836291581499),\n",
       " (3730, 3.7808184249198185),\n",
       " (110102, 3.780593569175859),\n",
       " (3552, 3.7800708602592885),\n",
       " (595, 3.7794270650563546),\n",
       " (69757, 3.779019486204789),\n",
       " (1952, 3.778914607144819),\n",
       " (36708, 3.7769797306718083),\n",
       " (103141, 3.776908733287538),\n",
       " (150, 3.7768953532628298),\n",
       " (64839, 3.776595662067202),\n",
       " (112290, 3.775394303839742),\n",
       " (58998, 3.7750493162172014),\n",
       " (6820, 3.774456335595881),\n",
       " (93510, 3.7743367320237455),\n",
       " (3152, 3.7734833155953993),\n",
       " (7022, 3.7733642378910193),\n",
       " (5444, 3.772811152521137),\n",
       " (3022, 3.7727468200453775),\n",
       " (2732, 3.772100509113364),\n",
       " (55820, 3.771916837089089),\n",
       " (1343, 3.769891485175527),\n",
       " (122916, 3.7698769999851263),\n",
       " (62, 3.76975362099537),\n",
       " (1080, 3.769687765062858),\n",
       " (2118, 3.769440063660227),\n",
       " (5225, 3.7686768402923922),\n",
       " (54190, 3.7684616098398878),\n",
       " (5072, 3.768406324337843),\n",
       " (89904, 3.7682709397720506),\n",
       " (97921, 3.767952824271195),\n",
       " (114935, 3.7676857033027424),\n",
       " (2360, 3.7675722325429715),\n",
       " (8950, 3.766562471206773),\n",
       " (6333, 3.765344152925673),\n",
       " (2020, 3.765235132137429),\n",
       " (2686, 3.7647432387878315),\n",
       " (6611, 3.7647005320861653),\n",
       " (59315, 3.764678270508936),\n",
       " (1719, 3.7644865407443118),\n",
       " (6618, 3.7642524569903624),\n",
       " (44761, 3.7641867910056415),\n",
       " (5377, 3.764166491730497),\n",
       " (4499, 3.7639581116319074),\n",
       " (82459, 3.763447859012531),\n",
       " (93840, 3.7634323368731444),\n",
       " (175, 3.763176292676798),\n",
       " (3676, 3.7629294190603173),\n",
       " (2150, 3.762234095869483),\n",
       " (3105, 3.7621940491983983),\n",
       " (2918, 3.7620299865711258),\n",
       " (2944, 3.7612251597004605),\n",
       " (60684, 3.761152187337558),\n",
       " (45728, 3.76108143529431),\n",
       " (4322, 3.7610407616464254),\n",
       " (2467, 3.7609376555530427),\n",
       " (171763, 3.7591405540398592),\n",
       " (1358, 3.7585103864727736),\n",
       " (1307, 3.758246093316072),\n",
       " (26810, 3.7580916887822386),\n",
       " (2936, 3.758009878977362),\n",
       " (1243, 3.7577449719771874),\n",
       " (7121, 3.757338765698095),\n",
       " (5014, 3.7566887408011516),\n",
       " (3549, 3.7561041734814413),\n",
       " (7234, 3.7559172816261883),\n",
       " (122912, 3.755643005641993),\n",
       " (7265, 3.755620176202312),\n",
       " (3678, 3.755543409825485),\n",
       " (1387, 3.754736324587054),\n",
       " (105504, 3.7545414574215026),\n",
       " (7983, 3.754465068538721),\n",
       " (72226, 3.7540268935208405),\n",
       " (4002, 3.753831716615195),\n",
       " (26662, 3.7537554793901156),\n",
       " (5954, 3.7533932678584314),\n",
       " (2203, 3.751973879497645),\n",
       " (84414, 3.7519548655368244),\n",
       " (3213, 3.751744663283402),\n",
       " (1073, 3.7516855246593757),\n",
       " (51935, 3.7516154092023033),\n",
       " (1927, 3.7507104046242756),\n",
       " (2871, 3.750327482028335),\n",
       " (6565, 3.750228928679209),\n",
       " (3421, 3.7501221098085593),\n",
       " (3062, 3.750120892562135),\n",
       " (1287, 3.7499393370296326),\n",
       " (5008, 3.7495594884180283),\n",
       " (27156, 3.7493995052211386),\n",
       " (3095, 3.7478454096731655),\n",
       " (1257, 3.7478019957508364),\n",
       " (2000, 3.747595061319456),\n",
       " (4105, 3.7468482584335767),\n",
       " (4896, 3.7467754946004472),\n",
       " (4027, 3.746632225017719),\n",
       " (3504, 3.746464793103217),\n",
       " (1263, 3.745417978521625),\n",
       " (1, 3.7452826689321226),\n",
       " (90866, 3.744843572614839),\n",
       " (44665, 3.7446671349616363),\n",
       " (66934, 3.744626866628047),\n",
       " (98124, 3.744377065754405),\n",
       " (7360, 3.743873295787428),\n",
       " (1285, 3.743813539951963),\n",
       " (562, 3.743690474698476),\n",
       " (8366, 3.7436486939547446),\n",
       " (1103, 3.7430348654747796),\n",
       " (6539, 3.742314514843371),\n",
       " (116897, 3.742082628571121),\n",
       " (902, 3.741816218981076),\n",
       " (948, 3.741374586589127),\n",
       " (1177, 3.741185180478423),\n",
       " (94959, 3.740835061879222),\n",
       " (3972, 3.740817599322036),\n",
       " (1084, 3.740748865354382),\n",
       " (27801, 3.740404432961475),\n",
       " (8528, 3.7401985207604023),\n",
       " (1411, 3.739793233944315),\n",
       " (1231, 3.7396935917042504),\n",
       " (1292, 3.739200035323302),\n",
       " (78637, 3.7390162910159614),\n",
       " (115617, 3.7389241766821426),\n",
       " (4865, 3.738895033781945),\n",
       " (3814, 3.7380932342761395),\n",
       " (8958, 3.738006866191358),\n",
       " (56715, 3.7379941578042737),\n",
       " (2010, 3.737863013798422),\n",
       " (104374, 3.7369310880568323),\n",
       " (2583, 3.7367513009873097),\n",
       " (4754, 3.7365183053019786),\n",
       " (26776, 3.7364128656405713),\n",
       " (272, 3.7361579966693452),\n",
       " (2677, 3.7346880672495035),\n",
       " (2761, 3.734549990833784),\n",
       " (115713, 3.7345151289496226),\n",
       " (6942, 3.7344170786559268),\n",
       " (70286, 3.734279250227285),\n",
       " (79702, 3.73375949446129),\n",
       " (1950, 3.733389959463702),\n",
       " (89774, 3.7330673030729904),\n",
       " (31410, 3.7330316832779435),\n",
       " (2396, 3.732228755044821),\n",
       " (2912, 3.7321313374343243),\n",
       " (33660, 3.731953842470398),\n",
       " (164179, 3.7319531738530167),\n",
       " (2239, 3.731950538310879),\n",
       " (106918, 3.7308636032471516),\n",
       " (2186, 3.730713883826829),\n",
       " (838, 3.730706398588577),\n",
       " (4642, 3.7303900874274802),\n",
       " (2968, 3.729270586126778),\n",
       " (3182, 3.7290294208932115),\n",
       " (1449, 3.7287636703884868),\n",
       " (54503, 3.7286922141879195),\n",
       " (1339, 3.728534617007105),\n",
       " (62849, 3.728442741303465),\n",
       " (122918, 3.7275061511665855),\n",
       " (1086, 3.7274919217922644),\n",
       " (4963, 3.7272429730739547),\n",
       " (38304, 3.7269191565258675),\n",
       " (91077, 3.726654305007942),\n",
       " (6832, 3.7265183796187498),\n",
       " (3030, 3.726465845210526),\n",
       " (3266, 3.726213195616526),\n",
       " (51931, 3.726058555821211),\n",
       " (28, 3.725918121336333),\n",
       " (7706, 3.7257274076873506),\n",
       " (5026, 3.7248992328242605),\n",
       " (1175, 3.7240190135828306),\n",
       " (81847, 3.7238935306641774),\n",
       " (529, 3.7230837022554297),\n",
       " (37741, 3.7229070334802654),\n",
       " (480, 3.722526228631968),\n",
       " (262, 3.7223138289971955),\n",
       " (162578, 3.722006245055453),\n",
       " (7481, 3.721686314379855),\n",
       " (50851, 3.721623515241601),\n",
       " (4448, 3.721258704122449),\n",
       " (1357, 3.721256066764955),\n",
       " (3473, 3.720699671846639),\n",
       " (1269, 3.7206313148811736),\n",
       " (3397, 3.7203579215233153),\n",
       " (7445, 3.7203241393308244),\n",
       " (4047, 3.720299013620714),\n",
       " (474, 3.720138189212055),\n",
       " (1596, 3.7198017761019977),\n",
       " (8636, 3.7197942773636),\n",
       " (678, 3.7193526430933432),\n",
       " (67255, 3.7192525387101734),\n",
       " (51709, 3.71922256036914),\n",
       " (307, 3.718086729425247),\n",
       " (26326, 3.717839670124652),\n",
       " (906, 3.717510139534758),\n",
       " (48342, 3.7174704296393912),\n",
       " (3494, 3.717382511232865),\n",
       " (61024, 3.71720848989911),\n",
       " (154, 3.716489812908152),\n",
       " (6378, 3.716452164018746),\n",
       " (3363, 3.7159654314844914),\n",
       " (1282, 3.715776911970651),\n",
       " (5328, 3.71557307716628),\n",
       " (3098, 3.715517564190476),\n",
       " (353, 3.715237886648861),\n",
       " (6296, 3.715190300178337),\n",
       " (1682, 3.7151424561401702),\n",
       " (52767, 3.7144229833270836),\n",
       " (79008, 3.7143834057911636),\n",
       " (8949, 3.714042548760515),\n",
       " (5135, 3.7137226324235586),\n",
       " (47423, 3.7133195479127994),\n",
       " (96079, 3.7132856273664903),\n",
       " (8807, 3.713064971950816),\n",
       " (2948, 3.713006841501245),\n",
       " (555, 3.7129183980174667),\n",
       " (5218, 3.7128448504406695),\n",
       " (7096, 3.712679006524734),\n",
       " (3307, 3.7125911069970203),\n",
       " (6104, 3.7116450834422574),\n",
       " (57640, 3.711446036023776),\n",
       " (86504, 3.7107916235344853),\n",
       " (111362, 3.710624803973911),\n",
       " (3260, 3.710489564276491),\n",
       " (7254, 3.709874737194893),\n",
       " (8970, 3.7096895855317173),\n",
       " (8928, 3.709593865921866),\n",
       " (1349, 3.7095265140890286),\n",
       " (5782, 3.7091752586194757),\n",
       " (1275, 3.709074234926263),\n",
       " (3358, 3.708671102043559),\n",
       " (86, 3.7082002510106564),\n",
       " (6645, 3.7080201080075232),\n",
       " (7156, 3.7079149455200033),\n",
       " (1183, 3.707679028453206),\n",
       " (179817, 3.7074338521816532),\n",
       " (40815, 3.7073343138691017),\n",
       " (83134, 3.7070876507250823),\n",
       " (167746, 3.7069355628676766),\n",
       " (5816, 3.706782843847148),\n",
       " (2843, 3.7065639558688153),\n",
       " (54286, 3.7063785839457526),\n",
       " (7008, 3.7062584488521844),\n",
       " (140174, 3.706115341234264),\n",
       " (1046, 3.7059919672586408),\n",
       " (5867, 3.7059187278682986),\n",
       " (71535, 3.705785974937654),\n",
       " (2557, 3.705691397826162),\n",
       " (2291, 3.70542487694699),\n",
       " (5418, 3.705315224079106),\n",
       " (968, 3.705240955628674),\n",
       " (45028, 3.7042391962663426),\n",
       " (88932, 3.7041379439469804),\n",
       " (2083, 3.704102792067549),\n",
       " (49530, 3.703889707520489),\n",
       " (41285, 3.703283099660164),\n",
       " (6270, 3.70301350983055),\n",
       " (5878, 3.702449141118741),\n",
       " (3831, 3.7022176726667304),\n",
       " (6662, 3.7020559440874794),\n",
       " (1663, 3.7018965927352236),\n",
       " (65261, 3.701724443274067),\n",
       " (42004, 3.701306513557635),\n",
       " (2135, 3.7012607023142925),\n",
       " (2846, 3.7011235881899736),\n",
       " (40278, 3.70103424997675),\n",
       " (158966, 3.701025832169209),\n",
       " (2739, 3.7009476366946674),\n",
       " (44694, 3.70083527261202),\n",
       " (81591, 3.700419125455879),\n",
       " (1836, 3.6997055380891704),\n",
       " (83803, 3.699283809198511),\n",
       " (73323, 3.6990543341426396),\n",
       " (95761, 3.6986505033113657),\n",
       " (1875, 3.698640874900919),\n",
       " (4967, 3.6983482080816543),\n",
       " (3556, 3.698160897773721),\n",
       " (2664, 3.697480689841589),\n",
       " (101, 3.697329612231793),\n",
       " (1147, 3.6972792311799383),\n",
       " (5747, 3.697267494893096),\n",
       " (3334, 3.6967356156297475),\n",
       " (1273, 3.696705219979289),\n",
       " (168492, 3.696659770147941),\n",
       " (3994, 3.6965778502055695),\n",
       " (915, 3.6962188762793895),\n",
       " (54881, 3.696141717524192),\n",
       " (117192, 3.6960415821393093),\n",
       " (3639, 3.695550952091729),\n",
       " (1179, 3.6952353891412413),\n",
       " (95771, 3.6949949500952393),\n",
       " (78959, 3.694985830338599),\n",
       " (6591, 3.6947315423183293),\n",
       " (97, 3.694699422301815),\n",
       " (56251, 3.694698649143516),\n",
       " (8665, 3.6946787195328024),\n",
       " (127098, 3.694565253637268),\n",
       " (159817, 3.6945432701185474),\n",
       " (8331, 3.693889671188715),\n",
       " (8641, 3.6937214396198605),\n",
       " (66097, 3.693499460617514),\n",
       " (72641, 3.6934983997608377),\n",
       " (62293, 3.693490160179879),\n",
       " (170705, 3.693405978459051),\n",
       " (1097, 3.6923911746948552),\n",
       " (3068, 3.6923564708508922),\n",
       " (55276, 3.6921024656679498),\n",
       " (4117, 3.691753219467945),\n",
       " (4441, 3.6916127342320055),\n",
       " (32456, 3.6913977871113515),\n",
       " (106696, 3.691334644393659),\n",
       " (1220, 3.691234208435597),\n",
       " (111617, 3.6911417847038734),\n",
       " (1956, 3.6909723514760007),\n",
       " (44193, 3.6900473095360886),\n",
       " (73017, 3.689983508707267),\n",
       " (103048, 3.689958866643031),\n",
       " (3115, 3.6898007085165263),\n",
       " (3677, 3.68971275609937),\n",
       " (6708, 3.6893808462434023),\n",
       " (4033, 3.6890777560874124),\n",
       " (2797, 3.6889521842202146),\n",
       " (71899, 3.6886035764245944),\n",
       " (48738, 3.6884461655757175),\n",
       " (50064, 3.688302510110691),\n",
       " (1060, 3.688119505554067),\n",
       " (3675, 3.6880792176455897),\n",
       " (5445, 3.6880411914974074),\n",
       " (7084, 3.6874672345653274),\n",
       " (7895, 3.687251343296148),\n",
       " (1280, 3.687246202482418),\n",
       " (5992, 3.6872349641519677),\n",
       " (6283, 3.686902185714051),\n",
       " (3846, 3.6865692092374527),\n",
       " (3090, 3.686341382341109),\n",
       " (64614, 3.6860058234069815),\n",
       " (911, 3.685925244672529),\n",
       " (56788, 3.685796174684646),\n",
       " (945, 3.6856579292241096),\n",
       " (2966, 3.6855707870076047),\n",
       " (6100, 3.6854369574726737),\n",
       " (3543, 3.685402892358053),\n",
       " (2295, 3.6853108967257606),\n",
       " (3910, 3.6852106052672045),\n",
       " (57504, 3.6852083890444867),\n",
       " (1955, 3.6850014889337563),\n",
       " (58803, 3.684998865682188),\n",
       " (74727, 3.684839810539109),\n",
       " (1125, 3.684594738273699),\n",
       " (7802, 3.6843799343106842),\n",
       " (139644, 3.68437885583544),\n",
       " (599, 3.6842402317057075),\n",
       " (971, 3.6841218979688732),\n",
       " (1466, 3.6840846654065054),\n",
       " (98491, 3.684060388062864),\n",
       " (71304, 3.683957936682788),\n",
       " (1189, 3.6838689314095836),\n",
       " (176, 3.6836612710891905),\n",
       " (93022, 3.6833394097017087),\n",
       " (3384, 3.682487812050235),\n",
       " (920, 3.6823213975775575),\n",
       " (2313, 3.6822719130027326),\n",
       " (3741, 3.682118585038314),\n",
       " (508, 3.682047302973089),\n",
       " (40583, 3.6820260708160526),\n",
       " (41627, 3.6818960037656865),\n",
       " (54995, 3.6818223217543196),\n",
       " (2925, 3.6817620486383102),\n",
       " (117887, 3.681636919227186),\n",
       " (2565, 3.6815282109917145),\n",
       " (4273, 3.6808251554755467),\n",
       " (3379, 3.6807567753002566),\n",
       " (7076, 3.6804827084700875),\n",
       " (3983, 3.6804780763308873),\n",
       " (3060, 3.6804371050642266),\n",
       " (4308, 3.680348555731912),\n",
       " (68269, 3.6803138242735374),\n",
       " (4019, 3.6802508595750405),\n",
       " (142422, 3.679859290466917),\n",
       " (8798, 3.6794495028621346),\n",
       " (1361, 3.679311525697868),\n",
       " (3019, 3.679013954781091),\n",
       " (106920, 3.678961083262181),\n",
       " (8622, 3.6785930089469976),\n",
       " (4021, 3.678570253452818),\n",
       " (7293, 3.6784316130065835),\n",
       " (8656, 3.678273862485575),\n",
       " (59387, 3.6776715756398484),\n",
       " (1227, 3.677558036971847),\n",
       " (97938, 3.677539768534934),\n",
       " (3111, 3.6774916856641666),\n",
       " (91542, 3.67729619204008),\n",
       " (140715, 3.6771397769024423),\n",
       " (59141, 3.6770452220439664),\n",
       " (368, 3.676963233643925),\n",
       " (80489, 3.676773154688316),\n",
       " (80549, 3.676497597752088),\n",
       " (2599, 3.676461472497517),\n",
       " (333, 3.6758776891216516),\n",
       " (2159, 3.675856772279626),\n",
       " (3365, 3.675623428504954),\n",
       " (183897, 3.675410488773927),\n",
       " (6509, 3.6752496116197086),\n",
       " (6306, 3.67517762386914),\n",
       " (4901, 3.6751768781238754),\n",
       " (515, 3.6749170481088687),\n",
       " (72356, 3.674912825872459),\n",
       " (7256, 3.6745210460369075),\n",
       " (112515, 3.6743607129389755),\n",
       " (112556, 3.673395477659146),\n",
       " (96588, 3.673358529539351),\n",
       " (103235, 3.673334065294826),\n",
       " (122922, 3.673245032708411),\n",
       " (44199, 3.6731763644463626),\n",
       " (8261, 3.6728199720678516),\n",
       " (93838, 3.6725495141777222),\n",
       " (2125, 3.672455138368493),\n",
       " (25947, 3.6724392949886706),\n",
       " (1732, 3.6721812652424086),\n",
       " (1025, 3.6718930027593455),\n",
       " (92535, 3.671620379717327),\n",
       " (3088, 3.6714720409752046),\n",
       " (3108, 3.6708809704601046),\n",
       " (117176, 3.670781296598662),\n",
       " (93008, 3.6703195032059024),\n",
       " (8239, 3.670183563991487),\n",
       " (55908, 3.6701517791864324),\n",
       " (4300, 3.6701264315065107),\n",
       " (261, 3.6699520356252124),\n",
       " (58425, 3.669921518862007),\n",
       " (82534, 3.6698555043777588),\n",
       " (249, 3.6693070317085597),\n",
       " (3481, 3.6692403554318602),\n",
       " (69469, 3.6691863090415255),\n",
       " (141836, 3.6689277560853677),\n",
       " (58301, 3.668781046525525),\n",
       " (5425, 3.668649436876285),\n",
       " (4225, 3.6684012841482456),\n",
       " (26840, 3.6682495266446193),\n",
       " (113705, 3.6681512544229022),\n",
       " (8370, 3.667609524611041),\n",
       " (8981, 3.6675619930472965),\n",
       " (76251, 3.6673030929578063),\n",
       " (3505, 3.6671145288580833),\n",
       " (3200, 3.666737747662991),\n",
       " (2763, 3.6666317399723614),\n",
       " (41863, 3.6664538588614817),\n",
       " (40959, 3.666230503717285),\n",
       " (7842, 3.665964648267934),\n",
       " (1095, 3.665891665663477),\n",
       " (33154, 3.6658077903742896),\n",
       " (994, 3.6656993550606014),\n",
       " (34072, 3.6656019194359546),\n",
       " (337, 3.665532743715366),\n",
       " (36535, 3.6648951965271865),\n",
       " (4014, 3.6648248545793334),\n",
       " (918, 3.664609573360628),\n",
       " (1960, 3.6643639507541046),\n",
       " (144606, 3.664331346057565),\n",
       " (122886, 3.664220027371665),\n",
       " (2921, 3.663954935698522),\n",
       " (4350, 3.6637927505367704),\n",
       " (1753, 3.6634929022619946),\n",
       " (4942, 3.663448104658019),\n",
       " (122920, 3.663229098240623),\n",
       " (3246, 3.6630615695108375),\n",
       " (3471, 3.663026629006358),\n",
       " (146656, 3.6627439781468323),\n",
       " (7037, 3.6622096790852297),\n",
       " (909, 3.6618463741457274),\n",
       " (1755, 3.6617509422223398),\n",
       " (2390, 3.6617482768071357),\n",
       " (1641, 3.6615617319627494),\n",
       " (1310, 3.66135472385907),\n",
       " (69122, 3.661258308282451),\n",
       " (290, 3.661023574403406),\n",
       " (2935, 3.6610075685935684),\n",
       " (1096, 3.6606982241817945),\n",
       " (1929, 3.6605791105627423),\n",
       " (8128, 3.6603310514957066),\n",
       " (391, 3.6602738761637226),\n",
       " (94503, 3.6602675564499503),\n",
       " (1238, 3.6601122297928024),\n",
       " (152081, 3.660086139153007),\n",
       " (99130, 3.6597044934867937),\n",
       " (7482, 3.659681249299552),\n",
       " (6796, 3.659440013059048),\n",
       " (27879, 3.6594364008124276),\n",
       " (3330, 3.659293013924772),\n",
       " (1218, 3.659090108651924),\n",
       " (3655, 3.659052937365747),\n",
       " (6774, 3.6589158555889285),\n",
       " (1256, 3.658612267805238),\n",
       " (104841, 3.658600981078246),\n",
       " (2810, 3.658126498053387),\n",
       " (60737, 3.6580530751983953),\n",
       " (594, 3.658033388344821),\n",
       " (88448, 3.6579059012995208),\n",
       " (3359, 3.6574373481615),\n",
       " (6985, 3.6572353081489863),\n",
       " (280, 3.6570305230056075),\n",
       " (5577, 3.6568120011774647),\n",
       " (134881, 3.6567649273429987),\n",
       " (6001, 3.656676119928716),\n",
       " (2511, 3.6566373568780492),\n",
       " (47999, 3.656622788822205),\n",
       " (1734, 3.656574021563588),\n",
       " (149566, 3.6562582277337468),\n",
       " (59814, 3.6559802110931066),\n",
       " (96829, 3.6559100911010596),\n",
       " (8685, 3.655647026116784),\n",
       " (2117, 3.655529557345479),\n",
       " (3034, 3.6554431587823943),\n",
       " (3160, 3.655398637668641),\n",
       " (3039, 3.655395232174461),\n",
       " (52287, 3.655262761468216),\n",
       " (7894, 3.655231652277368),\n",
       " (6187, 3.6551021616233736),\n",
       " (1957, 3.654992027402853),\n",
       " (27563, 3.654984473658666),\n",
       " (2919, 3.654916966712732),\n",
       " (27831, 3.65438265885474),\n",
       " (7569, 3.654239250948964),\n",
       " (5490, 3.6537893171246933),\n",
       " (74324, 3.653716294667121),\n",
       " (6460, 3.6535592054303705),\n",
       " (5947, 3.6533399109135423),\n",
       " (142424, 3.65328266931668),\n",
       " (5994, 3.6531689677068653),\n",
       " (2924, 3.6530573880850095),\n",
       " (805, 3.6530127807468578),\n",
       " (64620, 3.6529778309771834),\n",
       " (69951, 3.652315876313801),\n",
       " (4571, 3.65224255399246),\n",
       " (46967, 3.6519380302459603),\n",
       " (3771, 3.6514250809290254),\n",
       " (3871, 3.65140904033851),\n",
       " (91653, 3.651397555446281),\n",
       " (97870, 3.651271725104305),\n",
       " (168248, 3.6511751367995475),\n",
       " (26073, 3.6511446386084456),\n",
       " (27846, 3.651016935062022),\n",
       " (5464, 3.6508225913989634),\n",
       " (334, 3.650654731519154),\n",
       " (2401, 3.65065356328372),\n",
       " (48649, 3.650534896157129),\n",
       " (112138, 3.6503855318603278),\n",
       " (4914, 3.650327455454619),\n",
       " (5339, 3.650310432630631),\n",
       " (31364, 3.650094076799105),\n",
       " (3793, 3.649861619710114),\n",
       " (1032, 3.6496569239101553),\n",
       " (553, 3.649606557235315),\n",
       " (6947, 3.6494424765573332),\n",
       " (538, 3.649032518706893),\n",
       " (106, 3.6488950155054063),\n",
       " (779, 3.6487614920952063),\n",
       " (4090, 3.648556336977238),\n",
       " (40491, 3.6485005061014486),\n",
       " (5792, 3.6482433568315664),\n",
       " (3735, 3.6480719103303296),\n",
       " (52952, 3.6479729497042843),\n",
       " (4399, 3.647931585603757),\n",
       " (214, 3.647821899635566),\n",
       " (551, 3.6476693889233496),\n",
       " (3181, 3.6475460147770984),\n",
       " (3911, 3.64747900501271),\n",
       " (180297, 3.647396032705407),\n",
       " (6786, 3.647150775069226),\n",
       " (94677, 3.6471314871765785),\n",
       " (5066, 3.647066372453358),\n",
       " (90603, 3.6470121127372246),\n",
       " (156371, 3.646970465205503),\n",
       " (26681, 3.646553673019323),\n",
       " (6217, 3.646381522116797),\n",
       " (73344, 3.646378145795449),\n",
       " (1856, 3.6463228345111585),\n",
       " (66297, 3.646211274843764),\n",
       " (27741, 3.6462091745194884),\n",
       " (8875, 3.6461229856097868),\n",
       " (108795, 3.6461081206993455),\n",
       " (7064, 3.646012855696317),\n",
       " (1333, 3.645974712903191),\n",
       " (98809, 3.645825602742939),\n",
       " (1061, 3.645745354034362),\n",
       " (3252, 3.645508323294448),\n",
       " (4789, 3.6453313473207927),\n",
       " (2905, 3.64520863972796),\n",
       " (82169, 3.645022836258037),\n",
       " (2820, 3.644595375093793),\n",
       " (1293, 3.6444469301683675),\n",
       " (6323, 3.644385136019016),\n",
       " (39292, 3.644270668710681),\n",
       " (81788, 3.644191638994135),\n",
       " (6617, 3.6441121914805024),\n",
       " (187, 3.6439276990056024),\n",
       " (4267, 3.643635513586146),\n",
       " (166291, 3.643370670871265),\n",
       " (57499, 3.6432875162689062),\n",
       " (1224, 3.6430995444764367),\n",
       " (3888, 3.643069316882445),\n",
       " (4046, 3.6428706735780065),\n",
       " (4765, 3.6428157891162414),\n",
       " (9018, 3.642703770415011),\n",
       " (70599, 3.6425248722207995),\n",
       " (4720, 3.642379901570773),\n",
       " (102903, 3.642229564395266),\n",
       " (7247, 3.641975077940714),\n",
       " (36, 3.6419172344070923),\n",
       " (36517, 3.6418399283671445),\n",
       " (51694, 3.641824873439632),\n",
       " ...]"
      ]
     },
     "execution_count": 61,
     "metadata": {},
     "output_type": "execute_result"
    }
   ],
   "source": [
    "# order the predictions from highest to lowest rated\n",
    "ranked_movies = sorted(list_of_movies, key=lambda x:x[1], reverse=True)\n",
    "ranked_movies"
   ]
  },
  {
   "cell_type": "markdown",
   "metadata": {},
   "source": [
    "The SVD model, trained on a new combined DataFrame, predicts movie ratings for a user ID 1000. The top-ranked movies have high predicted scores, indicating high enjoyment.\n",
    "\n",
    "The ranked list provides personalized recommendations, sorted from highest to lowest predicted scores, based on the user's likely preferences. \n",
    "\n",
    "This information can be used to suggest movies to the user based on their preferences."
   ]
  },
  {
   "cell_type": "code",
   "execution_count": 62,
   "metadata": {},
   "outputs": [],
   "source": [
    "# Function to recommend movies based on user ratings\n",
    "def recommended_movies(user_ratings, movie_title_df, n):\n",
    "    recommended_movies_set = set()  # Keep track of recommended movies\n",
    "\n",
    "    # Iterate through user ratings\n",
    "    for idx, rec in enumerate(user_ratings):\n",
    "        movie_id = int(rec[0])\n",
    "        title_array = movie_title_df.loc[movie_title_df['movieId'] == movie_id, 'title'].values\n",
    "\n",
    "        # Check if the array is not empty and the movie has not been recommended before\n",
    "        if title_array.any() and title_array[0] not in recommended_movies_set:\n",
    "            title = title_array[0]\n",
    "            print('Recommendation #', idx+1, ':', title, '\\n')\n",
    "            recommended_movies_set.add(title)  # Add the movie to the set of recommended movies\n",
    "            n -= 1\n",
    "\n",
    "        # Check if the desired number of recommendations has been reached\n",
    "        if n == 0:\n",
    "            break\n",
    "            "
   ]
  },
  {
   "cell_type": "code",
   "execution_count": 63,
   "metadata": {},
   "outputs": [
    {
     "name": "stdout",
     "output_type": "stream",
     "text": [
      "Recommendation # 1 : Shawshank Redemption, The (1994) \n",
      "\n",
      "Recommendation # 2 : Schindler's List (1993) \n",
      "\n",
      "Recommendation # 3 : Eternal Sunshine of the Spotless Mind (2004) \n",
      "\n",
      "Recommendation # 4 : Rear Window (1954) \n",
      "\n",
      "Recommendation # 5 : Apocalypse Now (1979) \n",
      "\n"
     ]
    }
   ],
   "source": [
    "# recommend 5 movies based on user ratings\n",
    "recommended_movies(ranked_movies, movie_rating_df, 5)"
   ]
  },
  {
   "cell_type": "code",
   "execution_count": 64,
   "metadata": {},
   "outputs": [
    {
     "name": "stdout",
     "output_type": "stream",
     "text": [
      "Movie ID: 904, Title: Rear Window (1954), Rating: 3.930503147439757\n",
      "Movie ID: 318, Title: Shawshank Redemption, The (1994), Rating: 3.9037050576959706\n",
      "Movie ID: 1204, Title: Lawrence of Arabia (1962), Rating: 3.8859340641442675\n"
     ]
    }
   ],
   "source": [
    "# Assuming your data looks like this:\n",
    "user_ratings = [(904, 3.930503147439757), (318, 3.9037050576959706), (1204, 3.8859340641442675)]\n",
    "\n",
    "# Iterate through the user_ratings and print the movie names\n",
    "for movie_id, rating in user_ratings:\n",
    "    # Find the corresponding movie title using movie_title_df\n",
    "    title_array = movies.loc[movies['movieId'] == movie_id, 'title'].values\n",
    "\n",
    "    # Check if the array is not empty\n",
    "    if title_array.any():\n",
    "        title = title_array[0]\n",
    "        print(f\"Movie ID: {movie_id}, Title: {title}, Rating: {rating}\")\n",
    "    else:\n",
    "        print(f\"Movie ID {movie_id} not found in movie_title_df\")\n"
   ]
  },
  {
   "cell_type": "markdown",
   "metadata": {},
   "source": [
    "# Recommendation"
   ]
  },
  {
   "cell_type": "markdown",
   "metadata": {},
   "source": [
    "1.Web application\n",
    "Building a web application to enhance the user experience and make your collaborative filtering recommendation system more accessible\n",
    "\n",
    "2.Explore Deep Learning Models:\n",
    "While collaborative filtering models like SVD are effective, consider exploring deep learning-based recommendation models, such as neural collaborative filtering (NCF) or recurrent neural networks (RNNs). These models can capture complex patterns and dependencies in user behavior.\n",
    "\n",
    "3.Real-Time Recommendations:\n",
    "Implement a real-time recommendation system to provide users with up-to-date suggestions. This can be achieved by continuously updating the model as new ratings and interactions occur."
   ]
  },
  {
   "cell_type": "markdown",
   "metadata": {},
   "source": [
    "# Conclusion"
   ]
  },
  {
   "cell_type": "markdown",
   "metadata": {},
   "source": [
    "Conclusion\n",
    "The collaborative filtering recommendation system was built and evaluated using multiple models, including KNNBasic, KNNBaseline, KNNWithMeans, and SVD. The SVD model was chosen due to its superior performance. User ratings were incorporated to personalize suggestions. The system adapts to evolving user preferences and displays the top 5 movie recommendations."
   ]
  },
  {
   "cell_type": "code",
   "execution_count": null,
   "metadata": {},
   "outputs": [],
   "source": []
  }
 ],
 "metadata": {
  "kernelspec": {
   "display_name": "Python 3",
   "language": "python",
   "name": "python3"
  },
  "language_info": {
   "codemirror_mode": {
    "name": "ipython",
    "version": 3
   },
   "file_extension": ".py",
   "mimetype": "text/x-python",
   "name": "python",
   "nbconvert_exporter": "python",
   "pygments_lexer": "ipython3",
   "version": "3.8.5"
  }
 },
 "nbformat": 4,
 "nbformat_minor": 5
}
