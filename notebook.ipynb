{
 "cells": [
  {
   "cell_type": "markdown",
   "id": "0e402c0a",
   "metadata": {},
   "source": [
    "# Personalized Movie Recommendations: A Collaborative Filtering Approach"
   ]
  },
  {
   "cell_type": "markdown",
   "id": "89e2118e",
   "metadata": {},
   "source": [
    "## 1. Business Understanding\n",
    "### (a) Introduction\n",
    "\n",
    "CineCollab, established in 2006, has been at the forefront of digital entertainment, captivating audiences worldwide with a rich collection of films and sophisticated recommendation systems. Our success is deeply rooted in our commitment to elevating user experiences through advanced analytics.\n",
    "\n",
    "This project mirrors CineCollab's dedication, with a focus on refining recommendation systems. We develop complex predictive models, taking into account factors such as individual viewing habits and user behaviors. By mapping these variables, we intend to work closely with CineCollab to boost the precision and effectiveness of its recommendation algorithm.\n",
    "\n",
    "The MovieLens dataset plays a pivotal role in realizing this objective. Users can rate movies, and our model harnesses these ratings to craft personalized recommendations. The hurdle lies in designing a system that accurately deciphers user ratings and converts them into relevant film suggestions.\n",
    "\n",
    "The core business problem we tackle is optimizing user engagement by delivering desired movie recommendations. This involves understanding user preferences based on ratings and creating an intuitive and user-friendly platform for users to provide these ratings. We attempt to maintain a balance between simplicity and capturing nuanced user preferences to ensure the recommendations are both accurate and well-received.\n",
    "\n",
    "In essence, our project seeks to transform the way users rate movies and receive recommendations, aligning with CineCollab's ongoing commitment to personalized content discovery. Through our model, we aim to not only enhance efficiency but also provide a seamless and enriching experience for users globally, delivering top-notch movie recommendations tailored to their unique tastes and preferences.\n",
    "\n",
    "### (b) Problem Statement\n",
    "\n",
    "Online streaming platforms are the dominant form of media consumption but viewers often face a paradox of choice when presented with the entire catalogue. Users struggle to navigate through massive catalogues, leading to subscriber frustration and an increased likelihood of churn. By leveraging the MovieLens dataset comprised of over 100,000 ratings applied to nearly 10,000 films by hundreds of users, we intend to push CineCollabs recommendation algorithm forward. Enhancing recommendations based upon movies streamers prefer has the potential to improve CineCollab's user experience and to help audiences discover unexplored content that matches their interests. This project, implemented successfully will  promote media discovery, encourage niche, cult-like viewers and inspire artistry through expanded access to cinema. Building a working, accurate recommendation system will be the key to unlocking the full creative and commercial potential of CineCollab.\n",
    "\n",
    "### (c) Defining Metrics of Success\n",
    "\n",
    "The success of a movie recommendation model using collaborative filtering can be assessed using various metrics that measure its effectiveness in providing accurate and relevant movie suggestions. The combination of the metrics provides a comprehensive understanding of its performance in terms of accuracy, relevance, and user satisfaction. It's essential to choose metrics that align with the specific goals and objectives of the recommendation system and the preferences of the user base.\n",
    "\n",
    "### (d) Research Questions\n",
    "\n",
    "1. What features contribute most to the accuracy of collaborative filtering in generating top  movie recommendations?\n",
    "\n",
    "2. How does the frequency of user ratings influence the accuracy and stability of the movie recommendation model?\n",
    "\n",
    "3. What are the correlation between user ratings and various movie features?\n",
    "\n",
    "4. Which movie features demonstrate the highest correlation with collaborative filtering recommendations, and how do they impact the model's predictions?\n",
    "\n",
    "5. How successful is the collaborative filtering model in providing accurate and tailored movie recommendations based on user ratings and preferences?\n",
    "\n",
    "### (e) The Main Objective\n",
    "\n",
    "To develop and implement a movie recommendation system that leverages collaborative filtering techniques to provide personalized top 5 movie recommendations for users.\n",
    "\n",
    "### (f) The Specific Objectives\n",
    "\n",
    "1. To clean and preprocess the MovieLens datasets to ensure it is suitable for building a recommendation system.\n",
    "\n",
    "2. To understand the distribution of movie ratings, explore user behavior, and identify patterns in the datasets.\n",
    "\n",
    "3. To investigate and compare collaborative filtering techniques for building the recommendation system, such as Singular Value Decomposition (SVD), user-based and item-based.\n",
    "\n",
    "4. To implement and evaluate the performance of the collaborative filtering model using appropriate metrics such as RSME and MSE.\n",
    "\n",
    "5. To generate top 5 movie recommendations for a user based on their historical ratings.\n",
    "\n",
    "### (g) Data Understanding\n",
    "\n",
    "The MovieLens dataset (ml-latest-small) provides a comprehensive snapshot of user preferences and interactions within the MovieLens movie recommendation service. This dataset, created by 610 users over a period spanning from March 29, 1996, to September 24, 2018, is a valuable resource for gaining insights into user behavior, preferences, and movie metadata.\n",
    "It has 9 attributes.\n",
    "\n",
    "**Attributes:**\n",
    "\n",
    "1. **movieId:** Identifier for movies used by MovieLens.\n",
    "2. **title:** Contains the names of individual movies and serves as a unique identifier for each film within the dataset.\n",
    "3. **genres:** Classifies films based on overarching themes, narrative structures, and intended emotional impact.\n",
    "4. **imdbId:** Identifier associated with a movie on the IMDb (Internet Movie Database) platform.\n",
    "5. **tmdbId:** Identifier associated with movies on TMDb (The Movie Database).\n",
    "6. **rating:** Numerical evaluation given by users on a 5-star scale, with half-star increments (0.5 stars - 5.0 stars).\n",
    "7. **timestamp:** represents seconds since midnight Coordinated Universal Time (UTC) of January 1, 1970.\n",
    "8. **tags:** User-generated metadata about movies. Each tag is typically a single word or short phrase, with meaning, value, and purpose determined by each user.\n",
    "9. **userId:** Unique identifier assigned to each user who participated in movie rating and tagging activities.\n",
    "\n",
    "\n",
    "**Dataset Statistics:**\n",
    "\n",
    "100,836 ratings and 3,683 tag applications.\n",
    "9,742 movies encompassing a diverse array of genres.\n",
    "\n"
   ]
  },
  {
   "cell_type": "code",
   "execution_count": null,
   "id": "230305a0-af3f-4656-93f7-145db6bb5b74",
   "metadata": {},
   "outputs": [],
   "source": [
    "#importing relevant packages\r\n",
    "import pandas as pd\r\n",
    "import seaborn as sns\r\n",
    "import numpy as np\r\n",
    "import matplotlib.pyplot as plt\r\n",
    "%matplotlib inline"
   ]
  },
  {
   "cell_type": "code",
   "execution_count": null,
   "id": "d613d85b-bfae-4d84-9dae-04065f64df14",
   "metadata": {},
   "outputs": [],
   "source": [
    "#create data frames \n",
    "movies = pd.read_csv(\"data/ml-latest-small/movies.csv\")\n",
    "links = pd.read_csv(\"data/ml-latest-small/links.csv\")\n",
    "ratings = pd.read_csv(\"data/ml-latest-small/ratings.csv\")\n",
    "tags = pd.read_csv(\"data/ml-latest-small/tags.csv\")"
   ]
  },
  {
   "cell_type": "code",
   "execution_count": null,
   "id": "cd6c2181-f0d5-4e98-acb3-788754e0db9f",
   "metadata": {},
   "outputs": [],
   "source": [
    "#reading the first 3 rows\n",
    "links.head(3)"
   ]
  },
  {
   "cell_type": "code",
   "execution_count": null,
   "id": "98d29191-881e-444f-be7b-97d102b38ee4",
   "metadata": {},
   "outputs": [],
   "source": [
    "#reading the first 3 rows\n",
    "ratings.head(3)"
   ]
  },
  {
   "cell_type": "code",
   "execution_count": null,
   "id": "2bd29ff2-a8fa-4a95-b0cc-e8f60c040078",
   "metadata": {},
   "outputs": [],
   "source": [
    "#reading the first 3 rows\n",
    "tags.head(3)"
   ]
  },
  {
   "cell_type": "code",
   "execution_count": null,
   "id": "5f741f01-c577-4d0a-acec-b71af029f67d",
   "metadata": {},
   "outputs": [],
   "source": [
    "#merge movies and links on 'movieId'\n",
    "df = pd.merge(movies, links, on='movieId')\n",
    "\n",
    "#merge with ratings on 'movieId'\n",
    "df = pd.merge(df, ratings, on='movieId')\n",
    "\n",
    "#merge with tags on 'movieId'\n",
    "df = pd.merge(df, tags, on='movieId')\n",
    "\n",
    "df.head()"
   ]
  },
  {
   "cell_type": "code",
   "execution_count": null,
   "id": "a6a1e882-8b63-48e7-873b-89b4c9d424ab",
   "metadata": {},
   "outputs": [],
   "source": [
    "df.shape"
   ]
  },
  {
   "cell_type": "markdown",
   "id": "4ef67420-2e7e-4f30-91b4-abb1583b402b",
   "metadata": {},
   "source": [
    "This signifies that the DataFrame consists of 233,213 rows and 9 columns. Each row corresponds to a unique combination of user-movie interaction, which may include ratings and tags, while the columns represent the attributes of these interactions."
   ]
  },
  {
   "cell_type": "code",
   "execution_count": null,
   "id": "0884887d-f7d6-419b-97ca-9090f6daf5f3",
   "metadata": {},
   "outputs": [],
   "source": [
    "df.info"
   ]
  },
  {
   "cell_type": "code",
   "execution_count": null,
   "id": "79dc6df9-4df0-43ad-b1a0-67e112f0267c",
   "metadata": {},
   "outputs": [],
   "source": [
    "df.describe()"
   ]
  },
  {
   "cell_type": "code",
   "execution_count": null,
   "id": "60f7ea3b-ea7e-4ca7-a5ff-8ef26c12a4ab",
   "metadata": {},
   "outputs": [],
   "source": [
    "columns_to_drop = ['timestamp_x', 'timestamp_y']\n",
    "df.drop(columns=columns_to_drop, inplace=True)\n",
    "\n",
    "# Display the first few rows of the DataFram\n",
    "df.head()"
   ]
  },
  {
   "cell_type": "code",
   "execution_count": null,
   "id": "05005db6-24fc-466c-922a-1beb4de985c8",
   "metadata": {},
   "outputs": [],
   "source": []
  },
  {
   "cell_type": "code",
   "execution_count": null,
   "id": "9c0b1e24-ce64-44f8-9b8f-b64ea9b2cb4a",
   "metadata": {},
   "outputs": [],
   "source": []
  },
  {
   "cell_type": "code",
   "execution_count": null,
   "id": "61d94a39-ddcb-4b5d-8ce1-febd59cba6d2",
   "metadata": {},
   "outputs": [],
   "source": []
  },
  {
   "cell_type": "code",
   "execution_count": null,
   "id": "e41f9df7-4666-4c6c-8894-14ca9a498121",
   "metadata": {},
   "outputs": [],
   "source": [
    "# Number of movies and users\n",
    "num_movies = movies['movieId'].nunique()\n",
    "num_users = ratings['userId'].nunique()\n",
    "\n",
    "print(f\"Number of movies: {num_movies}\")\n",
    "print(f\"Number of users: {num_users}\")"
   ]
  },
  {
   "cell_type": "code",
   "execution_count": null,
   "id": "22a23e10-ff57-47dd-a9e8-c2b88d826dde",
   "metadata": {},
   "outputs": [],
   "source": [
    "df.isnull().sum()"
   ]
  },
  {
   "cell_type": "code",
   "execution_count": null,
   "id": "aeb896a9-ef7c-4d40-924a-79a17fd64039",
   "metadata": {},
   "outputs": [],
   "source": []
  },
  {
   "cell_type": "markdown",
   "id": "d2f8af14-4c3f-43ba-aef5-0fa8da11b173",
   "metadata": {},
   "source": [
    "EDA"
   ]
  },
  {
   "cell_type": "code",
   "execution_count": null,
   "id": "76a53cc0-a80b-4770-8236-39e78ce7c793",
   "metadata": {},
   "outputs": [],
   "source": [
    "# Distribution of ratings\n",
    "plt.figure(figsize=(10, 6))\n",
    "sns.countplot(x='rating', data=df)\n",
    "plt.title('Distribution of Ratings')\n",
    "plt.show()"
   ]
  },
  {
   "cell_type": "code",
   "execution_count": null,
   "id": "5d53f7cd-82a1-438e-8f6e-6e5e94cac28e",
   "metadata": {},
   "outputs": [],
   "source": [
    "# Most rated movies\n",
    "most_rated_movies = df.groupby('title')['rating'].count().sort_values(ascending=False)\n",
    "\n",
    "# Display the top 10 most rated movies\n",
    "print(\"Top 10 most rated movies:\")\n",
    "print(most_rated_movies.head(10))"
   ]
  },
  {
   "cell_type": "code",
   "execution_count": null,
   "id": "18adb7b2-4b61-4d43-acb4-e5f876f258d8",
   "metadata": {},
   "outputs": [],
   "source": [
    "# Average ratings per user\n",
    "# Calculate the average rating per user\n",
    "average_rating_per_user = ratings.groupby('userId')['rating'].mean()\n",
    "\n",
    "# Display the average rating per user\n",
    "print(\"Average rating per user:\")\n",
    "print(average_rating_per_user.head(10))"
   ]
  },
  {
   "cell_type": "code",
   "execution_count": null,
   "id": "1407ce41-d71e-43e0-a79e-1b1fd999b238",
   "metadata": {},
   "outputs": [],
   "source": [
    "# Average rating per movie\n",
    "avg_rating_per_movie = ratings.groupby('movieId')['rating'].mean()\n",
    "\n",
    "print(\"Average rating per movie:\")\n",
    "print(avg_rating_per_movie.head(10))"
   ]
  },
  {
   "cell_type": "code",
   "execution_count": null,
   "id": "da6fa5b2-8bbb-4c69-9f27-e135266bd018",
   "metadata": {},
   "outputs": [],
   "source": [
    "# Split genres and create a count of each genre\n",
    "genre_counts = df['genres'].str.split('|', expand=True).stack().value_counts()\n",
    "\n",
    "# Plot the bar chart\n",
    "plt.figure(figsize=(12, 6))\n",
    "sns.barplot(x=genre_counts.index, y=genre_counts.values, color='skyblue')\n",
    "plt.title('Number of Movies in Each Genre')\n",
    "plt.xlabel('Genre')\n",
    "plt.ylabel('Number of Movies')\n",
    "plt.xticks(rotation=45, ha='right')  \n",
    "plt.show()"
   ]
  },
  {
   "cell_type": "code",
   "execution_count": null,
   "id": "83374dfe-66c1-4a73-a3d9-a055c4bf1023",
   "metadata": {},
   "outputs": [],
   "source": [
    "# Calculate the top N most rated movies\n",
    "top_rated_movies = df.groupby('movieId')['rating'].count().sort_values(ascending=False).head(20)\n",
    "top_rated_movies = pd.merge(top_rated_movies, df[['movieId', 'title']], on='movieId', how='left')\n",
    "\n",
    "# Plot the bar chart\n",
    "plt.figure(figsize=(12, 6))\n",
    "sns.barplot(x='rating', y='title', data=top_rated_movies, palette='muted', orient='h')\n",
    "plt.title('Top 20 Most Rated Movies')\n",
    "plt.xlabel('Number of Ratings')\n",
    "plt.ylabel('Movie Title')\n",
    "plt.show()"
   ]
  },
  {
   "cell_type": "code",
   "execution_count": null,
   "id": "d4038ebb-677e-4f52-a41a-187a97ecfcb3",
   "metadata": {},
   "outputs": [],
   "source": [
    "# Calculate the correlations\n",
    "correlations = df.corr()\n",
    "\n",
    "# Create a heatmap\n",
    "plt.figure(figsize=(10, 8))\n",
    "sns.heatmap(round(correlations, 2), annot=True, linewidths=.7)\n",
    "plt.title('Correlation Heatmap')\n",
    "plt.show()"
   ]
  },
  {
   "cell_type": "markdown",
   "id": "9d7006fe-5427-4ce1-8776-27ed0e1155a6",
   "metadata": {},
   "source": [
    "UNIVARIATE DATA ANALYSIS"
   ]
  },
  {
   "cell_type": "code",
   "execution_count": null,
   "id": "d88020fc-5887-4365-80ac-622bb4eda93a",
   "metadata": {},
   "outputs": [],
   "source": [
    "# to have one userId\n",
    "def load_and_join_csv(file_path_1, file_path_2, file_path_3):\n",
    "    # Load CSV files into Pandas DataFrames\n",
    "    movies = pd.read_csv(file_path_1)\n",
    "    ratings = pd.read_csv(file_path_2)\n",
    "    # tags = pd.read_csv(file_path_3)\n",
    "    \n",
    "    # Perform inner joins to combine the datasets based on common column movieId\n",
    "    movies_ratings_df = pd.merge(movies, ratings, on='movieId', how='inner')\n",
    "      \n",
    "    return movies_ratings_df\n",
    "\n",
    "# Replace 'file1.csv', 'file2.csv', 'file3.csv', and 'file4.csv' with your actual file paths\n",
    "movie_rating_df = load_and_join_csv(\"data/ml-latest-small/movies.csv\", \"data/ml-latest-small/ratings.csv\", \"ml-latest-small/tags.csv\")\n",
    "\n",
    "# Display the resulting dataset\n",
    "movie_rating_df"
   ]
  },
  {
   "cell_type": "code",
   "execution_count": null,
   "id": "c61ed470-d97e-42ef-a5ea-3dddce4737b5",
   "metadata": {},
   "outputs": [],
   "source": [
    "# A function to create plots\n",
    "\n",
    "def create_plots(df, plot_type, columns_to_plot = None, y = None):\n",
    "    if plot_type == 'count_plot':\n",
    "        plt.figure(figsize=(12,8))\n",
    "        sns.countplot(data=df, x=columns_to_plot)\n",
    "        plt.title(f'Distribution of movie {columns_to_plot}')\n",
    "        plt.xticks(rotation=90)\n",
    "        plt.show()\n",
    "    elif plot_type == 'bar_plot1':\n",
    "        plt.figure(figsize=(12, 7))\n",
    "        sns.barplot(columns_to_plot.index, columns_to_plot.values)\n",
    "        plt.title('Top 10 most frequently rated movies')\n",
    "        plt.xlabel('Movie tile')\n",
    "        plt.xticks(rotation=90)\n",
    "        plt.ylabel('Count')\n",
    "        plt.show()\n",
    "    elif plot_type == 'bar_plot2':\n",
    "        plt.figure(figsize=(12, 7))\n",
    "        sns.barplot(columns_to_plot.index, columns_to_plot.values)\n",
    "        plt.title('Top 10 most frequently rated movies and their average ratings')\n",
    "        plt.xlabel('Movie tile')\n",
    "        plt.xticks(rotation=90)\n",
    "        plt.ylabel('Average Rating')\n",
    "        plt.show()"
   ]
  },
  {
   "cell_type": "code",
   "execution_count": null,
   "id": "876b1eb7-1e13-4e89-bfa3-efc23ff04a11",
   "metadata": {},
   "outputs": [],
   "source": [
    "create_plots(movie_rating_df, 'count_plot', 'rating')"
   ]
  },
  {
   "cell_type": "code",
   "execution_count": null,
   "id": "c990a488-2346-4bb6-bdf3-e0fe9825bb44",
   "metadata": {},
   "outputs": [],
   "source": [
    "# Splitting the genres\n",
    "def splitting_string(movies):\n",
    "    movies['genres'] = movies['genres'].apply(lambda x: x.split('|'))\n",
    "    from collections import Counter\n",
    "    genre_frequency = Counter(g for genres in movies['genres'] for g in genres)\n",
    "    \n",
    "    return genre_frequency\n",
    "\n",
    "splitting_string(movie_rating_df)"
   ]
  },
  {
   "cell_type": "code",
   "execution_count": null,
   "id": "0cd8e5fd-0651-41f1-a72b-4475ececa2a9",
   "metadata": {},
   "outputs": [],
   "source": [
    "new_df = movie_rating_df.copy()\n",
    "new_df = new_df.explode('genres')\n",
    "new_df"
   ]
  },
  {
   "cell_type": "code",
   "execution_count": null,
   "id": "fa42bed2-8778-48ee-ad8a-039dd37b3bde",
   "metadata": {},
   "outputs": [],
   "source": [
    "create_plots(new_df, 'count_plot', 'genres')"
   ]
  },
  {
   "cell_type": "raw",
   "id": "d652c48a-45ad-42b8-8d3b-36211630635c",
   "metadata": {},
   "source": [
    "2. BIVARIATE DATA ANALYSIS"
   ]
  },
  {
   "cell_type": "code",
   "execution_count": null,
   "id": "d569c45e-ab42-4910-ac29-6cfe18588ea8",
   "metadata": {},
   "outputs": [],
   "source": [
    "top_10_views = movie_rating_df['title'].value_counts().nlargest(10)\n",
    "average_ratings = movie_rating_df.groupby('title')['rating'].mean().loc[top_10_views.index]\n",
    "create_plots(movie_rating_df, 'bar_plot2', average_ratings)"
   ]
  },
  {
   "cell_type": "code",
   "execution_count": null,
   "id": "8a19aac7-aa97-4564-8cf8-2dd062c00699",
   "metadata": {},
   "outputs": [],
   "source": [
    "def bar_plot(x, y, data):\n",
    "    \n",
    "    plt.figure(figsize=(12,6))\n",
    "    \n",
    "    sns.barplot(x=x, y=y, data=data)\n",
    "    plt.title('Genres and their average ratings')\n",
    "    plt.xlabel(f'{x}')\n",
    "    plt.xticks(rotation=90)\n",
    "    plt.ylabel(f'{y}')\n",
    "    plt.show()\n",
    "\n",
    "bar_plot('genres', 'rating', new_df)"
   ]
  },
  {
   "cell_type": "code",
   "execution_count": null,
   "id": "1ca1a2c2-08f4-4733-8513-6e574247c5b3",
   "metadata": {},
   "outputs": [],
   "source": [
    "plt.figure(figsize=(23,10))\n",
    "sns.countplot(data=new_df, x='genres', hue='rating')\n",
    "plt.title(f'Distribution of rating per genre')\n",
    "plt.show()"
   ]
  },
  {
   "cell_type": "code",
   "execution_count": null,
   "id": "d305cdbe-fc3e-4378-a0a7-c6d06b4f2a98",
   "metadata": {},
   "outputs": [],
   "source": []
  },
  {
   "cell_type": "code",
   "execution_count": null,
   "id": "0efa63cb-b446-47e8-8bde-bf58fc2d1591",
   "metadata": {},
   "outputs": [],
   "source": []
  }
 ],
 "metadata": {
  "kernelspec": {
   "display_name": "Python 3 (ipykernel)",
   "language": "python",
   "name": "python3"
  },
  "language_info": {
   "codemirror_mode": {
    "name": "ipython",
    "version": 3
   },
   "file_extension": ".py",
   "mimetype": "text/x-python",
   "name": "python",
   "nbconvert_exporter": "python",
   "pygments_lexer": "ipython3",
   "version": "3.11.5"
  }
 },
 "nbformat": 4,
 "nbformat_minor": 5
}
