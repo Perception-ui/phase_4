{
 "cells": [
  {
   "cell_type": "markdown",
<<<<<<< HEAD
   "metadata": {},
   "source": [
    "## Defining metrics of success\n",
    "The success of a movie recommendation model using collaborative filtering can be assessed using various metrics that measure its effectiveness in providing accurate and relevant movie suggestions. The combination of the metrics provides a comprehensive understanding of its performance in terms of accuracy, relevance, and user satisfaction. It's essential to choose metrics that align with the specific goals and objectives of the recommendation system and the preferences of the user base.\n",
    "\n",
    "## Research Questions \n",
    "1.\tWhat features contribute most to the accuracy of collaborative filtering in generating top  movie recommendations?\n",
    "2.\tHow does the frequency of user ratings influence the accuracy and stability of the movie recommendation model ?\n",
    "3.\tWhat are the correlation between user ratings and various movie features?\n",
    "4.\tWhich movie features demonstrate the highest correlation with collaborative filtering recommendations, and how do they impact the model's predictions?\n",
    "5.\tHow successful is the collaborative filtering model in providing accurate and tailored movie recommendations based on user ratings and preferences?\n"
   ]
  },
  {
   "cell_type": "code",
   "execution_count": 33,
   "metadata": {},
   "outputs": [],
   "source": [
    "# importing libraries\n",
    "import pandas as pd\n",
    "import seaborn as sns\n",
    "import numpy as np\n",
    "import matplotlib.pyplot as plt\n",
    "%matplotlib inline"
   ]
  },
  {
   "cell_type": "code",
   "execution_count": 34,
   "metadata": {},
   "outputs": [],
   "source": [
    "#create data frames \n",
    "movies = pd.read_csv(\"data/ml-latest-small/movies.csv\")\n",
    "links = pd.read_csv(\"data/ml-latest-small/links.csv\")\n",
    "ratings = pd.read_csv(\"data/ml-latest-small/ratings.csv\")\n",
    "tags = pd.read_csv(\"data/ml-latest-small/tags.csv\")\n"
   ]
  },
  {
   "cell_type": "code",
   "execution_count": 35,
   "metadata": {},
   "outputs": [
    {
     "data": {
      "text/html": [
       "<div>\n",
       "<style scoped>\n",
       "    .dataframe tbody tr th:only-of-type {\n",
       "        vertical-align: middle;\n",
       "    }\n",
       "\n",
       "    .dataframe tbody tr th {\n",
       "        vertical-align: top;\n",
       "    }\n",
       "\n",
       "    .dataframe thead th {\n",
       "        text-align: right;\n",
       "    }\n",
       "</style>\n",
       "<table border=\"1\" class=\"dataframe\">\n",
       "  <thead>\n",
       "    <tr style=\"text-align: right;\">\n",
       "      <th></th>\n",
       "      <th>movieId</th>\n",
       "      <th>title</th>\n",
       "      <th>genres</th>\n",
       "      <th>imdbId</th>\n",
       "      <th>tmdbId</th>\n",
       "      <th>userId_x</th>\n",
       "      <th>rating</th>\n",
       "      <th>timestamp_x</th>\n",
       "      <th>userId_y</th>\n",
       "      <th>tag</th>\n",
       "      <th>timestamp_y</th>\n",
       "    </tr>\n",
       "  </thead>\n",
       "  <tbody>\n",
       "    <tr>\n",
       "      <th>0</th>\n",
       "      <td>1</td>\n",
       "      <td>Toy Story (1995)</td>\n",
       "      <td>Adventure|Animation|Children|Comedy|Fantasy</td>\n",
       "      <td>114709</td>\n",
       "      <td>862.0</td>\n",
       "      <td>1</td>\n",
       "      <td>4.0</td>\n",
       "      <td>964982703</td>\n",
       "      <td>336</td>\n",
       "      <td>pixar</td>\n",
       "      <td>1139045764</td>\n",
       "    </tr>\n",
       "    <tr>\n",
       "      <th>1</th>\n",
       "      <td>1</td>\n",
       "      <td>Toy Story (1995)</td>\n",
       "      <td>Adventure|Animation|Children|Comedy|Fantasy</td>\n",
       "      <td>114709</td>\n",
       "      <td>862.0</td>\n",
       "      <td>1</td>\n",
       "      <td>4.0</td>\n",
       "      <td>964982703</td>\n",
       "      <td>474</td>\n",
       "      <td>pixar</td>\n",
       "      <td>1137206825</td>\n",
       "    </tr>\n",
       "    <tr>\n",
       "      <th>2</th>\n",
       "      <td>1</td>\n",
       "      <td>Toy Story (1995)</td>\n",
       "      <td>Adventure|Animation|Children|Comedy|Fantasy</td>\n",
       "      <td>114709</td>\n",
       "      <td>862.0</td>\n",
       "      <td>1</td>\n",
       "      <td>4.0</td>\n",
       "      <td>964982703</td>\n",
       "      <td>567</td>\n",
       "      <td>fun</td>\n",
       "      <td>1525286013</td>\n",
       "    </tr>\n",
       "    <tr>\n",
       "      <th>3</th>\n",
       "      <td>1</td>\n",
       "      <td>Toy Story (1995)</td>\n",
       "      <td>Adventure|Animation|Children|Comedy|Fantasy</td>\n",
       "      <td>114709</td>\n",
       "      <td>862.0</td>\n",
       "      <td>5</td>\n",
       "      <td>4.0</td>\n",
       "      <td>847434962</td>\n",
       "      <td>336</td>\n",
       "      <td>pixar</td>\n",
       "      <td>1139045764</td>\n",
       "    </tr>\n",
       "    <tr>\n",
       "      <th>4</th>\n",
       "      <td>1</td>\n",
       "      <td>Toy Story (1995)</td>\n",
       "      <td>Adventure|Animation|Children|Comedy|Fantasy</td>\n",
       "      <td>114709</td>\n",
       "      <td>862.0</td>\n",
       "      <td>5</td>\n",
       "      <td>4.0</td>\n",
       "      <td>847434962</td>\n",
       "      <td>474</td>\n",
       "      <td>pixar</td>\n",
       "      <td>1137206825</td>\n",
       "    </tr>\n",
       "  </tbody>\n",
       "</table>\n",
       "</div>"
      ],
      "text/plain": [
       "   movieId             title                                       genres  \\\n",
       "0        1  Toy Story (1995)  Adventure|Animation|Children|Comedy|Fantasy   \n",
       "1        1  Toy Story (1995)  Adventure|Animation|Children|Comedy|Fantasy   \n",
       "2        1  Toy Story (1995)  Adventure|Animation|Children|Comedy|Fantasy   \n",
       "3        1  Toy Story (1995)  Adventure|Animation|Children|Comedy|Fantasy   \n",
       "4        1  Toy Story (1995)  Adventure|Animation|Children|Comedy|Fantasy   \n",
       "\n",
       "   imdbId  tmdbId  userId_x  rating  timestamp_x  userId_y    tag  timestamp_y  \n",
       "0  114709   862.0         1     4.0    964982703       336  pixar   1139045764  \n",
       "1  114709   862.0         1     4.0    964982703       474  pixar   1137206825  \n",
       "2  114709   862.0         1     4.0    964982703       567    fun   1525286013  \n",
       "3  114709   862.0         5     4.0    847434962       336  pixar   1139045764  \n",
       "4  114709   862.0         5     4.0    847434962       474  pixar   1137206825  "
      ]
     },
     "execution_count": 35,
     "metadata": {},
     "output_type": "execute_result"
    }
   ],
   "source": [
    "#merge movies and links on 'movieId'\n",
    "df = pd.merge(movies, links, on='movieId')\n",
    "\n",
    "#merge with ratings on 'movieId'\n",
    "df = pd.merge(df, ratings, on='movieId')\n",
    "\n",
    "#merge with tags on 'movieId'\n",
    "df = pd.merge(df, tags, on='movieId')\n",
    "\n",
    "df.head()"
   ]
  },
  {
   "cell_type": "code",
   "execution_count": 36,
   "metadata": {},
   "outputs": [
    {
     "data": {
      "text/plain": [
       "(233213, 11)"
      ]
     },
     "execution_count": 36,
     "metadata": {},
     "output_type": "execute_result"
    }
   ],
   "source": [
    "df.shape"
   ]
  },
  {
   "cell_type": "code",
   "execution_count": 37,
   "metadata": {},
   "outputs": [
    {
     "data": {
      "text/html": [
       "<div>\n",
       "<style scoped>\n",
       "    .dataframe tbody tr th:only-of-type {\n",
       "        vertical-align: middle;\n",
       "    }\n",
       "\n",
       "    .dataframe tbody tr th {\n",
       "        vertical-align: top;\n",
       "    }\n",
       "\n",
       "    .dataframe thead th {\n",
       "        text-align: right;\n",
       "    }\n",
       "</style>\n",
       "<table border=\"1\" class=\"dataframe\">\n",
       "  <thead>\n",
       "    <tr style=\"text-align: right;\">\n",
       "      <th></th>\n",
       "      <th>movieId</th>\n",
       "      <th>imdbId</th>\n",
       "      <th>tmdbId</th>\n",
       "      <th>userId_x</th>\n",
       "      <th>rating</th>\n",
       "      <th>timestamp_x</th>\n",
       "      <th>userId_y</th>\n",
       "      <th>timestamp_y</th>\n",
       "    </tr>\n",
       "  </thead>\n",
       "  <tbody>\n",
       "    <tr>\n",
       "      <th>count</th>\n",
       "      <td>233213.000000</td>\n",
       "      <td>2.332130e+05</td>\n",
       "      <td>233213.000000</td>\n",
       "      <td>233213.000000</td>\n",
       "      <td>233213.000000</td>\n",
       "      <td>2.332130e+05</td>\n",
       "      <td>233213.000000</td>\n",
       "      <td>2.332130e+05</td>\n",
       "    </tr>\n",
       "    <tr>\n",
       "      <th>mean</th>\n",
       "      <td>12319.999443</td>\n",
       "      <td>2.610632e+05</td>\n",
       "      <td>9378.277742</td>\n",
       "      <td>309.688191</td>\n",
       "      <td>3.966535</td>\n",
       "      <td>1.213524e+09</td>\n",
       "      <td>470.683564</td>\n",
       "      <td>1.384774e+09</td>\n",
       "    </tr>\n",
       "    <tr>\n",
       "      <th>std</th>\n",
       "      <td>28243.919401</td>\n",
       "      <td>4.414411e+05</td>\n",
       "      <td>36943.139800</td>\n",
       "      <td>178.206387</td>\n",
       "      <td>0.968637</td>\n",
       "      <td>2.250448e+08</td>\n",
       "      <td>153.329632</td>\n",
       "      <td>1.534621e+08</td>\n",
       "    </tr>\n",
       "    <tr>\n",
       "      <th>min</th>\n",
       "      <td>1.000000</td>\n",
       "      <td>1.234900e+04</td>\n",
       "      <td>11.000000</td>\n",
       "      <td>1.000000</td>\n",
       "      <td>0.500000</td>\n",
       "      <td>8.281246e+08</td>\n",
       "      <td>2.000000</td>\n",
       "      <td>1.137179e+09</td>\n",
       "    </tr>\n",
       "    <tr>\n",
       "      <th>25%</th>\n",
       "      <td>296.000000</td>\n",
       "      <td>1.103570e+05</td>\n",
       "      <td>278.000000</td>\n",
       "      <td>156.000000</td>\n",
       "      <td>3.500000</td>\n",
       "      <td>1.017365e+09</td>\n",
       "      <td>424.000000</td>\n",
       "      <td>1.242494e+09</td>\n",
       "    </tr>\n",
       "    <tr>\n",
       "      <th>50%</th>\n",
       "      <td>1198.000000</td>\n",
       "      <td>1.109120e+05</td>\n",
       "      <td>680.000000</td>\n",
       "      <td>309.000000</td>\n",
       "      <td>4.000000</td>\n",
       "      <td>1.217325e+09</td>\n",
       "      <td>477.000000</td>\n",
       "      <td>1.457901e+09</td>\n",
       "    </tr>\n",
       "    <tr>\n",
       "      <th>75%</th>\n",
       "      <td>4638.000000</td>\n",
       "      <td>1.724950e+05</td>\n",
       "      <td>1892.000000</td>\n",
       "      <td>460.000000</td>\n",
       "      <td>5.000000</td>\n",
       "      <td>1.443201e+09</td>\n",
       "      <td>599.000000</td>\n",
       "      <td>1.498457e+09</td>\n",
       "    </tr>\n",
       "    <tr>\n",
       "      <th>max</th>\n",
       "      <td>193565.000000</td>\n",
       "      <td>5.580390e+06</td>\n",
       "      <td>503475.000000</td>\n",
       "      <td>610.000000</td>\n",
       "      <td>5.000000</td>\n",
       "      <td>1.537799e+09</td>\n",
       "      <td>610.000000</td>\n",
       "      <td>1.537099e+09</td>\n",
       "    </tr>\n",
       "  </tbody>\n",
       "</table>\n",
       "</div>"
      ],
      "text/plain": [
       "             movieId        imdbId         tmdbId       userId_x  \\\n",
       "count  233213.000000  2.332130e+05  233213.000000  233213.000000   \n",
       "mean    12319.999443  2.610632e+05    9378.277742     309.688191   \n",
       "std     28243.919401  4.414411e+05   36943.139800     178.206387   \n",
       "min         1.000000  1.234900e+04      11.000000       1.000000   \n",
       "25%       296.000000  1.103570e+05     278.000000     156.000000   \n",
       "50%      1198.000000  1.109120e+05     680.000000     309.000000   \n",
       "75%      4638.000000  1.724950e+05    1892.000000     460.000000   \n",
       "max    193565.000000  5.580390e+06  503475.000000     610.000000   \n",
       "\n",
       "              rating   timestamp_x       userId_y   timestamp_y  \n",
       "count  233213.000000  2.332130e+05  233213.000000  2.332130e+05  \n",
       "mean        3.966535  1.213524e+09     470.683564  1.384774e+09  \n",
       "std         0.968637  2.250448e+08     153.329632  1.534621e+08  \n",
       "min         0.500000  8.281246e+08       2.000000  1.137179e+09  \n",
       "25%         3.500000  1.017365e+09     424.000000  1.242494e+09  \n",
       "50%         4.000000  1.217325e+09     477.000000  1.457901e+09  \n",
       "75%         5.000000  1.443201e+09     599.000000  1.498457e+09  \n",
       "max         5.000000  1.537799e+09     610.000000  1.537099e+09  "
      ]
     },
     "execution_count": 37,
     "metadata": {},
     "output_type": "execute_result"
    }
   ],
   "source": [
    "df.describe()"
   ]
  },
  {
   "cell_type": "code",
   "execution_count": 38,
   "metadata": {},
   "outputs": [
    {
     "name": "stdout",
     "output_type": "stream",
     "text": [
      "<class 'pandas.core.frame.DataFrame'>\n",
      "Int64Index: 233213 entries, 0 to 233212\n",
      "Data columns (total 11 columns):\n",
      " #   Column       Non-Null Count   Dtype  \n",
      "---  ------       --------------   -----  \n",
      " 0   movieId      233213 non-null  int64  \n",
      " 1   title        233213 non-null  object \n",
      " 2   genres       233213 non-null  object \n",
      " 3   imdbId       233213 non-null  int64  \n",
      " 4   tmdbId       233213 non-null  float64\n",
      " 5   userId_x     233213 non-null  int64  \n",
      " 6   rating       233213 non-null  float64\n",
      " 7   timestamp_x  233213 non-null  int64  \n",
      " 8   userId_y     233213 non-null  int64  \n",
      " 9   tag          233213 non-null  object \n",
      " 10  timestamp_y  233213 non-null  int64  \n",
      "dtypes: float64(2), int64(6), object(3)\n",
      "memory usage: 21.4+ MB\n"
     ]
    }
   ],
   "source": [
    "df.info()  # check what kind of data are"
   ]
  },
  {
   "cell_type": "code",
   "execution_count": 39,
   "metadata": {},
   "outputs": [
    {
     "data": {
      "text/plain": [
       "False"
      ]
     },
     "execution_count": 39,
     "metadata": {},
     "output_type": "execute_result"
    }
   ],
   "source": [
    " # check data has any values null/nan or not\n",
    "df.isnull().values.any()"
   ]
  },
  {
   "cell_type": "code",
   "execution_count": 40,
   "metadata": {},
   "outputs": [
    {
     "data": {
      "text/plain": [
       "['movieId',\n",
       " 'title',\n",
       " 'genres',\n",
       " 'imdbId',\n",
       " 'tmdbId',\n",
       " 'userId_x',\n",
       " 'rating',\n",
       " 'timestamp_x',\n",
       " 'userId_y',\n",
       " 'tag',\n",
       " 'timestamp_y']"
      ]
     },
     "execution_count": 40,
     "metadata": {},
     "output_type": "execute_result"
    }
   ],
   "source": [
    "col_name = df.columns.tolist()\n",
    "col_name"
   ]
  },
  {
   "cell_type": "code",
   "execution_count": 41,
   "metadata": {},
   "outputs": [
    {
     "name": "stdout",
     "output_type": "stream",
     "text": [
      "Number of movies: 9742\n",
      "Number of users: 610\n"
     ]
    }
   ],
   "source": [
    "# Number of movies and users\n",
    "num_movies = movies['movieId'].nunique()\n",
    "num_users = ratings['userId'].nunique()\n",
    "\n",
    "print(f\"Number of movies: {num_movies}\")\n",
    "print(f\"Number of users: {num_users}\")"
   ]
  },
  {
   "cell_type": "code",
   "execution_count": 62,
   "metadata": {},
   "outputs": [
    {
     "name": "stdout",
     "output_type": "stream",
     "text": [
      "Top 10 most rated movies:\n",
      "title\n",
      "Forrest Gump (1994)                          329\n",
      "Shawshank Redemption, The (1994)             317\n",
      "Pulp Fiction (1994)                          307\n",
      "Silence of the Lambs, The (1991)             279\n",
      "Matrix, The (1999)                           278\n",
      "Star Wars: Episode IV - A New Hope (1977)    251\n",
      "Jurassic Park (1993)                         238\n",
      "Braveheart (1995)                            237\n",
      "Terminator 2: Judgment Day (1991)            224\n",
      "Schindler's List (1993)                      220\n",
      "Name: rating, dtype: int64\n"
     ]
    }
   ],
   "source": [
    "# Most rated movies\n",
    "most_rated_movies = merged_data.groupby('title')['rating'].count().sort_values(ascending=False)\n",
    "\n",
    "# Display the top 10 most rated movies\n",
    "print(\"Top 10 most rated movies:\")\n",
    "print(most_rated_movies.head(10))"
   ]
  },
  {
   "cell_type": "code",
   "execution_count": 64,
   "metadata": {},
   "outputs": [
    {
     "name": "stdout",
     "output_type": "stream",
     "text": [
      "Average rating per user:\n",
      "userId\n",
      "1     4.366379\n",
      "2     3.948276\n",
      "3     2.435897\n",
      "4     3.555556\n",
      "5     3.636364\n",
      "6     3.493631\n",
      "7     3.230263\n",
      "8     3.574468\n",
      "9     3.260870\n",
      "10    3.278571\n",
      "Name: rating, dtype: float64\n"
     ]
    }
   ],
   "source": [
    "# Average ratings per user\n",
    "# Calculate the average rating per user\n",
    "average_rating_per_user = ratings.groupby('userId')['rating'].mean()\n",
    "\n",
    "# Display the average rating per user\n",
    "print(\"Average rating per user:\")\n",
    "print(average_rating_per_user.head(10))"
   ]
  },
  {
   "cell_type": "code",
   "execution_count": 50,
   "metadata": {},
   "outputs": [
    {
     "name": "stdout",
     "output_type": "stream",
     "text": [
      "Average rating per movie:\n",
      "movieId\n",
      "1     3.920930\n",
      "2     3.431818\n",
      "3     3.259615\n",
      "4     2.357143\n",
      "5     3.071429\n",
      "6     3.946078\n",
      "7     3.185185\n",
      "8     2.875000\n",
      "9     3.125000\n",
      "10    3.496212\n",
      "Name: rating, dtype: float64\n"
     ]
    }
   ],
   "source": [
    "# Average rating per movie\n",
    "avg_rating_per_movie = ratings.groupby('movieId')['rating'].mean()\n",
    "\n",
    "print(\"Average rating per movie:\")\n",
    "print(avg_rating_per_movie.head(10))"
   ]
  },
  {
   "cell_type": "code",
   "execution_count": 67,
   "metadata": {},
   "outputs": [
    {
     "name": "stdout",
     "output_type": "stream",
     "text": [
      "Movies with the highest variability in ratings:\n",
      "      movieId                                              title  variability\n",
      "421       484                                      Lassie (1994)     2.828427\n",
      "1533     2068   Fanny and Alexander (Fanny och Alexander) (1982)     3.181981\n",
      "2423     3223                        Zed & Two Noughts, A (1985)     2.828427\n",
      "4221     6140                                     Tenebre (1982)     2.474874\n",
      "4684     6994                               Hard Way, The (1991)     2.474874\n",
      "4963     7564                            Kwaidan (Kaidan) (1964)     2.828427\n",
      "5113     8138                 Attack of the Giant Leeches (1959)     2.474874\n",
      "5867    32892  Ivan's Childhood (a.k.a. My Name is Ivan) (Iva...     3.181981\n",
      "7114    70946                                     Troll 2 (1990)     2.598076\n",
      "7536    84847                                        Emma (2009)     2.828427\n"
     ]
    }
   ],
   "source": [
    "# Movie with the highest dispersion in ratings\n",
    "# Calculate the standard deviation of ratings for each movie\n",
    "# Find the movies with the highest variability (standard deviation)\n",
    "movies_highest_variability = rating_variability.nlargest(10).index\n",
    "# Filter movies with the highest variability\n",
    "result = movies[movies['movieId'].isin(movies_highest_variability)]\n",
    "\n",
    "# Display the movies with the highest variability along with their standard deviation values\n",
    "result_with_variability = pd.merge(result, rating_variability, left_on='movieId', right_index=True)\n",
    "result_with_variability = result_with_variability.rename(columns={'rating': 'variability'})\n",
    "\n",
    "print(\"Movies with the highest variability in ratings:\")\n",
    "print(result_with_variability[['movieId', 'title', 'variability']])\n"
   ]
  },
  {
   "cell_type": "code",
   "execution_count": 22,
   "metadata": {},
   "outputs": [
    {
     "data": {
      "text/plain": [
       "title\n",
       "Pulp Fiction (1994)                                               55567\n",
       "Fight Club (1999)                                                 11772\n",
       "Star Wars: Episode IV - A New Hope (1977)                          6526\n",
       "Léon: The Professional (a.k.a. The Professional) (Léon) (1994)     4655\n",
       "2001: A Space Odyssey (1968)                                       4469\n",
       "Eternal Sunshine of the Spotless Mind (2004)                       4454\n",
       "Inception (2010)                                                   3718\n",
       "Big Lebowski, The (1998)                                           3392\n",
       "Donnie Darko (2001)                                                3161\n",
       "Forrest Gump (1994)                                                2961\n",
       "Braveheart (1995)                                                  2370\n",
       "Star Wars: Episode V - The Empire Strikes Back (1980)              2110\n",
       "Memento (2000)                                                     2067\n",
       "Lord of the Rings: The Return of the King, The (2003)              1850\n",
       "Terminator 2: Judgment Day (1991)                                  1792\n",
       "Twelve Monkeys (a.k.a. 12 Monkeys) (1995)                          1770\n",
       "Avatar (2009)                                                      1746\n",
       "Silence of the Lambs, The (1991)                                   1674\n",
       "Blade Runner (1982)                                                1612\n",
       "Sixth Sense, The (1999)                                            1611\n",
       "Name: rating, dtype: int64"
      ]
     },
     "execution_count": 22,
     "metadata": {},
     "output_type": "execute_result"
    }
   ],
   "source": [
    "# Lets see the count of each rating given by users\n",
    "df.groupby('title')['rating'].count().sort_values(ascending=False).head(20)"
   ]
  },
  {
   "cell_type": "code",
   "execution_count": 23,
   "metadata": {},
   "outputs": [
    {
     "data": {
      "text/html": [
       "<div>\n",
       "<style scoped>\n",
       "    .dataframe tbody tr th:only-of-type {\n",
       "        vertical-align: middle;\n",
       "    }\n",
       "\n",
       "    .dataframe tbody tr th {\n",
       "        vertical-align: top;\n",
       "    }\n",
       "\n",
       "    .dataframe thead th {\n",
       "        text-align: right;\n",
       "    }\n",
       "</style>\n",
       "<table border=\"1\" class=\"dataframe\">\n",
       "  <thead>\n",
       "    <tr style=\"text-align: right;\">\n",
       "      <th></th>\n",
       "      <th>rating</th>\n",
       "      <th>rating_counts</th>\n",
       "    </tr>\n",
       "    <tr>\n",
       "      <th>title</th>\n",
       "      <th></th>\n",
       "      <th></th>\n",
       "    </tr>\n",
       "  </thead>\n",
       "  <tbody>\n",
       "    <tr>\n",
       "      <th>(500) Days of Summer (2009)</th>\n",
       "      <td>3.666667</td>\n",
       "      <td>336</td>\n",
       "    </tr>\n",
       "    <tr>\n",
       "      <th>...And Justice for All (1979)</th>\n",
       "      <td>3.166667</td>\n",
       "      <td>3</td>\n",
       "    </tr>\n",
       "    <tr>\n",
       "      <th>10 Cloverfield Lane (2016)</th>\n",
       "      <td>3.678571</td>\n",
       "      <td>28</td>\n",
       "    </tr>\n",
       "    <tr>\n",
       "      <th>10 Things I Hate About You (1999)</th>\n",
       "      <td>3.527778</td>\n",
       "      <td>54</td>\n",
       "    </tr>\n",
       "    <tr>\n",
       "      <th>101 Dalmatians (1996)</th>\n",
       "      <td>3.074468</td>\n",
       "      <td>94</td>\n",
       "    </tr>\n",
       "  </tbody>\n",
       "</table>\n",
       "</div>"
      ],
      "text/plain": [
       "                                     rating  rating_counts\n",
       "title                                                     \n",
       "(500) Days of Summer (2009)        3.666667            336\n",
       "...And Justice for All (1979)      3.166667              3\n",
       "10 Cloverfield Lane (2016)         3.678571             28\n",
       "10 Things I Hate About You (1999)  3.527778             54\n",
       "101 Dalmatians (1996)              3.074468             94"
      ]
     },
     "execution_count": 23,
     "metadata": {},
     "output_type": "execute_result"
    }
   ],
   "source": [
    "# Averge rating \n",
    "ratings= pd.DataFrame(df.groupby('title')['rating'].mean())\n",
    "ratings.head()\n",
    "# Rating counts\n",
    "ratings['rating_counts']= pd.DataFrame(df.groupby('title')['rating'].count())\n",
    "ratings.head()"
   ]
  },
  {
   "cell_type": "code",
   "execution_count": 31,
   "metadata": {},
   "outputs": [
    {
     "data": {
      "image/png": "iVBORw0KGgoAAAANSUhEUgAAAmUAAAHjCAYAAABijmh/AAAAOXRFWHRTb2Z0d2FyZQBNYXRwbG90bGliIHZlcnNpb24zLjMuMSwgaHR0cHM6Ly9tYXRwbG90bGliLm9yZy/d3fzzAAAACXBIWXMAAAsTAAALEwEAmpwYAACT20lEQVR4nOzdd3gUVRfA4d/ZBGkhIYU0ioCIFaSDgPQuTbGjFJFuA8GCCIqAHRWR/llRBCxgoUqV3psovZNCEhJaEkj2fn/sGlIhlN0dyHl58rAzc2bn3N1s9u65d2bFGINSSimllPIsm6cTUEoppZRS2ilTSimllLIE7ZQppZRSSlmAdsqUUkoppSxAO2VKKaWUUhagnTKllFJKKQvQTplS6oqJSBcRWX4V+88Rkc7XMiellLpeaadMqeuciDwhIutF5LSIRDg7OnU9nVdmIvKmiExJv84Y09IY87ULjvWViAzPtK60iBgR8b4G979ERJ652vtRSqn0tFOm1HVMRPoDnwAjgRCgFDAWaHcF95Wls3ItOjBKKaVyRztlSl2nRMQPGAb0Ncb8bIw5Y4w5b4z5zRgz0BmTX0Q+EZFjzp9PRCS/c1sDETkiIq+ISCTwpbOa9aOITBGRk0AXEfETkf85q3BHRWS4iHjlkNOnInJYRE6KyAYRuc+5vgUwCHjUWdHb4lyfVnESEZuIDBaRgyISLSLfONuYvsrVWUQOiUiMiLx+lY9ffhH50Hl/USIyXkQKOrf5i8jvInJcRE44b5dwbhsB3AeMcbZljHO9EZE+IrJbRE6JyNsicouIrHI+HtNF5KZL3X+6x+UdEVkrIgkiMktEAq6mvUop69NOmVLXr3uBAsAvF4l5HagFVALuAWoAg9NtDwUCgJuBHs517YAfgaLAd8DXQApQDqgMNANyGrpb5zxWAPA9MENEChhj5uKo5k0zxvgYY+7JZt8uzp+GQFnABxiTKaYucBvQGBgiIndcpO2X8h5Q3plvOaA4MMS5zQZ8ieNxKQUk/peLMeZ14C/gWWdbnk13ny2Aqjge85eBiUBHoCRwN/D4pe4/nU7A00A4jsd/9FW0VSl1HdBOmVLXr0AgxhiTcpGYjsAwY0y0MeY48BbwVLrtdmCoMSbZGJPoXLfKGDPTGGMHfIGWwIvOSlw08DHwWHYHM8ZMMcbEGmNSjDEfAflxdKJyoyMwyhizzxhzGngNeCzTEOpbxphEY8wWYAuOjmZOBohI/H8/wNb/NoiIAN2BfsaYOGPMKRydxsec7Yg1xvxkjDnr3DYCqJ+LNrxnjDlpjPkb2A7Md7YnAZiDo1Ob2/v/1hiz3RhzBngDeCSnCqVS6sag80WUun7FAkEi4n2Rjlk4cDDd8kHnuv8cN8YkZdrncLrbNwP5gAhHPwZwfJg7TDZE5CUcVbRwwODo1AVduik55uqNY67cfyLT3T6Lo5qWkw+NMWlVQREpDex3LhYDCgEb0rVLAC9nbCEcnc8WgL9zexER8TLGpF7kmFHpbidmsxx6Gfef/jE+iON5CMp0n0qpG4hWypS6fq0CkoD2F4k5hqNj9Z9SznX/Mdnsk37dYSAZCDLGFHX++Bpj7sq8k3P+2CvAI4C/MaYokICjs5PTsS6Vawqu6YTE4Ogk3ZWuXX7GmP86eS/hqPDVNMb4AvWc63Pblku51P2DY8jzP6WA8868lVI3KO2UKXWdcg6JDQE+F5H2IlJIRPKJSEsRed8ZNhUYLCLFRCTIGT8lp/vM5hgRwHzgIxHxdU7Gv0VEshvKK4KjE3Uc8BaRITgqZf+JAkqLSE5/d6YC/USkjIj4cGEO2sWGZ6+Ic2h2EvCxiAQDiEhxEWmeri2JQLxzgv3QTHcRhWPe25W61P0DPCkidzqrasOAHy9RpVNKXee0U6bUdcwYMwroj2Py/nEcla1ngZnOkOHAehzzqbYBG53rLkcn4CZgB3ACx0kAYdnEzcMxb2oXjuG2JDIOwc1w/h8rIhuz2f8L4FtgGY5hxiTgucvM9XK8AuwBVjvPNP2TC/PfPgEK4qhMrQbmZtr3U+Ah55mTVzIB/1L3D47H4iscQ7YFgOev4DhKqeuIGHO1VXillFLXkogsAaYYYyZ7OhellPtopUwppZRSygK0U6aUUkoplY6IfOG8iPX2HLaLiIwWkT0islVEqlyL42qnTCmlLMYY00CHLpXyqK9wXLImJy2BW50/PYBx1+Kg2ilTSimllErHGLMMiLtISDvgG+OwGigqItmdAHVZtFOmlFJKKXV5ipPx7PIjznVXRa/of3X01FWllFJ5iVw65No5H7PPJe+zNxW7pScXvu8XYKIxZuJl3EV2j8NV56qdsqt0Pmafp1NwiXxBZUlaO+PSgdehAjUeBuDs+Bc8nIlrFOr1KQCtS93v4Uxc4/dDfwBwT2htD2fiGlsiVwKwOvxBD2fiGrWO/Yz3TVddULCklHNHAXim9EMezsQ1Jh/40dMpXDPODtjldMIyO0LGb90oQcZvS7ki2ilTSimllDXZLfslFr8Cz4rID0BNIMH5DShXRTtlSimllFLpiMhUoAEQJCJHcHwVWj4AY8x4YDbQCse3gpwFul6L42qnTCmllFLWZOyeOawxj19iuwH6Xuvj6tmXSimllFIWoJUypZRSSlmT3TOVMk/RTplSSimlLMl4aPjSU3T4UimllFLKArRSppRSSilrymPDl1opU0oppZSyAK2UKaWUUsqa8ticMu2UKaWUUsqarHtFf5fQ4UullFJKKQvQSplSSimlrCmPDV9qpUwppZRSygK0UqaUUkopa8pjl8TQTplSSimlLEmv6K+UUkoppdxOK2VKKaWUsqY8NnyplTKllFJKKQvQSplSSimlrCmPzSnTTtl1YPDIUSxbsZYA/6LMnDLe0+lcthVbd/Het7Ox2+080KAq3drUz7D91NkkBo2bQWRsAil2O51b1aF9vaoAfDdvJT8tXo8BOjSoxpMtanugBRe34sBxPljyD3Y7tL+7BE/XKJth+9fr9zP732MApNoN++NOs6hXI/wK3JS2ruP3Kwn2KcDo9lXdnv/FVKlflR5v9sDmZWP+D/P5ceyMLDE93upJtYbVSE5M5pOXPmbv9r0EhQXR/+OX8C/mj93Ymff9XH794lcPtODSXhnej7qN7yUpMYk3XhjOv9t2ZYkpXiqM98YPw7eoL/9u28mgZ4eRcj6Fzn2eoNWDzQDw9vamzK030+CuVpyMP+XuZmTLr0FlSr/9NGKzET31T46N+SXDdv/m1Skx8HEwBpOSysGhX3Bq7b8AhHZvTfATTcDA2X8PsrffGEzyeU8046I+HjWMli0acTYxkW7d+rFp8/YsMd98/RlVq97D+fPnWbduM737vEJKSgqPP/4AAwf0AeDM6bP0fe41tm7d4e4m5Oiu+pV4fEhXbF42/pq2kDnjZmaJeXzo01RoWJlzief4YsAYDv29H4DGXVtR77EmIMJfP/zJn1/84ebs1ZW4YYcvRaSXiHS6RMybIjIgm/WlRSTrK9tD2rdqyvhRwz2dxhVJtdsZ+fVvjB3YiV/ee565q7ax92h0hphpf66mbPFgZox8lv8N6sZH38/lfEoKuw9H8dPi9Xz3Vi9mjOjLss3/cjAyxkMtyV6q3fDuoh2MaV+NnzrXZe7OCPbGns4Q07laGaY9WYdpT9bhuTrlqVoiIK1DBvD9pgOUCfBxd+qXZLPZ6D28N0M7D6VP497Ub1uPkreWzBBTrWE1wkuH06Ned8a8+hl9RvQFIDU1lf8Nn0zvxr0Y0O4l7u/UOsu+VlC38b2UKluCNvc+wrAB7zH4vYHZxr0wuA9TJkyjbe1HORl/igeeaAPA12O/59EmXXi0SRdGjxjHhlWbLdMhw2ajzMju/NtxOFsavEBgu/soeGuJDCEJf21jW5P+bGv6Evv6f07ZDx0dlHyhAYR2u59tLV9ma6MXEZuNoHZ1PdGKi2rZohG3livD7XfWpXfvV/h8zDvZxk2d+gt33V2PSpUbU7BgAbo9/QQAB/YfplHjh6hStSkjRn7C+LHvuTP9ixKbjY7DnuGTLiN4o2k/arStS1i5jM9fhQaVCS4TxqAGz/HNoPE8OaIHAOHlS1LvsSaMaPcqb7V8iYqNqhJcOtQTzbh69lTX/FjUDdspM8aMN8Z84+k8roVqlSrg51vE02lcke17j1AyJJASwQHk8/amRa0KLNnwT4YYQTiblIwxhrNJyfgVLoiXzcb+Y8epWK4kBfPfhLeXF1VvL8Oi9f/kcCTP2B4ZT8mihShRtBD5vGw0vy2UJXujcoyfuzOCFreFpS1HnUpi+f7jPHB3iRz38ZTylcoTceAYUYciSTmfwrLfllGrWa0MMTWb1WLRT4sA2LlpJ4V9C+Mf7M+J6BPs3b4XgMQziRzec5jA0EC3t+FSGja/j9+mzwVg28a/KeLrQ1Bw1jxr1KnKgt8XA/Dr9Dk0alEvS0yLB5oy55cFrk34MvhULkfSgQiSD0VhzqcQO2s5/s1rZIixn01Ku20rlB/MhW3i7YWtwE3gZcNWMD/nouLclXqutWnTnG+/+xGANWs34lfUj9DQ4Cxxc+YuSru9bt1mSpRwvAZXrV5PfHwCAKvXbKR48bAs+3pKmUrliD4YSczhaFLPp7D2txVUalY9Q0ylZtVZ9fMSAPZt2k2hIoXwK1aUsHIl2LdpF+eSzmFPtbNrzQ6qNK/pgVZcA8bumh+LskSnzFmZ+ldEJovIdhH5TkSaiMgKEdktIjVEJEBEZorIVhFZLSIVRcQmIgdEpGi6+9ojIiHpq2AicouIzBWRDSLyl4jcnk0OVUVki4isAvq6r/U3tugTJwkN8EtbDg7wJerEyQwxjzWtxb5jx2ny3Hs8NGgMLz91PzabjXIlgtmw8wDxp86SmHyO5Vt2ERmX4O4mXFT06WRCihRMWw7xKcDx08nZxiaeT2XlgRga3xqStu6DJf/wwn23YROXp3rZAkMDOX7sQmUyJiKGwJDALDExEcfTlmMjY7J0voJLBFP2rrLs3LTTtQlfgeCwYkQdu9CJjoo4TnBYsQwxRQP8OHXyNKmpqc6Y6CwxBQrmp07DWvz5x2LXJ51LN4UGcu5YbNryuYhYbgoLyBLn36Im9ywbze3fvM7e/mMAOB8ZR8S4WVRZN4Gqm/9H6qmzJCzd4rbcc6t4eChHDh9LWz56JILi4TlXhLy9venYsQPz5mV9np7u+hhzs1nvKf4hAZxI9/o7ERGLf0jG569oSCBx6Z7jE5FxFA0N5NjOQ9xa404KF/XhpgI3UaFhZfzDrPehSGVlpTll5YCHgR7AOuAJoC7QFhgEHAY2GWPai0gj4BtjTCURmQU8AHwpIjWBA8aYKJEM73ITgV7GmN3OmLFAo0zH/xJ4zhizVEQ+cF0z8xZjsq7L9Nywcttubi8VxuTXnuZwdBw93/2SKrfdTNniwXS9/z56vvclhQrcRPlSoXjbLPE54uJy6GAt2xdNpfCiaUOXy/ZFE1DoJu4M8WP94djsd/IkydqQzM+nZNPY9DEFChVg0ITXmfTWJBJPJ17rDK9etm00mUIuHVO/WV02r9tqnaFLyP73MJvX44m5azgxdw1Fat5JyZcf559H38LLrzD+zWuwqWZvUk+e4daJAwh6sB4xPy9zedqXIzfPTXpjPhvJX3+tYfmKtRnWN6hfm65dH6d+gweueY5XLFe/m9nsZwwRe48yd/xM+k8ZQvKZJA7/cxB7qnWrQxeVxy6JYaVO2X5jzDYAEfkbWGiMMSKyDSgN3Ax0ADDGLBKRQBHxA6YBQ3B0qh5zLqcRER+gNjAj3Qs4f6YYP6CoMWapc9W3QMvskhSRHjg6jkyYMIGuDza5mjbf8EICfDNUt6LjThJcNONQ7KxlG3m6TT1EhFIhgRQv5s/+YzFUuKUEDzaoxoMNqgEwevp8QtJV3awg2Cc/UacudDaiTidRrHD+bGPn7Yygxe0Xhkc2HzvB0n3RLD9wnHMpds6cS+H1OVsY0fIel+edG7ERMRQLD0pbDgoLIi46Y+cxJjKGoHRVo8DQIOKiHDFe3l4MmjCIJb8sZtXcle5JOhce7fogD3ZsC8Dfm/8lJPxC5TIkrBjHM81bPBEbTxFfH7y8vEhNTSUkLDhLTIt2TSw1dAnOylj4herITWGBnIvMeQjy1Jod5L85FO+AIvjWvpvkw1GkxDmq2nGz1+BT7XZLdMp69+pMt24dAVi/fjMlSoanbSteIoxjEdlPH3hjcD+KFQukd59nMqyvUOEOJoz/gNZtnyIu7oTrEr9MJyJj8U/3+vMPCyQ++kSWmIB0z7F/aADxzmHm5dMXsXy6Y9j2gYFPcCLCgh/8VBZWKjukH/Oxp1u24+g85vS5bxVQTkSKAe2BnzPF2IB4Y0yldD93ZIoRsv0Mmc0BjZlojKlmjKnWo0eP3OySp91VtjiHImM5Eh3H+ZQU5q7eRv0qGUePQwOLsuZvx/yj2ITTHIiMoUSwf9oyQERMPAvX76DlvRXd24BLuCvUj0MnznI04SznU+3M2xlJg7JZ57ScSj7PhiMnaHDLhW3P172Ned0bMrtbA95tdQ/VSwZapkMGsGvLLsLLFCekZAje+byp16YeaxasyRCzZsEaGnVwFJ1vq3wbZ0+d4YTzjeOFD17g8J7DzJw8092pX9S0L39Om5y/eO4y2jzSAoAKVe7i9KkzxERnffNat3IjTVs3BKDtIy1ZPO+vtG0+RQpT9d7KLEm3zgpOb95DgTJh5C8ZjOTzJrBdXU7MX5chJn+6yd+FKpTFls+blLhTnDsag0+V8tgKOqq6fnUrkLjniFvzz8m48V9TrXozqlVvxq+/zuOpjg8BULNGFU4mnCQyMjrLPk93fZxmTRvQ8cm+GapNJUuGM2PaJLp0fYHdu/e5rQ25cWDLHkJKhxFUIhivfN7UaFOHLQsyPn+bF6zn3gcbAFC28q0knjpLwvF4AIoE+gIQEB5ElRY1Wfvrcnemf+3ksTllVqqUXcoyoCPwtog0AGKMMScBROQXYBTwjzEmw19UY8xJEdkvIg8bY2aIo1xW0RizJV1MvIgkiEhdY8xy53EsY+DQd1m3aSvx8Sdp3P5J+nR7ig5tmns6rVzx9vLitU6t6f3B19jtdtrXq0q5EiFMX+gYPnikcQ16tG/AGxN/osNrn2GM4cVHm+NfpDAAL42eSsLps3h7eTGocxt8Cxe82OHczttm45VGd9Ln5/XYjaHdXSW4JagIM7YcAuDhe0oBsHhPFLVuDqRgvuvnJWdPtTP+jXEM+/ZtbF42FkxbwKFdh2j5pKOIPGfKHNYvWke1htWY9NdkxyUxBnwMwJ3V76RRh8bs/2c/o+d8BsA373/N+sXrPdae7Pz150rqNr6X31fPICkxiSEvjkjbNua7D3mr/7scj4rhk7fH8v6EYfR9tQf/bt/FL9//lhbXqFV9Vi1dS2K6SfOWkGrnwOuTuf37IYiXjegfFpK46zDBTzku4RH97XwC77+XoIfqY1JSsSeeY3fvjwA4vWk3cX+sosK8DzEpds5s30f0lPmebE22Zs9ZSIsWjdj5zwrOJibyzDP907b9NusbevQaSEREFGM/f5eDB4+w/C/HZVlmzpzN8BGfMPj1fgQG+vPZZyMBSElJoda9rTzSlszsqXa+HzKZF78ZjM3Lxorpizi2+wj1Ozqev6XfzWfb4o1UaFiFkUvHcC4xmS8Hjk3bv/e4gfj4+5Caksp3b0zm7MkznmrK1cljw5dysfF3tyUhUhr43Rhzt3P5K+fyj/9tA+rhGKIsA5wFehhjtjrjq+GYh9bFGPO1c92bwGljzIciUgYYB4QB+YAfjDHDMsVUBb5w3vc84KH/8rkIcz7GWp+urpV8QWVJWpv1mlQ3ggI1Hgbg7PgXPJyJaxTq9SkArUvd7+FMXOP3Q47rLd0Tar1r1l0LWyIdQ72rwx/0cCauUevYz3jfVNzTabhEyrmjADxT+iEPZ+Iakw/8CDnOmnWN5K3zXNJJyV+xuQVPr7JIpcwYcwC4O91ylxy2tcth//Vk+kUxxryZ7vZ+oEU2+6WP2QCkHzt6M3O8UkoppdzHGOteU8wVrDSnTCmllFIqz7JEpUwppZRSKgsLT8p3Be2UKaWUUsqa8thEfx2+VEoppZSyAK2UKaWUUsqa8tjwpVbKlFJKKaUsQCtlSimllLImu14SQymllFJKuZlWypRSSillTXlsTpl2ypRSSillTXpJDKWUUkop5W5aKVNKKaWUNeWx4UutlCmllFJKWYBWypRSSillTXlsTpl2ypRSSillTXmsU6bDl0oppZRSFqCVMqWUUkpZkjF6RX+llFJKKeVmWilTSimllDXlsTll2ilTSimllDXpdcqUUkoppZS7aaVMKaWUUtaUx4YvxRjj6RyuZ/rgKaWUykvEnQdLXDjRJe+zBRv3cGs7cksrZVcpae0MT6fgEgVqPMz5mH2eTsMl8gWVBSBx1vsezsQ1CrZ7GYCWJVt6OBPXmHN4DgDVw+t5OBPXWHdsGQBzQx7zcCau0SLqBwoUKOXpNFwiKekQAM+XftTDmbjG6APT3H9QnVOmlFJKKaXcTStlSimllLKmPDanTDtlSimllLImHb5USimllFLuppUypZRSSllTHhu+1EqZUkoppZQFaKVMKaWUUtaUxypl2ilTSimllDXpRH+llFJKKeVuWilTSimllDXlseFLrZQppZRSSlmAdsqUUkopZU3G7pqfSxCRFiKyU0T2iMir2Wz3E5HfRGSLiPwtIl2vRXN1+FIppZRS1uSB4UsR8QI+B5oCR4B1IvKrMWZHurC+wA5jTBsRKQbsFJHvjDHnrubYWilTSimllLqgBrDHGLPP2cn6AWiXKcYARUREAB8gDki52gNrpUwppZRS1uSZS2IUBw6nWz4C1MwUMwb4FTgGFAEeNebqk9VKmVJKKaXyFBHpISLr0/30SL85m11MpuXmwGYgHKgEjBER36vNSytlSimllLImF80pM8ZMBCbmsPkIUDLdcgkcFbH0ugLvGmMMsEdE9gO3A2uvJi+tlCmllFJKXbAOuFVEyojITcBjOIYq0zsENAYQkRDgNmDf1R5YK2VKKaWUsiYPnH1pjEkRkWeBeYAX8IUx5m8R6eXcPh54G/hKRLbhGO58xRgTc7XH1k6ZUkoppazJZJ7K5a7DmtnA7Ezrxqe7fQxodq2Pq8OXSimllFIWoJUyC1ixdRfvfTsbu93OAw2q0q1N/QzbT51NYtC4GUTGJpBit9O5VR3a16sKwHfzVvLT4vUYoEODajzZorYHWnDlBo8cxbIVawnwL8rMKeMvvYMFrdh5hPdnrcZu7DxQ4zaebnhPhu2nEs/x+g9LiIw/Q4rdTqd6FWhfvTwAQ6cvY9k/hwnwKcBPL3XwRPoXVbVBVXq92Qubl425U+cyY+yMLDG93upF9UbVSU5M5qP+H7F3+14A+n3YjxqNaxAfG0/vJr3dnXquvfT289RpVIukxGTe6vcOO7ftyhITXjKMEeOG4lvUl53bdzHkueGknE+hyr2V+OjLkRw7HAHA4tnLmPzx1+5uQo6CGt7DHcM7g5eNI98tYv9nGafFBLeoyq2vPIKxG0xKKv+88Q3xa3diy5+PGrOGYrspH+JlI+r3Nez54EcPtSL3PvroLVq0aMjZs4l07/4SmzdvzxLz1VefUqVKRc6fT2H9+s307fsaKSlXfXkpl7ij/j08OKQLNi8bq6Yt4s9xszJsD74lnI4f9KbkXWX4/cMfWDTpdwCKhgXy1Ki+FClWFGO3s3LqQpZ+OccTTbh6+t2X1iAiK69y/9PO/xuIyO85xBwQkaBs1r8pIgOu5vi5lWq3M/Lr3xg7sBO/vPc8c1dtY+/R6Awx0/5cTdniwcwY+Sz/G9SNj76fy/mUFHYfjuKnxev57q1ezBjRl2Wb/+Vg5FUPabtV+1ZNGT9quKfTuGKpdjvv/LKSz7s14+eXOjB38z72Rp3IEDNt1Q7KhhRler8HmNyzFaN+X8P5lFQA2la7lbHdmnsi9Uuy2Wz0Hd6XNzq9Qc9GPWnQrgGlbi2VIaZ6w+qElwmn233dGP3KaJ4d+WzatgUzFjD4qcHuTvuy1G5Ui1JlSvBgnScY+fIHvPpO/2zjnn29J99Pmk6Huk9wMv4U7R6/P23bpjVb6di0Gx2bdrNUhwybcOe7T7P+iXdZft9LhD1Qh8Lli2cIiV22nRUNX2Fl41fZ1m8Cd49yXBXAnnyedQ++zcpGjm1BjSrhV7WcJ1qRa82bN6RcudLcdVc9+vZ9ldGjR2QbN3XqTCpWbEjVqk0pWLAAXbs+5uZMc0dswsPDnmZ8l3cY2bQ/VdvWIbRcxufvbPxpfnrzKxZO+i3DentKKr8M/5aRTfoz6oHB3PdUsyz7KmuybKfMGHN9lXyu0Pa9RygZEkiJ4ADyeXvTolYFlmz4J0OMIJxNSsYYw9mkZPwKF8TLZmP/seNULFeSgvlvwtvLi6q3l2HR+n9yOJI1VatUAT/fIp5O44ptP3yckkG+lAj0JZ+3F83vKcuSvw9liBGEM8nnMcaQeC4Fv0L58bI5XnpVy4bhWyi/J1K/pPKVynPswDEiD0WScj6Fpb8upVazWhliajWrxcKfFgLw76Z/8fH1wT/YH4Dta7ZzKv6U2/O+HPWb1+WPH+cBsH3jDor4+RAYHJglrnrdKiz6fSkAf8yYS/0W97k1zytRtEo5zu6PJPFgNOZ8KpEzVxLSolqGmNSzyWm3vQvlz3Alpv+2ST4vxNsr61WaLKZNm2Z8991PAKxdu4miRX0JDQ3OEjdv3uK02+vWbaZEiTC35Xg5bq5UjuMHo4g9HE3q+VQ2/raSCs2qZ4g5HXuSQ1v3Ynd+yPvPyePxHPl7PwDJZ5KI2nsUv9AAt+V+TdntrvmxKMt2yjJVupaKyHQR2SUi74pIRxFZKyLbROQWZ1wZEVklIutE5O1Md+crIr+IyA4RGS8iWdotIq87v3z0TxyntrpF9ImThAb4pS0HB/gSdeJkhpjHmtZi37HjNHnuPR4aNIaXn7ofm81GuRLBbNh5gPhTZ0lMPsfyLbuIjEtwV+oKiE44S6hf4bTlEL9CRJ88kyHmsdp3sD8qgabDp/LQqJ8Z2LYWNlt21ya0lqDQII4fO562HBMRQ2Boxg5LYGggMcdiMsQEhWYpPltWsdAgoo5dqExHHztOcKb8/QL8OJVwmtRUxxtfdETGmApV7+K7BV/w6ZT3KVu+tFvyzo38oQEkHotNW046Fkf+bN6Yg1tWp+7yj6gy5RW290s3hcAm1F74Lo3+nkjs0m0kbNzjjrSvWHh4KEeORKQtHz0aSXh4aI7x3t7ePPHEg8yfv9Qd6V22oiEBxKd7/uIjYvEL8b/s+wkoUYzid5bh4GZrP3858tAXknvK9TKn7B7gDhzfLbUPmGyMqSEiLwDPAS8CnwLjjDHfiEjfTPvXAO4EDgJzgQeBtAkSIlIVx3VIKuN4TDYCG1zZoP9kd2KJ46u0Lli5bTe3lwpj8mtPczg6jp7vfkmV226mbPFgut5/Hz3f+5JCBW6ifKlQvG2W7WffkLIrHkimi0Gv3HWU28IDmNSzJYdjT9Fr0hyqlAnFp8BN7knySuXimtaZf1cBjIfOlroSuck/24fBGbJz2y7a1niExLOJ1G5Uiw++GEmHuk+4INMrkG2/P+tzEz1nHdFz1uFf63bKvfII6x92DvvZDSsbv4q3byEqf/USPreX4PS/R1ya8tXI5qm86O/i6NEjWL58LStWXNW1Pl0n29/Ny7uLmwrlp9u4/vw87GuSTideo8SUK10v7+DrjDERxphkYC8w37l+G1DaebsOMNV5+9tM+691frFoqjOmbqbt9wG/GGPOGmNOkvUicWnSfzXDxIk5XQw490ICfDNUt6LjThJcNONw3qxlG2lc/U5EhFIhgRQv5s9+Z3XiwQbVmDa8L18O7o5f4YKUCs069KJcJ8SvEJEJFypjUQlnKeZbKEPMrPW7aFyhtOP5C/KleEAR9kdbv6IZExFDsfBiactBYUHERsVmiQkKD7pojNU83OUBvlvwP75b8D9iomIICb8wxBUcXozjmfKPj0ugiJ8PXl5ejpiwYhyPcrz+zpw+S+JZx5vdykWr8c7nhV+6yrcnJUfEUTD8wt+DAuEBJEeeyDH+xOp/KVQ6hHwBGf/+pJw8S9yKHQQ1rOSqVK9Yz56dWLNmDmvWzCEiIjrDUGTx4qFERERlu9/rr79IUFAAL788zF2pXrb4yFiKpnv+ioYFcjI65+cvM5u3F93Gv8T6mcvZOs+iHc/c0OFLS0pOd9uebtlOxmpfTp8jMq/PLi5Xn0GMMRONMdWMMdV69Ohx6R0u4a6yxTkUGcuR6DjOp6Qwd/U26le5PUNMaGBR1vztOKMtNuE0ByJjKOGctxObcBqAiJh4Fq7fQct7K151Tir37ipRjEMxJzkad4rzKanM27KP+ndmnAwfVtSHNbsd39AReyqRA8cTKBFo/Xl0u7bsIrx0OCElQ/DO5039tvVZvWB1hpjVC1bTuENjAG6vfDtnTp3hxGW8cXjCjK9+SZuYv2TuX9z/kONEi7ur3Mnpk2eIjc7aqVy/YhONWjvOir7/4RYsm7ccgMBiF4YD76x0BzabjQSLTCFI2LSXQmVDKViqGJLPi9D2tYmel3EAoFDpkLTbvhVKY8vnzfm4U+QLLIK388OFrUA+AutV4MyezN8y43kTJnxDzZotqVmzJb/+Oo+OHR1nMNeoUZmEhFNERkZn2adr18do0qQenTo9a+mq7qEteylWOpSAEsXwyudFlTa12bZgfa73f+K9XkTtOcri//3hwizVtXa9DF/mxgocQ5BTgI6ZttUQkTI4hi8fJev3XS3DcWXed3E8Jm2ACa5N18Hby4vXOrWm9wdfY7fbaV+vKuVKhDB9oeOTzSONa9CjfQPemPgTHV77DGMMLz7aHP8ijnlML42eSsLps3h7eTGocxt8Cxd0R9rXzMCh77Ju01bi40/SuP2T9On2FB3aWPNsxOx4e9l4td299J48F7vd0K56ecqF+jNjleOEi4fvvYPujSsxZPoyHhr1s+P5a1Ud/8IFAHj1u8Ws3xdB/Jkkmo2YSu+mVXightumNF6UPdXOuDfGMXzKcLy8vJg/bT6Hdh2i1ZOtAJg9ZTbrFq2jeqPqfLH8C5ISk/j4pY/T9n9lzCtUrFUR3wBfvl37Ld9+9C3zp83P6XAesWLhauo0vpdfVk4lKTGZYf3eSdv2ybfvM3zAe8RExTJmxHhGjHuT3i8/w87tu5k11fFG16h1Ax7q1I6UlFSSk5J5vfdbnmpKFibVzo7XvqTaD4MQLxtHpi7m9M4jlOzUBIDD3/xJSOuahD98HyYlFXvSOTb3+BSA/CH+VBzdG/Gygc1G5KxVHF+w0ZPNuaS5cxfRokVDduz4i7NnE+nR48IJ9DNnfkXv3q8QERHFZ5+N5NChoyxdOhOAWbPmMnLkpx7KOmf2VDs/DvmCPt8MwuZlY/X0JUTuPkKdjo7nb8V3f1KkmB8Df32HAj4FsRtDg6dbMbLpS4TfXooaHepx9J+DvDz7PQB+f38qO5Zs9mCLrpCFO86uIFb9pCAip40xPiLSABhgjGntXL/Eubw+/TZnp+t7HJ2qn4DB6fYfAhwHKuDogPUxxthF5ABQzRgTIyKvA51wdNyOADuMMR9eIk2TtDbrdZtuBAVqPMz5mKv+Gi9LyhdUFoDEWe97OBPXKNjuZQBalmzp4UxcY85hx/WWqofX83AmrrHu2DIA5oZY81INV6tF1A8UKFDq0oHXoaQkx5nXz5d+1MOZuMboA9Mgh9mKrpL45csu6aQU7Pq+Jc+2smylzBjj4/x/CbAk3foG6W6nbTPG7AfuTXcX72a3f6ZjlE53ewSQ/YVtlFJKKaVczLKdMqWUUkrlcRaelO8K18tEf6WUUkqpG5pWypRSSillTRa+0KsraKVMKaWUUsoCtFKmlFJKKUsydmteIcJVtFOmlFJKKWvSif5KKaWUUsrdtFKmlFJKKWvSif5KKaWUUsrdtFKmlFJKKWvSif5KKaWUUhagE/2VUkoppZS7aaVMKaWUUtaklTKllFJKKeVuWilTSimllDUZneivlFJKKeV5OnyplFJKKaXcTStlSimllLKmPHadMq2UKaWUUkpZgFbKlFJKKWVN+t2XSimllFLK3cTksdNNrzF98JRSSuUl4s6DnX2vq0veZwu98qVb25FbOnyplFJKKUsyeeySGNopu0pnx7/g6RRcolCvT0mc9b6n03CJgu1eBuB8zD4PZ+Ia+YLKAtCyZEsPZ+Iacw7PAaB6eD0PZ+Ia644tA+DTUk96OBPXeOHQFPx9ynk6DZc4cXoPAM+UfsjDmbjG5AM/ejqFG552ypRSSillTXpJDKWUUkop5W5aKVNKKaWUNeWxS2Jop0wppZRS1qTDl0oppZRSyt20UqaUUkopa8pjl8TQSplSSimllAVopUwppZRS1pTH5pRpp0wppZRS1pTHzr7U4UullFJKKQvQSplSSimlrCmPDV9qpUwppZRSygK0UqaUUkopSzJ6SQyllFJKKeVuWilTSimllDXlsTll2ilTSimllDXlsU6ZDl8qpZRSSlmAVsqUUkopZU168VillFJKKeVuWilTSimllDXlsTll2imzgBUHjvPBkn+w26H93SV4ukbZDNu/Xr+f2f8eAyDVbtgfd5pFvRrhV+CmtHUdv19JsE8BRrev6vb8L2XFziO8P2s1dmPngRq38XTDezJsP5V4jtd/WEJk/BlS7HY61atA++rlARg6fRnL/jlMgE8BfnqpgyfSvyqDR45i2Yq1BPgXZeaU8Z5O57JVbVCVXm/2wuZlY+7UucwYOyNLTK+3elG9UXWSE5P5qP9H7N2+F4B+H/ajRuMaxMfG07tJb3ennmsvvf08dRrVIikxmbf6vcPObbuyxISXDGPEuKH4FvVl5/ZdDHluOCnnU6hybyU++nIkxw5HALB49jImf/y1u5uQo5vrV6T+m08hXjb+/mEJ68f+lmH7be1rU613awDOnUli8etfEfPPIXzCAmj2cS8KF/PDGMP27xez+Yt5nmjCJb37wRs0bdaAxMRE+vR8ha1b/s4S073nU/Tq04Wyt9zMLTdXJy72BADPvfAMDz/aFgBvb2/K33YL5UrXIP5EglvbkJO76lfi8SFdsXnZ+GvaQuaMm5kl5vGhT1OhYWXOJZ7jiwFjOPT3fgAad21FvceagAh//fAnf37xh5uzvzZMHuuUWXL4UkSKikifq7yP087/G4jI7znEHBCRoGzWvykiA67m+LmVaje8u2gHY9pX46fOdZm7M4K9saczxHSuVoZpT9Zh2pN1eK5OeaqWCEjrkAF8v+kAZQJ83JHuZUu123nnl5V83q0ZP7/Ugbmb97E36kSGmGmrdlA2pCjT+z3A5J6tGPX7Gs6npALQttqtjO3W3BOpXxPtWzVl/Kjhnk7jithsNvoO78sbnd6gZ6OeNGjXgFK3lsoQU71hdcLLhNPtvm6MfmU0z458Nm3bghkLGPzUYHenfVlqN6pFqTIleLDOE4x8+QNefad/tnHPvt6T7ydNp0PdJzgZf4p2j9+ftm3Tmq10bNqNjk27WapDJjahwfDOzOz8Pt82fpnybWsRcGt4hpiTh4/z4yPD+a75INaOnknjd58GwJ5q56/h3/Nt41eY1u5NKnZqkmVfK2jarD633FKaqvc05sXnBvPRJ29lG7d61Qbat+nEoYNHMqz/7NPJ1Kvdlnq12zJs6IesWL7WMh0ysdnoOOwZPukygjea9qNG27qElSuRIaZCg8oElwljUIPn+GbQeJ4c0QOA8PIlqfdYE0a0e5W3Wr5ExUZVCS4d6olmqMtkyU4ZUBS4qk7Z9WJ7ZDwlixaiRNFC5POy0fy2UJbsjcoxfu7OCFrcFpa2HHUqieX7j/PA3SVy3MeTth8+TskgX0oE+pLP24vm95Rlyd+HMsQIwpnk8xhjSDyXgl+h/HjZHL+aVcuG4VsovydSvyaqVaqAn28RT6dxRcpXKs+xA8eIPBRJyvkUlv66lFrNamWIqdWsFgt/WgjAv5v+xcfXB/9gfwC2r9nOqfhTbs/7ctRvXpc/fnRUgLZv3EERPx8CgwOzxFWvW4VFvy8F4I8Zc6nf4j635nklQirdQsKBKE4eOo79fCq7fltN2WYZK+kRG3aTnHAWgMhNe/AJCwDgbHQ8x7cfAOD8mSTi9hzDJzTArfnnRqvWTfhh6i8ArF+3GT8/X0JCimWJ27Z1B4cPHb3ofXV4uDU/zcj287tHlKlUjuiDkcQcjib1fAprf1tBpWbVM8RUaladVT8vAWDfpt0UKlIIv2JFCStXgn2bdnEu6Rz2VDu71uygSvOaHmjFNWA3rvmxKKt2yt4FbhGRzSKyTkSWish0EdklIu+KSEcRWSsi20TkFgARKSMiq5zxb2e6P18R+UVEdojIeBHJ0m4ReV1EdorIn8BtbmgjANGnkwkpUjBtOcSnAMdPJ2cbm3g+lZUHYmh8a0jaug+W/MML992GTVye6hWJTjhLqF/htOUQv0JEnzyTIeax2newPyqBpsOn8tConxnYthY2qzYoDwkKDeL4seNpyzERMQSGZuywBIYGEnMsJkNMUGiW4rNlFQsNIupYdNpy9LHjBGfK3y/Aj1MJp0lNdVRvoyMyxlSoehffLfiCT6e8T9nypd2Sd274hPpz6lhc2vLpiDh8QvxzjL/r0QYcWLw1y/oiJYIIvutmIjftdUmeVyMsLISjRyLSlo8diyQsPOQie2SvYMECNG5Sj19nzb2W6V0V/5AATqR7bZ2IiMU/JGPHuGhIIHHHYi/ERMZRNDSQYzsPcWuNOylc1IebCtxEhYaV8Q/L+mFDWY9V55S9CtxtjKkkIg2AmcAdQBywD5hsjKkhIi8AzwEvAp8C44wx34hI30z3VwO4EzgIzAUeBH78b6OIVAUeAyrjeEw2Ahtc1LZLy6E/smxfNJXCi6YNXS7bF01AoZu4M8SP9Ydjs9/Jw7L7PCKZGrhy11FuCw9gUs+WHI49Ra9Jc6hSJhSfdEO0ygOy+z3M9ISKZA0yxrqfQjPLTf7ZPgzOkJ3bdtG2xiMknk2kdqNafPDFSDrUfcIFmV6BbNuWfWiJe+/grkfrM6NDxs+z+Qrl5/4JL7D0rSmcO53oiiyvyrX6/WvRqhFrVm+0zNAlkMPzZy4VAsYQsfcoc8fPpP+UISSfSeLwPwexp16nl5bQ7760pHXGmAhjTDKwF5jvXL8NKO28XQeY6rz9bab91xpj9hljUp0xdTNtvw/4xRhz1hhzEvg1p0REpIeIrBeR9RMnTrzyFjkF++Qn6tSFP3ZRp5MoVjj74bp5OyNocfuFocvNx06wdF80rf63hFdnb2Hd4Vhen7PlqnO6lkL8ChGZcKEyFpVwlmK+hTLEzFq/i8YVSiMilArypXhAEfZHW+iPYx4VExFDsfALQ0FBYUHERsVmiQkKD7pojNU83OUBvlvwP75b8D9iomIICQ9O2xYcXozjmfKPj0ugiJ8PXl5ejpiwYhyPclQwzpw+S+JZx+t35aLVeOfzwi/Az00tubjTEXEUCb9QWfEJC+BM9IkscUG3l6Tx+8/w2zMfkxR/YT6rzduL+ye8wM5fVrJ37nq35Jwbz/R4kmUrf2XZyl+JiIimeIkLfxPDw0OJjIi+yN7Ze/Ch1vw047dLB7rRichY/NO9tvzDAonP9PydiIwlIPxCBcw/NID4KEd1dPn0Rbzd+mXef3QIZ+JPE7U/guuSDl9aUvrxPHu6ZTsZq305PdKZ12cXl6tnyRgz0RhTzRhTrUePHrnZ5aLuCvXj0ImzHE04y/lUO/N2RtKgbHCWuFPJ59lw5AQNbrmw7fm6tzGve0Nmd2vAu63uoXrJQEa0vCfLvp50V4liHIo5ydG4U5xPSWXeln3UvzPjZPGwoj6s2e04uzT2VCIHjidQIvD6nId1I9m1ZRfhpcMJKRmCdz5v6retz+oFqzPErF6wmsYdGgNwe+XbOXPqDCeyeeO3khlf/ZI2MX/J3L+4/yHHiSR3V7mT0yfPEBudtVO5fsUmGrWuD8D9D7dg2bzlAAQWu9DpubPSHdhsNhLirPGBImrLPoqWCcW3ZDFs+bwo36YW+xZszBBTJDyQ+ye+yPwXxxO/PzLDtiYfPEPcnmNsmjzHnWlf0uSJU9Im58/+fQGPPf4AANWqV+LkyVNERR2/xD1k5OvrQ506NZj9x5+uSPeKHdiyh5DSYQSVCMYrnzc12tRhy4J1GWI2L1jPvQ82AKBs5VtJPHWWhOPxABQJ9AUgIDyIKi1qsvbX5e5MX10hqw5fngIu9115BY4hyClAx0zbaohIGRzDl48CmUtcy4CvRORdHI9JG2DC5SZ9JbxtNl5pdCd9fl6P3Rja3VWCW4KKMGOLYzL8w/c4OjCL90RR6+ZACuaz6lOWPW8vG6+2u5fek+ditxvaVS9PuVB/Zqz6B4CH772D7o0rMWT6Mh4a9TPGGF5sVR3/wgUAePW7xazfF0H8mSSajZhK76ZVeKCG26b8XbWBQ99l3aatxMefpHH7J+nT7Sk6tLk+zia1p9oZ98Y4hk8ZjpeXF/OnzefQrkO0erIVALOnzGbdonVUb1SdL5Z/QVJiEh+/9HHa/q+MeYWKtSriG+DLt2u/5duPvmX+tPk5Hc4jVixcTZ3G9/LLyqkkJSYzrN87ads++fZ9hg94j5ioWMaMGM+IcW/S++Vn2Ll9N7OmOi4v0Kh1Ax7q1I6UlFSSk5J5vXf2Z/95gkm1s+SNr2n/7cuIl40d05YSt+soFZ5sBMC2KYuo8cIDFPD3oeHwLgDYU1P5ofUQwquX544O9xHzzyGemDMCgJXvT+fAYmtV4ufPW0LT5g3YuHURiYmJ9O31Stq26T9N5vm+g4iMjKZH7048/2IPQkKCWL76dxbMW8oLzw4C4P42zVi8aDlnz1preNaeauf7IZN58ZvB2LxsrJi+iGO7j1C/YzMAln43n22LN1KhYRVGLh3DucRkvhw4Nm3/3uMG4uPvQ2pKKt+9MZmzmebyXjcsXNVyBbHq/A8R+R6oCCQCUcaY1s71S4ABxpj1zvlmA4wxrZ2dru9xdKp+AgYbY3ycMUOA40AFHB2wPsYYu4gcAKoZY2JE5HWgE46O2xFghzHmw0ukac6Of+HaNdpCCvX6lMRZ73s6DZco2O5lAM7H7PNwJq6RL8hxnbuWJVt6OBPXmHPYUbmpHl7Pw5m4xrpjywD4tNSTHs7ENV44NAV/n3KeTsMlTpzeA8AzpR/ycCauMfnAj5DjrGfXONWrhUs6KUXGz71oO0SkBY656l445rG/m01MA+ATIB8QY4ypf7V5WbbsYozJdrasMaZButtLgCXO2/uBe9OFvps5Jpv7Kp3u9ghgxFWkrJRSSqlryBOFIxHxAj4HmuIo0qwTkV+NMTvSxRQFxgItjDGHRCTrvKMrcL3MKVNKKaWUcocawB7nCYLngB+AdplingB+NsYcAjDGXP4ZJtnQTplSSimlrMkzZ18WBw6nWz7iXJdeecBfRJaIyAYR6XQtmmvZ4UullFJK5XEumugvIj2A9JdQmGiM+e8kwFxcpRFvoCrQGCgIrBKR1caYrF+eexm0U6aUUkqpPMXZAcvpYqNHgJLplksAx7KJiTHGnAHOiMgy4B7gqjplOnyplFJKKUsyduOSn0tYB9zq/PrGm3BcbivzReVnAfeJiLeIFAJqAv9cbXu1UqaUUkop5WSMSRGRZ4F5OC6J8YUx5m8R6eXcPt4Y84+IzAW24riQ/WRjzParPbZ2ypRSSillTR66eKwxZjYwO9O68ZmWPwA+uJbH1U6ZUkoppawpb30fuc4pU0oppZSyAq2UKaWUUsqScjEp/4ailTKllFJKKQvQSplSSimlrCmPVcq0U6aUUkopa9KJ/koppZRSyt20UqaUUkopS9KJ/koppZRSyu20UqaUUkopa8pjc8q0U6aUUkopS9LhS6WUUkop5XZaKVNKKaWUNeWx4UutlCmllFJKWYAYk7fGa68xffCUUkrlJeLOg8W2qe+S99nA35a6tR25pZUypZRSSikL0DllV6l1qfs9nYJL/H7oD1qWbOnpNFxizuE5ADd8+87H7PNwJq6RL6gsAA/f3M7DmbjGjIOzAHj85vaeTcRFph6cSb3ijT2dhkssO7oQgDrFG3k4E9dYcXSR+w+ax+aUaadMKaWUUpZk8linTIcvlVJKKaUsQCtlSimllLImrZQppZRSSil300qZUkoppSwpr80p006ZUkoppSwpr3XKdPhSKaWUUsoCtFKmlFJKKUvSSplSSimllHI7rZQppZRSypqMJb+i0mW0U6aUUkopS9LhS6WUUkop5XZaKVNKKaWUJRl73hq+1EqZUkoppZQFaKVMKaWUUpakc8qUUkoppZTbaaVMKaWUUpZk9JIYSimllFKep8OXSimllFLK7bRSppRSSilLymuXxNBOmQVUqV+VHm/2wOZlY/4P8/lx7IwsMT3e6km1htVITkzmk5c+Zu/2vQSFBdH/45fwL+aP3diZ9/1cfv3iVw+04OKqNqhKrzd7YfOyMXfqXGZk075eb/WieqPqJCcm81H/j9i7fS8A/T7sR43GNYiPjad3k97uTj1XbvT2XczgkaNYtmItAf5FmTllvKfTuWyV6lem69Du2LxsLPxhATPH/ZQlpuub3anSsCrJicl8PuBT9m/fB8DnyyeSdCYRe6qd1FQ7r7Z5yd3pX9I99SvTaegz2LxsLP5hAb+O+zlLTOc3n6FSw6qcS0xm3IDRHHC2r5BvYXq815cS5UsBhgkDx7B74043t+DSnh/Wl1qNapKcmMw7/d5n1/bdWWLCSoYydOxgfP2LsGvbboY//y4p51No+kBjnujzGACJZxP56LVP2Ltjn7ubcFEvDnuWexvVJCkxiREXad9bY99Ia9+w598h5XwKdZvVpvvArhhjSE1J5dOhn7N13XYPtELllg5fepjNZqP38N4M7TyUPo17U79tPUreWjJDTLWG1QgvHU6Pet0Z8+pn9BnRF4DU1FT+N3wyvRv3YkC7l7i/U+ss+3qazWaj7/C+vNHpDXo26kmDdg0odWupDDHVG1YnvEw43e7rxuhXRvPsyGfTti2YsYDBTw12d9q5dqO371Lat2rK+FHDPZ3GFbHZbHR7uycjOr9FvybPUqftfZTI9Pqp3LAqYWXCeK5+Lya89jndh2fsOL/52GAGtupnyQ6Z2Gx0fbsn73UexoAmz1G77X0Uv7VEhphKDasSWiaMfvV7M+m1sXQb3ittW+eh3diydCMDGj/LKy36cXTPEXc34ZJqNapBiTIleKJuJz54ZRT933kh27ier3dn+qSfeKJuZ04lnOb+x1sCEHE4guce6kfXpt35+pMpDHyvvzvTv6R7G9WkRJniPFr3Kd5/ZRQD3nkx27jer/dg2qQfeaxuJ04lnKL1460A2LB8I52bdqdLsx6MfOkDXv1wgBuzvzaMcc2PVd1wnTIRKS0i2X4UEJElIlLN3TldTPlK5Yk4cIyoQ5GknE9h2W/LqNWsVoaYms1qseinRQDs3LSTwr6F8Q/250T0ibSKS+KZRA7vOUxgaKDb23Ax5SuV59iBY0Q627f016VZ2lerWS0W/rQQgH83/YuPrw/+wf4AbF+znVPxp9yed27d6O27lGqVKuDnW8TTaVyRcpVuJfJAJNGHo0g5n8KK3/6iWtMaGWKqN63B0p8WA7B70y4K+xamqPO5szpH+yKIPhxF6vkUVv22nGpNa2aIqdq0Bn/9tASAPZt2UcjZvoI+Bbm95l0s/uFPAFLPp3D25Bl3N+GS6javw7wf5wOwY+M/+Pj5EBgckCWuSp3KLP1jKQBzZ8znvuZ1ANi+fgenE04D8PfGHRQLK+amzHOnbvPazP1xAQB/b/yHIjm0r2qdyixxtm/2jPnUc7Yv8WxSWkyBQgUwVu6N5MDYxSU/VnVDdcpE5Lobjg0MDeT4sZi05ZiIGAJDArPExEQcT1uOjYzJ0vkKLhFM2bvKsnOTtYYXgkKDOH7sQu4xEVlzDwwNJCbTYxAUGuS2HK/Gjd6+G1lAaCCxEReel7iI2CzPXUBoILHpnrvYyBgC0r0+B095i/d+/4gmjzdzfcKXyT80IEP7YiNi8Q/N+IYeEBqQoX1xkbEEhAQQXCqUk7EJ9Prwed6ZPYru7/Ulf8H8bss9t4JCg4hO9/o7HnE8y2vLz9+X0wmnSU215xgD0PqxlqxZvNa1CV+mYqFBRB+LTluOjjhOsVy0L31MvRZ1+X7pV3z49UhGvvSBexJXV8yjnbLMVS0RGSAib4rI8yKyQ0S2isgPzm2FReQLEVknIptEpJ1zfRcRmSEivwHzM91/QRH5wXk/04CCF8nlZhHZLSJBImITkb9ExPV/aSVrjz3zhxnh4jEFChVg0ITXmfTWJBJPJ17rDK9Odh9IMrcv28fgOvlEd6O3L4/J/Lxk99z99+Ib/OCrvHJ/f0Z0HkbzTq24o8ad7kgx17L7u5G7303w8rJR5u5bWDBlDq+16k/y2STa9ungokyvXPZPT5ZGZheUYbFy7Urc/3hLxo+cdA2zu3q5+dtxqZhlc5fzRP0uvNptCN0Hdr32SbpYXquUWbWy9CpQxhiTLCJFneteBxYZY552rlsrIn86t90LVDTGxIlI6XT30xs4a4ypKCIVgY05HdAYc1BE3gPGA2uAHcaY+ZnjRKQH0ANgwoQJV9NGAGIjYigWfuFTTVBYEHHRsRliYiJjCEpXVg8MDSIuyhHj5e3FoAmDWPLLYlbNXXnV+VxrMRExFAu/kHtQWBCxUbFZYoIyPQaZY6zqRm/fjSwuMpbAsAvPS0BYIHFRcRliYiNiCEz33AWGBhEX7Yg54fz/ZGwCa+etplyl8vyzdocbMs+dzO0LDAvkRJb2xWZoX0BoICei4zDGEBcRy97Njknla2avol2fB92T+CU80LkdrTs65kz9u3knwelef8XCimV5bSXEJeDj54OXl43UVDvFwooRky6m7B1lefmDlxj41GucPHHSPY24iAc7t6Ntx/sB+GfzToLDg9O2BWfKHSD+Eu37z5Y1Wyl+czh+/r4kWKCdKntWHb7cCnwnIk8CKc51zYBXRWQzsAQoAPw3o3qBMSYu850A9YApAMaYrc77zZExZjJQBOgFZDsj0hgz0RhTzRhTrUePHpfTpmzt2rKL8DLFCSkZgnc+b+q1qceaBWsyxKxZsIZGHRoBcFvl2zh76gwnok8A8MIHL3B4z2FmTp551bm4wq4tuwgvHZ7Wvvpt67N6weoMMasXrKZxh8YA3F75ds6ka5/V3ejtu5Ht2bKbsDJhBJcMxjufN3Xa3Mf6BRmHr9b/uZb6HRoCcGvl8pw9dYb46BPkL5ifAoUdhff8BfNzT73KHN550O1tuJi9W3YTWiaMYiWD8crnzb1t6rIhU/s2/rmW+zo0AKBcuvYlHI8nNiKGsLLhANxdpyJHdh92dxOy9cvXs+jWrCfdmvXkr3kraP6QY0Djzip3cObkGWKjs74VbFq5mfr31wegxcPNWD7f8QE2ODyY4ZPeZMQL73BknzVOZPj561l0adaDLs16sGzeclo81BSAu6rcwekc2rdx5WYaONvX6uFm/DV/BQDFS4enxZS/+1by5ct33XXI8tpEf09XylLI2DEs4Pz/fhwdqrbAGyJyF46Bog7GmAyTpkSkJnCxGai5fvhFpBDw3+lJPoDLZ2DbU+2Mf2Mcw759G5uXjQXTFnBo1yFaPuk4O2jOlDmsX7SOag2rMemvyY5LYgz4GIA7q99Jow6N2f/PfkbP+QyAb97/mvWL17s67Vyzp9oZ98Y4hk8ZjpeXF/OnzefQrkO0etLxSXf2lNmsW7SO6o2q88XyL0hKTOLjlz5O2/+VMa9QsVZFfAN8+Xbtt3z70bfMn5algOkxN3r7LmXg0HdZt2kr8fEnadz+Sfp0e4oObZp7Oq1csafa+d+Qibz+zZuOS0ZMX8iR3Ydp2rEFAAu+m8vGRRuo3LAany0bz7nEZD4f4Hid+QUVZeDE1wBHtXr5rGVsXrrJU03Jlj3VzldDJvHaN0OxeXmxZPqfHNl9mCYdHc/Pn9/NY9OiDVRqWJVPlo0nOTGZCQNGp+3/1dBJPPtpf7zzeRN1KCrDNqtYvXAN9zaqydQV35KcmMQ7/S/MmXr/m5G8N/AjYqNiGT9iEm+OHcwzL3dl9997+GPqHAC69HsKP39f+o10nLWZmpJKj1Z9PNKW7Kxytm/6iikkJSYxsv/7ads+/OYd3h34ITFRsYwbMZG3xr5Bj5efZtffe/jd2b4GrerR8qFmpKSkkJyUzJDewzzVlCtm5aFGVxBPzm0RkXxABHAbcBpYimNe2BfGmAPO7Uec218GfIHnjDFGRCobYzaJSBegmjHmWed9lgZ+N8bcLSL9gTuNMc+IyN3AZqCWMSbbXouIfObM5yDwuDGm9SWaYFqXuv8qHgHr+v3QH7Qs2dLTabjEnMOOP1g3evvOx1jrekvXSr6gsgA8fHM7D2fiGjMOzgLg8ZvbezYRF5l6cCb1ijf2dBouseyo4yzrOsUbeTgT11hxdBFkP5PWZfZVaOaSTkrZbfMt2dvzaKXMGHNeRIbhmMO1H/gX8AKmiIgfjif/Y2NMvIi8DXwCbBXHzMYDwKU6TeOAL0VkK44OWY6n1ohIfaA6UMcYkyoiHUSkqzHmy6tpo1JKKaWujH4huZsZY0YDl6yLG2MSgZ7ZrP8K+Crd8gHg7nT7PJbLPJYCtdItW2NWq1JKKaXyBI93ypRSSimlsmPsns7AvfJkp0xE1gCZr4T4lDFmmyfyUUoppZTKk50yY0zNS0cppZRSypPsOqdMKaWUUsrz8tpEf6tePFYppZRSKk/RSplSSimlLCmvXTxWK2VKKaWUUhaglTKllFJKWZKVv6fSFbRTppRSSilL0uFLpZRSSinldlopU0oppZQl5bXrlGmlTCmllFLKArRSppRSSilLymsXj9VOmVJKKaUsKa+dfanDl0oppZRS6YhICxHZKSJ7ROTVi8RVF5FUEXnoWhxXK2VKKaWUsiRPTPQXES/gc6ApcARYJyK/GmN2ZBP3HjDvWh1bK2VKKaWUUhfUAPYYY/YZY84BPwDtsol7DvgJiL5WB9ZKmVJKKaUsyUMT/YsDh9MtHwFqpg8QkeLAA0AjoPq1OrBWypRSSimVp4hIDxFZn+6nR/rN2eyS+ZSDT4BXjDGp1zIvrZQppZRSypJcdfalMWYiMDGHzUeAkumWSwDHMsVUA34QEYAgoJWIpBhjZl5NXtopU0oppZQleeiK/uuAW0WkDHAUeAx4In2AMabMf7dF5Cvg96vtkAGIyWsXAbm29MFTSimVl7i1l7S+RHuXvM9WOzLzou0QkVY4hii9gC+MMSNEpBeAMWZ8ptivcHTKfrzavLRTdnXMPaG1PZ2DS2yJXEn18HqeTsMl1h1bBnDDt+/hm7M7Wej6N+PgLADOx+zzcCaukS+oLACNSzTzcCausfDIfPqUfsTTabjE2APTAXi+9KMezsQ1Rh+YBm7ulK0r/oBLOinVj/5iya8K0In+SimllFIWoHPKlFJKKWVJHppT5jHaKVNKKaWUJeW1CVY6fKmUUkopZQFaKVNKKaWUJeW14UutlCmllFJKWYBWypRSSillSR767kuP0U6ZUkoppSzJ7ukE3EyHL5VSSimlLEArZUoppZSyJOPeLxDwOK2UKaWUUkpZgFbKlFJKKWVJ9jx29VitlCmllFJKWYBWypRSSillSfY8NqdMO2VKKaWUsiSd6K+UUkoppdxOK2VKKaWUsiS9eKxSSimllHI7rZQppZRSypLy2pwy7ZQppZRSypJ0+FIppZRSSrmdVsos4pXh/ajb+F6SEpN444Xh/LttV5aY4qXCeG/8MHyL+vLvtp0MenYYKedT6NznCVo92AwAb29vytx6Mw3uasXJ+FPubkaOXnr7eeo0qkVSYjJv9XuHndm0L7xkGCPGDcW3qC87t+9iyHPDSTmfQpV7K/HRlyM5djgCgMWzlzH546/d3YSLulHbV6l+ZboO7Y7Ny8bCHxYwc9xPWWK6vtmdKg2rkpyYzOcDPmX/9n0AfL58IklnErGn2klNtfNqm5fcnf5VGzxyFMtWrCXAvygzp4z3dDpXpO+wPtRsVJ3kxGTe7/chu7fvyRITWjKUwWMHUaRoEXZv2827L7xPyvkUSt5SkpdHvUS5u8vxxftfMWPCjx5oQc7urH8PDw/pinjZWDltIfPHzcqwPeSWcJ76oA8l7yrDbx/+wJ+Tfkvb9uT7vanQqAqnYhMY3nyAu1PPlTvq38ODQ7pg87Kxatoi/szUvuBbwun4QW9K3lWG3z/8gUWTfgegaFggT43qS5FiRTF2OyunLmTpl3M80YSrppWyG4CIvCgihdItzxaRoh5M6aLqNr6XUmVL0ObeRxg24D0Gvzcw27gXBvdhyoRptK39KCfjT/HAE20A+Hrs9zzapAuPNunC6BHj2LBqs6U6ZLUb1aJUmRI8WOcJRr78Aa++0z/buGdf78n3k6bToe4TnIw/RbvH70/btmnNVjo27UbHpt0s02H5z43aPpvNRre3ezKi81v0a/IsddreR4lbS2aIqdywKmFlwniufi8mvPY53Yf3zrD9zccGM7BVv+uyQwbQvlVTxo8a7uk0rliNRtUpUaY4nep2ZdQrn/DCO89nG9d9UDd+mvQzne/ryumE07R8rAUAp+JPMWbIWMt1xgDEJjw6rBtjuozk7ab9qNa2DqHlimeIORN/mhlvfsnCdJ2x/6z+cQljOo90V7qXTWzCw8OeZnyXdxjZtD9Vs2nf2fjT/PTmV1naZ09J5Zfh3zKySX9GPTCY+55qlmVfZU3XbadMHHLK/0UgrVNmjGlljIl3R15XomHz+/ht+lwAtm38myK+PgQFB2aJq1GnKgt+XwzAr9Pn0KhFvSwxLR5oypxfFrg24ctUv3ld/vhxHgDbN+6giJ8Pgdm0r3rdKiz6fSkAf8yYS/0W97k1zyt1o7avXKVbiTwQSfThKFLOp7Dit7+o1rRGhpjqTWuw9CfH7+TuTbso7FuYosH+nkjXJapVqoCfbxFPp3HF6jSrzfwfHX8P/tn4Lz6+hQkIDsgSV7lOJZb+sQyA+TMWUKd5bQDiY+PZuWUXKSmp7ks6l0pXKsfxg5HEHo4m9XwqG35byT3NqmeIOR17koNb95KaTf571v7DmYTT7kr3st1cqRzHD0altW/jbyupkE37Dm3diz1T+04ej+fI3/sBSD6TRNTeo/iFZn3erwcGccmPVV1XnTIRKS0i/4jIWGAj8D8RWS8if4vIW86Y54FwYLGILHauOyAiQen2n+TcZ76IFHTGVBeRrSKySkQ+EJHt7mpXcFgxoo5FpS1HRRwnOKxYhpiiAX6cOnma1NRUZ0x0lpgCBfNTp2Et/vxjseuTvgzFQoOIOhadthx97DjBoUEZYvwC/DiVcKF90REZYypUvYvvFnzBp1Pep2z50m7JO7du1PYFhAYSGxGTthwXEUtgaGDWmGMXYmIjYwgIuRAzeMpbvPf7RzR5vJnrE1ZZBIUGcvzY8bTl4xExBGV6Dn39fTl98jT2VHu6mIy/v1ZUNCSAE8di05ZPRMTiF3J9djyyUzQkgPh07YuPiMUv5PI/8ASUKEbxO8twcHPWYevrgV1c82NV1+OcstuArsaYPiISYIyJExEvYKGIVDTGjBaR/kBDY0xMNvvfCjxujOkuItOBDsAU4EughzFmpYi867bWAEjW3xBjTKaQS8fUb1aXzeu2WmroEnKXe3avkf9Cdm7bRdsaj5B4NpHajWrxwRcj6VD3CRdkemVu9Pall5vfy/8aNvjBVzkRHYdvoB9vTHmLo3uP8M/aHe5IU/0n29/NzCHZxGCyrLOci/zu3RBy8dxdyk2F8tNtXH9+HvY1SacTr1FiypWuq0qZ00FjzGrn7UdEZCOwCbgLuDMX++83xmx23t4AlHbONytijFnpXP99TjuLSA9ndW79xIkTr6gBAI92fZBpf37FtD+/4nhkDCHhIWnbQsKKcTwyY3/yRGw8RXx98PLycsYEZ4lp0a6JZYYuH+7yAN8t+B/fLfgfMVExhIQHp20LDi/G8ajYDPHxcQkU8bvQvuCwYhyPcrTvzOmzJJ51/EFZuWg13vm88Avwc1NLsnejtw8gLjKWwLALFZOAsEDiouIyxMRGxBAYfiEmMDSIuGhHzAnn/ydjE1g7bzXlKpV3Q9aqXec2TJg3jgnzxhEbFUux8AsV9WJhQcRm+t1MiEvAx9cHm5ftQkxkxhgrio+MxT/8QtXPPyyQhOgTHszo2oqPjKVouvYVDQvk5GW0z+btRbfxL7F+5nK2zlvrihTdwo645MeqrsdO2RkAESkDDAAaG2MqAn8ABXKxf3K626k4qoW5foaMMRONMdWMMdV69OiR+6wzmfblz2mT8xfPXUabRxwTaytUuYvTp84QE531j+K6lRtp2rohAG0facnieX+lbfMpUpiq91ZmSbp1njTjq1/SJq4vmfsX9z/UHIC7q9zJ6ZNniM2mfetXbKJR6/oA3P9wC5bNWw5AYLELQxJ3VroDm81GQlyCG1qRsxu9fQB7tuwmrEwYwSWD8c7nTZ0297F+QcY/7uv/XEv9Do7fyVsrl+fsqTPER58gf8H8FChcEID8BfNzT73KHN550O1tyItmff0bPZv3pmfz3qyYu5JmDzUF4I4qt3Pm1Jm0TnN6m1duof79jjmqzR5uysr5q9ya85U4uGUvwaXDCCxRDK98XlRtU5utC9Z7Oq1r5tCWvRQrHUqAs31V2tRm22W074n3ehG15yiL//eHC7NU19r1OHz5H18cHbQEEQkBWgJLnNtOAUWA7IYvszDGnBCRUyJSy1mFe8wF+eborz9XUrfxvfy+egZJiUkMeXFE2rYx333IW/3f5XhUDJ+8PZb3Jwyj76s9+Hf7Ln75/sIZN41a1WfV0rUknk1yZ+q5smLhauo0vpdfVk4lKTGZYf3eSdv2ybfvM3zAe8RExTJmxHhGjHuT3i8/w87tu5k11fHHpFHrBjzUqR0pKakkJyXzeu+3PNWUbN2o7bOn2vnfkIm8/s2b2LxsLJ6+kCO7D9O0o+MDxILv5rJx0QYqN6zGZ8vGcy4xmc8HfAaAX1BRBk58DQAvby+Wz1rG5qWbPNWUKzZw6Lus27SV+PiTNG7/JH26PUWHNs09nVaurVm0lpqNavDt8q9ISkrmg/4fpm0b+c1wPho4itioOCaNnMzgsYPo+nJn9mzfy5wfHCce+RfzZ9zsMRTyKYSxGzo88wBPN+zO2dNnPdWkNPZUO9OGfMGz37zuuGTE9MVE7D7CfR0dndC/vluAbzE/Xvn1XQr4FMQYQ8OnW/F20/4knU6k6+gXKF/rTnz8izBi1Tj++Hg6K6dbZz6uPdXOj0O+oM83g7B52Vg9fQmRu49Qp2MTAFZ89ydFivkx8Nd3KOBTELsxNHi6FSObvkT47aWo0aEeR/85yMuz3wPg9/ensmPJZg+26MrcQAPSuSKZ54hYmYiUBn43xtztXP4KqAnsw1EB+9UY85WIPAf0BSKMMQ1F5ABQDfDJtP8AwMcY86aI1AQm4ejoLQHqGWPqXCIlc09o7WvbSIvYErmS6uFZz+68Eaw75jjL7EZv38M3t/NwJq4x46DjWk3nY/Z5OBPXyBdUFoDGJW7MkyMWHplPn9KPeDoNlxh7YDoAz5d+1MOZuMboA9PgMkaWroWZoU+4pJPSPvJ7S45hXleVMmPMAeDudMtdcoj7DPgs3XJp582YTPt/mG63v53DoIjIq8CNUwdXSimlrkN57eKx11WnzMXuF5HXcDwmB4Eunk1HKaWUytvs2Z1lewPTTpmTMWYaMM3TeSillFIqb9JOmVJKKaUs6fqZ9X5tXI+XxFBKKaWUuuFopUwppZRSlqQT/ZVSSimlLMDK31PpCjp8qZRSSillAVopU0oppZQlWfl7Kl1BK2VKKaWUUhaglTKllFJKWVJeuySGdsqUUkopZUk60V8ppZRSSrmdVsqUUkopZUl57TplWilTSimllLIArZQppZRSypLy2kR/rZQppZRSSlmAVsqUUkopZUl57exL7ZQppZRSypJ0or9SSimllHI7rZQppZRSypK0UqaUUkoppdxOjMlrJ5xeU/rgKaWUykvcOvV+fMknXfI+2+vwFEueQqDDl0oppZSypLw2fKmdsqu0OvxBT6fgErWO/czckMc8nYZLtIj6AYBPSz3p4Uxc44VDUwB4/Ob2nk3ERaYenAlA4xLNPJuIiyw8Mh+A8zH7PJyJa+QLKsstQVU8nYZL7I3ZCEDn0h08nIlrfH3gJ0+ncMPTTplSSimlLCmvVcp0or9SSimllAVopUwppZRSlpTXzqbTTplSSimlLCmvfc2SDl8qpZRSSlmAVsqUUkopZUk60V8ppZRSSrmddsqUUkopZUl2F/1cioi0EJGdIrJHRF7NZntHEdnq/FkpIvdcXUsdtFOmlFJKKeUkIl7A50BL4E7gcRG5M1PYfqC+MaYi8DYw8VocW+eUKaWUUsqSPHRJjBrAHmPMPgAR+QFoB+xIy8uYleniVwMlrsWBtVOmlFJKKUvy0CUxigOH0y0fAWpeJL4bMOdaHFg7ZUoppZTKU0SkB9Aj3aqJxpj/hiCz6wpmW7QTkYY4OmV1r0Ve2ilTSimllCW56pIYzg5YTvPAjgAl0y2XAI5lDhKRisBkoKUxJvZa5KUT/ZVSSimlLlgH3CoiZUTkJuAx4Nf0ASJSCvgZeMoYs+taHVgrZUoppZSyJE9M9DfGpIjIs8A8wAv4whjzt4j0cm4fDwwBAoGxIgKQYoypdrXH1k6ZUkoppSzJ7qHzL40xs4HZmdaNT3f7GeCZa31cHb5USimllLIArZQppZRSypL0uy+VUkoppZTbaaVMKaWUUpbkoSv6e4x2yizAr0FlSr/9NGKzET31T46N+SXDdv/m1Skx8HEwBpOSysGhX3Bq7b8AhHZvTfATTcDA2X8PsrffGEzyeU80I0dBDe/hjuGdwcvGke8Wsf+zDGcWE9yiKre+8gjG7mjfP298Q/zandjy56PGrKHYbsqHeNmI+n0Nez740UOtyNnN9StS/82nEC8bf/+whPVjf8uw/bb2tanWuzUA584ksfj1r4j55xA+YQE0+7gXhYv5YYxh+/eL2fzFPE80IUf31K9Mp6HPYPOysfiHBfw67ucsMZ3ffIZKDatyLjGZcQNGc2D7PgAK+Ramx3t9KVG+FGCYMHAMuzfudHMLLq3vsD7UbFSd5MRk3u/3Ibu378kSE1oylMFjB1GkaBF2b9vNuy+8T8r5FEreUpKXR71EubvL8cX7XzFjgvV+Py9m8MhRLFuxlgD/osycMv7SO1jQkJEDadCkLomJSbz83FD+3vpvlpinuj1K155PcHPZklQr34gTcfEAlC1Xmvc+e5O7Kt7OqJGfM/nzb92c/cVVqF+JjkOexuZlY+m0hfwx7pcsMR2HPs09DatwLvEckwZ8xsG/9wPQvFtr6j/aBGMMR3YeYvLAMZy32HtDbujwpXIvm40yI7vzb8fhbGnwAoHt7qPgrRm/Qivhr21sa9KfbU1fYl//zyn7YR8A8oUGENrtfra1fJmtjV5EbDaC2l2TiwpfOzbhznefZv0T77L8vpcIe6AOhcsXzxASu2w7Kxq+wsrGr7Kt3wTuHuW4yLI9+TzrHnyblY0c24IaVcKvajlPtCJHYhMaDO/MzM7v823jlynfthYBt4ZniDl5+Dg/PjKc75oPYu3omTR+92kA7Kl2/hr+Pd82foVp7d6kYqcmWfb1JLHZ6Pp2T97rPIwBTZ6jdtv7KJ7pd7NSw6qElgmjX/3eTHptLN2G90rb1nloN7Ys3ciAxs/ySot+HN1zxN1NuKQajapTokxxOtXtyqhXPuGFd57PNq77oG78NOlnOt/XldMJp2n5WAsATsWfYsyQsdddZ+w/7Vs1Zfyo4Z5O44o1aFKH0mVL0ahGO17vP5xhH7yWbdyGtZt5qkMvjhzKeP3PhPgEhg16n/9ZrDMGjtdfp2Hd+ajLCF5r+iK12tYlvFzG11/FBlUILRPGyw2e5ctB4+g8wvG30z8kgKZdWjG0zcu83rwfNpuNmm0s9t6gsnXRTpmIFBWRPs7b4SLisr88IlJJRFq56v6tyqdyOZIORJB8KApzPoXYWcvxb14jQ4z9bFLabVuh/BnqueLtha3ATeBlw1YwP+ei4tyVeq4UrVKOs/sjSTwYjTmfSuTMlYS0yHgpl9SzyWm3vTO1779tks8L8fayXC07pNItJByI4uSh49jPp7Lrt9WUbVY1Q0zEht0kJ5wFIHLTHnzCAgA4Gx3P8e0HADh/Jom4PcfwCQ1wa/4XU67SrUQeiCD6cBSp51NY9dtyqjXN+PVvVZvW4K+flgCwZ9MuCvkWpmiwPwV9CnJ7zbtY/MOfAKSeT+HsyTPubsIl1WlWm/k/LgDgn43/4uNbmIDgrM9B5TqVWPrHMgDmz1hAnea1AYiPjWfnll2kpKS6L+lrqFqlCvj5FvF0GlesScsG/DL9dwA2b9iGr18RioUEZYnbsW0nRw9HZFkfG3OCbZt2cD4lxeW5Xq6ylcoRdTCS487X35rfllOlWfUMMVWaVWfFz0sB2LtpN4WKFMavWFEAbF5e3FTgJmxeNm4qeBPxFntvyC27uObHqi41fFkU6AOMNcYcAx5yYS6VgGpkui7Ije6m0EDOHbvw7QznImLxqXJrljj/FjUpNagj+QL9+LfTCADOR8YRMW4WVdZNwJ50joSlW0hYusVtuedG/tAAEtO1L+lYHH5Vsla7gltWp/zrj3FTkB8bn3zvwgabUHvBOxQqE8qhL+aTsDHr0JIn+YT6c+rYhT92pyPiCK10S47xdz3agAOLt2ZZX6REEMF33Uzkpr0uyfNK+IcGEBsRk7YcGxFLucoZfzcDQgOIPXYhJi4yloCQAFJT7ZyMTaDXh89z852l2bdtL9+8OZnkxGSsJCg0kOPHjqctH4+IISg0kLjoC8+pr78vp0+exp5qTxeT9Y1fuV9IWDDHjkalLUceiyY0rBjHo2Iustf1wT8kgLj0r62IOG6pdGuWmMyvP//QQA5s28ucSb8yauV4ziWdY/tfW9j+l7XeG1T2LjV8+S5wi4hsFpEZIrIdQES6iMhMEflNRPaLyLMi0l9ENonIahEJcMbdIiJzRWSDiPwlIrc71z8sIttFZIuILHN+jcEw4FHnsR4VkRoistJ5nytF5LbLPPYSEfnEue92EamRbQsdsaNFZIjzdnNnTu4Z2s3l156emLuGLfWeZ+fT71Hy5ccB8PIrjH/zGmyq2ZuNlZ/BVig/QQ/Wc22+lyvbTyRZGxg9Zx3L677Epi4fUu6VRy5ssBtWNn6VJZX64FflFnxuL5FlX4+SrA00OVTzStx7B3c9Wp8V7/yQYX2+Qvm5f8ILLH1rCudOJ7oiyysi2T15mdomObTfy8tGmbtvYcGUObzWqj/JZ5No26eDizK9Crl4/rJto9VKtnlUNk9Njq+/6032r60sv5xZdzSGQr6FqdK0OgPu68OLNbuTv1ABare32HtDLtkxLvmxqkt1PF4F9hpjKgEDM227G3gCqAGMAM4aYyoDq4BOzpiJwHPGmKrAAGCsc/0QoLkx5h6grTHmnHPdNGNMJWPMNOBfoJ7zPocAIy/z2ACFjTG1cVT7vrhEOx91ftv7aKCrMSbb+YUi0kNE1ovI+okTc/ou09w7FxHLTeGBacs3hQVyLjLnMvOpNTvIf3Mo3gFF8LuvIsmHo0iJO4lJSSVu9hp8qt1+1TldS8kRcRRM174C4QEkR57IMf7E6n8pVDqEfAEZh1RSTp4lbsUOghpWclWqV+R0RBxFwi8Md/mEBXAmOmv7gm4vSeP3n+G3Zz4mKf502nqbtxf3T3iBnb+sZO/c9W7JObfiImMJDLtQEQoMC+REpiGQ2IhYAsMvxASEBnIiOo7YyFjiImLZu3k3AGtmr6LM3WXdk/gltOvchgnzxjFh3jhio2IpFl4sbVuxsCBiozJ+r3BCXAI+vj7YvGwXYiKvyXcPqyvw5NOP8Nviqfy2eCrRkccJLx6Sti00PJioyOMX2fv6ERcZS0D611ZYAPHRGV9/JyKzef1FxXFX3YocPxzNqbiTpKaksmHuaspVvc1tuV9LxkU/VnU11aDFxphTxpjjQALw3yln24DSIuID1AZmiMhmYAIQ5oxZAXwlIt1xfK9Udvyc+24HPgbuyu2x08VNBTDGLAN8RaRodgcyxpwFugMLgDHGmBzHkIwxE40x1Ywx1Xr06JFTWK6d3ryHAmXCyF8yGMnnTWC7upyYvy5DTP7SoWm3C1Uoiy2fNylxpzh3NAafKuWxFbwJAL+6FUi02GTqhE17KVQ2lIKliiH5vAhtX5voeRsyxBQqfeGPqm+F0tjyeXM+7hT5Aovg7VsIAFuBfATWq8CZPRkn6npa1JZ9FC0Tim/JYtjyeVG+TS32LdiYIaZIeCD3T3yR+S+OJ35/ZIZtTT54hrg9x9g0eY47086VvVt2E1omjGIlg/HK5829beqyYcHaDDEb/1zLfR0aAFCucnnOnjpDfPQJEo7HExsRQ1hZx4kLd9epyJHdh93dhGzN+vo3ejbvTc/mvVkxdyXNHmoKwB1VbufMqTMZhi7/s3nlFurf76g0NHu4KSvnr3JrzuqCKV9Mp03Dx2nT8HHmz17CA484zmyuVLUCp06eviGGLgH2b9lDSOkwgko4Xn8129Rl04KMH9w2LVhHnQfrA3BL5VtJPHXW8do7FkO5yuW5qYDjveHOOhU4ZrH3BpW9q7kkRvrJIfZ0y3bn/dqAeGeVLQNjTC8RqQncD2wWkSwxwNs4Ol8PiEhpYMllHDvtUJkPnXNzqADEAu49/S3VzoHXJ3P790MQLxvRPywkcddhgp9qBkD0t/MJvP9egh6qj0lJxZ54jt29PwLg9KbdxP2xigrzPsSk2DmzfR/RU+a7Nf1LMal2drz2JdV+GIR42TgydTGndx6hZKcmABz+5k9CWtck/OH7HO1LOsfmHp8CkD/En4qjeyNeNrDZiJy1iuOZOjyeZlLtLHnja9p/+zLiZWPHtKXE7TpKhScbAbBtyiJqvPAABfx9aDi8CwD21FR+aD2E8OrluaPDfcT8c4gn5jjmCa58fzoHFltj7oc91c5XQybx2jdDsXl5sWT6nxzZfZgmHZsD8Od389i0aAOVGlblk2XjSU5MZsKA0Wn7fzV0Es9+2h/vfN5EHYrKsM0q1ixaS81GNfh2+VckJSXzQf8P07aN/GY4Hw0cRWxUHJNGTmbw2EF0fbkze7bvZc4PcwHwL+bPuNljKORTCGM3dHjmAZ5u2J2zp896qkmXZeDQd1m3aSvx8Sdp3P5J+nR7ig5tmns6rVxbsmA5DZrUZdG6WSQlJvHK82+mbfvf1NG81m8Y0ZExdO7+GN2f60yx4ED+WDaNJX8uZ9CLbxMUHMjMP6fgU6Qwxm7o0vMJWtR+iNOnPX9Sij3VzrdDJjPwmzewedlYNn0RR3cfpmFHx3vD4u/ms2XxRio2rMIHSz8nOTGZyQM/B2Df5t2sm7OKt/74EHtKKgf/3s+SqQs82ZwrltcuiSFZxqjTbxQJBDYaY252dox+N8bcLSJdgGrGmGedcQecyzHpt4nISuBjY8wMcQyQVzTGbBGRW/6rRonIJqArcAuOoczOzvW/AFOMMT+JyJtAF2NM6cs49hLgX2cHsC4wzhhTIYd23oyjStYAx4kGPY0xa3Lx+JnV4Q/mIuz6U+vYz8wNeczTabhEiyjHnK5PSz3p4Uxc44VDUwB4/Ob2nk3ERaYenAlA4xLNPJuIiyw84vhgdT5mn4czcY18QWW5JaiKp9Nwib0xjg+NnUtbcP7kNfD1gZ8gh5nCrvJa6SdcMtr4zoHvLXkO5kWHL40xscAK5xDiB1dw/x2BbiKyBfgbaOdc/4GIbHPe7zJgC7AYuPO/if7A+8A7IrKCnIc4L+WEs2M4HuiWXYCzs/g/YIDzDNNuwGQRKXCFx1RKKaXUNZDXJvpfcvjSGPNENuu+Ar5Kt1w6u23GmP1Ai2z2z668FAdUz7SufLrbb1zOsZ1+MsZkfzXBC/sYoEm65Q04hjKVUkoppdxGv2ZJKaWUUpZk3ZqWa9ywnTJjTIPM60SkK/BCptUrjDF93ZKUUkoppXItr030v2E7ZdkxxnwJfOnpPJRSSimlMstTnTKllFJKXT+sPCnfFdzzVUJKKaWUUuqitFKmlFJKKUvKW3Uy7ZQppZRSyqLy2kR/Hb5USimllLIArZQppZRSypJMHhvA1EqZUkoppZQFaKVMKaWUUpaU1+aUaadMKaWUUpak1ylTSimllFJup5UypZRSSllS3qqTaaVMKaWUUsoStFKmlFJKKUvSOWVKKaWUUsrttFKmlFJKKUvSS2IopZRSSlmAXtFfKaWUUkq5nRiTt3qh15g+eEoppfIScefBni79kEveZ7848KNb25FbWilTSimllLIAnVN2lbxvKu7pFFwi5dxRChQo5ek0XCIp6RAA/j7lPJyJa5w4vQeAesUbezgT11h2dCEAfUo/4uFMXGPsgekA3BJUxcOZuMbemI2cj9nn6TRcIl9QWQDalWrt4UxcY9ah391+zLw2p0w7ZUoppZSypLx29qUOXyqllFJKWYBWypRSSillSfY8djKiVsqUUkoppSxAK2VKKaWUsqS8VSfTTplSSimlLEq/kFwppZRSSrmdVsqUUkopZUl57TplWilTSimllLIArZQppZRSypL04rFKKaWUUsrttFKmlFJKKUvKa2dfaqdMKaWUUpakE/2VUkoppZTbaaVMKaWUUpakE/2VUkoppZTbaaVMKaWUUpZkTN6aU6adMqWUUkpZUl47+1KHL5VSSimlLEArZUoppZSyJJ3or5RSSiml3E47ZRbx8ahh/LtjORs3LKBypbuzjfnm68/4e/syNm9ayKSJH+Ht7Sh0Pv74A2zcsICNGxbw19JZVKx4pztTv2wfffQWf/+9jHXr5lEph7Z+9dWnbN26mA0bFjBhwgdpbbWqdz94gw1bFrJ89e9UvOeubGO693yKDVsWcuL0HgIC/dPWP/fCMyxb+SvLVv7KyrWziUnYSVF/P3elfknPD+vL98u/4csFkyh/963ZxoSVDGX8b2P4fvnXvDluMN75HM9X0wca8+WCSXy5YBJjZ43mljvLujP1S7qz/j0MXfgJby4ZTbPe7bJsD7klnAE/D+fTnd/RpHubDNuefL83762fxOB5H7or3SsyZORAFq2dxR9Lp3FXxduzjXmq26MsWjuLvTEb8Q8omra+bLnSzJjzFTuOruaZvk+5KeNrY/DIUdS7/zHaP9nL06lcscr1qzB28XjGL5tIhz4PZRvT/a0ejF82kU/nfUbZu28BIF/+fHzw6yg+mfsZn/35OY/3f8KdaV9TxkX/rOqG65SJSGkR2Z7DtiUiUs3dOV1KyxaNuLVcGW6/sy69e7/C52PeyTZu6tRfuOvuelSq3JiCBQvQ7WnHC+3A/sM0avwQVao2ZcTITxg/9j13pn9ZmjdvSLlypbnrrnr07fsqo0ePyDZu6tSZVKzYkKpVm1KwYAG6dn3MzZnmXtNm9bnlltJUvacxLz43mI8+eSvbuNWrNtC+TScOHTySYf1nn06mXu221KvdlmFDP2TF8rXEn0hwR+qXVKtRDUqUKcETdTvxwSuj6P/OC9nG9Xy9O9Mn/cQTdTtzKuE09z/eEoCIwxE891A/ujbtztefTGHge/3dmf5FiU14dFg3xnQZydtN+1GtbR1CyxXPEHMm/jQz3vyShZN+y7L/6h+XMKbzSHele0UaNKlD6bKlaFSjHa/3H86wD17LNm7D2s081aEXRw4dy7A+IT6BYYPe53+ff+uOdK+p9q2aMn7UcE+nccVsNhs9h/fmrc5DebZxH+5rW5+St5bMEFO1YTXCSofTq14PPn91DL1H9AHgfPJ53nhsEC+2eI4XWzxPlfpVKV/5Nk8046rZMS75saobqlMmItYup+SgTZvmfPvdjwCsWbsRv6J+hIYGZ4mbM3dR2u116zZTokQYAKtWryc+3vEmvnrNRooXD3ND1lemTZtmfPfdTwCsXbuJokV9s23rvHmL026nb6sVtWrdhB+m/gLA+nWb8fPzJSSkWJa4bVt3cPjQ0YveV4eHW/PTjN9dkueVqNu8DvN+nA/Ajo3/4OPnQ2BwQJa4KnUqs/SPpQDMnTGf+5rXAWD7+h2cTjgNwN8bd1AsLOvj4imlK5Xj+MFIYg9Hk3o+lQ2/reSeZtUzxJyOPcnBrXtJTUnNsv+etf9wxtk2q2rSsgG/THf8Pm3esA1fvyIUCwnKErdj206OHo7Isj425gTbNu3gfEqKy3O91qpVqoCfbxFPp3HFbq1UnsgDEUQdiiLlfAp//baMGs1qZYip0awmi39yvC/s2rSTwr6F8Q92VOGTziYB4OXtjZe3F+SxS0tcrzzaKctc1RKRASLypog8LyI7RGSriPzg3FZYRL4QkXUisklE2jnXdxGRGSLyGzA/0/0XFJEfnPczDSh4kVy6icjH6Za7i8ioa93m7BQPD+XI4QufUI8eiaB4eGiO8d7e3nTs2CFDx+U/T3d9jLnZrLeK8PBQjhy58Mf/6NFIwi/R1ieeeJD585e6I70rEhYWwtF0bTp2LJKw8JDLvp+CBQvQuEk9fp0191qmd1WCQoOIPnY8bfl4xHGCQjO+qfv5+3I64TSpqfYcYwBaP9aSNYvXujbhy1A0JIATx2LTlk9ExOIXkrXDeT0LCQvm2NGotOXIY9GEWqhjrHIWGBpITLrXXmxEDIEhgVljImLSlmMiYwkMdcTYbDY+njOabzZNYfPyzezavMs9iV9jxhiX/FiVVStLrwJljDHJIlLUue51YJEx5mnnurUi8qdz271ARWNMnIiUTnc/vYGzxpiKIlIR2HiRY/4AbBWRl40x54GuQM/MQSLSA+gBMGHChCtuYKb7zLLuYr80Yz4byV9/rWH5ioxvcA3q16Zr18ep3+CBa5KXK2TT1Iu2dfToESxfvpYVK6zzZp7Z5T5/OWnRqhFrVm+0zNAl5PL5yj4ow2Ll2pW4//GW9H3gxWuX3NXKRd7XuzzQxBtXLl57kk3QfzF2u51+LZ+nsG9hXpv4OqXK38yhXQddkuqNSERaAJ8CXsBkY8y7mbaLc3sr4CzQxRhzsT5Grli1U7YV+E5EZgIzneuaAW1FZIBzuQBQynl7gTEmLpv7qQeMBjDGbBWRrTkd0BhzRkQWAa1F5B8gnzFmWzZxE4GJ/y32eTb7+UOX0rtXZ7p16wjA+vWbKVEyPG1b8RJhHIuIyna/Nwb3o1ixQHr3eSbD+goV7mDC+A9o3fYp4uJOXFFOrtKzZyeefvpxADZs2JphKLJ48VAicmjr66+/SFBQAH37vuqWPC/HMz2epFOXRwDYuGEbxdO1KTw8lMiI6Mu+zwcfas1PM7LOXXK3Bzq3o3XHVgD8u3knweEXKivFwooRGxWbIT4hLgEfPx+8vGykptopFlaMmHQxZe8oy8sfvMTAp17j5ImT7mlELsRHxuIffqHy4B8WSEK0tV47V+LJpx/h0accH8y2bf6b8OIhbHBuCw0PJiryeM47K8uIjYglKN1rLzAsiLjojG9zMZExBIVdqEoHhQYSF5Ux5szJM2xbvY0qDapcl50yT1wSQ0S8gM+BpsARYJ2I/GqM2ZEurCVwq/OnJjDO+f9V8fScspRMORRw/n8/jgekKrDBOVdMgA7GmErOn1LGmH+c8WcucozL+Vw4GeiCo0r25WXsd9nGjf+aatWbUa16M379dR5PdXScWVOzRhVOJpwkMjLrm/rTXR+nWdMGdHyyb4ZPTCVLhjNj2iS6dH2B3bv3uTLtKzJhwjfUrNmSmjVb8uuv8+jYsQMANWpUJiHhVLZt7dr1MZo0qUenTs9astQ8eeKUtMn5s39fwGOPO94Eq1WvxMmTp4iKurw3Pl9fH+rUqcHsP/68dLCL/fL1LLo160m3Zj35a94Kmj/UDIA7q9zBmZNniI3O+vln08rN1L+/PgAtHm7G8vkrAQgOD2b4pDcZ8cI7HNl3JMt+nnRwy16CS4cRWKIYXvm8qNqmNlsXrPd0WldtyhfTadPwcdo0fJz5s5fwwCOtAahUtQKnTp7meFTMJe5BWcHuLbsIKxNOcMkQvPN5c1+beqxdsCZDzNoFa2jYoREA5SvfxplTZzkRfQLfAF8K+xYG4Kb8N3FP3Uoc2Wut15/F1QD2GGP2GWPO4RhJy3x6djvgG+OwGigqIlc9+dnTnbIoIFhEAkUkP9DamVNJY8xi4GWgKOADzAOec5YMEZHKubj/ZUBHZ/zdQMWLBRtj1gAlgSeAqVfSoCsxe85C9u0/xM5/VjB+/Ps8+9ygtG2/zfqGsDDH/KSxn79LcHAQy//6lfXr5jP49RcBGPx6PwID/fnss5GsXzef1atmuyv1yzZ37iL27z/Ejh1/MXbse7zwwuC0bTNnfpXW1s8+G0lISDGWLp3JmjVzGDQo+7P+rGD+vCUcOHCYjVsX8emYEQzoNzRt2/SfJqedyNCjdye271xOePFQlq/+nU/HXDhz7/42zVi8aDlnzya6Pf+LWb1wDRGHIpi64ltefr8/owZ9mrbt/W9Gps1xGT9iEo/2eIjvl3+Dr78vf0ydA0CXfk/h5+9Lv5Ev8L/5E5g4e6xH2pEde6qdaUO+4NlvXmfInx+z8fdVROw+wn0dm3Jfx6YA+BbzY8SqcTTqdj8tnnuQEavGUcDHMTW16+gXGPjzcELKhjNi1ThqP9LQk83J1pIFyzl08CiL1s1i5MeDGfryhTO7/zd1NMHOuX+duz/G8q1zCA0P5o9l0xj5yRsABAUHsnzrHJ7u3ZG+/Z9h+dY5+PgU9khbLtfAoe/SsWc/Dhw6QuP2T/LTb/M8ndJlsafamfjGeN78dhhjFo1jxe9/cXjXIVo82ZIWTzrObt6waD1RhyIZ/9ck+r73HBMGO15f/sEBDP9hJJ/O+4wPf/+YLX9tYv3CdZ5szhVz1SUxRKSHiKxP99Mj3WGLA4fTLR9xruMyYy6beLoKISLPA88D+4Gjzp/6gB+O6tgUY8y7IlIQ+ASo7Vx/wBjTWkS6ANWMMc8676808Lsx5m7nPl8CdwKbgXLA88aYHD8Oi8irQCVjTG6uwWC8b7rq58CSUs4dpUCBUpcOvA4lJR0CwN+nnIczcY0Tp/cAUK94Yw9n4hrLji4EoE/pRzyciWuMPTAdgFuCqng4E9fYG7OR8zHWq+hfC/mCHNfha1eqtYczcY1Zh36HbGe7uU6Tks1d0kn58/C8HNshIg8DzY0xzziXnwJqGGOeSxfzB/COMWa5c3kh8LIxZkN295lbHp9TZowZjXPe1yXiEslm4r0x5ivgq3TLB4C70+1zuRe4qgt8fMkopZRSSt2IjuAYNftPCeDYFcRcNk8PX1qGiBQVkV1AojFmoafzUUoppfI6D10SYx1wq4iUEZGbcBR3fs0U8yvQSRxqAQnGmKwX+7tMHq+UeYKIrAHyZ1r9lDGmvCfyUUoppZQ1GGNSRORZHHPZvYAvjDF/i0gv5/bxwGwcl8PYg+OSGF2vxbHzZKfMGHPVp60qpZRSyrU89ZVIxpjZODpe6deNT3fbAH2v9XHzZKdMKaWUUtZn5S8PdwWdU6aUUkopZQFaKVNKKaWUJdktePFwV9JKmVJKKaWUBWilTCmllFKWlLfqZNopU0oppZRFeersS0/R4UullFJKKQvQSplSSimlLEkrZUoppZRSyu20UqaUUkopS8rF91TeULRSppRSSillAVopU0oppZQl5bU5ZdopU0oppZQl6XdfKqWUUkopt9NKmVJKKaUsSSf6K6WUUkopt9NKmVJKKaUsSSf6K6WUUkpZQF4bvpS81uBrTB88pZRSeYm482CVQ+u45H12U+QKt7Yjt7RSdpWeKf2Qp1NwickHfuT50o96Og2XGH1gGnBjP3cAdYo38nAmrrHi6CKAG/73s3PpDh7OxDW+PvAT7Uq19nQaLjHr0O8AnI/Z5+FMXCNfUFm3HzOvDV/qRH+llFJKKQvQSplSSimlLCmvXTxWO2VKKaWUsiR7Hpv3rsOXSimllFIWoJUypZRSSllSXhu+1EqZUkoppZQFaKVMKaWUUpakc8qUUkoppZTbaaVMKaWUUpaU1+aUaadMKaWUUpakw5dKKaWUUsrttFKmlFJKKUvKa8OXWilTSimllLIArZQppZRSypLy2pwy7ZQppZRSypJ0+FIppZRSSrmdVsqUUkopZUnG2D2dgltppUwppZRSygK0UqaUUkopS7LnsTll2ilTSimllCWZPHb2pQ5fKqWUUkpZgFbKLOCu+pV4fEhXbF42/pq2kDnjZmaJeXzo01RoWJlzief4YsAYDv29H4DGXVtR77EmIMJfP/zJn1/84ebsL+2O+vfw4JAu2LxsrJq2iD/HzcqwPfiWcDp+0JuSd5Xh9w9/YNGk3wEoGhbIU6P6UqRYUYzdzsqpC1n65RxPNOGibvTn78Vhz3Jvo5okJSYxot/77Nq+O0tMWMlQ3hr7Br7+Rdi1bTfDnn+HlPMp1G1Wm+4Du2KMITUllU+Hfs7Wdds90Irs3ei/mxXqV6LjkKexedlYOm0hf4z7JUtMx6FPc0/DKpxLPMekAZ9x0Pm72bxba+o/2gRjDEd2HmLywDGcTz7v7iZcVOX6Vej+Zg9sXjYW/DCfn8b+mCWm+1s9qNqwGsmJyXz60ifs276XfPnzMXLGe+S7KR9e3jZWzl7B1FHfe6AFV27wyFEsW7GWAP+izJwy3tPpuExeG77USpmHic1Gx2HP8EmXEbzRtB812tYlrFyJDDEVGlQmuEwYgxo8xzeDxvPkiB4AhJcvSb3HmjCi3au81fIlKjaqSnDpUE80I0diEx4e9jTju7zDyKb9qdq2DqHlimeIORt/mp/e/IqFk37LsN6eksovw79lZJP+jHpgMPc91SzLvp52oz9/9zaqSYkyxXm07lO8/8ooBrzzYrZxvV/vwbRJP/JY3U6cSjhF68dbAbBh+UY6N+1Ol2Y9GPnSB7z64QA3Zn9xeeF3s9Ow7nzUZQSvNX2RWm3rEp7pd7NigyqElgnj5QbP8uWgcXR2/m76hwTQtEsrhrZ5mdeb98Nms1GzTV1PNCNHNpuNnsN781bnoTzbuA/3ta1PyVtLZoip2rAaYaXD6VWvB5+/OobeI/oAcD75PG88NogXWzzHiy2ep0r9qpSvfJsnmnHF2rdqyvhRwz2dhrrGLtopE5GiItLHeTtcRLJ+DLlGRKSSiLRy1f1bVZlK5Yg+GEnM4WhSz6ew9rcVVGpWPUNMpWbVWfXzEgD2bdpNoSKF8CtWlLByJdi3aRfnks5hT7Wza80OqjSv6YFW5OzmSuU4fjCK2MPRpJ5PZeNvK6mQqX2nY09yaOte7CmpGdafPB7P/9u78/AqqvOB4983gQgSs7LjEkXcCgiIYIEiUETFKlb00Ue0glQe1P4sVWntrxWXtkirP9G2KiJVoFArCuJSpSKLgYAsQsJShEDZZAkkIYBsLcn7+2NOwuRyk9yQ3OTm5v3kmSeznJk575y59545c+beb9xV+4kjx8nZsovElik1lvdQRHv59bq+B3PemwvA+lUbOCcxntTmp5fBVT07s/AfXwDwybuf0fv6ngAcO3q8JE2jsxtFVP+QaD83L+p0MTnb97J/Zw6F/z3Jso8W0yUgvi4DriZjllduW1Znc/Y5TUhslgRATGwscY3iiImNIa5xHAU5+TUdQrnadbqEvdv2kLMjh5P/Pcmij9LpNuCaUmm6DejOgpnzAdi0eiNNEpqQ3DwZgOPu3Ixt0IDYBrEQQedmKLp26kBiwjm1nY2wU9WwDJGqopayJOAhAFXdraq3hzEvnYB6VylLbpHCgd25JdMH9uSR3KL0m3tSi1Tyd+edSrM3n6SWqezeuIN23a6gSVI8cY3i6NC3M8mtUmss76FIapFCgS/vBXvySGyRXOntpJzbjDZXXMj2zM3Vmb0qi/bya9ayKft27yuZ3rdnP81aNi2VJjE5gW8Pfkthofd9QvsD0vS+oRd/+2IyL0wZy9jHnq+ZjIegPpyb+b5zM39PPsktUk9Lk+dPszeP5JapHMjJ59M3PuTFJRN4efkkjh4+yrpFWTWW91Cktkwld/f+kum8PbmkBsSX2jKV3D2n4svdm0dqSy9NTEwM4z/9I1NXTyNzcSabMjfVTMaNKUdFfcrGAW1FJBPIBi5X1fYiMhS4FYgF2gP/B8QB9wIngIGqmi8ibYFXgGbAUeABVf1aRO4AngIKgYNAf+BZoLGI9AKeA7YCLwGNgWPAMFXdWIl9LwQygW5AAnC/qi4PDFBEYoCNQA9V3e+mNwHXqGpuYPpqJ3LarMBafJAkoMqeLbuYM2E2j04bw4kjx9m5YTtFhRH2RXtB46vcJuLOPovhrz3KrGencPzbY9WUsWoS5eUnIcVXfpr0OYtJn7OYK7t35IHRwxh11+jqz+iZiPJzM5SyC3pyqnJ2QhO6XHc1j3/vIY4eOsLDrz5Oj1t7s2R2ephyewaCZj3g3AySqDhNUVERP7vxEZokNOGXE3/F+ZdcwI5N28OSVXPm7LcvS3sCaK+qnUQkDfjYt6w90BloBGwGfqGqnUVkPPAjvArVRGCkqmaLSHfgVaAfMAa4XlV3iUiSqv5HRMYAXVX1JwAikgD0VtWTItIfGAsMrsS+AZqoag8R6Q286dYrRVWLRGQaMMSt1x/IKqtCJiIjgBEAr7/+egWHr2IH9uaR3PpUq0Jyq1QK9h04LU1K61NXgMktU0puJSyeMZ/FM7zm+R+OvpsDe/KIJAV780jy5T2pVSqHAuIrT0yDWIZPeIyVsxez5p+n1alrXTSW3233DeKWITcBsCFzI81bNy9Z1rxVM3JzSuexIP8g8YnxxMbGUFhYRLMgaQCylq2hzQWtSUxO4OCBQ+ENIgTRfm7m780jxXduprRKoWBf6VuQB/bmkdq6KcWPbqS4VrLv9OrI/p37OJzvldNXc77k4qsujahKWd6ePJq2blYyndqqKfkB8eXuzaVpq1PHoGnLVPIDbsMeOXSEtV+upUufLlYpi0D225ehW6Cqh1V1P15rV3FP2LVAmojEAz2Ad11L2+tAK5cmA5gsIg/gtXgFk+jWXQeMB74T6r596d4GUNV0IEFEksrY15t4lTmA+4G3ygpaVSeqaldV7TpixIiykoVsW9ZmWqS1oum5zYlt2IBuN/cka+6KUmky567ku7f1AeCizu04dvgoB/cXAHBOagIAKa2b0uWG7iz/cHGV81SddmRtoVlaS1LObUZsw1i63NyDtXNXhrz+3b8fSc7mXSz4S+Q9lQjRWX6zpnzA0AEjGDpgBOn/XMwNt18HwHe6XM63h46Qt+/0vkWrlmTS56ZrARh4xwAWfZYBQJu01iVpLmnfjoYNG0ZEhQyi/9zcGnBudr+5F6sD4ls9dwU9b/PKra3v3MzbncvFnS8hrlEcAFf07MDuzd/UeAzlyc7aRKsLW9P8vBY0aNiA793cm+Vzl5VKs3zuMvoO7gfAJZ0v5cjhoxzYd4CElASaJDQBIO6sOK7s1YlvtkRWfKZ+qspXYpzwjRf5povcdmOAAlXtFLiiqo50LWc3AZkicloa4Dd4la8fula6hZXYd8muAncdLBBV3SkiOSLSD+iO12pWI4oKi/jbmEmMmvprYmJjyJgxn93Z33DtkAEAfDH9M9YuWEWHvl0Y+8Wf+c+xE7w1+tWS9R98bTTxyfEUnixk+pOTOHroSE1lPSRFhUW8N+ZNHpr6v8TExvDljIXszf6GnkP6A5Ax/XPOaZbI6A+fo1F8Y4pU6XP/QMZe9xitLzufboN7s2vDdn7+ye8B+PgPb/OvhZm1GFFp0V5+S+ct47v9ujMjYxrHjx1n7KN/KFn2wtTnGDf6BXJz8njtdxN55tUnGfHz+9m0fjMfv+19PUSfgb258fYBnDx5khPHTzDmwWdrK5TT1Idz869jJjF66pPExMaQPmM+u7J30tedmwumf0bWglV07NuF5794hRPHTjBp9CsA/DszmxWfLuWZf7xA0clCtq/fysK359ZmOKcpKixi4pMTePqvzxITG8O8d+ayc9MObrjnRgDmTPuUr+avpGvfrkxY9AYnjp3gT4+/BEBy8xRGvfgzYmJjkJgYMj5exMp5K8rZW+QZ/dQ4VqxeQ0HBIb5/6z08NPxeBt98fW1nq9pFcqf8cJDyAhaRVGCVql5QfPvS16fMf6txm5vO9S8TkSXAeFV9V7wODh1VNUtE2qrqFrfuamAY0Ba4RVXvc/PfB6ap6kwReRoYqqppldj3QuBrVwHsBbymqh3KiXUw8Cfgr6r6ixCPn/44LZzPPtSeSdve45G0O2s7G2Hxx23vABDNZQfQs02/Ws5JeGTs8m73Rvv5eV/a4ApS1k1Tts1k0Pk/qO1shMUHO7wePv/N/Xct5yQ8Gja9CIL25gufFomXhaVWlnPw6xqNI1Tl3r5U1Twgw91CPJPHpoYAw0UkC1gPDHLznxeRtW676UAWsAC4QkQyReRO4A/AcyKSQdm3OCtywFUMJwDDK0j7IRBPObcujTHGGFNzitCwDJGqwtuXqnp3kHmTgcm+6bRgy1R1K3BDkPVvC7KrfODqgHmX+MafrMy+nZmq+ssg+wrmSrwO/l+HmN4YY4wxYVTfbl/azywBIvIE8CA12JfMGGOMMcYvaitlqtoncJ6IDAN+GjA7Q1UfxvtONmOMMcZECPuesiimqm9hfcaMMcYYE4HqVaXMGGOMMXWH9SkzxhhjjIkAkfykZDhU5Rv9jTHGGGNMNbGWMmOMMcZEpPp2+9JayowxxhhjIoC1lBljjDEmItW3r8SwljJjjDHGmAhglTJjjDHGRCQN019ViEiKiMwVkWz3PzlImvNEZIGIbBCR9SIS+MX1QVmlzBhjjDERqUg1LEMVPQHMU9V2wDw3Hegk8JiqXg5cAzwsIldUtGGrlBljjDHGhG4QMMWNTwFuDUygqntUdZUbPwxsANpUtGHr6G+MMcaYiBShX4nRQlX3gFf5EpHm5SUWkTSgM7Csog1bpcwYY4wx9YqIjABG+GZNVNWJvuWfAy2DrPqrSu4nHpgJjFLVQxWlt0qZMcYYYyJSVTvll7ldrwI2sZzl/ctaJiI5ItLKtZK1AvaVka4hXoVsuqrOCiVf1qfMGGOMMRFJVcMyVNGHwH1u/D7gg8AEIiLAX4ANqvpiqBu2SpkxxhhjTOjGAdeJSDZwnZtGRFqLyCcuTU/gXqCfiGS6YWBFG7bbl8YYY4yJSJHY0V9V84DvB5m/GxjoxhcDUtltW0uZMcYYY0wEkEishdYhdvCMMcbUJ5Vu/amKBnFtwvI5e/I/u2o0jlBZpawOEZER/kd2o0k0xwYWX11n8dVd0RwbRH989Y3dvqxbRlScpM6K5tjA4qvrLL66K5pjg+iPr16xSpkxxhhjTASwSpkxxhhjTASwSlndEs39BqI5NrD46jqLr+6K5tgg+uOrV6yjvzHGGGNMBLCWMmOMMcaYCGCVsjpIREaKyI8qSPO0iDweZH6aiKwLQ56WVHH9b93/PiLycRlptolI0yDzg8ZaXUQkSUQequI2IjY+czoRGSUiZ/umPxGRpFrMkjGmHrBKWR2kqhNUdWpt58NPVXvUdh7CKAmoUqWsPiivwi8iC0Wka03nqTziKes9cBRQUilT1YGqWhDGvJRU/N3v570Xxn11CuU3+KJJOM9NKztTnaxSFmbuzeBrEZkkIutEZLqI9BeRDBHJFpFuIpIiIrNFZI2IfCkiHUUkxrWcJPm2tVlEWvhbTkSkrYjMEZGvRGSRiFwWJA9XiUiWiCwFHg5TnP6WoC9EZIaIbBKRcSIyRESWi8haEWnr0l0oIktFZIWI/CZgcwki8r6I/EtEJgT74BSRX4nIRhH5HLg0HDH5jAPauh+UXRGF8VWZiNSJ39F1r8cNIvIqsAr4i4isFJH1IvKMS/MI0BpYICIL3LxtItLUt/4bbp3PRKSxS3O1ew0vFZHny6oElCEJV/FX1d2qens1hh2oE+73+eqDGjg3k7CyM9VFVW0I4wCkASeBDniV4K+AN/F+qmIQMBv4E/CUS98PyHTjLwPD3Hh34HM3/jTwuBufB7TzpZkfJM0a4Fo3/jywLgxxfuv+9wEKgFbAWcAu4Bm37KfAS278Q+BHbvzhgPWPAxcBscBc4Ha3bBvQFLgKWIvXkpEAbC6ONYxluC6a4vPH5KYfd+fMI8C/3Dnzd7esiTtnVwCrgUFu/lDgXeAjYH7AcWoM/N1t5x1gGdC1jLxcAGS72GOARcCAMJZlEXCNm05x/2OBhUBHf1n41isumzS813MnN38GcI8bXwf0cOPjqMTrzB2rY0CmO6bFx3Eo3nvER8BW4CfAo64cvvTlvy0wB+/9ZRFwmZt/h8tXFpAOxAE7gP1uX3cC3YAlbptLgEsrue+FwEtu3XVAt3Li/CMwxo1f7/IUE8Hn5nBgvG/6AeDF+lZ2eK/LbKCZb3ozvteIDdX0HlXbGYj2wb0ZZPumpwJD3PhF7sW1GrjIl2YnkAj0AOa4eeOBB9z40+6NKt73ZlA8bAhIkwjs8G27I+GvlM31zU8HerrxfsBsN54HNHTjCQHrp/vWv59TFZ1teB+Mo4BnfWlepGYrZXU+Psr+4NsNnOXmJbn/YzlV8UgCNuF9GA4FvuHUG7z/OD0KvOk7505SxgefS/Nj4D1gNPB6mMtyq296JF6L2Rq8D7u7/GXhS1dcNmmUfj3/Avi1Oy7bffMr9ToLOHb+8aF4H37nAM2Ag8BIt2w8MMqNl3VxthZoE1CeQ4E/+/adADRw4/2BmZXc90LgDTfeu7y48S401gN9gY1A20g+N922tnDqtbwE6FBPy+4p33oDivdlQ/UOdeKWQxQ44Rsv8k0XAQ3w3hQCKbAUuFhEmgG3Ar8NSBMDFKhqp3L2LdT8D6dXFG+xsvIVOD9YupqOyS+a41sDTBeR2XhX2uC9Ad8ipx42aASc78bnqmp+kO30xmsVQVXXiMia8naqqpNE5A68SlKnqgQQgiPg3WLG+8C/WlUPiMhkvNgq4i//QryWl3D+uPECVT0MHBaRg3itH+B9aHcUkXi8C7h3RUqycZb7nwFMFpEZwKwytp8ITBGRdnjnXcNQ9+1L9zaAqqaLSIKIJGmQPniqelREHsC7mPmZqm4J7RAAtXBuquoREZkP/EBENuBVztZWIs9RU3Z4LZIf4LWs3Q+8VVHwpvKsT1lkSAeGgNcnC8hV1UPqXZK8j9dSskFV8/wrqeohYKv7MCvuuHxlQJoC4KCI9HKzhoQxjsrIAO5y44F56ub6ZMXgNdEvDlieDvxQRBqLyDnAzeHNKofxrjgrI9LjO0np139xZeQm4BW8W6hfuf44AgxW1U5uOF9VN7j0R8rZR8gVS/GedDzXTcaHul4VJeDl/6CItABu9C2rVJmr6gG8D79r3Ky7yktfSRVdBJRcnPmGy12+RuK15J0HZIpIapDt/wbvA7w93rnmr5ie6QVIeWXfAa8luXUZyyPq3AQm4bU8DaPyFZGoKTtV3QnkiEg/vBa9T4OlM1VjlbLI8DTQ1V2xjQPu8y17B7jH/Q9mCDBcRLLwbgsMCpJmGPCKeB39j1VXpqvop8DDIrIC72rPbymuTw5ef4j3/QtVdRXe8cgEZuL1wwgbVxnOcB23nw9xtUiPLwdoLiKpInIW8AO894PzVHUB8HO820HxwD+B/xF3KS8inUPYvv9Coz2lr8yD+T0wHRgDvFHpaM6AqmbhdR1Yj9cKkOFbPBH4tLijf4iGAxPd60zwbhmF6kwq/kD5F2ci0lZVl6nqGCAX7wM+cF+JeH0jwat8nIk73f56AQdVNWjsInIB8BjQGbhRRLoHSRZR56aqLsM7bnfjWpUC1IuycyYB04AZqlp4hvsz5ant+6c22GBD7Qx4Hac34z1sMBn4HV6r3Vq8CuMTLl1j4HXf/I/d/KGU7t+SRvDO1FPx+uKU1W/nWrzOx7FuehbuAZe6NADxvvEngJcruf7f3PEN7CzuP8bbcH3d/MuAC/E6i2fhdYYv7kw/y1duL+NVFlPwOsZn4n0gfxevL1YGXsvLtkrueyHwHBV3Fhfgc+AWN138QEujSD03A8rz7/W17HzbaQgcwj2MYEP1D/YzS8YYUw1E5E7gl3i3hrYDQ1V1f+3mKvxEZCHegygrazsv4SLeFz6PV9V5tZ2X6lTZshPv+9zGq+r3wpqxesw6+htjTDVQ1Xcou5uBqYPE+57I5UBWtFXIKktEngAeJHL6JUclaykzxtQYEVnGqafLit2rlXuizUQ4ERmG16/SL0NVw/Ll1dXBzk1PXSy7aGKVMmOMMcaYCGBPXxpjjDHGRACrlBljjDHGRACrlBljjDHGRACrlBljjDHGRACrlBljjDHGRID/BwgQfBbGVutaAAAAAElFTkSuQmCC\n",
      "text/plain": [
       "<Figure size 720x576 with 2 Axes>"
      ]
     },
     "metadata": {
      "needs_background": "light"
     },
     "output_type": "display_data"
    }
   ],
   "source": [
    "# Calculate the correlations\n",
    "correlations = df.corr()\n",
    "\n",
    "# Create a heatmap\n",
    "plt.figure(figsize=(10, 8))\n",
    "sns.heatmap(round(correlations, 2), annot=True, linewidths=.7)\n",
    "plt.title('Correlation Heatmap')\n",
    "plt.show()"
   ]
  },
  {
   "cell_type": "code",
   "execution_count": null,
=======
   "id": "0e402c0a",
   "metadata": {},
   "source": [
    "# Personalized Movie Recommendations: A Collaborative Filtering Approach"
   ]
  },
  {
   "cell_type": "markdown",
   "id": "89e2118e",
   "metadata": {},
   "source": [
    "## 1. Business Understanding\n",
    "### (a) Introduction\n",
    "\n",
    "CineCollab, established in 2006, has been at the forefront of digital entertainment, captivating audiences worldwide with a rich collection of films and sophisticated recommendation systems. Our success is deeply rooted in our commitment to elevating user experiences through advanced analytics.\n",
    "\n",
    "This project mirrors CineCollab's dedication, with a focus on refining recommendation systems. We develop complex predictive models, taking into account factors such as individual viewing habits and user behaviors. By mapping these variables, we intend to work closely with CineCollab to boost the precision and effectiveness of its recommendation algorithm.\n",
    "\n",
    "The MovieLens dataset plays a pivotal role in realizing this objective. Users can rate movies, and our model harnesses these ratings to craft personalized recommendations. The hurdle lies in designing a system that accurately deciphers user ratings and converts them into relevant film suggestions.\n",
    "\n",
    "The core business problem we tackle is optimizing user engagement by delivering desired movie recommendations. This involves understanding user preferences based on ratings and creating an intuitive and user-friendly platform for users to provide these ratings. We attempt to maintain a balance between simplicity and capturing nuanced user preferences to ensure the recommendations are both accurate and well-received.\n",
    "\n",
    "In essence, our project seeks to transform the way users rate movies and receive recommendations, aligning with CineCollab's ongoing commitment to personalized content discovery. Through our model, we aim to not only enhance efficiency but also provide a seamless and enriching experience for users globally, delivering top-notch movie recommendations tailored to their unique tastes and preferences.\n",
    "\n",
    "### (b) Problem Statement\n",
    "\n",
    "Online streaming platforms are the dominant form of media consumption but viewers often face a paradox of choice when presented with the entire catalogue. Users struggle to navigate through massive catalogues, leading to subscriber frustration and an increased likelihood of churn. By leveraging the MovieLens dataset comprised of over 100,000 ratings applied to nearly 10,000 films by hundreds of users, we intend to push CineCollabs recommendation algorithm forward. Enhancing recommendations based upon movies streamers prefer has the potential to improve CineCollab's user experience and to help audiences discover unexplored content that matches their interests. This project, implemented successfully will  promote media discovery, encourage niche, cult-like viewers and inspire artistry through expanded access to cinema. Building a working, accurate recommendation system will be the key to unlocking the full creative and commercial potential of CineCollab.\n",
    "\n",
    "### (c) Defining Metrics of Success\n",
    "\n",
    "The success of a movie recommendation model using collaborative filtering can be assessed using various metrics that measure its effectiveness in providing accurate and relevant movie suggestions. The combination of the metrics provides a comprehensive understanding of its performance in terms of accuracy, relevance, and user satisfaction. It's essential to choose metrics that align with the specific goals and objectives of the recommendation system and the preferences of the user base.\n",
    "\n",
    "### (d) Research Questions\n",
    "\n",
    "1. What features contribute most to the accuracy of collaborative filtering in generating top  movie recommendations?\n",
    "\n",
    "2. How does the frequency of user ratings influence the accuracy and stability of the movie recommendation model?\n",
    "\n",
    "3. What are the correlation between user ratings and various movie features?\n",
    "\n",
    "4. Which movie features demonstrate the highest correlation with collaborative filtering recommendations, and how do they impact the model's predictions?\n",
    "\n",
    "5. How successful is the collaborative filtering model in providing accurate and tailored movie recommendations based on user ratings and preferences?\n",
    "\n",
    "### (e) The Main Objective\n",
    "\n",
    "To develop and implement a movie recommendation system that leverages collaborative filtering techniques to provide personalized top 5 movie recommendations for users.\n",
    "\n",
    "### (f) The Specific Objectives\n",
    "\n",
    "1. To clean and preprocess the MovieLens datasets to ensure it is suitable for building a recommendation system.\n",
    "\n",
    "2. To understand the distribution of movie ratings, explore user behavior, and identify patterns in the datasets.\n",
    "\n",
    "3. To investigate and compare collaborative filtering techniques for building the recommendation system, such as Singular Value Decomposition (SVD), user-based and item-based.\n",
    "\n",
    "4. To implement and evaluate the performance of the collaborative filtering model using appropriate metrics such as RSME and MSE.\n",
    "\n",
    "5. To generate top 5 movie recommendations for a user based on their historical ratings.\n",
    "\n",
    "### (g) Data Understanding\n",
    "\n",
    "The MovieLens dataset (ml-latest-small) provides a comprehensive snapshot of user preferences and interactions within the MovieLens movie recommendation service. This dataset, created by 610 users over a period spanning from March 29, 1996, to September 24, 2018, is a valuable resource for gaining insights into user behavior, preferences, and movie metadata.\n",
    "It has 9 attributes.\n",
    "\n",
    "**Attributes:**\n",
    "\n",
    "1. **movieId:** Identifier for movies used by MovieLens.\n",
    "2. **title:** Contains the names of individual movies and serves as a unique identifier for each film within the dataset.\n",
    "3. **genres:** Classifies films based on overarching themes, narrative structures, and intended emotional impact.\n",
    "4. **imdbId:** Identifier associated with a movie on the IMDb (Internet Movie Database) platform.\n",
    "5. **tmdbId:** Identifier associated with movies on TMDb (The Movie Database).\n",
    "6. **rating:** Numerical evaluation given by users on a 5-star scale, with half-star increments (0.5 stars - 5.0 stars).\n",
    "7. **timestamp:** represents seconds since midnight Coordinated Universal Time (UTC) of January 1, 1970.\n",
    "8. **tags:** User-generated metadata about movies. Each tag is typically a single word or short phrase, with meaning, value, and purpose determined by each user.\n",
    "9. **userId:** Unique identifier assigned to each user who participated in movie rating and tagging activities.\n",
    "\n",
    "\n",
    "**Dataset Statistics:**\n",
    "\n",
    "100,836 ratings and 3,683 tag applications.\n",
    "9,742 movies encompassing a diverse array of genres.\n",
    "\n"
   ]
  },
  {
   "cell_type": "markdown",
   "id": "58c83a72",
>>>>>>> main
   "metadata": {},
   "source": []
  }
 ],
 "metadata": {
  "kernelspec": {
   "display_name": "Python 3",
   "language": "python",
   "name": "python3"
  },
  "language_info": {
   "codemirror_mode": {
    "name": "ipython",
    "version": 3
   },
   "file_extension": ".py",
   "mimetype": "text/x-python",
   "name": "python",
   "nbconvert_exporter": "python",
   "pygments_lexer": "ipython3",
<<<<<<< HEAD
   "version": "3.8.5"
=======
   "version": "3.10.13"
>>>>>>> main
  }
 },
 "nbformat": 4,
 "nbformat_minor": 5
}
