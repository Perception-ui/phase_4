{
 "cells": [
  {
   "cell_type": "markdown",
   "metadata": {},
   "source": [
    "The MovieLens dataset (ml-latest-small) provides a comprehensive snapshot of user preferences and interactions within the MovieLens movie recommendation service. This dataset, created by 610 users over a period spanning from March 29, 1996, to September 24, 2018, is a valuable resource for gaining insights into user behavior, preferences, and movie metadata.\n",
    "It has 9 attributes."
   ]
  },
  {
   "cell_type": "markdown",
   "metadata": {},
   "source": [
    "**Attributes:**\n",
    "\n",
    "1. **movieId:** Identifier for movies used by MovieLens.\n",
    "2. **title:** Contains the names of individual movies and serves as a unique identifier for each film within the dataset.\n",
    "3. **genres:** Classifies films based on overarching themes, narrative structures, and intended emotional impact.\n",
    "4. **imdbId:** Identifier associated with a movie on the IMDb (Internet Movie Database) platform.\n",
    "5. **tmdbId:** Identifier associated with movies on TMDb (The Movie Database).\n",
    "6. **rating:** Numerical evaluation given by users on a 5-star scale, with half-star increments (0.5 stars - 5.0 stars).\n",
    "7. **timestamp:** represents seconds since midnight Coordinated Universal Time (UTC) of January 1, 1970.\n",
    "8. **tags:** User-generated metadata about movies. Each tag is typically a single word or short phrase, with meaning, value, and purpose determined by each user.\n",
    "9. **userId:** Unique identifier assigned to each user who participated in movie rating and tagging activities.\n",
    "\n",
    "\n",
    "*Dataset Statistics:*\n",
    "\n",
    "100,836 ratings and 3,683 tag applications.\n",
    "9,742 movies encompassing a diverse array of genres.\n",
    "\n",
    "Temporal Information:\n",
    "\n",
    "Dataset spans from March 29, 1996, to September 24, 2018."
   ]
  },
  {
   "cell_type": "code",
   "execution_count": null,
   "metadata": {},
   "outputs": [],
   "source": []
  }
 ],
 "metadata": {
  "kernelspec": {
   "display_name": "Python 3",
   "language": "python",
   "name": "python3"
  },
  "language_info": {
   "codemirror_mode": {
    "name": "ipython",
    "version": 3
   },
   "file_extension": ".py",
   "mimetype": "text/x-python",
   "name": "python",
   "nbconvert_exporter": "python",
   "pygments_lexer": "ipython3",
   "version": "3.8.5"
  }
 },
 "nbformat": 4,
 "nbformat_minor": 2
}
