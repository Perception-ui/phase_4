{
 "cells": [
  {
   "cell_type": "markdown",
   "metadata": {},
   "source": [
    "# Movie Recommendations System using a Collaborative Filtering Approach"
   ]
  },
  {
   "cell_type": "markdown",
   "metadata": {},
   "source": [
    "# 1. Business Understanding"
   ]
  },
  {
   "cell_type": "markdown",
   "metadata": {},
   "source": [
    "### (a) Introduction\n",
    "\n",
    "Movie recommendation systems have become an integral element of contemporary digital entertainment platforms, enriching user experiences by offering personalized movie suggestions. These systems harness the capabilities of machine learning algorithms to analyze user behavior, historical data, and movie features, enabling the delivery of tailored recommendations. In this exploration, we delve into the construction of a movie recommendation system utilizing the MovieLens dataset from the GroupLens research lab at the University of Minnesota. Widely recognized in the field of recommendation systems, the MovieLens dataset encompasses user ratings for a diverse array of movies, providing valuable insights into individual preferences. For our analysis, we will focus on the \"small\" dataset, consisting of 100,000 user ratings. This smaller subset ensures computational efficiency and is well-suited for the initial development stages."
   ]
  },
  {
   "cell_type": "markdown",
   "metadata": {},
   "source": [
    "### (b) Problem Statement\n",
    "\n",
    "In the context of enhancing user engagement and satisfaction on a streaming platform, our specific business objective is to elevate the user experience by delivering personalized movie recommendations. This aims to actively involve users, extend their time spent on the platform, and potentially increase revenue through heightened viewership. Our strategy involves employing machine learning algorithms, such as collaborative filtering and content-based filtering, to analyze user ratings and preferences. Collaborative filtering discerns patterns by comparing user behaviors, while content-based filtering focuses on movie features and characteristics.\n",
    "\n",
    "In subsequent sections, we will delve into the intricacies of data preprocessing, model selection, and evaluation metrics. The overarching aim is to develop a robust recommendation system that provides precise and appealing movie suggestions tailored to the unique preferences of each user."
   ]
  },
  {
   "cell_type": "markdown",
   "metadata": {},
   "source": [
    "### (c) Defining Metrics of Success\n",
    "\n",
    "The success of a movie recommendation model using collaborative filtering can be assessed using various metrics that measure its effectiveness in providing accurate and relevant movie suggestions. The combination of the metrics provides a comprehensive understanding of its performance in terms of accuracy, relevance, and user satisfaction. It's essential to choose metrics that align with the specific goals and objectives of the recommendation system and the preferences of the user base."
   ]
  },
  {
   "cell_type": "markdown",
   "metadata": {},
   "source": [
    "### (d) Research Questions\n",
    "\n",
    "1. What features contribute most to the accuracy of collaborative filtering in generating top  movie recommendations?\n",
    "\n",
    "2. How does the frequency of user ratings influence the accuracy and stability of the movie recommendation model?\n",
    "\n",
    "3. What are the correlation between user ratings and various movie features?\n",
    "\n",
    "4. Which movie features demonstrate the highest correlation with collaborative filtering recommendations, and how do they impact the model's predictions?\n",
    "\n",
    "5. How successful is the collaborative filtering model in providing accurate and tailored movie recommendations based on user ratings and preferences?"
   ]
  },
  {
   "cell_type": "markdown",
   "metadata": {},
   "source": [
    "### (e) The Main Objective\n",
    "\n",
    "To develop and implement a movie recommendation system that leverages collaborative filtering techniques to provide personalized top 5 movie recommendations for users."
   ]
  },
  {
   "cell_type": "markdown",
   "metadata": {},
   "source": [
    "### (f) The Specific Objectives\n",
    "\n",
    "1. To clean and preprocess the MovieLens datasets to ensure it is suitable for building a recommendation system.\n",
    "\n",
    "2. To understand the distribution of movie ratings, explore user behavior, and identify patterns in the datasets.\n",
    "\n",
    "3. To investigate and compare collaborative filtering techniques for building the recommendation system, such as Singular Value Decomposition (SVD), user-based and item-based.\n",
    "\n",
    "4. To implement and evaluate the performance of the collaborative filtering model using appropriate metrics such as RSME and MSE.\n",
    "\n",
    "5. To generate top 5 movie recommendations for a user based on their historical ratings."
   ]
  },
  {
   "cell_type": "markdown",
   "metadata": {},
   "source": [
    "### (g) Data Understanding\n",
    "\n",
    "The dataset (ml-latest-small) consists of 100,836 ratings and 3,683 tag applications across 9,742 movies. The data were generated by 610 users between March 29, 1996, and September 24, 2018.\n",
    "The data used in this project will be pulled from 4 different separate file:\n",
    "\n",
    "*1. Movies Data (movies.csv):*\n",
    "Contains movie information, including titles and genres with the following columns:\n",
    " * movieId: Unique identifier for each movie.\n",
    " * title: The title of the movie, which also includes the year of release in parentheses.\n",
    " * genres: A pipe-separated list of genres to categorize the movie (e.g., Action|Adventure|Comedy).\n",
    "\n",
    "*2. Links Data (links.csv):*\n",
    "Provides identifiers for linking to external movie-related sources (IMDb, TMDb) and has the followinf columns:\n",
    "* movieId: Unique identifier for each movie, consistent with other data files.\n",
    "* imdbId: Identifier for movies used by IMDb (Internet Movie Database).\n",
    "* tmdbId: Identifier for movies used by TMDb (The Movie Database).\n",
    "\n",
    "*3. Ratings Data (ratings.csv):*\n",
    "Contains user ratings on a 5-star scale for movies and has the following columns:\n",
    "* userId: ID representing the unique identifier for each user.\n",
    "* movieId: Unique identifier for each movie.\n",
    "* rating: User's rating for the movie on a 5-star scale with half-star increments (0.5 to 5.0).\n",
    "* timestamp: The timestamp when the rating was recorded, represented in seconds since midnight Coordinated Universal Time (UTC) of January 1, 1970.\n",
    "\n",
    "*4. Tags Data (tags.csv):*\n",
    "Contains user-generated metadata (tags) about movies and has the following columns:\n",
    "* userId: ID representing the unique identifier for each user.\n",
    "* movieId: Unique identifier for each movie.\n",
    "* tag: User-generated metadata describing a movie, typically a single word or short phrase.\n",
    "* timestamp: The timestamp when the tag was applied, represented in seconds since midnight Coordinated Universal Time (UTC) of January 1, 1970."
   ]
  },
  {
   "cell_type": "code",
   "execution_count": 1,
   "metadata": {},
   "outputs": [],
   "source": [
    "#importing relevant packages\n",
    "import pandas as pd\n",
    "import seaborn as sns\n",
    "import numpy as np\n",
    "import matplotlib.pyplot as plt\n",
    "%matplotlib inline"
   ]
  },
  {
   "cell_type": "markdown",
   "metadata": {},
   "source": [
    "# Data Cleaning"
   ]
  },
  {
   "cell_type": "code",
   "execution_count": 2,
   "metadata": {},
   "outputs": [],
   "source": [
    "# Import the pandas library\n",
    "import pandas as pd\n",
    "\n",
    "# Read CSV files into data frames\n",
    "movies = pd.read_csv(\"data/ml-latest-small/movies.csv\")  # Load movies data\n",
    "links = pd.read_csv(\"data/ml-latest-small/links.csv\")    # Load links data\n",
    "ratings = pd.read_csv(\"data/ml-latest-small/ratings.csv\")  # Load ratings data\n",
    "tags = pd.read_csv(\"data/ml-latest-small/tags.csv\")        # Load tags data"
   ]
  },
  {
   "cell_type": "code",
   "execution_count": 3,
   "metadata": {},
   "outputs": [
    {
     "data": {
      "text/html": [
       "<div>\n",
       "<style scoped>\n",
       "    .dataframe tbody tr th:only-of-type {\n",
       "        vertical-align: middle;\n",
       "    }\n",
       "\n",
       "    .dataframe tbody tr th {\n",
       "        vertical-align: top;\n",
       "    }\n",
       "\n",
       "    .dataframe thead th {\n",
       "        text-align: right;\n",
       "    }\n",
       "</style>\n",
       "<table border=\"1\" class=\"dataframe\">\n",
       "  <thead>\n",
       "    <tr style=\"text-align: right;\">\n",
       "      <th></th>\n",
       "      <th>movieId</th>\n",
       "      <th>title</th>\n",
       "      <th>genres</th>\n",
       "    </tr>\n",
       "  </thead>\n",
       "  <tbody>\n",
       "    <tr>\n",
       "      <th>0</th>\n",
       "      <td>1</td>\n",
       "      <td>Toy Story (1995)</td>\n",
       "      <td>Adventure|Animation|Children|Comedy|Fantasy</td>\n",
       "    </tr>\n",
       "    <tr>\n",
       "      <th>1</th>\n",
       "      <td>2</td>\n",
       "      <td>Jumanji (1995)</td>\n",
       "      <td>Adventure|Children|Fantasy</td>\n",
       "    </tr>\n",
       "    <tr>\n",
       "      <th>2</th>\n",
       "      <td>3</td>\n",
       "      <td>Grumpier Old Men (1995)</td>\n",
       "      <td>Comedy|Romance</td>\n",
       "    </tr>\n",
       "  </tbody>\n",
       "</table>\n",
       "</div>"
      ],
      "text/plain": [
       "   movieId                    title  \\\n",
       "0        1         Toy Story (1995)   \n",
       "1        2           Jumanji (1995)   \n",
       "2        3  Grumpier Old Men (1995)   \n",
       "\n",
       "                                        genres  \n",
       "0  Adventure|Animation|Children|Comedy|Fantasy  \n",
       "1                   Adventure|Children|Fantasy  \n",
       "2                               Comedy|Romance  "
      ]
     },
     "execution_count": 3,
     "metadata": {},
     "output_type": "execute_result"
    }
   ],
   "source": [
    "#reading the first 3 rows\n",
    "movies.head(3)"
   ]
  },
  {
   "cell_type": "code",
   "execution_count": 4,
   "metadata": {},
   "outputs": [
    {
     "data": {
      "text/html": [
       "<div>\n",
       "<style scoped>\n",
       "    .dataframe tbody tr th:only-of-type {\n",
       "        vertical-align: middle;\n",
       "    }\n",
       "\n",
       "    .dataframe tbody tr th {\n",
       "        vertical-align: top;\n",
       "    }\n",
       "\n",
       "    .dataframe thead th {\n",
       "        text-align: right;\n",
       "    }\n",
       "</style>\n",
       "<table border=\"1\" class=\"dataframe\">\n",
       "  <thead>\n",
       "    <tr style=\"text-align: right;\">\n",
       "      <th></th>\n",
       "      <th>movieId</th>\n",
       "      <th>imdbId</th>\n",
       "      <th>tmdbId</th>\n",
       "    </tr>\n",
       "  </thead>\n",
       "  <tbody>\n",
       "    <tr>\n",
       "      <th>0</th>\n",
       "      <td>1</td>\n",
       "      <td>114709</td>\n",
       "      <td>862.0</td>\n",
       "    </tr>\n",
       "    <tr>\n",
       "      <th>1</th>\n",
       "      <td>2</td>\n",
       "      <td>113497</td>\n",
       "      <td>8844.0</td>\n",
       "    </tr>\n",
       "    <tr>\n",
       "      <th>2</th>\n",
       "      <td>3</td>\n",
       "      <td>113228</td>\n",
       "      <td>15602.0</td>\n",
       "    </tr>\n",
       "  </tbody>\n",
       "</table>\n",
       "</div>"
      ],
      "text/plain": [
       "   movieId  imdbId   tmdbId\n",
       "0        1  114709    862.0\n",
       "1        2  113497   8844.0\n",
       "2        3  113228  15602.0"
      ]
     },
     "execution_count": 4,
     "metadata": {},
     "output_type": "execute_result"
    }
   ],
   "source": [
    "#reading the first 3 rows\n",
    "links.head(3)"
   ]
  },
  {
   "cell_type": "code",
   "execution_count": 5,
   "metadata": {},
   "outputs": [
    {
     "data": {
      "text/html": [
       "<div>\n",
       "<style scoped>\n",
       "    .dataframe tbody tr th:only-of-type {\n",
       "        vertical-align: middle;\n",
       "    }\n",
       "\n",
       "    .dataframe tbody tr th {\n",
       "        vertical-align: top;\n",
       "    }\n",
       "\n",
       "    .dataframe thead th {\n",
       "        text-align: right;\n",
       "    }\n",
       "</style>\n",
       "<table border=\"1\" class=\"dataframe\">\n",
       "  <thead>\n",
       "    <tr style=\"text-align: right;\">\n",
       "      <th></th>\n",
       "      <th>userId</th>\n",
       "      <th>movieId</th>\n",
       "      <th>rating</th>\n",
       "      <th>timestamp</th>\n",
       "    </tr>\n",
       "  </thead>\n",
       "  <tbody>\n",
       "    <tr>\n",
       "      <th>0</th>\n",
       "      <td>1</td>\n",
       "      <td>1</td>\n",
       "      <td>4.0</td>\n",
       "      <td>964982703</td>\n",
       "    </tr>\n",
       "    <tr>\n",
       "      <th>1</th>\n",
       "      <td>1</td>\n",
       "      <td>3</td>\n",
       "      <td>4.0</td>\n",
       "      <td>964981247</td>\n",
       "    </tr>\n",
       "    <tr>\n",
       "      <th>2</th>\n",
       "      <td>1</td>\n",
       "      <td>6</td>\n",
       "      <td>4.0</td>\n",
       "      <td>964982224</td>\n",
       "    </tr>\n",
       "  </tbody>\n",
       "</table>\n",
       "</div>"
      ],
      "text/plain": [
       "   userId  movieId  rating  timestamp\n",
       "0       1        1     4.0  964982703\n",
       "1       1        3     4.0  964981247\n",
       "2       1        6     4.0  964982224"
      ]
     },
     "execution_count": 5,
     "metadata": {},
     "output_type": "execute_result"
    }
   ],
   "source": [
    "#reading the first 3 rows\n",
    "ratings.head(3)"
   ]
  },
  {
   "cell_type": "code",
   "execution_count": 6,
   "metadata": {},
   "outputs": [
    {
     "data": {
      "text/html": [
       "<div>\n",
       "<style scoped>\n",
       "    .dataframe tbody tr th:only-of-type {\n",
       "        vertical-align: middle;\n",
       "    }\n",
       "\n",
       "    .dataframe tbody tr th {\n",
       "        vertical-align: top;\n",
       "    }\n",
       "\n",
       "    .dataframe thead th {\n",
       "        text-align: right;\n",
       "    }\n",
       "</style>\n",
       "<table border=\"1\" class=\"dataframe\">\n",
       "  <thead>\n",
       "    <tr style=\"text-align: right;\">\n",
       "      <th></th>\n",
       "      <th>userId</th>\n",
       "      <th>movieId</th>\n",
       "      <th>tag</th>\n",
       "      <th>timestamp</th>\n",
       "    </tr>\n",
       "  </thead>\n",
       "  <tbody>\n",
       "    <tr>\n",
       "      <th>0</th>\n",
       "      <td>2</td>\n",
       "      <td>60756</td>\n",
       "      <td>funny</td>\n",
       "      <td>1445714994</td>\n",
       "    </tr>\n",
       "    <tr>\n",
       "      <th>1</th>\n",
       "      <td>2</td>\n",
       "      <td>60756</td>\n",
       "      <td>Highly quotable</td>\n",
       "      <td>1445714996</td>\n",
       "    </tr>\n",
       "    <tr>\n",
       "      <th>2</th>\n",
       "      <td>2</td>\n",
       "      <td>60756</td>\n",
       "      <td>will ferrell</td>\n",
       "      <td>1445714992</td>\n",
       "    </tr>\n",
       "  </tbody>\n",
       "</table>\n",
       "</div>"
      ],
      "text/plain": [
       "   userId  movieId              tag   timestamp\n",
       "0       2    60756            funny  1445714994\n",
       "1       2    60756  Highly quotable  1445714996\n",
       "2       2    60756     will ferrell  1445714992"
      ]
     },
     "execution_count": 6,
     "metadata": {},
     "output_type": "execute_result"
    }
   ],
   "source": [
    "#reading the first 3 rows\n",
    "tags.head(3)"
   ]
  },
  {
   "cell_type": "code",
   "execution_count": 7,
   "metadata": {},
   "outputs": [
    {
     "data": {
      "text/html": [
       "<div>\n",
       "<style scoped>\n",
       "    .dataframe tbody tr th:only-of-type {\n",
       "        vertical-align: middle;\n",
       "    }\n",
       "\n",
       "    .dataframe tbody tr th {\n",
       "        vertical-align: top;\n",
       "    }\n",
       "\n",
       "    .dataframe thead th {\n",
       "        text-align: right;\n",
       "    }\n",
       "</style>\n",
       "<table border=\"1\" class=\"dataframe\">\n",
       "  <thead>\n",
       "    <tr style=\"text-align: right;\">\n",
       "      <th></th>\n",
       "      <th>movieId</th>\n",
       "      <th>title</th>\n",
       "      <th>genres</th>\n",
       "      <th>imdbId</th>\n",
       "      <th>tmdbId</th>\n",
       "      <th>userId_x</th>\n",
       "      <th>rating</th>\n",
       "      <th>timestamp_x</th>\n",
       "      <th>userId_y</th>\n",
       "      <th>tag</th>\n",
       "      <th>timestamp_y</th>\n",
       "    </tr>\n",
       "  </thead>\n",
       "  <tbody>\n",
       "    <tr>\n",
       "      <th>0</th>\n",
       "      <td>1</td>\n",
       "      <td>Toy Story (1995)</td>\n",
       "      <td>Adventure|Animation|Children|Comedy|Fantasy</td>\n",
       "      <td>114709</td>\n",
       "      <td>862.0</td>\n",
       "      <td>1</td>\n",
       "      <td>4.0</td>\n",
       "      <td>964982703</td>\n",
       "      <td>336</td>\n",
       "      <td>pixar</td>\n",
       "      <td>1139045764</td>\n",
       "    </tr>\n",
       "    <tr>\n",
       "      <th>1</th>\n",
       "      <td>1</td>\n",
       "      <td>Toy Story (1995)</td>\n",
       "      <td>Adventure|Animation|Children|Comedy|Fantasy</td>\n",
       "      <td>114709</td>\n",
       "      <td>862.0</td>\n",
       "      <td>1</td>\n",
       "      <td>4.0</td>\n",
       "      <td>964982703</td>\n",
       "      <td>474</td>\n",
       "      <td>pixar</td>\n",
       "      <td>1137206825</td>\n",
       "    </tr>\n",
       "    <tr>\n",
       "      <th>2</th>\n",
       "      <td>1</td>\n",
       "      <td>Toy Story (1995)</td>\n",
       "      <td>Adventure|Animation|Children|Comedy|Fantasy</td>\n",
       "      <td>114709</td>\n",
       "      <td>862.0</td>\n",
       "      <td>1</td>\n",
       "      <td>4.0</td>\n",
       "      <td>964982703</td>\n",
       "      <td>567</td>\n",
       "      <td>fun</td>\n",
       "      <td>1525286013</td>\n",
       "    </tr>\n",
       "    <tr>\n",
       "      <th>3</th>\n",
       "      <td>1</td>\n",
       "      <td>Toy Story (1995)</td>\n",
       "      <td>Adventure|Animation|Children|Comedy|Fantasy</td>\n",
       "      <td>114709</td>\n",
       "      <td>862.0</td>\n",
       "      <td>5</td>\n",
       "      <td>4.0</td>\n",
       "      <td>847434962</td>\n",
       "      <td>336</td>\n",
       "      <td>pixar</td>\n",
       "      <td>1139045764</td>\n",
       "    </tr>\n",
       "    <tr>\n",
       "      <th>4</th>\n",
       "      <td>1</td>\n",
       "      <td>Toy Story (1995)</td>\n",
       "      <td>Adventure|Animation|Children|Comedy|Fantasy</td>\n",
       "      <td>114709</td>\n",
       "      <td>862.0</td>\n",
       "      <td>5</td>\n",
       "      <td>4.0</td>\n",
       "      <td>847434962</td>\n",
       "      <td>474</td>\n",
       "      <td>pixar</td>\n",
       "      <td>1137206825</td>\n",
       "    </tr>\n",
       "  </tbody>\n",
       "</table>\n",
       "</div>"
      ],
      "text/plain": [
       "   movieId             title                                       genres  \\\n",
       "0        1  Toy Story (1995)  Adventure|Animation|Children|Comedy|Fantasy   \n",
       "1        1  Toy Story (1995)  Adventure|Animation|Children|Comedy|Fantasy   \n",
       "2        1  Toy Story (1995)  Adventure|Animation|Children|Comedy|Fantasy   \n",
       "3        1  Toy Story (1995)  Adventure|Animation|Children|Comedy|Fantasy   \n",
       "4        1  Toy Story (1995)  Adventure|Animation|Children|Comedy|Fantasy   \n",
       "\n",
       "   imdbId  tmdbId  userId_x  rating  timestamp_x  userId_y    tag  timestamp_y  \n",
       "0  114709   862.0         1     4.0    964982703       336  pixar   1139045764  \n",
       "1  114709   862.0         1     4.0    964982703       474  pixar   1137206825  \n",
       "2  114709   862.0         1     4.0    964982703       567    fun   1525286013  \n",
       "3  114709   862.0         5     4.0    847434962       336  pixar   1139045764  \n",
       "4  114709   862.0         5     4.0    847434962       474  pixar   1137206825  "
      ]
     },
     "execution_count": 7,
     "metadata": {},
     "output_type": "execute_result"
    }
   ],
   "source": [
    "#merge movies and links on 'movieId'\n",
    "df = pd.merge(movies, links, on='movieId')\n",
    "\n",
    "#merge with ratings on 'movieId'\n",
    "df = pd.merge(df, ratings, on='movieId')\n",
    "\n",
    "#merge with tags on 'movieId'\n",
    "df = pd.merge(df, tags, on='movieId')\n",
    "\n",
    "df.head()"
   ]
  },
  {
   "cell_type": "code",
   "execution_count": 8,
   "metadata": {},
   "outputs": [
    {
     "data": {
      "text/plain": [
       "(233213, 11)"
      ]
     },
     "execution_count": 8,
     "metadata": {},
     "output_type": "execute_result"
    }
   ],
   "source": [
    "# Display the shape of the DataFrame\n",
    "df.shape"
   ]
  },
  {
   "cell_type": "markdown",
   "metadata": {},
   "source": [
    "This signifies that the DataFrame consists of 233,213 rows and 9 columns. Each row corresponds to a unique combination of user-movie interaction, which may include ratings and tags, while the columns represent the attributes of these interactions."
   ]
  },
  {
   "cell_type": "code",
   "execution_count": 9,
   "metadata": {},
   "outputs": [
    {
     "name": "stdout",
     "output_type": "stream",
     "text": [
      "<class 'pandas.core.frame.DataFrame'>\n",
      "Int64Index: 233213 entries, 0 to 233212\n",
      "Data columns (total 11 columns):\n",
      " #   Column       Non-Null Count   Dtype  \n",
      "---  ------       --------------   -----  \n",
      " 0   movieId      233213 non-null  int64  \n",
      " 1   title        233213 non-null  object \n",
      " 2   genres       233213 non-null  object \n",
      " 3   imdbId       233213 non-null  int64  \n",
      " 4   tmdbId       233213 non-null  float64\n",
      " 5   userId_x     233213 non-null  int64  \n",
      " 6   rating       233213 non-null  float64\n",
      " 7   timestamp_x  233213 non-null  int64  \n",
      " 8   userId_y     233213 non-null  int64  \n",
      " 9   tag          233213 non-null  object \n",
      " 10  timestamp_y  233213 non-null  int64  \n",
      "dtypes: float64(2), int64(6), object(3)\n",
      "memory usage: 21.4+ MB\n"
     ]
    }
   ],
   "source": [
    "df.info()"
   ]
  },
  {
   "cell_type": "code",
   "execution_count": 10,
   "metadata": {},
   "outputs": [
    {
     "data": {
      "text/html": [
       "<div>\n",
       "<style scoped>\n",
       "    .dataframe tbody tr th:only-of-type {\n",
       "        vertical-align: middle;\n",
       "    }\n",
       "\n",
       "    .dataframe tbody tr th {\n",
       "        vertical-align: top;\n",
       "    }\n",
       "\n",
       "    .dataframe thead th {\n",
       "        text-align: right;\n",
       "    }\n",
       "</style>\n",
       "<table border=\"1\" class=\"dataframe\">\n",
       "  <thead>\n",
       "    <tr style=\"text-align: right;\">\n",
       "      <th></th>\n",
       "      <th>movieId</th>\n",
       "      <th>imdbId</th>\n",
       "      <th>tmdbId</th>\n",
       "      <th>userId_x</th>\n",
       "      <th>rating</th>\n",
       "      <th>timestamp_x</th>\n",
       "      <th>userId_y</th>\n",
       "      <th>timestamp_y</th>\n",
       "    </tr>\n",
       "  </thead>\n",
       "  <tbody>\n",
       "    <tr>\n",
       "      <th>count</th>\n",
       "      <td>233213.000000</td>\n",
       "      <td>2.332130e+05</td>\n",
       "      <td>233213.000000</td>\n",
       "      <td>233213.000000</td>\n",
       "      <td>233213.000000</td>\n",
       "      <td>2.332130e+05</td>\n",
       "      <td>233213.000000</td>\n",
       "      <td>2.332130e+05</td>\n",
       "    </tr>\n",
       "    <tr>\n",
       "      <th>mean</th>\n",
       "      <td>12319.999443</td>\n",
       "      <td>2.610632e+05</td>\n",
       "      <td>9378.277742</td>\n",
       "      <td>309.688191</td>\n",
       "      <td>3.966535</td>\n",
       "      <td>1.213524e+09</td>\n",
       "      <td>470.683564</td>\n",
       "      <td>1.384774e+09</td>\n",
       "    </tr>\n",
       "    <tr>\n",
       "      <th>std</th>\n",
       "      <td>28243.919401</td>\n",
       "      <td>4.414411e+05</td>\n",
       "      <td>36943.139800</td>\n",
       "      <td>178.206387</td>\n",
       "      <td>0.968637</td>\n",
       "      <td>2.250448e+08</td>\n",
       "      <td>153.329632</td>\n",
       "      <td>1.534621e+08</td>\n",
       "    </tr>\n",
       "    <tr>\n",
       "      <th>min</th>\n",
       "      <td>1.000000</td>\n",
       "      <td>1.234900e+04</td>\n",
       "      <td>11.000000</td>\n",
       "      <td>1.000000</td>\n",
       "      <td>0.500000</td>\n",
       "      <td>8.281246e+08</td>\n",
       "      <td>2.000000</td>\n",
       "      <td>1.137179e+09</td>\n",
       "    </tr>\n",
       "    <tr>\n",
       "      <th>25%</th>\n",
       "      <td>296.000000</td>\n",
       "      <td>1.103570e+05</td>\n",
       "      <td>278.000000</td>\n",
       "      <td>156.000000</td>\n",
       "      <td>3.500000</td>\n",
       "      <td>1.017365e+09</td>\n",
       "      <td>424.000000</td>\n",
       "      <td>1.242494e+09</td>\n",
       "    </tr>\n",
       "    <tr>\n",
       "      <th>50%</th>\n",
       "      <td>1198.000000</td>\n",
       "      <td>1.109120e+05</td>\n",
       "      <td>680.000000</td>\n",
       "      <td>309.000000</td>\n",
       "      <td>4.000000</td>\n",
       "      <td>1.217325e+09</td>\n",
       "      <td>477.000000</td>\n",
       "      <td>1.457901e+09</td>\n",
       "    </tr>\n",
       "    <tr>\n",
       "      <th>75%</th>\n",
       "      <td>4638.000000</td>\n",
       "      <td>1.724950e+05</td>\n",
       "      <td>1892.000000</td>\n",
       "      <td>460.000000</td>\n",
       "      <td>5.000000</td>\n",
       "      <td>1.443201e+09</td>\n",
       "      <td>599.000000</td>\n",
       "      <td>1.498457e+09</td>\n",
       "    </tr>\n",
       "    <tr>\n",
       "      <th>max</th>\n",
       "      <td>193565.000000</td>\n",
       "      <td>5.580390e+06</td>\n",
       "      <td>503475.000000</td>\n",
       "      <td>610.000000</td>\n",
       "      <td>5.000000</td>\n",
       "      <td>1.537799e+09</td>\n",
       "      <td>610.000000</td>\n",
       "      <td>1.537099e+09</td>\n",
       "    </tr>\n",
       "  </tbody>\n",
       "</table>\n",
       "</div>"
      ],
      "text/plain": [
       "             movieId        imdbId         tmdbId       userId_x  \\\n",
       "count  233213.000000  2.332130e+05  233213.000000  233213.000000   \n",
       "mean    12319.999443  2.610632e+05    9378.277742     309.688191   \n",
       "std     28243.919401  4.414411e+05   36943.139800     178.206387   \n",
       "min         1.000000  1.234900e+04      11.000000       1.000000   \n",
       "25%       296.000000  1.103570e+05     278.000000     156.000000   \n",
       "50%      1198.000000  1.109120e+05     680.000000     309.000000   \n",
       "75%      4638.000000  1.724950e+05    1892.000000     460.000000   \n",
       "max    193565.000000  5.580390e+06  503475.000000     610.000000   \n",
       "\n",
       "              rating   timestamp_x       userId_y   timestamp_y  \n",
       "count  233213.000000  2.332130e+05  233213.000000  2.332130e+05  \n",
       "mean        3.966535  1.213524e+09     470.683564  1.384774e+09  \n",
       "std         0.968637  2.250448e+08     153.329632  1.534621e+08  \n",
       "min         0.500000  8.281246e+08       2.000000  1.137179e+09  \n",
       "25%         3.500000  1.017365e+09     424.000000  1.242494e+09  \n",
       "50%         4.000000  1.217325e+09     477.000000  1.457901e+09  \n",
       "75%         5.000000  1.443201e+09     599.000000  1.498457e+09  \n",
       "max         5.000000  1.537799e+09     610.000000  1.537099e+09  "
      ]
     },
     "execution_count": 10,
     "metadata": {},
     "output_type": "execute_result"
    }
   ],
   "source": [
    "# Display descriptive statistics of the DataFrame\n",
    "df.describe()"
   ]
  },
  {
   "cell_type": "code",
   "execution_count": 11,
   "metadata": {},
   "outputs": [
    {
     "data": {
      "text/html": [
       "<div>\n",
       "<style scoped>\n",
       "    .dataframe tbody tr th:only-of-type {\n",
       "        vertical-align: middle;\n",
       "    }\n",
       "\n",
       "    .dataframe tbody tr th {\n",
       "        vertical-align: top;\n",
       "    }\n",
       "\n",
       "    .dataframe thead th {\n",
       "        text-align: right;\n",
       "    }\n",
       "</style>\n",
       "<table border=\"1\" class=\"dataframe\">\n",
       "  <thead>\n",
       "    <tr style=\"text-align: right;\">\n",
       "      <th></th>\n",
       "      <th>movieId</th>\n",
       "      <th>title</th>\n",
       "      <th>genres</th>\n",
       "      <th>imdbId</th>\n",
       "      <th>tmdbId</th>\n",
       "      <th>userId_x</th>\n",
       "      <th>rating</th>\n",
       "      <th>userId_y</th>\n",
       "      <th>tag</th>\n",
       "    </tr>\n",
       "  </thead>\n",
       "  <tbody>\n",
       "    <tr>\n",
       "      <th>0</th>\n",
       "      <td>1</td>\n",
       "      <td>Toy Story (1995)</td>\n",
       "      <td>Adventure|Animation|Children|Comedy|Fantasy</td>\n",
       "      <td>114709</td>\n",
       "      <td>862.0</td>\n",
       "      <td>1</td>\n",
       "      <td>4.0</td>\n",
       "      <td>336</td>\n",
       "      <td>pixar</td>\n",
       "    </tr>\n",
       "    <tr>\n",
       "      <th>1</th>\n",
       "      <td>1</td>\n",
       "      <td>Toy Story (1995)</td>\n",
       "      <td>Adventure|Animation|Children|Comedy|Fantasy</td>\n",
       "      <td>114709</td>\n",
       "      <td>862.0</td>\n",
       "      <td>1</td>\n",
       "      <td>4.0</td>\n",
       "      <td>474</td>\n",
       "      <td>pixar</td>\n",
       "    </tr>\n",
       "    <tr>\n",
       "      <th>2</th>\n",
       "      <td>1</td>\n",
       "      <td>Toy Story (1995)</td>\n",
       "      <td>Adventure|Animation|Children|Comedy|Fantasy</td>\n",
       "      <td>114709</td>\n",
       "      <td>862.0</td>\n",
       "      <td>1</td>\n",
       "      <td>4.0</td>\n",
       "      <td>567</td>\n",
       "      <td>fun</td>\n",
       "    </tr>\n",
       "    <tr>\n",
       "      <th>3</th>\n",
       "      <td>1</td>\n",
       "      <td>Toy Story (1995)</td>\n",
       "      <td>Adventure|Animation|Children|Comedy|Fantasy</td>\n",
       "      <td>114709</td>\n",
       "      <td>862.0</td>\n",
       "      <td>5</td>\n",
       "      <td>4.0</td>\n",
       "      <td>336</td>\n",
       "      <td>pixar</td>\n",
       "    </tr>\n",
       "    <tr>\n",
       "      <th>4</th>\n",
       "      <td>1</td>\n",
       "      <td>Toy Story (1995)</td>\n",
       "      <td>Adventure|Animation|Children|Comedy|Fantasy</td>\n",
       "      <td>114709</td>\n",
       "      <td>862.0</td>\n",
       "      <td>5</td>\n",
       "      <td>4.0</td>\n",
       "      <td>474</td>\n",
       "      <td>pixar</td>\n",
       "    </tr>\n",
       "  </tbody>\n",
       "</table>\n",
       "</div>"
      ],
      "text/plain": [
       "   movieId             title                                       genres  \\\n",
       "0        1  Toy Story (1995)  Adventure|Animation|Children|Comedy|Fantasy   \n",
       "1        1  Toy Story (1995)  Adventure|Animation|Children|Comedy|Fantasy   \n",
       "2        1  Toy Story (1995)  Adventure|Animation|Children|Comedy|Fantasy   \n",
       "3        1  Toy Story (1995)  Adventure|Animation|Children|Comedy|Fantasy   \n",
       "4        1  Toy Story (1995)  Adventure|Animation|Children|Comedy|Fantasy   \n",
       "\n",
       "   imdbId  tmdbId  userId_x  rating  userId_y    tag  \n",
       "0  114709   862.0         1     4.0       336  pixar  \n",
       "1  114709   862.0         1     4.0       474  pixar  \n",
       "2  114709   862.0         1     4.0       567    fun  \n",
       "3  114709   862.0         5     4.0       336  pixar  \n",
       "4  114709   862.0         5     4.0       474  pixar  "
      ]
     },
     "execution_count": 11,
     "metadata": {},
     "output_type": "execute_result"
    }
   ],
   "source": [
    "# List of columns to be dropped from the DataFrame\n",
    "columns_to_drop = ['timestamp_x', 'timestamp_y']\n",
    "\n",
    "# Drop the specified columns in-place from the DataFrame\n",
    "df.drop(columns=columns_to_drop, inplace=True)\n",
    "\n",
    "# Display the first few rows of the modified DataFrame\n",
    "df.head()"
   ]
  },
  {
   "cell_type": "code",
   "execution_count": 12,
   "metadata": {},
   "outputs": [
    {
     "data": {
      "text/plain": [
       "['movieId',\n",
       " 'title',\n",
       " 'genres',\n",
       " 'imdbId',\n",
       " 'tmdbId',\n",
       " 'userId_x',\n",
       " 'rating',\n",
       " 'userId_y',\n",
       " 'tag']"
      ]
     },
     "execution_count": 12,
     "metadata": {},
     "output_type": "execute_result"
    }
   ],
   "source": [
    "# Get the column names of the DataFrame and store them in a list\n",
    "column_names = df.columns.tolist()\n",
    "\n",
    "# Display the list of column names\n",
    "column_names"
   ]
  },
  {
   "cell_type": "code",
   "execution_count": 13,
   "metadata": {},
   "outputs": [
    {
     "data": {
      "text/plain": [
       "movieId     0\n",
       "title       0\n",
       "genres      0\n",
       "imdbId      0\n",
       "tmdbId      0\n",
       "userId_x    0\n",
       "rating      0\n",
       "userId_y    0\n",
       "tag         0\n",
       "dtype: int64"
      ]
     },
     "execution_count": 13,
     "metadata": {},
     "output_type": "execute_result"
    }
   ],
   "source": [
    "# Check for missing values in each column of the DataFrame 'df' and sum them up\n",
    "df.isnull().sum()"
   ]
  },
  {
   "cell_type": "code",
   "execution_count": 14,
   "metadata": {},
   "outputs": [
    {
     "data": {
      "text/plain": [
       "0"
      ]
     },
     "execution_count": 14,
     "metadata": {},
     "output_type": "execute_result"
    }
   ],
   "source": [
    "# Count the number of duplicated rows in the DataFrame 'df'\n",
    "df.duplicated().sum()"
   ]
  },
  {
   "cell_type": "markdown",
   "metadata": {},
   "source": [
    "We will exclusively utilize the `movies.csv` dataset and the `ratings.csv` dataset for our analysis, as these two datasets encompass the necessary columns and information required for our project."
   ]
  },
  {
   "cell_type": "code",
   "execution_count": 15,
   "metadata": {},
   "outputs": [],
   "source": [
    "# Function to load and join CSV files based on a common column (movieId)\n",
    "def load_and_join_csv(file_path_1, file_path_2, file_path_3):\n",
    "    # Load CSV files into Pandas DataFrames\n",
    "    movies = pd.read_csv(file_path_1)\n",
    "    ratings = pd.read_csv(file_path_2)\n",
    "    # Note: 'tags' DataFrame is not used in the current implementation\n",
    "    \n",
    "    # Perform an inner join to combine the datasets based on the common column 'movieId'\n",
    "    movies_ratings_df = pd.merge(movies, ratings, on='movieId', how='inner')\n",
    "      \n",
    "    return movies_ratings_df"
   ]
  },
  {
   "cell_type": "code",
   "execution_count": 16,
   "metadata": {},
   "outputs": [
    {
     "data": {
      "text/html": [
       "<div>\n",
       "<style scoped>\n",
       "    .dataframe tbody tr th:only-of-type {\n",
       "        vertical-align: middle;\n",
       "    }\n",
       "\n",
       "    .dataframe tbody tr th {\n",
       "        vertical-align: top;\n",
       "    }\n",
       "\n",
       "    .dataframe thead th {\n",
       "        text-align: right;\n",
       "    }\n",
       "</style>\n",
       "<table border=\"1\" class=\"dataframe\">\n",
       "  <thead>\n",
       "    <tr style=\"text-align: right;\">\n",
       "      <th></th>\n",
       "      <th>movieId</th>\n",
       "      <th>title</th>\n",
       "      <th>genres</th>\n",
       "      <th>userId</th>\n",
       "      <th>rating</th>\n",
       "      <th>timestamp</th>\n",
       "    </tr>\n",
       "  </thead>\n",
       "  <tbody>\n",
       "    <tr>\n",
       "      <th>0</th>\n",
       "      <td>1</td>\n",
       "      <td>Toy Story (1995)</td>\n",
       "      <td>Adventure|Animation|Children|Comedy|Fantasy</td>\n",
       "      <td>1</td>\n",
       "      <td>4.0</td>\n",
       "      <td>964982703</td>\n",
       "    </tr>\n",
       "    <tr>\n",
       "      <th>1</th>\n",
       "      <td>1</td>\n",
       "      <td>Toy Story (1995)</td>\n",
       "      <td>Adventure|Animation|Children|Comedy|Fantasy</td>\n",
       "      <td>5</td>\n",
       "      <td>4.0</td>\n",
       "      <td>847434962</td>\n",
       "    </tr>\n",
       "    <tr>\n",
       "      <th>2</th>\n",
       "      <td>1</td>\n",
       "      <td>Toy Story (1995)</td>\n",
       "      <td>Adventure|Animation|Children|Comedy|Fantasy</td>\n",
       "      <td>7</td>\n",
       "      <td>4.5</td>\n",
       "      <td>1106635946</td>\n",
       "    </tr>\n",
       "    <tr>\n",
       "      <th>3</th>\n",
       "      <td>1</td>\n",
       "      <td>Toy Story (1995)</td>\n",
       "      <td>Adventure|Animation|Children|Comedy|Fantasy</td>\n",
       "      <td>15</td>\n",
       "      <td>2.5</td>\n",
       "      <td>1510577970</td>\n",
       "    </tr>\n",
       "    <tr>\n",
       "      <th>4</th>\n",
       "      <td>1</td>\n",
       "      <td>Toy Story (1995)</td>\n",
       "      <td>Adventure|Animation|Children|Comedy|Fantasy</td>\n",
       "      <td>17</td>\n",
       "      <td>4.5</td>\n",
       "      <td>1305696483</td>\n",
       "    </tr>\n",
       "    <tr>\n",
       "      <th>...</th>\n",
       "      <td>...</td>\n",
       "      <td>...</td>\n",
       "      <td>...</td>\n",
       "      <td>...</td>\n",
       "      <td>...</td>\n",
       "      <td>...</td>\n",
       "    </tr>\n",
       "    <tr>\n",
       "      <th>100831</th>\n",
       "      <td>193581</td>\n",
       "      <td>Black Butler: Book of the Atlantic (2017)</td>\n",
       "      <td>Action|Animation|Comedy|Fantasy</td>\n",
       "      <td>184</td>\n",
       "      <td>4.0</td>\n",
       "      <td>1537109082</td>\n",
       "    </tr>\n",
       "    <tr>\n",
       "      <th>100832</th>\n",
       "      <td>193583</td>\n",
       "      <td>No Game No Life: Zero (2017)</td>\n",
       "      <td>Animation|Comedy|Fantasy</td>\n",
       "      <td>184</td>\n",
       "      <td>3.5</td>\n",
       "      <td>1537109545</td>\n",
       "    </tr>\n",
       "    <tr>\n",
       "      <th>100833</th>\n",
       "      <td>193585</td>\n",
       "      <td>Flint (2017)</td>\n",
       "      <td>Drama</td>\n",
       "      <td>184</td>\n",
       "      <td>3.5</td>\n",
       "      <td>1537109805</td>\n",
       "    </tr>\n",
       "    <tr>\n",
       "      <th>100834</th>\n",
       "      <td>193587</td>\n",
       "      <td>Bungo Stray Dogs: Dead Apple (2018)</td>\n",
       "      <td>Action|Animation</td>\n",
       "      <td>184</td>\n",
       "      <td>3.5</td>\n",
       "      <td>1537110021</td>\n",
       "    </tr>\n",
       "    <tr>\n",
       "      <th>100835</th>\n",
       "      <td>193609</td>\n",
       "      <td>Andrew Dice Clay: Dice Rules (1991)</td>\n",
       "      <td>Comedy</td>\n",
       "      <td>331</td>\n",
       "      <td>4.0</td>\n",
       "      <td>1537157606</td>\n",
       "    </tr>\n",
       "  </tbody>\n",
       "</table>\n",
       "<p>100836 rows × 6 columns</p>\n",
       "</div>"
      ],
      "text/plain": [
       "        movieId                                      title  \\\n",
       "0             1                           Toy Story (1995)   \n",
       "1             1                           Toy Story (1995)   \n",
       "2             1                           Toy Story (1995)   \n",
       "3             1                           Toy Story (1995)   \n",
       "4             1                           Toy Story (1995)   \n",
       "...         ...                                        ...   \n",
       "100831   193581  Black Butler: Book of the Atlantic (2017)   \n",
       "100832   193583               No Game No Life: Zero (2017)   \n",
       "100833   193585                               Flint (2017)   \n",
       "100834   193587        Bungo Stray Dogs: Dead Apple (2018)   \n",
       "100835   193609        Andrew Dice Clay: Dice Rules (1991)   \n",
       "\n",
       "                                             genres  userId  rating  \\\n",
       "0       Adventure|Animation|Children|Comedy|Fantasy       1     4.0   \n",
       "1       Adventure|Animation|Children|Comedy|Fantasy       5     4.0   \n",
       "2       Adventure|Animation|Children|Comedy|Fantasy       7     4.5   \n",
       "3       Adventure|Animation|Children|Comedy|Fantasy      15     2.5   \n",
       "4       Adventure|Animation|Children|Comedy|Fantasy      17     4.5   \n",
       "...                                             ...     ...     ...   \n",
       "100831              Action|Animation|Comedy|Fantasy     184     4.0   \n",
       "100832                     Animation|Comedy|Fantasy     184     3.5   \n",
       "100833                                        Drama     184     3.5   \n",
       "100834                             Action|Animation     184     3.5   \n",
       "100835                                       Comedy     331     4.0   \n",
       "\n",
       "         timestamp  \n",
       "0        964982703  \n",
       "1        847434962  \n",
       "2       1106635946  \n",
       "3       1510577970  \n",
       "4       1305696483  \n",
       "...            ...  \n",
       "100831  1537109082  \n",
       "100832  1537109545  \n",
       "100833  1537109805  \n",
       "100834  1537110021  \n",
       "100835  1537157606  \n",
       "\n",
       "[100836 rows x 6 columns]"
      ]
     },
     "execution_count": 16,
     "metadata": {},
     "output_type": "execute_result"
    }
   ],
   "source": [
    "# Replace the placeholders with the actual file paths\n",
    "file_path_movies = \"data/ml-latest-small/movies.csv\"\n",
    "file_path_ratings = \"data/ml-latest-small/ratings.csv\"\n",
    "file_path_tags = \"ml-latest-small/tags.csv\"\n",
    "\n",
    "# Call the function with the specified file paths\n",
    "movie_rating_df = load_and_join_csv(file_path_movies, file_path_ratings, file_path_tags)\n",
    "\n",
    "# Display the resulting dataset\n",
    "movie_rating_df"
   ]
  },
  {
   "cell_type": "markdown",
   "metadata": {},
   "source": [
    "### Data type Conversion "
   ]
  },
  {
   "cell_type": "markdown",
   "metadata": {},
   "source": [
    "Convert timestamp to datetime"
   ]
  },
  {
   "cell_type": "code",
   "execution_count": 17,
   "metadata": {},
   "outputs": [
    {
     "name": "stdout",
     "output_type": "stream",
     "text": [
      "<class 'pandas.core.frame.DataFrame'>\n",
      "Int64Index: 100836 entries, 0 to 100835\n",
      "Data columns (total 6 columns):\n",
      " #   Column     Non-Null Count   Dtype         \n",
      "---  ------     --------------   -----         \n",
      " 0   movieId    100836 non-null  int64         \n",
      " 1   title      100836 non-null  object        \n",
      " 2   genres     100836 non-null  object        \n",
      " 3   userId     100836 non-null  int64         \n",
      " 4   rating     100836 non-null  float64       \n",
      " 5   timestamp  100836 non-null  datetime64[ns]\n",
      "dtypes: datetime64[ns](1), float64(1), int64(2), object(2)\n",
      "memory usage: 5.4+ MB\n"
     ]
    }
   ],
   "source": [
    "# Converting 'timestamp' column to datetime type using seconds as the unit\n",
    "movie_rating_df['timestamp'] = pd.to_datetime(movie_rating_df['timestamp'], unit='s')\n",
    "\n",
    "# Displaying information about the DataFrame after the conversion\n",
    "movie_rating_df.info()"
   ]
  },
  {
   "cell_type": "markdown",
   "metadata": {},
   "source": [
    "### Feature Engineering "
   ]
  },
  {
   "cell_type": "markdown",
   "metadata": {},
   "source": [
    "In the following cell, we add two additional columns, specifically \"hour\" and \"month,\" to simplify the analysis of user engagement peaks at different hours of the day and month."
   ]
  },
  {
   "cell_type": "code",
   "execution_count": 18,
   "metadata": {},
   "outputs": [
    {
     "name": "stdout",
     "output_type": "stream",
     "text": [
      "<class 'pandas.core.frame.DataFrame'>\n",
      "Int64Index: 100836 entries, 0 to 100835\n",
      "Data columns (total 8 columns):\n",
      " #   Column     Non-Null Count   Dtype         \n",
      "---  ------     --------------   -----         \n",
      " 0   movieId    100836 non-null  int64         \n",
      " 1   title      100836 non-null  object        \n",
      " 2   genres     100836 non-null  object        \n",
      " 3   userId     100836 non-null  int64         \n",
      " 4   rating     100836 non-null  float64       \n",
      " 5   timestamp  100836 non-null  datetime64[ns]\n",
      " 6   hour       100836 non-null  int64         \n",
      " 7   month      100836 non-null  int64         \n",
      "dtypes: datetime64[ns](1), float64(1), int64(4), object(2)\n",
      "memory usage: 6.9+ MB\n"
     ]
    }
   ],
   "source": [
    "# Import the calendar module\n",
    "import calendar\n",
    "\n",
    "# Extract the hour and month from the 'timestamp' column and create new columns\n",
    "movie_rating_df['hour'] = movie_rating_df['timestamp'].dt.hour\n",
    "movie_rating_df['month'] = movie_rating_df['timestamp'].dt.month\n",
    "\n",
    "# Display information about the DataFrame, including data types and non-null counts\n",
    "movie_rating_df.info()"
   ]
  },
  {
   "cell_type": "markdown",
   "metadata": {},
   "source": [
    "# Exploratory Data Analysis (EDA)"
   ]
  },
  {
   "cell_type": "code",
   "execution_count": 19,
   "metadata": {},
   "outputs": [
    {
     "data": {
      "text/html": [
       "<div>\n",
       "<style scoped>\n",
       "    .dataframe tbody tr th:only-of-type {\n",
       "        vertical-align: middle;\n",
       "    }\n",
       "\n",
       "    .dataframe tbody tr th {\n",
       "        vertical-align: top;\n",
       "    }\n",
       "\n",
       "    .dataframe thead th {\n",
       "        text-align: right;\n",
       "    }\n",
       "</style>\n",
       "<table border=\"1\" class=\"dataframe\">\n",
       "  <thead>\n",
       "    <tr style=\"text-align: right;\">\n",
       "      <th></th>\n",
       "      <th>movieId</th>\n",
       "      <th>title</th>\n",
       "      <th>genres</th>\n",
       "      <th>userId</th>\n",
       "      <th>rating</th>\n",
       "      <th>timestamp</th>\n",
       "      <th>hour</th>\n",
       "      <th>month</th>\n",
       "    </tr>\n",
       "  </thead>\n",
       "  <tbody>\n",
       "    <tr>\n",
       "      <th>0</th>\n",
       "      <td>1</td>\n",
       "      <td>Toy Story (1995)</td>\n",
       "      <td>Adventure|Animation|Children|Comedy|Fantasy</td>\n",
       "      <td>1</td>\n",
       "      <td>4.0</td>\n",
       "      <td>2000-07-30 18:45:03</td>\n",
       "      <td>18</td>\n",
       "      <td>7</td>\n",
       "    </tr>\n",
       "    <tr>\n",
       "      <th>1</th>\n",
       "      <td>1</td>\n",
       "      <td>Toy Story (1995)</td>\n",
       "      <td>Adventure|Animation|Children|Comedy|Fantasy</td>\n",
       "      <td>5</td>\n",
       "      <td>4.0</td>\n",
       "      <td>1996-11-08 06:36:02</td>\n",
       "      <td>6</td>\n",
       "      <td>11</td>\n",
       "    </tr>\n",
       "    <tr>\n",
       "      <th>2</th>\n",
       "      <td>1</td>\n",
       "      <td>Toy Story (1995)</td>\n",
       "      <td>Adventure|Animation|Children|Comedy|Fantasy</td>\n",
       "      <td>7</td>\n",
       "      <td>4.5</td>\n",
       "      <td>2005-01-25 06:52:26</td>\n",
       "      <td>6</td>\n",
       "      <td>1</td>\n",
       "    </tr>\n",
       "    <tr>\n",
       "      <th>3</th>\n",
       "      <td>1</td>\n",
       "      <td>Toy Story (1995)</td>\n",
       "      <td>Adventure|Animation|Children|Comedy|Fantasy</td>\n",
       "      <td>15</td>\n",
       "      <td>2.5</td>\n",
       "      <td>2017-11-13 12:59:30</td>\n",
       "      <td>12</td>\n",
       "      <td>11</td>\n",
       "    </tr>\n",
       "    <tr>\n",
       "      <th>4</th>\n",
       "      <td>1</td>\n",
       "      <td>Toy Story (1995)</td>\n",
       "      <td>Adventure|Animation|Children|Comedy|Fantasy</td>\n",
       "      <td>17</td>\n",
       "      <td>4.5</td>\n",
       "      <td>2011-05-18 05:28:03</td>\n",
       "      <td>5</td>\n",
       "      <td>5</td>\n",
       "    </tr>\n",
       "    <tr>\n",
       "      <th>...</th>\n",
       "      <td>...</td>\n",
       "      <td>...</td>\n",
       "      <td>...</td>\n",
       "      <td>...</td>\n",
       "      <td>...</td>\n",
       "      <td>...</td>\n",
       "      <td>...</td>\n",
       "      <td>...</td>\n",
       "    </tr>\n",
       "    <tr>\n",
       "      <th>100831</th>\n",
       "      <td>193581</td>\n",
       "      <td>Black Butler: Book of the Atlantic (2017)</td>\n",
       "      <td>Action|Animation|Comedy|Fantasy</td>\n",
       "      <td>184</td>\n",
       "      <td>4.0</td>\n",
       "      <td>2018-09-16 14:44:42</td>\n",
       "      <td>14</td>\n",
       "      <td>9</td>\n",
       "    </tr>\n",
       "    <tr>\n",
       "      <th>100832</th>\n",
       "      <td>193583</td>\n",
       "      <td>No Game No Life: Zero (2017)</td>\n",
       "      <td>Animation|Comedy|Fantasy</td>\n",
       "      <td>184</td>\n",
       "      <td>3.5</td>\n",
       "      <td>2018-09-16 14:52:25</td>\n",
       "      <td>14</td>\n",
       "      <td>9</td>\n",
       "    </tr>\n",
       "    <tr>\n",
       "      <th>100833</th>\n",
       "      <td>193585</td>\n",
       "      <td>Flint (2017)</td>\n",
       "      <td>Drama</td>\n",
       "      <td>184</td>\n",
       "      <td>3.5</td>\n",
       "      <td>2018-09-16 14:56:45</td>\n",
       "      <td>14</td>\n",
       "      <td>9</td>\n",
       "    </tr>\n",
       "    <tr>\n",
       "      <th>100834</th>\n",
       "      <td>193587</td>\n",
       "      <td>Bungo Stray Dogs: Dead Apple (2018)</td>\n",
       "      <td>Action|Animation</td>\n",
       "      <td>184</td>\n",
       "      <td>3.5</td>\n",
       "      <td>2018-09-16 15:00:21</td>\n",
       "      <td>15</td>\n",
       "      <td>9</td>\n",
       "    </tr>\n",
       "    <tr>\n",
       "      <th>100835</th>\n",
       "      <td>193609</td>\n",
       "      <td>Andrew Dice Clay: Dice Rules (1991)</td>\n",
       "      <td>Comedy</td>\n",
       "      <td>331</td>\n",
       "      <td>4.0</td>\n",
       "      <td>2018-09-17 04:13:26</td>\n",
       "      <td>4</td>\n",
       "      <td>9</td>\n",
       "    </tr>\n",
       "  </tbody>\n",
       "</table>\n",
       "<p>100836 rows × 8 columns</p>\n",
       "</div>"
      ],
      "text/plain": [
       "        movieId                                      title  \\\n",
       "0             1                           Toy Story (1995)   \n",
       "1             1                           Toy Story (1995)   \n",
       "2             1                           Toy Story (1995)   \n",
       "3             1                           Toy Story (1995)   \n",
       "4             1                           Toy Story (1995)   \n",
       "...         ...                                        ...   \n",
       "100831   193581  Black Butler: Book of the Atlantic (2017)   \n",
       "100832   193583               No Game No Life: Zero (2017)   \n",
       "100833   193585                               Flint (2017)   \n",
       "100834   193587        Bungo Stray Dogs: Dead Apple (2018)   \n",
       "100835   193609        Andrew Dice Clay: Dice Rules (1991)   \n",
       "\n",
       "                                             genres  userId  rating  \\\n",
       "0       Adventure|Animation|Children|Comedy|Fantasy       1     4.0   \n",
       "1       Adventure|Animation|Children|Comedy|Fantasy       5     4.0   \n",
       "2       Adventure|Animation|Children|Comedy|Fantasy       7     4.5   \n",
       "3       Adventure|Animation|Children|Comedy|Fantasy      15     2.5   \n",
       "4       Adventure|Animation|Children|Comedy|Fantasy      17     4.5   \n",
       "...                                             ...     ...     ...   \n",
       "100831              Action|Animation|Comedy|Fantasy     184     4.0   \n",
       "100832                     Animation|Comedy|Fantasy     184     3.5   \n",
       "100833                                        Drama     184     3.5   \n",
       "100834                             Action|Animation     184     3.5   \n",
       "100835                                       Comedy     331     4.0   \n",
       "\n",
       "                 timestamp  hour  month  \n",
       "0      2000-07-30 18:45:03    18      7  \n",
       "1      1996-11-08 06:36:02     6     11  \n",
       "2      2005-01-25 06:52:26     6      1  \n",
       "3      2017-11-13 12:59:30    12     11  \n",
       "4      2011-05-18 05:28:03     5      5  \n",
       "...                    ...   ...    ...  \n",
       "100831 2018-09-16 14:44:42    14      9  \n",
       "100832 2018-09-16 14:52:25    14      9  \n",
       "100833 2018-09-16 14:56:45    14      9  \n",
       "100834 2018-09-16 15:00:21    15      9  \n",
       "100835 2018-09-17 04:13:26     4      9  \n",
       "\n",
       "[100836 rows x 8 columns]"
      ]
     },
     "execution_count": 19,
     "metadata": {},
     "output_type": "execute_result"
    }
   ],
   "source": [
    "movie_rating_df"
   ]
  },
  {
   "cell_type": "markdown",
   "metadata": {},
   "source": [
    "### Average Hourly Rating "
   ]
  },
  {
   "cell_type": "code",
   "execution_count": 20,
   "metadata": {},
   "outputs": [
    {
     "data": {
      "image/png": "[encoded data removed]",
      "text/plain": [
       "<Figure size 936x432 with 1 Axes>"
      ]
     },
     "metadata": {
      "needs_background": "light"
     },
     "output_type": "display_data"
    }
   ],
   "source": [
    "# Group the movie ratings DataFrame by hour and calculate the average rating for each hour\n",
    "hourly_average_ratings = movie_rating_df.groupby('hour')['rating'].mean()\n",
    "\n",
    "# Plotting the peak viewing time trends\n",
    "plt.figure(figsize=(13, 6))\n",
    "hourly_average_ratings.plot(kind='line', marker='o', color='blue', title='Peak Movie Watching Times')\n",
    "plt.xlabel('Hour of the Day')\n",
    "plt.ylabel('Average Rating')\n",
    "plt.show()"
   ]
  },
  {
   "cell_type": "markdown",
   "metadata": {},
   "source": [
    "0600hrs appears to have the highest ratings, while 2000hrs  has the lowest. This  could suggest that viewers tend to rate movies more positively in the early morning hours and potentially less favorably in the evening."
   ]
  },
  {
   "cell_type": "markdown",
   "metadata": {},
   "source": [
    "### Average Monthly Rating "
   ]
  },
  {
   "cell_type": "code",
   "execution_count": 21,
   "metadata": {
    "scrolled": true
   },
   "outputs": [
    {
     "data": {
      "image/png": "[encoded data removed]",
      "text/plain": [
       "<Figure size 936x432 with 1 Axes>"
      ]
     },
     "metadata": {
      "needs_background": "light"
     },
     "output_type": "display_data"
    }
   ],
   "source": [
    "# Extract the month from the 'timestamp' column and create a new 'month' column\n",
    "movie_rating_df['month'] = movie_rating_df['timestamp'].dt.month\n",
    "\n",
    "# Calculate the average rating for each month using groupby\n",
    "monthly_average_ratings = movie_rating_df.groupby('month')['rating'].mean()\n",
    "\n",
    "# Plotting the average monthly rating graph with grid lines\n",
    "plt.figure(figsize=(13, 6))\n",
    "monthly_average_ratings.plot(kind='bar', color='brown', title='Average Monthly Ratings', grid=True)\n",
    "plt.xlabel('Month')\n",
    "plt.ylabel('Average Rating')\n",
    "plt.xticks(rotation=0)  # Rotate x-axis labels for better visibility\n",
    "plt.show()"
   ]
  },
  {
   "cell_type": "markdown",
   "metadata": {},
   "source": [
    "High-Rated Months (Average Rating 3.5 and above): January (1), April (4), July (7), September (9), October (10), November (11), and December (12) consistently show average ratings of 3.5 and above. This suggests that movies released or watched during these months tend to be well-received or rated more positively by viewers."
   ]
  },
  {
   "cell_type": "code",
   "execution_count": 22,
   "metadata": {},
   "outputs": [
    {
     "data": {
      "image/png": "[encoded data removed]",
      "text/plain": [
       "<Figure size 936x432 with 1 Axes>"
      ]
     },
     "metadata": {
      "needs_background": "light"
     },
     "output_type": "display_data"
    }
   ],
   "source": [
    "# Extract the month from the 'timestamp' column and create a new 'month' column\n",
    "movie_rating_df['month'] = movie_rating_df['timestamp'].dt.month\n",
    "\n",
    "# Group the DataFrame by month and calculate the count of ratings for each month\n",
    "monthly_rating_counts = movie_rating_df.groupby('month')['rating'].count()\n",
    "\n",
    "# Plotting the number of ratings per month with grid lines\n",
    "plt.figure(figsize=(13, 6))\n",
    "monthly_rating_counts.plot(kind='bar', color='purple', title='Number of Ratings per Month', grid=True)\n",
    "plt.xlabel('Month')\n",
    "plt.ylabel('Number of Ratings')\n",
    "plt.xticks(rotation=0)  # Rotate x-axis labels for better visibility\n",
    "plt.show()"
   ]
  },
  {
   "cell_type": "markdown",
   "metadata": {},
   "source": [
    "The bar chart indicates that the month of May (month 5) has the highest count of ratings. This suggests that users are more active in providing ratings during the month of May compared to other months."
   ]
  },
  {
   "cell_type": "markdown",
   "metadata": {},
   "source": [
    "### UNIVARIATE DATA ANALYSIS"
   ]
  },
  {
   "cell_type": "code",
   "execution_count": 23,
   "metadata": {},
   "outputs": [],
   "source": [
    "# A function to create various types of plots based on the specified plot_type\n",
    "\n",
    "def create_plots(df, plot_type, columns_to_plot=None, y=None):\n",
    "    \"\"\"\n",
    "    Args:\n",
    "    - df: DataFrame, the input data\n",
    "    - plot_type: str, the type of plot to create ('count_plot', 'bar_plot1', 'bar_plot2')\n",
    "    - columns_to_plot: Series or DataFrame, data for the plot\n",
    "    - y: str, the column name for the y-axis (only used in 'bar_plot2')\n",
    "\n",
    "    Returns:\n",
    "    - None\n",
    "    \"\"\"\n",
    "    if plot_type == 'count_plot':\n",
    "        # Create a count plot for the specified column\n",
    "        plt.figure(figsize=(14, 9))\n",
    "        sns.countplot(data=df, x=columns_to_plot)\n",
    "        plt.title(f'Distribution of movie {columns_to_plot}')\n",
    "        plt.xticks(rotation=90)\n",
    "        plt.show()\n",
    "    elif plot_type == 'bar_plot_1':\n",
    "        # Create a bar plot for the top 10 most frequently rated movies\n",
    "        plt.figure(figsize=(14, 9))\n",
    "        sns.barplot(columns_to_plot.index, columns_to_plot.values)\n",
    "        plt.title('Top 10 most frequently rated movies')\n",
    "        plt.xlabel('Movie Title')\n",
    "        plt.xticks(rotation=90)\n",
    "        plt.ylabel('Count')\n",
    "        plt.show()\n",
    "    elif plot_type == 'bar_plot_2':\n",
    "        # Create a bar plot for the top 10 most frequently rated movies and their average ratings\n",
    "        plt.figure(figsize=(14, 9))\n",
    "        sns.barplot(columns_to_plot.index, columns_to_plot.values, y=y)\n",
    "        plt.title('Top 10 most frequently rated movies and their average ratings')\n",
    "        plt.xlabel('Movie Title')\n",
    "        plt.xticks(rotation=90)\n",
    "        plt.ylabel('Average Rating')\n",
    "        plt.show()\n"
   ]
  },
  {
   "cell_type": "code",
   "execution_count": 24,
   "metadata": {},
   "outputs": [
    {
     "data": {
      "image/png": "[encoded data removed]",
      "text/plain": [
       "<Figure size 1008x648 with 1 Axes>"
      ]
     },
     "metadata": {
      "needs_background": "light"
     },
     "output_type": "display_data"
    }
   ],
   "source": [
    "create_plots(movie_rating_df, 'count_plot', 'rating')"
   ]
  },
  {
   "cell_type": "markdown",
   "metadata": {},
   "source": [
    "The graph above visualizes both the count and average rating for the top 10 most frequently rated movies.\n",
    "\n",
    "\n",
    "The highest rating is 4 indicates that a significant number of users have given a rating of \"4\" to the movies in your dataset. This could suggest that a majority of users generally enjoy the movies, as they tend to give higher ratings."
   ]
  },
  {
   "cell_type": "code",
   "execution_count": 25,
   "metadata": {},
   "outputs": [],
   "source": [
    "# Count the number of ratings for each unique movieId\n",
    "movie_ratings_count = ratings['movieId'].value_counts()"
   ]
  },
  {
   "cell_type": "code",
   "execution_count": 44,
   "metadata": {},
   "outputs": [
    {
     "data": {
      "image/png": "[encoded data removed]",
      "text/plain": [
       "<Figure size 1008x648 with 1 Axes>"
      ]
     },
     "metadata": {},
     "output_type": "display_data"
    }
   ],
   "source": [
    "# Get the top 10 most frequently rated movies\n",
    "top_10_watched_movies = movie_rating_df['title'].value_counts().head(10)\n",
    "\n",
    "# Create a bar plot to visualize the distribution of ratings for the top 10 movies\n",
    "create_plots(movie_rating_df, plot_type='bar_plot_1', columns_to_plot=top_10_watched_movies)"
   ]
  },
  {
   "cell_type": "markdown",
   "metadata": {},
   "source": [
    "The visualization provides insights into the popularity of movies based on the number of ratings they have received.\n",
    "\n",
    "\"Forrest Gump\" is the most popular and frequently rated movies among the users."
   ]
  },
  {
   "cell_type": "markdown",
   "metadata": {},
   "source": [
    "### What are the lowest and highest rated movies? \n",
    "\n",
    "Which movie has the lowest and highest average rating?"
   ]
  },
  {
   "cell_type": "code",
   "execution_count": 27,
   "metadata": {},
   "outputs": [
    {
     "data": {
      "text/html": [
       "<div>\n",
       "<style scoped>\n",
       "    .dataframe tbody tr th:only-of-type {\n",
       "        vertical-align: middle;\n",
       "    }\n",
       "\n",
       "    .dataframe tbody tr th {\n",
       "        vertical-align: top;\n",
       "    }\n",
       "\n",
       "    .dataframe thead th {\n",
       "        text-align: right;\n",
       "    }\n",
       "</style>\n",
       "<table border=\"1\" class=\"dataframe\">\n",
       "  <thead>\n",
       "    <tr style=\"text-align: right;\">\n",
       "      <th></th>\n",
       "      <th>movieId</th>\n",
       "      <th>title</th>\n",
       "      <th>genres</th>\n",
       "    </tr>\n",
       "  </thead>\n",
       "  <tbody>\n",
       "    <tr>\n",
       "      <th>2689</th>\n",
       "      <td>3604</td>\n",
       "      <td>Gypsy (1962)</td>\n",
       "      <td>Musical</td>\n",
       "    </tr>\n",
       "  </tbody>\n",
       "</table>\n",
       "</div>"
      ],
      "text/plain": [
       "      movieId         title   genres\n",
       "2689     3604  Gypsy (1962)  Musical"
      ]
     },
     "execution_count": 27,
     "metadata": {},
     "output_type": "execute_result"
    }
   ],
   "source": [
    "# Calculate the mean rating for each movie\n",
    "mean_ratings = ratings.groupby('movieId')[['rating']].mean()\n",
    "\n",
    "# Find the movie with the lowest mean rating\n",
    "lowest_rated_movie_id = mean_ratings['rating'].idxmin()\n",
    "\n",
    "# Retrieve information about the movie with the lowest mean rating\n",
    "lowest_rated_movie_info = movies[movies['movieId'] == lowest_rated_movie_id]\n",
    "lowest_rated_movie_info"
   ]
  },
  {
   "cell_type": "code",
   "execution_count": 28,
   "metadata": {},
   "outputs": [
    {
     "data": {
      "text/html": [
       "<div>\n",
       "<style scoped>\n",
       "    .dataframe tbody tr th:only-of-type {\n",
       "        vertical-align: middle;\n",
       "    }\n",
       "\n",
       "    .dataframe tbody tr th {\n",
       "        vertical-align: top;\n",
       "    }\n",
       "\n",
       "    .dataframe thead th {\n",
       "        text-align: right;\n",
       "    }\n",
       "</style>\n",
       "<table border=\"1\" class=\"dataframe\">\n",
       "  <thead>\n",
       "    <tr style=\"text-align: right;\">\n",
       "      <th></th>\n",
       "      <th>movieId</th>\n",
       "      <th>title</th>\n",
       "      <th>genres</th>\n",
       "    </tr>\n",
       "  </thead>\n",
       "  <tbody>\n",
       "    <tr>\n",
       "      <th>48</th>\n",
       "      <td>53</td>\n",
       "      <td>Lamerica (1994)</td>\n",
       "      <td>Adventure|Drama</td>\n",
       "    </tr>\n",
       "  </tbody>\n",
       "</table>\n",
       "</div>"
      ],
      "text/plain": [
       "    movieId            title           genres\n",
       "48       53  Lamerica (1994)  Adventure|Drama"
      ]
     },
     "execution_count": 28,
     "metadata": {},
     "output_type": "execute_result"
    }
   ],
   "source": [
    "# Find the movie with the highest average rating\n",
    "highest_rated_movie_id = mean_ratings['rating'].idxmax()\n",
    "\n",
    "# Retrieve information about the highest-rated movie from the 'movies' DataFrame\n",
    "highest_rated_movie_info = movies[movies['movieId'] == highest_rated_movie_id]\n",
    "highest_rated_movie_info"
   ]
  },
  {
   "cell_type": "markdown",
   "metadata": {},
   "source": [
    "How many ratings does Lamerica have?"
   ]
  },
  {
   "cell_type": "code",
   "execution_count": 29,
   "metadata": {},
   "outputs": [
    {
     "data": {
      "text/html": [
       "<div>\n",
       "<style scoped>\n",
       "    .dataframe tbody tr th:only-of-type {\n",
       "        vertical-align: middle;\n",
       "    }\n",
       "\n",
       "    .dataframe tbody tr th {\n",
       "        vertical-align: top;\n",
       "    }\n",
       "\n",
       "    .dataframe thead th {\n",
       "        text-align: right;\n",
       "    }\n",
       "</style>\n",
       "<table border=\"1\" class=\"dataframe\">\n",
       "  <thead>\n",
       "    <tr style=\"text-align: right;\">\n",
       "      <th></th>\n",
       "      <th>userId</th>\n",
       "      <th>movieId</th>\n",
       "      <th>rating</th>\n",
       "      <th>timestamp</th>\n",
       "    </tr>\n",
       "  </thead>\n",
       "  <tbody>\n",
       "    <tr>\n",
       "      <th>13368</th>\n",
       "      <td>85</td>\n",
       "      <td>53</td>\n",
       "      <td>5.0</td>\n",
       "      <td>889468268</td>\n",
       "    </tr>\n",
       "    <tr>\n",
       "      <th>96115</th>\n",
       "      <td>603</td>\n",
       "      <td>53</td>\n",
       "      <td>5.0</td>\n",
       "      <td>963180003</td>\n",
       "    </tr>\n",
       "  </tbody>\n",
       "</table>\n",
       "</div>"
      ],
      "text/plain": [
       "       userId  movieId  rating  timestamp\n",
       "13368      85       53     5.0  889468268\n",
       "96115     603       53     5.0  963180003"
      ]
     },
     "execution_count": 29,
     "metadata": {},
     "output_type": "execute_result"
    }
   ],
   "source": [
    "# Filter the 'ratings' DataFrame to include only rows where 'movieId' is equal to the highest rated movie\n",
    "highest_rated_movie_ratings = ratings[ratings['movieId'] == highest_rated_movie_id]\n",
    "highest_rated_movie_ratings"
   ]
  },
  {
   "cell_type": "markdown",
   "metadata": {},
   "source": [
    " The movie with the lowest mean rating, which is \"Gypsy (1962),\" and The movie with the highest mean rating, which is \"Lamerica (1994).\" "
   ]
  },
  {
   "cell_type": "code",
   "execution_count": 30,
   "metadata": {},
   "outputs": [],
   "source": [
    "# Function to split genres in the 'genres' column and count their occurrences\n",
    "def splitting_string(movies):\n",
    "    # Splitting the genres string into a list of genres\n",
    "    movies['genres'] = movies['genres'].apply(lambda x: x.split('|'))\n",
    "    \n",
    "    # Counting the frequency of each genre using Counter\n",
    "    from collections import Counter\n",
    "    genre_frequency = Counter(g for genres in movies['genres'] for g in genres)\n",
    "    \n",
    "    return genre_frequency"
   ]
  },
  {
   "cell_type": "code",
   "execution_count": 31,
   "metadata": {},
   "outputs": [
    {
     "data": {
      "text/plain": [
       "Counter({'Adventure': 24161,\n",
       "         'Animation': 6988,\n",
       "         'Children': 9208,\n",
       "         'Comedy': 39053,\n",
       "         'Fantasy': 11834,\n",
       "         'Romance': 18124,\n",
       "         'Drama': 41928,\n",
       "         'Action': 30635,\n",
       "         'Crime': 16681,\n",
       "         'Thriller': 26452,\n",
       "         'Horror': 7291,\n",
       "         'Mystery': 7674,\n",
       "         'Sci-Fi': 17243,\n",
       "         'War': 4859,\n",
       "         'Musical': 4138,\n",
       "         'Documentary': 1219,\n",
       "         'IMAX': 4145,\n",
       "         'Western': 1930,\n",
       "         'Film-Noir': 870,\n",
       "         '(no genres listed)': 47})"
      ]
     },
     "execution_count": 31,
     "metadata": {},
     "output_type": "execute_result"
    }
   ],
   "source": [
    "# Applying the function to the 'movie_rating_df' DataFrame\n",
    "genre_count = splitting_string(movie_rating_df)\n",
    "genre_count"
   ]
  },
  {
   "cell_type": "markdown",
   "metadata": {},
   "source": [
    "It shows the count of occurrences for each genre in the  DataFrame.Each key represents a genre, and the corresponding value is the count of how many times that genre appears in the  DataFrame. "
   ]
  },
  {
   "cell_type": "code",
   "execution_count": 32,
   "metadata": {},
   "outputs": [
    {
     "data": {
      "text/html": [
       "<div>\n",
       "<style scoped>\n",
       "    .dataframe tbody tr th:only-of-type {\n",
       "        vertical-align: middle;\n",
       "    }\n",
       "\n",
       "    .dataframe tbody tr th {\n",
       "        vertical-align: top;\n",
       "    }\n",
       "\n",
       "    .dataframe thead th {\n",
       "        text-align: right;\n",
       "    }\n",
       "</style>\n",
       "<table border=\"1\" class=\"dataframe\">\n",
       "  <thead>\n",
       "    <tr style=\"text-align: right;\">\n",
       "      <th></th>\n",
       "      <th>movieId</th>\n",
       "      <th>title</th>\n",
       "      <th>genres</th>\n",
       "      <th>userId</th>\n",
       "      <th>rating</th>\n",
       "      <th>timestamp</th>\n",
       "      <th>hour</th>\n",
       "      <th>month</th>\n",
       "    </tr>\n",
       "  </thead>\n",
       "  <tbody>\n",
       "    <tr>\n",
       "      <th>0</th>\n",
       "      <td>1</td>\n",
       "      <td>Toy Story (1995)</td>\n",
       "      <td>Adventure</td>\n",
       "      <td>1</td>\n",
       "      <td>4.0</td>\n",
       "      <td>2000-07-30 18:45:03</td>\n",
       "      <td>18</td>\n",
       "      <td>7</td>\n",
       "    </tr>\n",
       "    <tr>\n",
       "      <th>0</th>\n",
       "      <td>1</td>\n",
       "      <td>Toy Story (1995)</td>\n",
       "      <td>Animation</td>\n",
       "      <td>1</td>\n",
       "      <td>4.0</td>\n",
       "      <td>2000-07-30 18:45:03</td>\n",
       "      <td>18</td>\n",
       "      <td>7</td>\n",
       "    </tr>\n",
       "    <tr>\n",
       "      <th>0</th>\n",
       "      <td>1</td>\n",
       "      <td>Toy Story (1995)</td>\n",
       "      <td>Children</td>\n",
       "      <td>1</td>\n",
       "      <td>4.0</td>\n",
       "      <td>2000-07-30 18:45:03</td>\n",
       "      <td>18</td>\n",
       "      <td>7</td>\n",
       "    </tr>\n",
       "    <tr>\n",
       "      <th>0</th>\n",
       "      <td>1</td>\n",
       "      <td>Toy Story (1995)</td>\n",
       "      <td>Comedy</td>\n",
       "      <td>1</td>\n",
       "      <td>4.0</td>\n",
       "      <td>2000-07-30 18:45:03</td>\n",
       "      <td>18</td>\n",
       "      <td>7</td>\n",
       "    </tr>\n",
       "    <tr>\n",
       "      <th>0</th>\n",
       "      <td>1</td>\n",
       "      <td>Toy Story (1995)</td>\n",
       "      <td>Fantasy</td>\n",
       "      <td>1</td>\n",
       "      <td>4.0</td>\n",
       "      <td>2000-07-30 18:45:03</td>\n",
       "      <td>18</td>\n",
       "      <td>7</td>\n",
       "    </tr>\n",
       "    <tr>\n",
       "      <th>...</th>\n",
       "      <td>...</td>\n",
       "      <td>...</td>\n",
       "      <td>...</td>\n",
       "      <td>...</td>\n",
       "      <td>...</td>\n",
       "      <td>...</td>\n",
       "      <td>...</td>\n",
       "      <td>...</td>\n",
       "    </tr>\n",
       "    <tr>\n",
       "      <th>100832</th>\n",
       "      <td>193583</td>\n",
       "      <td>No Game No Life: Zero (2017)</td>\n",
       "      <td>Fantasy</td>\n",
       "      <td>184</td>\n",
       "      <td>3.5</td>\n",
       "      <td>2018-09-16 14:52:25</td>\n",
       "      <td>14</td>\n",
       "      <td>9</td>\n",
       "    </tr>\n",
       "    <tr>\n",
       "      <th>100833</th>\n",
       "      <td>193585</td>\n",
       "      <td>Flint (2017)</td>\n",
       "      <td>Drama</td>\n",
       "      <td>184</td>\n",
       "      <td>3.5</td>\n",
       "      <td>2018-09-16 14:56:45</td>\n",
       "      <td>14</td>\n",
       "      <td>9</td>\n",
       "    </tr>\n",
       "    <tr>\n",
       "      <th>100834</th>\n",
       "      <td>193587</td>\n",
       "      <td>Bungo Stray Dogs: Dead Apple (2018)</td>\n",
       "      <td>Action</td>\n",
       "      <td>184</td>\n",
       "      <td>3.5</td>\n",
       "      <td>2018-09-16 15:00:21</td>\n",
       "      <td>15</td>\n",
       "      <td>9</td>\n",
       "    </tr>\n",
       "    <tr>\n",
       "      <th>100834</th>\n",
       "      <td>193587</td>\n",
       "      <td>Bungo Stray Dogs: Dead Apple (2018)</td>\n",
       "      <td>Animation</td>\n",
       "      <td>184</td>\n",
       "      <td>3.5</td>\n",
       "      <td>2018-09-16 15:00:21</td>\n",
       "      <td>15</td>\n",
       "      <td>9</td>\n",
       "    </tr>\n",
       "    <tr>\n",
       "      <th>100835</th>\n",
       "      <td>193609</td>\n",
       "      <td>Andrew Dice Clay: Dice Rules (1991)</td>\n",
       "      <td>Comedy</td>\n",
       "      <td>331</td>\n",
       "      <td>4.0</td>\n",
       "      <td>2018-09-17 04:13:26</td>\n",
       "      <td>4</td>\n",
       "      <td>9</td>\n",
       "    </tr>\n",
       "  </tbody>\n",
       "</table>\n",
       "<p>274480 rows × 8 columns</p>\n",
       "</div>"
      ],
      "text/plain": [
       "        movieId                                title     genres  userId  \\\n",
       "0             1                     Toy Story (1995)  Adventure       1   \n",
       "0             1                     Toy Story (1995)  Animation       1   \n",
       "0             1                     Toy Story (1995)   Children       1   \n",
       "0             1                     Toy Story (1995)     Comedy       1   \n",
       "0             1                     Toy Story (1995)    Fantasy       1   \n",
       "...         ...                                  ...        ...     ...   \n",
       "100832   193583         No Game No Life: Zero (2017)    Fantasy     184   \n",
       "100833   193585                         Flint (2017)      Drama     184   \n",
       "100834   193587  Bungo Stray Dogs: Dead Apple (2018)     Action     184   \n",
       "100834   193587  Bungo Stray Dogs: Dead Apple (2018)  Animation     184   \n",
       "100835   193609  Andrew Dice Clay: Dice Rules (1991)     Comedy     331   \n",
       "\n",
       "        rating           timestamp  hour  month  \n",
       "0          4.0 2000-07-30 18:45:03    18      7  \n",
       "0          4.0 2000-07-30 18:45:03    18      7  \n",
       "0          4.0 2000-07-30 18:45:03    18      7  \n",
       "0          4.0 2000-07-30 18:45:03    18      7  \n",
       "0          4.0 2000-07-30 18:45:03    18      7  \n",
       "...        ...                 ...   ...    ...  \n",
       "100832     3.5 2018-09-16 14:52:25    14      9  \n",
       "100833     3.5 2018-09-16 14:56:45    14      9  \n",
       "100834     3.5 2018-09-16 15:00:21    15      9  \n",
       "100834     3.5 2018-09-16 15:00:21    15      9  \n",
       "100835     4.0 2018-09-17 04:13:26     4      9  \n",
       "\n",
       "[274480 rows x 8 columns]"
      ]
     },
     "execution_count": 32,
     "metadata": {},
     "output_type": "execute_result"
    }
   ],
   "source": [
    "# Create a copy of the original DataFrame\n",
    "new_df = movie_rating_df.copy()\n",
    "\n",
    "# Explode the 'genres' column to have one row for each genre associated with a movie\n",
    "new_df = new_df.explode('genres')\n",
    "\n",
    "# Display the modified DataFrame\n",
    "new_df"
   ]
  },
  {
   "cell_type": "markdown",
   "metadata": {},
   "source": [
    "The 'genres' column is exploded so that each row now corresponds to a single genre associated with a movie. "
   ]
  },
  {
   "cell_type": "code",
   "execution_count": 33,
   "metadata": {},
   "outputs": [
    {
     "data": {
      "image/png": "[encoded data removed]",
      "text/plain": [
       "<Figure size 936x432 with 1 Axes>"
      ]
     },
     "metadata": {
      "needs_background": "light"
     },
     "output_type": "display_data"
    }
   ],
   "source": [
    "# Visualization of genres in descending order of frequency\n",
    "\n",
    "# Convert genre_count dictionary to a DataFrame\n",
    "genre_df = pd.DataFrame(list(genre_count.items()), columns=['Genre', 'Count'])\n",
    "\n",
    "# Sort DataFrame by Count in descending order\n",
    "genre_df = genre_df.sort_values(by='Count', ascending=False)\n",
    "\n",
    "# Assign the sorted DataFrame to 'all_genres'\n",
    "all_genres = genre_df\n",
    "\n",
    "# Plotting the bar chart\n",
    "plt.figure(figsize=(13, 6))\n",
    "sns.set(style=\"whitegrid\")\n",
    "sns.barplot(x='Genre', y='Count', data=all_genres, palette=\"viridis\")\n",
    "plt.title('Genres')\n",
    "plt.xlabel('Genre')\n",
    "plt.ylabel('Count')\n",
    "plt.xticks(rotation=45)\n",
    "plt.show()"
   ]
  },
  {
   "cell_type": "markdown",
   "metadata": {},
   "source": [
    "The high count of \"Drama\" suggests that movies classified under the Drama genre are very common in your dataset. Viewers in the dataset seem to have rated or interacted with a significant number of movies that fall into the Drama category.\n",
    "On the other hand, the low count of \"Film-Noir\" indicates that movies in the Film-Noir genre are less common or less frequently rated in the dataset. "
   ]
  },
  {
   "cell_type": "code",
   "execution_count": 34,
   "metadata": {},
   "outputs": [
    {
     "name": "stdout",
     "output_type": "stream",
     "text": [
      "Number of ratings: 100836\n",
      "Number of unique movieIds: 9724\n",
      "Number of unique users: 610\n",
      "Average number of ratings per user: 165.305\n",
      "Average number of ratings per movie: 10.37\n"
     ]
    }
   ],
   "source": [
    "# Calculate the total number of ratings\n",
    "n_ratings = len(ratings)\n",
    "\n",
    "# Calculate the number of unique movieIds and users\n",
    "n_movies = ratings['movieId'].nunique()\n",
    "n_users = ratings['userId'].nunique()\n",
    "\n",
    "# Display the results\n",
    "print(f\"Number of ratings: {n_ratings}\")\n",
    "print(f\"Number of unique movieIds: {n_movies}\")\n",
    "print(f\"Number of unique users: {n_users}\")\n",
    "print(f\"Average number of ratings per user: {round(n_ratings / n_users, 3)}\")\n",
    "print(f\"Average number of ratings per movie: {round(n_ratings / n_movies, 3)}\")"
   ]
  },
  {
   "cell_type": "markdown",
   "metadata": {},
   "source": [
    "The dataset contains 100,836 ratings, 9,724 unique movieIds, 610 unique users, and an average of 165.305 ratings per user and 10.37 ratings per movie."
   ]
  },
  {
   "cell_type": "code",
   "execution_count": 35,
   "metadata": {
    "scrolled": true
   },
   "outputs": [
    {
     "name": "stdout",
     "output_type": "stream",
     "text": [
      "Mean global rating: 3.5.\n",
      "Mean rating per user: 3.66.\n"
     ]
    }
   ],
   "source": [
    "# Calculate and print the mean global rating\n",
    "global_mean_rating = round(ratings['rating'].mean(), 2)\n",
    "print(f\"Mean global rating: {global_mean_rating}.\")\n",
    "\n",
    "# Calculate mean rating per user, then calculate and print the overall mean of those user means\n",
    "mean_ratings_per_user = ratings.groupby('userId')['rating'].mean()\n",
    "overall_mean_per_user = round(mean_ratings_per_user.mean(), 2)\n",
    "print(f\"Mean rating per user: {overall_mean_per_user}.\")"
   ]
  },
  {
   "cell_type": "code",
   "execution_count": 36,
   "metadata": {},
   "outputs": [
    {
     "data": {
      "image/png": "[encoded data removed]",
      "text/plain": [
       "<Figure size 720x576 with 2 Axes>"
      ]
     },
     "metadata": {},
     "output_type": "display_data"
    }
   ],
   "source": [
    "# Calculate the correlations between features in the DataFrame\n",
    "correlations = new_df.corr()\n",
    "\n",
    "# Create a heatmap for visualizing the correlations\n",
    "plt.figure(figsize=(10, 8))\n",
    "sns.heatmap(round(correlations, 2), annot=True, linewidths=.7)\n",
    "plt.title('Correlation Heatmap')\n",
    "plt.show()"
   ]
  },
  {
   "cell_type": "markdown",
   "metadata": {},
   "source": [
    "The correlation coefficient ranges from -1 to 1, with 1 indicating a perfect positive correlation, -1 indicating a perfect negative correlation, and 0 indicating no correlation.\n",
    "\n",
    "The correlation between movieId and userId is very small, indicating a weak positive relationship. \n",
    "\n",
    "The correlation between movieId and rating is also very small, indicating a weak negative relationship.\n",
    "\n",
    "The hour and month have a small positive correlation."
   ]
  },
  {
   "cell_type": "markdown",
   "metadata": {},
   "source": [
    "### BIVARIATE DATA ANALYSIS"
   ]
  },
  {
   "cell_type": "code",
   "execution_count": 46,
   "metadata": {},
   "outputs": [
    {
     "data": {
      "image/png": "[encoded data removed]",
      "text/plain": [
       "<Figure size 1008x648 with 1 Axes>"
      ]
     },
     "metadata": {},
     "output_type": "display_data"
    }
   ],
   "source": [
    "# Get the top 10 most-watched movies by count of ratings\n",
    "top_10_watched_movies = movie_rating_df['title'].value_counts().nlargest(10)\n",
    "\n",
    "# Calculate the average ratings for the top 10 watched movies\n",
    "average_ratings = movie_rating_df.groupby('title')['rating'].mean().loc[top_10_watched_movies.index]\n",
    "\n",
    "# Create a bar plot displaying the average ratings of the top 10 most-watched movies\n",
    "create_plots(movie_rating_df, 'bar_plot_2', average_ratings)"
   ]
  },
  {
   "cell_type": "code",
   "execution_count": 38,
   "metadata": {},
   "outputs": [
    {
     "data": {
      "image/png": "[encoded data removed]",
      "text/plain": [
       "<Figure size 864x432 with 1 Axes>"
      ]
     },
     "metadata": {},
     "output_type": "display_data"
    }
   ],
   "source": [
    "def bar_plot(x, y, data):\n",
    "    \"\"\"\n",
    "    Create a bar plot to visualize the relationship between two variables.\n",
    "\n",
    "    Args:\n",
    "    - x: str, the column name for the x-axis\n",
    "    - y: str, the column name for the y-axis\n",
    "    - data: DataFrame, the input data\n",
    "\n",
    "    Returns:\n",
    "    - None\n",
    "    \"\"\"\n",
    "    # Set up the plot size\n",
    "    plt.figure(figsize=(12, 6))\n",
    "    \n",
    "    # Create a bar plot using Seaborn\n",
    "    sns.barplot(x=x, y=y, data=data)\n",
    "    \n",
    "    # Set plot title and axis labels\n",
    "    plt.title(f'{y} by {x}')\n",
    "    plt.xlabel(f'{x}')\n",
    "    plt.xticks(rotation=90)\n",
    "    plt.ylabel(f'{y}')\n",
    "    # Add grid lines to the plot\n",
    "    plt.grid(True, axis='y', linestyle='-', alpha=.7)\n",
    "    \n",
    "    # Display the plot\n",
    "    plt.show()\n",
    "\n",
    "# Example usage\n",
    "bar_plot('genres', 'rating', new_df)"
   ]
  },
  {
   "cell_type": "code",
   "execution_count": 39,
   "metadata": {},
   "outputs": [
    {
     "data": {
      "image/png": "[encoded data removed]",
      "text/plain": [
       "<Figure size 1296x792 with 1 Axes>"
      ]
     },
     "metadata": {},
     "output_type": "display_data"
    }
   ],
   "source": [
    "# Create a count plot to visualize the distribution of ratings per genre\n",
    "\n",
    "# Set the size of the figure\n",
    "plt.figure(figsize=(18, 11))\n",
    "\n",
    "# Create a count plot using seaborn, with 'genres' on the x-axis and 'rating' represented by color\n",
    "sns.countplot(data=new_df, x='genres', hue='rating')\n",
    "\n",
    "# Set the title of the plot\n",
    "plt.title(f'Distribution of Ratings per Genre')\n",
    "\n",
    "# Add grid lines to the plot\n",
    "plt.grid(True, axis='y', linestyle='-', alpha=.7)\n",
    "\n",
    "# Display the plot\n",
    "plt.show()"
   ]
  },
  {
   "cell_type": "markdown",
   "metadata": {},
   "source": [
    " \"Drama\" has the highest distribution of ratings across different rating levels. This suggests that movies classified under the \"Drama\" genre receive a substantial number of ratings across various rating values."
   ]
  },
  {
   "cell_type": "markdown",
   "metadata": {},
   "source": [
    "# Modelling "
   ]
  },
  {
   "cell_type": "code",
   "execution_count": 40,
   "metadata": {},
   "outputs": [],
   "source": [
    "from surprise import Reader, Dataset\n",
    "from surprise import accuracy\n",
    "from surprise.model_selection import cross_validate, train_test_split\n",
    "from surprise.prediction_algorithms import SVD\n",
    "from surprise.prediction_algorithms import KNNWithMeans, KNNBasic, KNNBaseline\n",
    "from surprise.model_selection import GridSearchCV\n",
    "from IPython.display import HTML\n",
    "import warnings\n",
    "warnings.filterwarnings('ignore')"
   ]
  },
  {
   "cell_type": "code",
   "execution_count": 41,
   "metadata": {},
   "outputs": [
    {
     "name": "stdout",
     "output_type": "stream",
     "text": [
      "Number of users:  610 \n",
      "\n",
      "Number of items:  8995 \n",
      "\n"
     ]
    }
   ],
   "source": [
    "# Selecting necessary columns from the dataset: userId, movieId, and rating\n",
    "user_item_df = movie_rating_df[['userId', 'movieId', 'rating']]\n",
    "\n",
    "# Transforming the pandas dataframe into a Surprise dataset using the Reader\n",
    "reader = Reader()\n",
    "data = Dataset.load_from_df(user_item_df, reader)\n",
    "\n",
    "# Splitting the dataset into training and testing sets\n",
    "trainset, testset = train_test_split(data, test_size=0.2, random_state=111)\n",
    "\n",
    "# Printing the number of unique users and items in the training set\n",
    "print(\"Number of users: \", trainset.n_users, \"\\n\")\n",
    "print(\"Number of items: \", trainset.n_items, \"\\n\")"
   ]
  },
  {
   "cell_type": "markdown",
   "metadata": {},
   "source": [
    "# MODEL 1: KNN BASIC MODEL"
   ]
  },
  {
   "cell_type": "code",
   "execution_count": 42,
   "metadata": {},
   "outputs": [],
   "source": [
    "# Function to create a collaborative filtering model using the specified approach\n",
    "\n",
    "def model_creation(approach, trainset, testset):\n",
    "    \"\"\"\n",
    "    Args:\n",
    "    - approach: collaborative filtering algorithm (e.g., SVD)\n",
    "    - trainset: training dataset for model training\n",
    "    - testset: test dataset for model evaluation\n",
    "    \n",
    "    Returns:\n",
    "    - None\n",
    "    \"\"\"\n",
    "    if approach == SVD:\n",
    "        # Create an SVD model with specified parameters, fit it to the training set, and print RMSE\n",
    "        model = approach(n_factors=50, reg_all=0.05)\n",
    "        model.fit(trainset)\n",
    "        print(f'{approach.__name__} RMSE:', accuracy.rmse(model.test(testset)))\n",
    "    else:    \n",
    "        # Create a collaborative filtering model with Pearson similarity, fit it to the training set, and print RMSE\n",
    "        model = approach(sim_options={'name': 'pearson', 'user_based': True})\n",
    "        model.fit(trainset)\n",
    "        print(f'{approach.__name__} RMSE:', accuracy.rmse(model.test(testset)))"
   ]
  },
  {
   "cell_type": "code",
   "execution_count": 43,
   "metadata": {},
   "outputs": [
    {
     "name": "stdout",
     "output_type": "stream",
     "text": [
      "Computing the pearson similarity matrix...\n"
     ]
    },
    {
     "ename": "AttributeError",
     "evalue": "module 'numpy' has no attribute 'int'.\n`np.int` was a deprecated alias for the builtin `int`. To avoid this error in existing code, use `int` by itself. Doing this will not modify any behavior and is safe. When replacing `np.int`, you may wish to use e.g. `np.int64` or `np.int32` to specify the precision. If you wish to review your current use, check the release note link for additional information.\nThe aliases was originally deprecated in NumPy 1.20; for more details and guidance see the original release note at:\n    https://numpy.org/devdocs/release/1.20.0-notes.html#deprecations",
     "output_type": "error",
     "traceback": [
      "\u001b[0;31m---------------------------------------------------------------------------\u001b[0m",
      "\u001b[0;31mAttributeError\u001b[0m                            Traceback (most recent call last)",
      "\u001b[0;32m<ipython-input-43-f965c27df7c8>\u001b[0m in \u001b[0;36m<module>\u001b[0;34m\u001b[0m\n\u001b[1;32m      1\u001b[0m \u001b[0;31m# Create and train a KNNBasic model using the provided training and testing datasets\u001b[0m\u001b[0;34m\u001b[0m\u001b[0;34m\u001b[0m\u001b[0;34m\u001b[0m\u001b[0m\n\u001b[0;32m----> 2\u001b[0;31m \u001b[0mmodel_creation\u001b[0m\u001b[0;34m(\u001b[0m\u001b[0mKNNBasic\u001b[0m\u001b[0;34m,\u001b[0m \u001b[0mtrainset\u001b[0m\u001b[0;34m,\u001b[0m \u001b[0mtestset\u001b[0m\u001b[0;34m)\u001b[0m\u001b[0;34m\u001b[0m\u001b[0;34m\u001b[0m\u001b[0m\n\u001b[0m",
      "\u001b[0;32m<ipython-input-42-ce7d552e0cb4>\u001b[0m in \u001b[0;36mmodel_creation\u001b[0;34m(approach, trainset, testset)\u001b[0m\n\u001b[1;32m     19\u001b[0m         \u001b[0;31m# Create a collaborative filtering model with Pearson similarity, fit it to the training set, and print RMSE\u001b[0m\u001b[0;34m\u001b[0m\u001b[0;34m\u001b[0m\u001b[0;34m\u001b[0m\u001b[0m\n\u001b[1;32m     20\u001b[0m         \u001b[0mmodel\u001b[0m \u001b[0;34m=\u001b[0m \u001b[0mapproach\u001b[0m\u001b[0;34m(\u001b[0m\u001b[0msim_options\u001b[0m\u001b[0;34m=\u001b[0m\u001b[0;34m{\u001b[0m\u001b[0;34m'name'\u001b[0m\u001b[0;34m:\u001b[0m \u001b[0;34m'pearson'\u001b[0m\u001b[0;34m,\u001b[0m \u001b[0;34m'user_based'\u001b[0m\u001b[0;34m:\u001b[0m \u001b[0;32mTrue\u001b[0m\u001b[0;34m}\u001b[0m\u001b[0;34m)\u001b[0m\u001b[0;34m\u001b[0m\u001b[0;34m\u001b[0m\u001b[0m\n\u001b[0;32m---> 21\u001b[0;31m         \u001b[0mmodel\u001b[0m\u001b[0;34m.\u001b[0m\u001b[0mfit\u001b[0m\u001b[0;34m(\u001b[0m\u001b[0mtrainset\u001b[0m\u001b[0;34m)\u001b[0m\u001b[0;34m\u001b[0m\u001b[0;34m\u001b[0m\u001b[0m\n\u001b[0m\u001b[1;32m     22\u001b[0m         \u001b[0mprint\u001b[0m\u001b[0;34m(\u001b[0m\u001b[0;34mf'{approach.__name__} RMSE:'\u001b[0m\u001b[0;34m,\u001b[0m \u001b[0maccuracy\u001b[0m\u001b[0;34m.\u001b[0m\u001b[0mrmse\u001b[0m\u001b[0;34m(\u001b[0m\u001b[0mmodel\u001b[0m\u001b[0;34m.\u001b[0m\u001b[0mtest\u001b[0m\u001b[0;34m(\u001b[0m\u001b[0mtestset\u001b[0m\u001b[0;34m)\u001b[0m\u001b[0;34m)\u001b[0m\u001b[0;34m)\u001b[0m\u001b[0;34m\u001b[0m\u001b[0;34m\u001b[0m\u001b[0m\n",
      "\u001b[0;32m~/anaconda3/envs/learn-env/lib/python3.8/site-packages/surprise/prediction_algorithms/knns.py\u001b[0m in \u001b[0;36mfit\u001b[0;34m(self, trainset)\u001b[0m\n\u001b[1;32m     97\u001b[0m \u001b[0;34m\u001b[0m\u001b[0m\n\u001b[1;32m     98\u001b[0m         \u001b[0mSymmetricAlgo\u001b[0m\u001b[0;34m.\u001b[0m\u001b[0mfit\u001b[0m\u001b[0;34m(\u001b[0m\u001b[0mself\u001b[0m\u001b[0;34m,\u001b[0m \u001b[0mtrainset\u001b[0m\u001b[0;34m)\u001b[0m\u001b[0;34m\u001b[0m\u001b[0;34m\u001b[0m\u001b[0m\n\u001b[0;32m---> 99\u001b[0;31m         \u001b[0mself\u001b[0m\u001b[0;34m.\u001b[0m\u001b[0msim\u001b[0m \u001b[0;34m=\u001b[0m \u001b[0mself\u001b[0m\u001b[0;34m.\u001b[0m\u001b[0mcompute_similarities\u001b[0m\u001b[0;34m(\u001b[0m\u001b[0;34m)\u001b[0m\u001b[0;34m\u001b[0m\u001b[0;34m\u001b[0m\u001b[0m\n\u001b[0m\u001b[1;32m    100\u001b[0m \u001b[0;34m\u001b[0m\u001b[0m\n\u001b[1;32m    101\u001b[0m         \u001b[0;32mreturn\u001b[0m \u001b[0mself\u001b[0m\u001b[0;34m\u001b[0m\u001b[0;34m\u001b[0m\u001b[0m\n",
      "\u001b[0;32m~/anaconda3/envs/learn-env/lib/python3.8/site-packages/surprise/prediction_algorithms/algo_base.py\u001b[0m in \u001b[0;36mcompute_similarities\u001b[0;34m(self)\u001b[0m\n\u001b[1;32m    247\u001b[0m             \u001b[0;32mif\u001b[0m \u001b[0mgetattr\u001b[0m\u001b[0;34m(\u001b[0m\u001b[0mself\u001b[0m\u001b[0;34m,\u001b[0m \u001b[0;34m'verbose'\u001b[0m\u001b[0;34m,\u001b[0m \u001b[0;32mFalse\u001b[0m\u001b[0;34m)\u001b[0m\u001b[0;34m:\u001b[0m\u001b[0;34m\u001b[0m\u001b[0;34m\u001b[0m\u001b[0m\n\u001b[1;32m    248\u001b[0m                 \u001b[0mprint\u001b[0m\u001b[0;34m(\u001b[0m\u001b[0;34m'Computing the {0} similarity matrix...'\u001b[0m\u001b[0;34m.\u001b[0m\u001b[0mformat\u001b[0m\u001b[0;34m(\u001b[0m\u001b[0mname\u001b[0m\u001b[0;34m)\u001b[0m\u001b[0;34m)\u001b[0m\u001b[0;34m\u001b[0m\u001b[0;34m\u001b[0m\u001b[0m\n\u001b[0;32m--> 249\u001b[0;31m             \u001b[0msim\u001b[0m \u001b[0;34m=\u001b[0m \u001b[0mconstruction_func\u001b[0m\u001b[0;34m[\u001b[0m\u001b[0mname\u001b[0m\u001b[0;34m]\u001b[0m\u001b[0;34m(\u001b[0m\u001b[0;34m*\u001b[0m\u001b[0margs\u001b[0m\u001b[0;34m)\u001b[0m\u001b[0;34m\u001b[0m\u001b[0;34m\u001b[0m\u001b[0m\n\u001b[0m\u001b[1;32m    250\u001b[0m             \u001b[0;32mif\u001b[0m \u001b[0mgetattr\u001b[0m\u001b[0;34m(\u001b[0m\u001b[0mself\u001b[0m\u001b[0;34m,\u001b[0m \u001b[0;34m'verbose'\u001b[0m\u001b[0;34m,\u001b[0m \u001b[0;32mFalse\u001b[0m\u001b[0;34m)\u001b[0m\u001b[0;34m:\u001b[0m\u001b[0;34m\u001b[0m\u001b[0;34m\u001b[0m\u001b[0m\n\u001b[1;32m    251\u001b[0m                 \u001b[0mprint\u001b[0m\u001b[0;34m(\u001b[0m\u001b[0;34m'Done computing similarity matrix.'\u001b[0m\u001b[0;34m)\u001b[0m\u001b[0;34m\u001b[0m\u001b[0;34m\u001b[0m\u001b[0m\n",
      "\u001b[0;32m~/anaconda3/envs/learn-env/lib/python3.8/site-packages/surprise/similarities.pyx\u001b[0m in \u001b[0;36msurprise.similarities.pearson\u001b[0;34m()\u001b[0m\n",
      "\u001b[0;32m~/anaconda3/envs/learn-env/lib/python3.8/site-packages/numpy/__init__.py\u001b[0m in \u001b[0;36m__getattr__\u001b[0;34m(attr)\u001b[0m\n\u001b[1;32m    303\u001b[0m \u001b[0;34m\u001b[0m\u001b[0m\n\u001b[1;32m    304\u001b[0m         \u001b[0;32mif\u001b[0m \u001b[0mattr\u001b[0m \u001b[0;32min\u001b[0m \u001b[0m__former_attrs__\u001b[0m\u001b[0;34m:\u001b[0m\u001b[0;34m\u001b[0m\u001b[0;34m\u001b[0m\u001b[0m\n\u001b[0;32m--> 305\u001b[0;31m             \u001b[0;32mraise\u001b[0m \u001b[0mAttributeError\u001b[0m\u001b[0;34m(\u001b[0m\u001b[0m__former_attrs__\u001b[0m\u001b[0;34m[\u001b[0m\u001b[0mattr\u001b[0m\u001b[0;34m]\u001b[0m\u001b[0;34m)\u001b[0m\u001b[0;34m\u001b[0m\u001b[0;34m\u001b[0m\u001b[0m\n\u001b[0m\u001b[1;32m    306\u001b[0m \u001b[0;34m\u001b[0m\u001b[0m\n\u001b[1;32m    307\u001b[0m         \u001b[0;31m# Importing Tester requires importing all of UnitTest which is not a\u001b[0m\u001b[0;34m\u001b[0m\u001b[0;34m\u001b[0m\u001b[0;34m\u001b[0m\u001b[0m\n",
      "\u001b[0;31mAttributeError\u001b[0m: module 'numpy' has no attribute 'int'.\n`np.int` was a deprecated alias for the builtin `int`. To avoid this error in existing code, use `int` by itself. Doing this will not modify any behavior and is safe. When replacing `np.int`, you may wish to use e.g. `np.int64` or `np.int32` to specify the precision. If you wish to review your current use, check the release note link for additional information.\nThe aliases was originally deprecated in NumPy 1.20; for more details and guidance see the original release note at:\n    https://numpy.org/devdocs/release/1.20.0-notes.html#deprecations"
     ]
    }
   ],
   "source": [
    "# Create and train a KNNBasic model using the provided training and testing datasets\n",
    "model_creation(KNNBasic, trainset, testset)"
   ]
  },
  {
   "cell_type": "markdown",
   "metadata": {},
   "source": [
    "# Tune the KNNBasic Model"
   ]
  },
  {
   "cell_type": "code",
   "execution_count": null,
   "metadata": {},
   "outputs": [],
   "source": [
    "def param_grid_search(model_to_tune): \n",
    "    \"\"\"\n",
    "    Perform a grid search for hyperparameter tuning of a collaborative filtering model.\n",
    "\n",
    "    Args:\n",
    "    - model_to_tune: Collaborative filtering model (SVD or KNN)\n",
    "\n",
    "    Returns:\n",
    "    - None\n",
    "    \"\"\"\n",
    "    # Setting relevant parameters for Gridsearch\n",
    "    grid = {\n",
    "        'k': [30, 40],   # Number of neighbors\n",
    "        'sim_options': {\n",
    "            'name': ['cosine', 'pearson'],  # Similarity measures\n",
    "            'user_based': [True],  # User-based collaborative filtering\n",
    "        },\n",
    "    }\n",
    "    \n",
    "    # Creating a parameter grid search for SVD model\n",
    "    params = {\n",
    "        'n_factors': [20, 50, 100],\n",
    "        'reg_all': [0.02, 0.05, 0.1],\n",
    "        # 'n_epochs': [5, 10],\n",
    "        # 'lr_all': [0.002, 0.005]\n",
    "    }\n",
    "\n",
    "    # Running grid search with the defined parameter grid\n",
    "    if model_to_tune == SVD:\n",
    "        grid_search = GridSearchCV(model_to_tune, params,\n",
    "                                   measures=['rmse'], n_jobs=-1)\n",
    "    else:\n",
    "        grid_search = GridSearchCV(model_to_tune, grid,\n",
    "                                   measures=['rmse'], n_jobs=-1)\n",
    "    \n",
    "    # Fit the grid search to the data\n",
    "    grid_search.fit(data)\n",
    "    \n",
    "    # Display the best RMSE and corresponding hyperparameters\n",
    "    print(f\"Best RMSE for {model_to_tune.__name__}: {grid_search.best_score}\")\n",
    "    print(f\"Best Hyperparameters for {model_to_tune.__name__}: {grid_search.best_params}\")\n"
   ]
  },
  {
   "cell_type": "code",
   "execution_count": null,
   "metadata": {},
   "outputs": [],
   "source": [
    "# Perform grid search for KNNBasic model with specified parameters\n",
    "param_grid_search(KNNBasic)"
   ]
  },
  {
   "cell_type": "markdown",
   "metadata": {},
   "source": [
    "# MODEL 2: KNNBaseline Model"
   ]
  },
  {
   "cell_type": "code",
   "execution_count": null,
   "metadata": {},
   "outputs": [],
   "source": [
    "# Build a KNNBaseline model\n",
    "model_creation(KNNBaseline, trainset, testset)"
   ]
  },
  {
   "cell_type": "markdown",
   "metadata": {},
   "source": [
    "# Tune the KNNBaseline Model"
   ]
  },
  {
   "cell_type": "code",
   "execution_count": null,
   "metadata": {},
   "outputs": [],
   "source": [
    "# Grid search for KNNBaseline Model\n",
    "param_grid_search(KNNBaseline)"
   ]
  },
  {
   "cell_type": "markdown",
   "metadata": {},
   "source": [
    "# MODEL 3: KNNWithMeans Model"
   ]
  },
  {
   "cell_type": "code",
   "execution_count": null,
   "metadata": {},
   "outputs": [],
   "source": [
    "# Build a KNNWithMeans model\n",
    "model_creation(KNNWithMeans, trainset, testset)"
   ]
  },
  {
   "cell_type": "markdown",
   "metadata": {},
   "source": [
    "# Tune the KNNWithMeans Model"
   ]
  },
  {
   "cell_type": "code",
   "execution_count": null,
   "metadata": {},
   "outputs": [],
   "source": [
    "# Grid search for KNNWithMeans Model\n",
    "param_grid_search(KNNWithMeans)"
   ]
  },
  {
   "cell_type": "markdown",
   "metadata": {},
   "source": [
    "# MODEL 4: SVD Model"
   ]
  },
  {
   "cell_type": "code",
   "execution_count": null,
   "metadata": {},
   "outputs": [],
   "source": [
    "# Build an SVD model\n",
    "model_creation(SVD, trainset, testset)"
   ]
  },
  {
   "cell_type": "code",
   "execution_count": null,
   "metadata": {},
   "outputs": [],
   "source": [
    "# Grid search for KNNWithMeans Model\n",
    "param_grid_search(SVD)"
   ]
  },
  {
   "cell_type": "markdown",
   "metadata": {},
   "source": [
    "# FINAL MODEL SELECTION AND EVALUATION"
   ]
  },
  {
   "cell_type": "markdown",
   "metadata": {},
   "source": [
    "SVD model performed best as compared to the rest of the models with the lowest RMSE, 0.8688."
   ]
  },
  {
   "cell_type": "code",
   "execution_count": null,
   "metadata": {},
   "outputs": [],
   "source": [
    "from tabulate import tabulate\n",
    "\n",
    "# A function to create a summary table of validation metrics\n",
    "def make_evaluation_table(metrics_dict):\n",
    "    # Convert the metrics dictionary to a list of tuples\n",
    "    metrics_list = list(zip(metrics_dict['Model'], metrics_dict['RMSE'], metrics_dict['RMSE after Tuning']))\n",
    "\n",
    "    # Create a tabulated representation of the metrics list\n",
    "    evaluation_table = tabulate(metrics_list, headers=['Model', 'RMSE', 'RMSE after Tuning'], tablefmt='html')\n",
    "\n",
    "    # Return the HTML table\n",
    "    return evaluation_table\n",
    "\n",
    "# Define a dictionary containing validation metrics for different models\n",
    "metrics_dict = {\n",
    "    'Model': ['KNNBasic', 'KNNBaseline', 'KNNWithMeans', 'SVD'],\n",
    "    'RMSE': [0.9721, 0.8790, 0.8995, 0.8688],\n",
    "    'RMSE after Tuning': [0.9719, 0.8776, 0.8964, 0.8691],\n",
    "}\n",
    "\n",
    "# Create the evaluation table using the defined function\n",
    "evaluation_table = make_evaluation_table(metrics_dict)\n",
    "\n",
    "# Display the HTML table\n",
    "HTML(evaluation_table)"
   ]
  },
  {
   "cell_type": "code",
   "execution_count": null,
   "metadata": {},
   "outputs": [],
   "source": [
    "# Select and train the final model (SVD) with specified parameters\n",
    "\n",
    "# Create an instance of the SVD model with 50 latent factors and regularization parameter of 0.05\n",
    "final_model = SVD(n_factors=50, reg_all=0.05)\n",
    "\n",
    "# Fit the final model on the training set\n",
    "final_model.fit(trainset)"
   ]
  },
  {
   "cell_type": "markdown",
   "metadata": {},
   "source": [
    "# Model Predictions"
   ]
  },
  {
   "cell_type": "code",
   "execution_count": null,
   "metadata": {},
   "outputs": [],
   "source": [
    "# Predict the rating for movie with ID 2000 for user with ID 7 using the final_model\n",
    "user_10_prediction = final_model.predict(7, 2000)\n",
    "\n",
    "# Retrieve the predicted rating from the prediction result\n",
    "predicted_rating_for_user_10 = user_10_prediction[3]\n",
    "predicted_rating_for_user_10"
   ]
  },
  {
   "cell_type": "code",
   "execution_count": null,
   "metadata": {},
   "outputs": [],
   "source": [
    "# A function to rate movies and generate a list of user ratings\n",
    "\n",
    "def movie_rater(movie_df, num, genre=None):\n",
    "    \"\"\"\n",
    "    Args:\n",
    "    - movie_df: DataFrame, the movie dataset\n",
    "    - num: int, the number of movies to rate\n",
    "    - genre: str, optional genre filter for movie selection\n",
    "\n",
    "    Returns:\n",
    "    - rating_list: list of dictionaries, each containing user ratings for a movie\n",
    "    \"\"\"\n",
    "    userID = 1000\n",
    "    rating_list = []\n",
    "    while num > 0:\n",
    "        if genre:\n",
    "            movie = movie_df[movie_df['genres'].str.contains(genre)].sample(1)\n",
    "        else:\n",
    "            movie = movie_df.sample(1)\n",
    "        print(movie)\n",
    "        rating = input('How do you rate this movie on a scale of 1-5, press n if you have not seen :\\n')\n",
    "        if rating == 'n':\n",
    "            continue\n",
    "        else:\n",
    "            rating_one_movie = {'userId':userID,'movieId':movie['movieId'].values[0],'rating':rating}\n",
    "            rating_list.append(rating_one_movie) \n",
    "            num -= 1\n",
    "    return rating_list\n"
   ]
  },
  {
   "cell_type": "code",
   "execution_count": null,
   "metadata": {},
   "outputs": [],
   "source": [
    "# Get movie ratings from a user for a specific genre using the movie_rater function\n",
    "\n",
    "# Assuming:\n",
    "# - new_df is the DataFrame containing movie ratings\n",
    "# - 4 is the no of movies to rate\n",
    "# - 'Comedy' is the specified genre\n",
    "user_rating = movie_rater(new_df, 4, genre='Comedy')\n"
   ]
  },
  {
   "cell_type": "code",
   "execution_count": null,
   "metadata": {},
   "outputs": [],
   "source": [
    "# Add new ratings to the original ratings DataFrame\n",
    "user_ratings = pd.DataFrame(user_rating)\n",
    "new_ratings_df = pd.concat([user_item_df, user_ratings], axis=0)\n",
    "\n",
    "# Create a reader and load the updated DataFrame into a surprise Dataset\n",
    "reader = Reader()\n",
    "new_data = Dataset.load_from_df(new_ratings_df, reader)"
   ]
  },
  {
   "cell_type": "code",
   "execution_count": null,
   "metadata": {},
   "outputs": [],
   "source": [
    "new_data.df"
   ]
  },
  {
   "cell_type": "code",
   "execution_count": null,
   "metadata": {},
   "outputs": [],
   "source": [
    "# train a model using the new combined DataFrame\n",
    "# param_grid = {'n_factors':[20, 100],'n_epochs': [5, 10], 'lr_all': [0.002, 0.005],\n",
    "#               'reg_all': [0.4, 0.6]}\n",
    "# gs_model = GridSearchCV(SVD,param_grid=param_grid,n_jobs = -1,joblib_verbose=5)\n",
    "# gs_model.fit(df)\n",
    "\n",
    "# Create an instance of the SVD model with specified hyperparameters\n",
    "svd_ = SVD(n_factors= 50, reg_all=0.05, n_epochs=10)\n",
    "#svd = SVD(n_factors=20, n_epochs=10, lr_all=0.005, reg_all=0.05)\n",
    "\n",
    "# Fit the SVD model on the training set built from the new combined DataFrame\n",
    "svd_.fit(new_data.build_full_trainset())"
   ]
  },
  {
   "cell_type": "code",
   "execution_count": null,
   "metadata": {},
   "outputs": [],
   "source": [
    "# Predict user ratings for movies\n",
    "# Create a list of tuples in the format (movie_id, predicted_score)\n",
    "list_of_movies = []\n",
    "\n",
    "# Iterate through unique movie IDs in the dataset\n",
    "for movie_id in movie_rating_df['movieId'].unique():\n",
    "    # Predict the user's rating for the movie (assuming user ID is 1000)\n",
    "    predicted_score = svd_.predict(1000, movie_id)[3]\n",
    "    # Append the tuple to the list_of_movies\n",
    "    list_of_movies.append((movie_id, predicted_score))"
   ]
  },
  {
   "cell_type": "code",
   "execution_count": null,
   "metadata": {},
   "outputs": [],
   "source": [
    "# order the predictions from highest to lowest rated\n",
    "ranked_movies = sorted(list_of_movies, key=lambda x:x[1], reverse=True)\n",
    "ranked_movies"
   ]
  },
  {
   "cell_type": "code",
   "execution_count": null,
   "metadata": {},
   "outputs": [],
   "source": [
    "# Function to recommend movies based on user ratings\n",
    "def recommended_movies(user_ratings, movie_title_df, n):\n",
    "    recommended_movies_set = set()  # Keep track of recommended movies\n",
    "\n",
    "    # Iterate through user ratings\n",
    "    for idx, rec in enumerate(user_ratings):\n",
    "        movie_id = int(rec[0])\n",
    "        title_array = movie_title_df.loc[movie_title_df['movieId'] == movie_id, 'title'].values\n",
    "\n",
    "        # Check if the array is not empty and the movie has not been recommended before\n",
    "        if title_array.any() and title_array[0] not in recommended_movies_set:\n",
    "            title = title_array[0]\n",
    "            print('Recommendation #', idx+1, ':', title, '\\n')\n",
    "            recommended_movies_set.add(title)  # Add the movie to the set of recommended movies\n",
    "            n -= 1\n",
    "\n",
    "        # Check if the desired number of recommendations has been reached\n",
    "        if n == 0:\n",
    "            break\n",
    "            "
   ]
  },
  {
   "cell_type": "code",
   "execution_count": null,
   "metadata": {},
   "outputs": [],
   "source": [
    "# recommend 5 movies based on user ratings\n",
    "recommended_movies(ranked_movies, movie_rating_df, 5)"
   ]
  },
  {
   "cell_type": "code",
   "execution_count": null,
   "metadata": {},
   "outputs": [],
   "source": [
    "# Assuming your data looks like this:\n",
    "user_ratings = [(904, 3.930503147439757), (318, 3.9037050576959706), (1204, 3.8859340641442675)]\n",
    "\n",
    "# Iterate through the user_ratings and print the movie names\n",
    "for movie_id, rating in user_ratings:\n",
    "    # Find the corresponding movie title using movie_title_df\n",
    "    title_array = movies.loc[movies['movieId'] == movie_id, 'title'].values\n",
    "\n",
    "    # Check if the array is not empty\n",
    "    if title_array.any():\n",
    "        title = title_array[0]\n",
    "        print(f\"Movie ID: {movie_id}, Title: {title}, Rating: {rating}\")\n",
    "    else:\n",
    "        print(f\"Movie ID {movie_id} not found in movie_title_df\")\n"
   ]
  },
  {
   "cell_type": "code",
   "execution_count": null,
   "metadata": {},
   "outputs": [],
   "source": []
  }
 ],
 "metadata": {
  "kernelspec": {
   "display_name": "Python 3",
   "language": "python",
   "name": "python3"
  },
  "language_info": {
   "codemirror_mode": {
    "name": "ipython",
    "version": 3
   },
   "file_extension": ".py",
   "mimetype": "text/x-python",
   "name": "python",
   "nbconvert_exporter": "python",
   "pygments_lexer": "ipython3",
   "version": "3.8.5"
  }
 },
 "nbformat": 4,
 "nbformat_minor": 5
}
