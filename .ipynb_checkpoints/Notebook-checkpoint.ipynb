{
 "cells": [
  {
   "cell_type": "markdown",
   "metadata": {},
   "source": [
    "## Defining metrics of success\n",
    "The success of a movie recommendation model using collaborative filtering can be assessed using various metrics that measure its effectiveness in providing accurate and relevant movie suggestions. The combination of the metrics provides a comprehensive understanding of its performance in terms of accuracy, relevance, and user satisfaction. It's essential to choose metrics that align with the specific goals and objectives of the recommendation system and the preferences of the user base.\n",
    "\n",
    "## Research Questions \n",
    "1.\tWhat features contribute most to the accuracy of collaborative filtering in generating top  movie recommendations?\n",
    "2.\tHow does the frequency of user ratings influence the accuracy and stability of the movie recommendation model ?\n",
    "3.\tWhat are the correlation between user ratings and various movie features?\n",
    "4.\tWhich movie features demonstrate the highest correlation with collaborative filtering recommendations, and how do they impact the model's predictions?\n",
    "5.\tHow successful is the collaborative filtering model in providing accurate and tailored movie recommendations based on user ratings and preferences?\n"
   ]
  },
  {
   "cell_type": "code",
   "execution_count": null,
   "metadata": {},
   "outputs": [],
   "source": []
  }
 ],
 "metadata": {
  "kernelspec": {
   "display_name": "Python 3",
   "language": "python",
   "name": "python3"
  },
  "language_info": {
   "codemirror_mode": {
    "name": "ipython",
    "version": 3
   },
   "file_extension": ".py",
   "mimetype": "text/x-python",
   "name": "python",
   "nbconvert_exporter": "python",
   "pygments_lexer": "ipython3",
   "version": "3.8.5"
  }
 },
 "nbformat": 4,
 "nbformat_minor": 5
}
